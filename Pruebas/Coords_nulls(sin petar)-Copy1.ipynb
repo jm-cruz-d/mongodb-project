{
 "cells": [
  {
   "cell_type": "code",
   "execution_count": 1,
   "metadata": {},
   "outputs": [
    {
     "data": {
      "text/plain": [
       "True"
      ]
     },
     "execution_count": 1,
     "metadata": {},
     "output_type": "execute_result"
    }
   ],
   "source": [
    "from pymongo import MongoClient\n",
    "import folium\n",
    "import googlemaps\n",
    "from datetime import datetime\n",
    "import os\n",
    "from dotenv import load_dotenv\n",
    "load_dotenv()"
   ]
  },
  {
   "cell_type": "code",
   "execution_count": 2,
   "metadata": {},
   "outputs": [],
   "source": [
    "gmaps = googlemaps.Client(key=os.getenv(\"key\"))\n"
   ]
  },
  {
   "cell_type": "code",
   "execution_count": 3,
   "metadata": {},
   "outputs": [],
   "source": [
    "def connectCollection(database, collection):\n",
    "    client = MongoClient()\n",
    "    db = client[database]\n",
    "    coll = db[collection]\n",
    "    return db, coll"
   ]
  },
  {
   "cell_type": "code",
   "execution_count": 4,
   "metadata": {},
   "outputs": [],
   "source": [
    "db, coll = connectCollection('companies', 'companies')"
   ]
  },
  {
   "cell_type": "code",
   "execution_count": null,
   "metadata": {},
   "outputs": [],
   "source": [
    "alloffices = [\n",
    "    {\"$unwind\": \"$offices\"},\n",
    "    {\"$match\":{\"$and\": [{\"offices.city\": \"Amsterdam\"}, {'deadpooled_year':None}]}}]\n",
    "comp = list(coll.aggregate(alloffices))\n",
    "comp"
   ]
  },
  {
   "cell_type": "code",
   "execution_count": 6,
   "metadata": {},
   "outputs": [
    {
     "name": "stdout",
     "output_type": "stream",
     "text": [
      "76\n"
     ]
    },
    {
     "data": {
      "text/plain": [
       "'Claude Debussylaan 34'"
      ]
     },
     "execution_count": 6,
     "metadata": {},
     "output_type": "execute_result"
    }
   ],
   "source": [
    "print(len(comp))\n",
    "comp[1]['offices']['address1']"
   ]
  },
  {
   "cell_type": "code",
   "execution_count": 9,
   "metadata": {},
   "outputs": [],
   "source": [
    "def outNulls(company):\n",
    "    ll_null = []\n",
    "    ll=[]\n",
    "    strange = []\n",
    "    for x in range(len(company)): \n",
    "        if company[x]['offices']['longitude']==None or company[x]['offices']['latitude']==None:\n",
    "            if company[x]['offices']['address1'] != \"\" or company[x]['offices']['address2'] != \"\":         \n",
    "                ll_null.append(company[x])\n",
    "        elif company[x]['offices']['latitude'] > 50:\n",
    "            ll.append(company[x])\n",
    "        else:\n",
    "            strange.append(company[x])\n",
    "            \n",
    "    return ll_null, ll, strange"
   ]
  },
  {
   "cell_type": "code",
   "execution_count": 10,
   "metadata": {},
   "outputs": [
    {
     "name": "stdout",
     "output_type": "stream",
     "text": [
      "23\n",
      "50\n",
      "1\n"
     ]
    },
    {
     "data": {
      "text/plain": [
       "{'_id': ObjectId('52cdef7c4bab8bd6752980f1'),\n",
       " 'name': 'Blyk',\n",
       " 'permalink': 'blyk',\n",
       " 'crunchbase_url': 'http://www.crunchbase.com/company/blyk',\n",
       " 'homepage_url': 'http://www.blyk.com',\n",
       " 'blog_url': 'http://www.blyk.com/blog/',\n",
       " 'blog_feed_url': 'http://www.blyk.com/feed/',\n",
       " 'twitter_username': 'Blyk',\n",
       " 'category_code': 'messaging',\n",
       " 'number_of_employees': 100,\n",
       " 'founded_year': 2006,\n",
       " 'founded_month': 1,\n",
       " 'founded_day': 1,\n",
       " 'deadpooled_year': None,\n",
       " 'deadpooled_month': None,\n",
       " 'deadpooled_day': None,\n",
       " 'deadpooled_url': None,\n",
       " 'tag_list': 'mobile-advertising, messaging, mobile-marketing, mobile-social-networks, engagement, young-people, uk, india, pekka-ala-pietila, antti-ohrling',\n",
       " 'alias_list': '',\n",
       " 'email_address': 'press@blyk.com',\n",
       " 'phone_number': '+358 10 830 1800',\n",
       " 'description': 'Mobile Social Networking',\n",
       " 'created_at': 'Fri Nov 16 11:13:48 UTC 2007',\n",
       " 'updated_at': 'Mon Mar 25 23:56:25 UTC 2013',\n",
       " 'overview': '<p>Blyk is a messaging media that works with mobile operators to link young people with brands and other stuff they like. </p>\\n\\n<p>Blyk launched its innovative mobile service in he UK in 2007, and quickly became known as a leader in mobile advertising, audience engagement and for its ability to drive unprecedented response rates and return on investment for advertisers.  Blyk pioneered the use of interactive text and multi-media messaging as an advertising format, leveraging the most predominant, everyday behaviour of young people (sending and receiving messages on their phones) and enabling young people to communicate with brands in the same way they do with everyone else.</p>\\n\\n<p>Blyk is a private company, with offices in Helsinki, London, Amsterdam and Delhi. Itâ€™s current strategic partners include Orange and Vodafone.\\nwww.blyk.com</p>',\n",
       " 'image': {'available_sizes': [[[136, 84],\n",
       "    'assets/images/resized/0000/2182/2182v5-max-150x150.jpg'],\n",
       "   [[136, 84], 'assets/images/resized/0000/2182/2182v5-max-250x250.jpg'],\n",
       "   [[136, 84], 'assets/images/resized/0000/2182/2182v5-max-450x450.jpg']],\n",
       "  'attribution': None},\n",
       " 'products': [{'name': 'Blyk', 'permalink': 'blyk'}],\n",
       " 'relationships': [{'is_past': False,\n",
       "   'title': 'Co-founder and CEO',\n",
       "   'person': {'first_name': 'Pekka',\n",
       "    'last_name': 'Ala-PietilÃ¤',\n",
       "    'permalink': 'pekka-ala-pietil'}},\n",
       "  {'is_past': False,\n",
       "   'title': 'Co-founder',\n",
       "   'person': {'first_name': 'Antti',\n",
       "    'last_name': 'Ã–hrling',\n",
       "    'permalink': 'antti-hrling'}},\n",
       "  {'is_past': False,\n",
       "   'title': 'Brand and Design Projects',\n",
       "   'person': {'first_name': 'Laura',\n",
       "    'last_name': 'Laamanen',\n",
       "    'permalink': 'laura-laamanen'}},\n",
       "  {'is_past': False,\n",
       "   'title': 'IPR',\n",
       "   'person': {'first_name': 'Janne',\n",
       "    'last_name': 'Aaltonen',\n",
       "    'permalink': 'janne-aaltonen'}},\n",
       "  {'is_past': False,\n",
       "   'title': 'Member of the Board',\n",
       "   'person': {'first_name': 'Risto',\n",
       "    'last_name': 'Siilasmaa',\n",
       "    'permalink': 'risto-siilasmaa'}},\n",
       "  {'is_past': True,\n",
       "   'title': 'COO',\n",
       "   'person': {'first_name': 'Leif',\n",
       "    'last_name': 'FÃ¥gelstedt',\n",
       "    'permalink': 'leif-fgelstedt'}},\n",
       "  {'is_past': True,\n",
       "   'title': 'Strategy and Business Development',\n",
       "   'person': {'first_name': 'Timo',\n",
       "    'last_name': 'Ahopelto',\n",
       "    'permalink': 'timo-ahopelto'}},\n",
       "  {'is_past': True,\n",
       "   'title': 'Head of Brand & Design',\n",
       "   'person': {'first_name': 'Marko',\n",
       "    'last_name': 'Ahtisaari',\n",
       "    'permalink': 'marko-ahtisaari'}},\n",
       "  {'is_past': True,\n",
       "   'title': 'User Experience',\n",
       "   'person': {'first_name': 'Johanna',\n",
       "    'last_name': 'Sarviharju',\n",
       "    'permalink': 'johanna-sarviharju'}},\n",
       "  {'is_past': True,\n",
       "   'title': 'Subscription',\n",
       "   'person': {'first_name': 'Timo',\n",
       "    'last_name': 'Romppanen',\n",
       "    'permalink': 'timo-romppanen'}},\n",
       "  {'is_past': True,\n",
       "   'title': 'UK MD',\n",
       "   'person': {'first_name': 'Shaun',\n",
       "    'last_name': 'Gregory',\n",
       "    'permalink': 'shaun-gregory'}},\n",
       "  {'is_past': True,\n",
       "   'title': 'Lead, Campaign Planning',\n",
       "   'person': {'first_name': 'Adam',\n",
       "    'last_name': 'Levene',\n",
       "    'permalink': 'adam-levene'}},\n",
       "  {'is_past': True,\n",
       "   'title': 'Pan-European Projects',\n",
       "   'person': {'first_name': 'Alex',\n",
       "    'last_name': 'Alanson',\n",
       "    'permalink': 'alex-alanson'}},\n",
       "  {'is_past': True,\n",
       "   'title': 'Member Operations',\n",
       "   'person': {'first_name': 'Kai',\n",
       "    'last_name': 'Friman',\n",
       "    'permalink': 'kai-friman'}},\n",
       "  {'is_past': True,\n",
       "   'title': 'Strategic Planning of Ad Products',\n",
       "   'person': {'first_name': 'Ann',\n",
       "    'last_name': 'Sarimo',\n",
       "    'permalink': 'ann-sarimo'}},\n",
       "  {'is_past': True,\n",
       "   'title': 'UK Finance',\n",
       "   'person': {'first_name': 'David',\n",
       "    'last_name': 'Wilkinson',\n",
       "    'permalink': 'david-wilkinson'}},\n",
       "  {'is_past': True,\n",
       "   'title': 'Projects',\n",
       "   'person': {'first_name': 'Sean',\n",
       "    'last_name': 'Butler',\n",
       "    'permalink': 'sean-butler'}},\n",
       "  {'is_past': True,\n",
       "   'title': 'Advisor',\n",
       "   'person': {'first_name': 'Inmaculada',\n",
       "    'last_name': 'Martinez',\n",
       "    'permalink': 'inmaculada-martinez'}},\n",
       "  {'is_past': True,\n",
       "   'title': 'Advisor',\n",
       "   'person': {'first_name': 'Petteri',\n",
       "    'last_name': 'Koponen',\n",
       "    'permalink': 'petteri-koponen'}}],\n",
       " 'competitions': [],\n",
       " 'providerships': [],\n",
       " 'total_money_raised': '€87M',\n",
       " 'funding_rounds': [{'id': 1001,\n",
       "   'round_code': 'a',\n",
       "   'source_url': '',\n",
       "   'source_description': 'EDGAR',\n",
       "   'raised_amount': 30000000,\n",
       "   'raised_currency_code': 'EUR',\n",
       "   'funded_year': 2006,\n",
       "   'funded_month': 1,\n",
       "   'funded_day': 1,\n",
       "   'investments': [{'company': None,\n",
       "     'financial_org': {'name': 'Sofinnova Ventures',\n",
       "      'permalink': 'sofinnova-ventures'},\n",
       "     'person': None}]},\n",
       "  {'id': 1704,\n",
       "   'round_code': 'b',\n",
       "   'source_url': 'http://about.blyk.com/2008/01/30/press-release-blyk-announces-first-european-expansion-and-new-investors-goldman-sachs-and-ific/',\n",
       "   'source_description': 'Blyk Announces First European Expansion and New Investors Goldman Sachs and IFIC',\n",
       "   'raised_amount': None,\n",
       "   'raised_currency_code': None,\n",
       "   'funded_year': 2008,\n",
       "   'funded_month': 1,\n",
       "   'funded_day': 30,\n",
       "   'investments': [{'company': None,\n",
       "     'financial_org': {'name': 'Goldman Sachs', 'permalink': 'goldman-sachs'},\n",
       "     'person': None},\n",
       "    {'company': None,\n",
       "     'financial_org': {'name': 'Industrial and Financial Investments Company',\n",
       "      'permalink': 'industrial-and-financial-investments-company'},\n",
       "     'person': None}]},\n",
       "  {'id': 3928,\n",
       "   'round_code': 'c',\n",
       "   'source_url': 'http://www.blyk.com/wp-content/uploads/181108_blykfundingannouncement_final.pdf',\n",
       "   'source_description': 'Blyk raises !40M and paves the way for global growth',\n",
       "   'raised_amount': 40000000,\n",
       "   'raised_currency_code': 'EUR',\n",
       "   'funded_year': 2008,\n",
       "   'funded_month': 11,\n",
       "   'funded_day': 18,\n",
       "   'investments': []},\n",
       "  {'id': 18290,\n",
       "   'round_code': 'unattributed',\n",
       "   'source_url': 'http://www.blyk.com/wp-content/uploads/Blyk_press_release_final_20100913.pdf',\n",
       "   'source_description': 'Nexit Ventures Invests in the Continued Growth of Blyk',\n",
       "   'raised_amount': 17000000,\n",
       "   'raised_currency_code': 'EUR',\n",
       "   'funded_year': 2010,\n",
       "   'funded_month': 9,\n",
       "   'funded_day': 13,\n",
       "   'investments': [{'company': None,\n",
       "     'financial_org': {'name': 'Nexit Ventures',\n",
       "      'permalink': 'nexit-ventures'},\n",
       "     'person': None}]}],\n",
       " 'investments': [],\n",
       " 'acquisition': None,\n",
       " 'acquisitions': [],\n",
       " 'offices': {'description': 'Blyk NL',\n",
       "  'address1': 'Gustav Mahlerlaan 42',\n",
       "  'address2': '',\n",
       "  'zip_code': '1082 MC',\n",
       "  'city': 'Amsterdam',\n",
       "  'state_code': None,\n",
       "  'country_code': 'NLD',\n",
       "  'latitude': None,\n",
       "  'longitude': None},\n",
       " 'milestones': [],\n",
       " 'ipo': None,\n",
       " 'video_embeds': [{'embed_code': '<object width=\"425\" height=\"355\"><param name=\"movie\" value=\"http://www.youtube.com/v/YhDDKDlXwWU&hl=en\"></param><param name=\"wmode\" value=\"transparent\"></param><embed src=\"http://www.youtube.com/v/YhDDKDlXwWU&hl=en\" type=\"application/x-shockwave-flash\" wmode=\"transparent\" width=\"425\" height=\"355\"></embed></object>',\n",
       "   'description': ''}],\n",
       " 'screenshots': [],\n",
       " 'external_links': [],\n",
       " 'partners': []}"
      ]
     },
     "execution_count": 10,
     "metadata": {},
     "output_type": "execute_result"
    }
   ],
   "source": [
    "lnulls, lwith, lstrg = outNulls(comp)\n",
    "print(len(lnulls))\n",
    "print(len(lwith))\n",
    "print(len(lstrg))\n",
    "lnulls[0]"
   ]
  },
  {
   "cell_type": "code",
   "execution_count": 11,
   "metadata": {},
   "outputs": [
    {
     "data": {
      "text/plain": [
       "'\\ndef outNulls(company):\\n    ll_null = []\\n    ll=[]\\n    strange = []\\n    for x in range(len(company)): \\n        for i in range(len(company[x][\\'offices\\'])):\\n            if company[x][\\'offices\\'][i][\\'longitude\\']==None or company[x][\\'offices\\'][i][\\'latitude\\']==None:\\n                if company[x][\\'offices\\'][i][\\'city\\'] == \"Amsterdam\":\\n                    if company[x][\\'offices\\'][i][\\'address1\\'] != \"\" or company[x][\\'offices\\'][i][\\'address2\\'] != \"\":         \\n                        ll_null.append(company[x])\\n            elif company[x][\\'offices\\'][i][\\'city\\'] == \"Amsterdam\":\\n                if company[x][\\'offices\\'][i][\\'latitude\\'] > 50:\\n                    ll.append(company[x])\\n                else:\\n                    strange.append(company[x])\\n            \\n    return ll_null, ll, strange\\n'"
      ]
     },
     "execution_count": 11,
     "metadata": {},
     "output_type": "execute_result"
    }
   ],
   "source": [
    "'''\n",
    "def outNulls(company):\n",
    "    ll_null = []\n",
    "    ll=[]\n",
    "    strange = []\n",
    "    for x in range(len(company)): \n",
    "        for i in range(len(company[x]['offices'])):\n",
    "            if company[x]['offices'][i]['longitude']==None or company[x]['offices'][i]['latitude']==None:\n",
    "                if company[x]['offices'][i]['city'] == \"Amsterdam\":\n",
    "                    if company[x]['offices'][i]['address1'] != \"\" or company[x]['offices'][i]['address2'] != \"\":         \n",
    "                        ll_null.append(company[x])\n",
    "            elif company[x]['offices'][i]['city'] == \"Amsterdam\":\n",
    "                if company[x]['offices'][i]['latitude'] > 50:\n",
    "                    ll.append(company[x])\n",
    "                else:\n",
    "                    strange.append(company[x])\n",
    "            \n",
    "    return ll_null, ll, strange\n",
    "'''"
   ]
  },
  {
   "cell_type": "code",
   "execution_count": 12,
   "metadata": {},
   "outputs": [
    {
     "data": {
      "text/plain": [
       "'\\nlnulls, lwith, lstrg = outNulls(comp)\\nprint(len(lnulls))\\nprint(len(lwith))\\nprint(len(lstrg))\\nlnulls\\n'"
      ]
     },
     "execution_count": 12,
     "metadata": {},
     "output_type": "execute_result"
    }
   ],
   "source": [
    "'''\n",
    "lnulls, lwith, lstrg = outNulls(comp)\n",
    "print(len(lnulls))\n",
    "print(len(lwith))\n",
    "print(len(lstrg))\n",
    "lnulls\n",
    "'''"
   ]
  },
  {
   "cell_type": "code",
   "execution_count": 13,
   "metadata": {},
   "outputs": [
    {
     "data": {
      "text/plain": [
       "'Gustav Mahlerlaan 42'"
      ]
     },
     "execution_count": 13,
     "metadata": {},
     "output_type": "execute_result"
    }
   ],
   "source": [
    "lnulls[0]['offices']['address1']"
   ]
  },
  {
   "cell_type": "code",
   "execution_count": 14,
   "metadata": {},
   "outputs": [],
   "source": [
    "def coordNews(listcompanies):\n",
    "    datnew = []\n",
    "    llnew = []\n",
    "    for n in listcompanies:\n",
    "        if n['offices']['address1'] != '':\n",
    "            datnew.append(gmaps.places(n['offices']['address1']))\n",
    "        elif n['offices']['address2'] != '':\n",
    "            datnew.append(gmaps.places(n['offices']['address2']))\n",
    "    for x in range(len(datnew)):\n",
    "            for i in range(len(datnew[x]['results'])):\n",
    "                llnew.append(datnew[x]['results'][i]['geometry']['location'])\n",
    "    return llnew\n",
    "\n",
    "xll = coordNews(lnulls)"
   ]
  },
  {
   "cell_type": "code",
   "execution_count": 15,
   "metadata": {},
   "outputs": [
    {
     "name": "stdout",
     "output_type": "stream",
     "text": [
      "23\n",
      "23\n"
     ]
    },
    {
     "data": {
      "text/plain": [
       "[{'lat': 52.336993, 'lng': 4.872646},\n",
       " {'lat': 52.3757779, 'lng': 4.8881539},\n",
       " {'lat': 52.3522794, 'lng': 4.8486568},\n",
       " {'lat': 52.3607234, 'lng': 4.8593875},\n",
       " {'lat': 52.28881209999999, 'lng': 6.8219641},\n",
       " {'lat': 52.3437634, 'lng': 4.875162899999999},\n",
       " {'lat': 52.359332, 'lng': 4.876913},\n",
       " {'lat': 52.3652834, 'lng': 4.8870382},\n",
       " {'lat': 52.3707639, 'lng': 4.8864128},\n",
       " {'lat': 52.3657873, 'lng': 4.8874015},\n",
       " {'lat': 52.3623918, 'lng': 4.9059282},\n",
       " {'lat': 52.28881209999999, 'lng': 6.8219641},\n",
       " {'lat': 52.3437634, 'lng': 4.875162899999999},\n",
       " {'lat': 52.359332, 'lng': 4.876913},\n",
       " {'lat': 52.3652834, 'lng': 4.8870382},\n",
       " {'lat': 52.3707639, 'lng': 4.8864128},\n",
       " {'lat': 52.3657873, 'lng': 4.8874015},\n",
       " {'lat': 52.3623918, 'lng': 4.9059282},\n",
       " {'lat': 52.347666, 'lng': 4.850406899999999},\n",
       " {'lat': 52.3707639, 'lng': 4.8864128},\n",
       " {'lat': 52.3335533, 'lng': 4.9169147},\n",
       " {'lat': 52.33661009999999, 'lng': 4.8854321},\n",
       " {'lat': 52.2922212, 'lng': 4.957766100000001}]"
      ]
     },
     "execution_count": 15,
     "metadata": {},
     "output_type": "execute_result"
    }
   ],
   "source": [
    "print(len(lnulls))\n",
    "print(len(xll))\n",
    "xll"
   ]
  },
  {
   "cell_type": "code",
   "execution_count": 16,
   "metadata": {},
   "outputs": [
    {
     "data": {
      "text/plain": [
       "4.872646"
      ]
     },
     "execution_count": 16,
     "metadata": {},
     "output_type": "execute_result"
    }
   ],
   "source": [
    "xll[0]['lng']"
   ]
  },
  {
   "cell_type": "code",
   "execution_count": 17,
   "metadata": {},
   "outputs": [],
   "source": [
    "lnulls\n",
    "xll\n",
    "def changeKeys(dict1, dict2):\n",
    "    for x in range(len(dict1)):\n",
    "        dict1[x]['offices']['longitude'] = xll[x]['lng']\n",
    "        dict1[x]['offices']['latitude'] = xll[x]['lat']\n",
    "    return dict1\n",
    "\n",
    "notnulls = changeKeys(lnulls, xll)"
   ]
  },
  {
   "cell_type": "code",
   "execution_count": 18,
   "metadata": {},
   "outputs": [
    {
     "data": {
      "text/plain": [
       "{'description': 'Blyk NL',\n",
       " 'address1': 'Gustav Mahlerlaan 42',\n",
       " 'address2': '',\n",
       " 'zip_code': '1082 MC',\n",
       " 'city': 'Amsterdam',\n",
       " 'state_code': None,\n",
       " 'country_code': 'NLD',\n",
       " 'latitude': 52.336993,\n",
       " 'longitude': 4.872646}"
      ]
     },
     "execution_count": 18,
     "metadata": {},
     "output_type": "execute_result"
    }
   ],
   "source": [
    "notnulls[0]['offices']"
   ]
  },
  {
   "cell_type": "code",
   "execution_count": 19,
   "metadata": {},
   "outputs": [
    {
     "data": {
      "text/plain": [
       "{'_id': ObjectId('52cdef7c4bab8bd6752980e4'),\n",
       " 'name': 'GeoSentric',\n",
       " 'permalink': 'geosentric',\n",
       " 'crunchbase_url': 'http://www.crunchbase.com/company/geosentric',\n",
       " 'homepage_url': 'http://www.geosentric.com',\n",
       " 'blog_url': '',\n",
       " 'blog_feed_url': '',\n",
       " 'twitter_username': '',\n",
       " 'category_code': 'mobile',\n",
       " 'number_of_employees': None,\n",
       " 'founded_year': 2007,\n",
       " 'founded_month': 6,\n",
       " 'founded_day': 1,\n",
       " 'deadpooled_year': None,\n",
       " 'deadpooled_month': None,\n",
       " 'deadpooled_day': None,\n",
       " 'deadpooled_url': None,\n",
       " 'tag_list': '',\n",
       " 'alias_list': None,\n",
       " 'email_address': 'communications!@gypsii.com',\n",
       " 'phone_number': '+14019215184',\n",
       " 'description': 'Social Network and LBS product developer',\n",
       " 'created_at': 'Wed Nov 14 18:50:00 UTC 2007',\n",
       " 'updated_at': 'Thu Dec 27 20:43:44 UTC 2012',\n",
       " 'overview': '<p>GeoSentric&#8217;s GyPSii is the market-leading mobile digital lifestyle application and geo-mobility social networking platform: connecting people, places and communities across networks and devices, with patented technologies for the transfer and publishing of location based information between mobile devices. </p>\\n\\n<p>Based in Salo, Finland and Amsterdam, The Netherlands, GeoSentric operates offices in North America, Europe and Asia Pacific. GeoSentric is listed on the Nordic Exchange (NASDAQ OMX: GEO1V)). </p>',\n",
       " 'image': {'available_sizes': [[[150, 48],\n",
       "    'assets/images/resized/0002/0654/20654v1-max-150x150.png'],\n",
       "   [[250, 80], 'assets/images/resized/0002/0654/20654v1-max-250x250.png'],\n",
       "   [[250, 80], 'assets/images/resized/0002/0654/20654v1-max-450x450.png']],\n",
       "  'attribution': None},\n",
       " 'products': [{'name': 'GyPSii', 'permalink': 'gypsii'}],\n",
       " 'relationships': [{'is_past': False,\n",
       "   'title': 'GM, SVP',\n",
       "   'person': {'first_name': 'Mike',\n",
       "    'last_name': 'Po',\n",
       "    'permalink': 'mike-po'}},\n",
       "  {'is_past': True,\n",
       "   'title': 'Co-Founder (GyPSii)',\n",
       "   'person': {'first_name': 'Sam',\n",
       "    'last_name': 'Critchley',\n",
       "    'permalink': 'sam-critchley'}},\n",
       "  {'is_past': True,\n",
       "   'title': 'Executive Chairman',\n",
       "   'person': {'first_name': 'Dan',\n",
       "    'last_name': 'Harple',\n",
       "    'permalink': 'dan-harple'}},\n",
       "  {'is_past': True,\n",
       "   'title': 'CFO',\n",
       "   'person': {'first_name': 'Robin',\n",
       "    'last_name': 'Halliday',\n",
       "    'permalink': 'robin-halliday'}}],\n",
       " 'competitions': [],\n",
       " 'providerships': [],\n",
       " 'total_money_raised': '$24.1M',\n",
       " 'funding_rounds': [{'id': 981,\n",
       "   'round_code': 'a',\n",
       "   'source_url': 'http://www.fiercewireless.com/press-releases/geosentric-secures-additional-13-million-financing-new-and-existing-investors',\n",
       "   'source_description': '',\n",
       "   'raised_amount': 13100000,\n",
       "   'raised_currency_code': 'USD',\n",
       "   'funded_year': 2007,\n",
       "   'funded_month': 9,\n",
       "   'funded_day': 1,\n",
       "   'investments': [{'company': None,\n",
       "     'financial_org': {'name': 'Horizon Group', 'permalink': 'horizon-group'},\n",
       "     'person': None},\n",
       "    {'company': None,\n",
       "     'financial_org': {'name': 'Schroders',\n",
       "      'permalink': 'schroders-private-bank'},\n",
       "     'person': None}]},\n",
       "  {'id': 13025,\n",
       "   'round_code': 'b',\n",
       "   'source_url': 'http://paidcontent.org/article/419-gypsii-raises-another-11-million-for-mobile-location-sharing/',\n",
       "   'source_description': 'GyPSii Raises Another $11 Million For Mobile Location Sharing ',\n",
       "   'raised_amount': 11000000,\n",
       "   'raised_currency_code': 'USD',\n",
       "   'funded_year': 2010,\n",
       "   'funded_month': 3,\n",
       "   'funded_day': 15,\n",
       "   'investments': [{'company': None,\n",
       "     'financial_org': {'name': 'Schroders',\n",
       "      'permalink': 'schroders-private-bank'},\n",
       "     'person': None}]}],\n",
       " 'investments': [],\n",
       " 'acquisition': None,\n",
       " 'acquisitions': [],\n",
       " 'offices': {'description': 'Amsterdam',\n",
       "  'address1': 'Keizersgracht 212',\n",
       "  'address2': '',\n",
       "  'zip_code': '1016 DX',\n",
       "  'city': 'Amsterdam',\n",
       "  'state_code': None,\n",
       "  'country_code': 'NLD',\n",
       "  'latitude': 37.09024,\n",
       "  'longitude': -95.712891},\n",
       " 'milestones': [],\n",
       " 'ipo': {'valuation_amount': None,\n",
       "  'valuation_currency_code': 'USD',\n",
       "  'pub_year': None,\n",
       "  'pub_month': None,\n",
       "  'pub_day': None,\n",
       "  'stock_symbol': 'NASDAQ OMX:GEO1V'},\n",
       " 'video_embeds': [],\n",
       " 'screenshots': [],\n",
       " 'external_links': [],\n",
       " 'partners': []}"
      ]
     },
     "execution_count": 19,
     "metadata": {},
     "output_type": "execute_result"
    }
   ],
   "source": [
    "lstrg[0]"
   ]
  },
  {
   "cell_type": "code",
   "execution_count": 20,
   "metadata": {},
   "outputs": [],
   "source": [
    "strll = coordNews(lstrg)"
   ]
  },
  {
   "cell_type": "code",
   "execution_count": 21,
   "metadata": {},
   "outputs": [],
   "source": [
    "newstr = changeKeys(lstrg, strll)"
   ]
  },
  {
   "cell_type": "code",
   "execution_count": 22,
   "metadata": {},
   "outputs": [
    {
     "data": {
      "text/plain": [
       "[{'_id': ObjectId('52cdef7c4bab8bd6752980e4'),\n",
       "  'name': 'GeoSentric',\n",
       "  'permalink': 'geosentric',\n",
       "  'crunchbase_url': 'http://www.crunchbase.com/company/geosentric',\n",
       "  'homepage_url': 'http://www.geosentric.com',\n",
       "  'blog_url': '',\n",
       "  'blog_feed_url': '',\n",
       "  'twitter_username': '',\n",
       "  'category_code': 'mobile',\n",
       "  'number_of_employees': None,\n",
       "  'founded_year': 2007,\n",
       "  'founded_month': 6,\n",
       "  'founded_day': 1,\n",
       "  'deadpooled_year': None,\n",
       "  'deadpooled_month': None,\n",
       "  'deadpooled_day': None,\n",
       "  'deadpooled_url': None,\n",
       "  'tag_list': '',\n",
       "  'alias_list': None,\n",
       "  'email_address': 'communications!@gypsii.com',\n",
       "  'phone_number': '+14019215184',\n",
       "  'description': 'Social Network and LBS product developer',\n",
       "  'created_at': 'Wed Nov 14 18:50:00 UTC 2007',\n",
       "  'updated_at': 'Thu Dec 27 20:43:44 UTC 2012',\n",
       "  'overview': '<p>GeoSentric&#8217;s GyPSii is the market-leading mobile digital lifestyle application and geo-mobility social networking platform: connecting people, places and communities across networks and devices, with patented technologies for the transfer and publishing of location based information between mobile devices. </p>\\n\\n<p>Based in Salo, Finland and Amsterdam, The Netherlands, GeoSentric operates offices in North America, Europe and Asia Pacific. GeoSentric is listed on the Nordic Exchange (NASDAQ OMX: GEO1V)). </p>',\n",
       "  'image': {'available_sizes': [[[150, 48],\n",
       "     'assets/images/resized/0002/0654/20654v1-max-150x150.png'],\n",
       "    [[250, 80], 'assets/images/resized/0002/0654/20654v1-max-250x250.png'],\n",
       "    [[250, 80], 'assets/images/resized/0002/0654/20654v1-max-450x450.png']],\n",
       "   'attribution': None},\n",
       "  'products': [{'name': 'GyPSii', 'permalink': 'gypsii'}],\n",
       "  'relationships': [{'is_past': False,\n",
       "    'title': 'GM, SVP',\n",
       "    'person': {'first_name': 'Mike',\n",
       "     'last_name': 'Po',\n",
       "     'permalink': 'mike-po'}},\n",
       "   {'is_past': True,\n",
       "    'title': 'Co-Founder (GyPSii)',\n",
       "    'person': {'first_name': 'Sam',\n",
       "     'last_name': 'Critchley',\n",
       "     'permalink': 'sam-critchley'}},\n",
       "   {'is_past': True,\n",
       "    'title': 'Executive Chairman',\n",
       "    'person': {'first_name': 'Dan',\n",
       "     'last_name': 'Harple',\n",
       "     'permalink': 'dan-harple'}},\n",
       "   {'is_past': True,\n",
       "    'title': 'CFO',\n",
       "    'person': {'first_name': 'Robin',\n",
       "     'last_name': 'Halliday',\n",
       "     'permalink': 'robin-halliday'}}],\n",
       "  'competitions': [],\n",
       "  'providerships': [],\n",
       "  'total_money_raised': '$24.1M',\n",
       "  'funding_rounds': [{'id': 981,\n",
       "    'round_code': 'a',\n",
       "    'source_url': 'http://www.fiercewireless.com/press-releases/geosentric-secures-additional-13-million-financing-new-and-existing-investors',\n",
       "    'source_description': '',\n",
       "    'raised_amount': 13100000,\n",
       "    'raised_currency_code': 'USD',\n",
       "    'funded_year': 2007,\n",
       "    'funded_month': 9,\n",
       "    'funded_day': 1,\n",
       "    'investments': [{'company': None,\n",
       "      'financial_org': {'name': 'Horizon Group', 'permalink': 'horizon-group'},\n",
       "      'person': None},\n",
       "     {'company': None,\n",
       "      'financial_org': {'name': 'Schroders',\n",
       "       'permalink': 'schroders-private-bank'},\n",
       "      'person': None}]},\n",
       "   {'id': 13025,\n",
       "    'round_code': 'b',\n",
       "    'source_url': 'http://paidcontent.org/article/419-gypsii-raises-another-11-million-for-mobile-location-sharing/',\n",
       "    'source_description': 'GyPSii Raises Another $11 Million For Mobile Location Sharing ',\n",
       "    'raised_amount': 11000000,\n",
       "    'raised_currency_code': 'USD',\n",
       "    'funded_year': 2010,\n",
       "    'funded_month': 3,\n",
       "    'funded_day': 15,\n",
       "    'investments': [{'company': None,\n",
       "      'financial_org': {'name': 'Schroders',\n",
       "       'permalink': 'schroders-private-bank'},\n",
       "      'person': None}]}],\n",
       "  'investments': [],\n",
       "  'acquisition': None,\n",
       "  'acquisitions': [],\n",
       "  'offices': {'description': 'Amsterdam',\n",
       "   'address1': 'Keizersgracht 212',\n",
       "   'address2': '',\n",
       "   'zip_code': '1016 DX',\n",
       "   'city': 'Amsterdam',\n",
       "   'state_code': None,\n",
       "   'country_code': 'NLD',\n",
       "   'latitude': 52.336993,\n",
       "   'longitude': 4.872646},\n",
       "  'milestones': [],\n",
       "  'ipo': {'valuation_amount': None,\n",
       "   'valuation_currency_code': 'USD',\n",
       "   'pub_year': None,\n",
       "   'pub_month': None,\n",
       "   'pub_day': None,\n",
       "   'stock_symbol': 'NASDAQ OMX:GEO1V'},\n",
       "  'video_embeds': [],\n",
       "  'screenshots': [],\n",
       "  'external_links': [],\n",
       "  'partners': []}]"
      ]
     },
     "execution_count": 22,
     "metadata": {},
     "output_type": "execute_result"
    }
   ],
   "source": [
    "newstr"
   ]
  },
  {
   "cell_type": "code",
   "execution_count": 23,
   "metadata": {},
   "outputs": [],
   "source": [
    "amsterdam = lwith + notnulls + newstr"
   ]
  },
  {
   "cell_type": "code",
   "execution_count": 24,
   "metadata": {},
   "outputs": [
    {
     "data": {
      "text/plain": [
       "{'_id': ObjectId('52cdef7c4bab8bd675297de6'),\n",
       " 'name': 'Wakoopa',\n",
       " 'permalink': 'wakoopa',\n",
       " 'crunchbase_url': 'http://www.crunchbase.com/company/wakoopa',\n",
       " 'homepage_url': 'http://www.wakoopa.com',\n",
       " 'blog_url': 'http://blog.wakoopa.com',\n",
       " 'blog_feed_url': 'http://blog.wakoopa.com/feed/',\n",
       " 'twitter_username': 'wakoopa',\n",
       " 'category_code': 'web',\n",
       " 'number_of_employees': 8,\n",
       " 'founded_year': 2007,\n",
       " 'founded_month': 1,\n",
       " 'founded_day': 1,\n",
       " 'deadpooled_year': None,\n",
       " 'deadpooled_month': None,\n",
       " 'deadpooled_day': None,\n",
       " 'deadpooled_url': None,\n",
       " 'tag_list': 'socialnetwork, software, desktop, apps',\n",
       " 'alias_list': '',\n",
       " 'email_address': 'info@wakoopa.com',\n",
       " 'phone_number': '',\n",
       " 'description': 'Social network for desktop software',\n",
       " 'created_at': 'Tue Feb 05 22:28:16 UTC 2008',\n",
       " 'updated_at': 'Fri Sep 06 12:31:20 UTC 2013',\n",
       " 'overview': '<p>Wakoopa creates digital DNA of today&#8217;s consumer. In a privacy conscious way, our technology tracks what websites are visited, what ads are seen, or what apps are used. Analyze the data and optimize your digital strategy accordingly. Our new measurement dashboard, QD, is available now.</p>',\n",
       " 'image': {'available_sizes': [[[150, 37],\n",
       "    'assets/images/resized/0000/2467/2467v7-max-150x150.png'],\n",
       "   [[200, 50], 'assets/images/resized/0000/2467/2467v7-max-250x250.png'],\n",
       "   [[200, 50], 'assets/images/resized/0000/2467/2467v7-max-450x450.png']],\n",
       "  'attribution': None},\n",
       " 'products': [{'name': 'Wakoopa', 'permalink': 'wakoopa'},\n",
       "  {'name': 'QD', 'permalink': 'qd-tracking'}],\n",
       " 'relationships': [{'is_past': False,\n",
       "   'title': 'Co-founder',\n",
       "   'person': {'first_name': 'Robert',\n",
       "    'last_name': 'Gaal',\n",
       "    'permalink': 'robert-gaal'}},\n",
       "  {'is_past': False,\n",
       "   'title': 'Co-founder',\n",
       "   'person': {'first_name': 'Wouter',\n",
       "    'last_name': 'Broekhof',\n",
       "    'permalink': 'wouter-broekhof'}},\n",
       "  {'is_past': False,\n",
       "   'title': 'Shareholder/Advisor',\n",
       "   'person': {'first_name': 'Boris',\n",
       "    'last_name': 'Veldhuijzen van Zanten',\n",
       "    'permalink': 'boris-veldhuijzen-van-zanten'}},\n",
       "  {'is_past': False,\n",
       "   'title': 'Lead Developer',\n",
       "   'person': {'first_name': 'Menno',\n",
       "    'last_name': 'Van der Sman',\n",
       "    'permalink': 'menno-van-der-sman'}},\n",
       "  {'is_past': True,\n",
       "   'title': 'Developer',\n",
       "   'person': {'first_name': 'Mark',\n",
       "    'last_name': 'Mulder',\n",
       "    'permalink': 'mark-mulder'}}],\n",
       " 'competitions': [{'competitor': {'name': 'RescueTime',\n",
       "    'permalink': 'rescuetime'}},\n",
       "  {'competitor': {'name': 'Chomp', 'permalink': 'chomp'}},\n",
       "  {'competitor': {'name': 'blippr', 'permalink': 'blippr'}},\n",
       "  {'competitor': {'name': 'Suzerein Solutions',\n",
       "    'permalink': 'suzerein-solutions'}}],\n",
       " 'providerships': [{'title': 'Marketing and PR',\n",
       "   'is_past': True,\n",
       "   'provider': {'name': 'Mercury Global Partners',\n",
       "    'permalink': 'mercury-global-partners'}}],\n",
       " 'total_money_raised': '$1M',\n",
       " 'funding_rounds': [{'id': 100,\n",
       "   'round_code': 'a',\n",
       "   'source_url': 'http://www.techcrunch.com/2008/06/02/wakoopa-secures-1-million-for-app-monitoring-social-network/',\n",
       "   'source_description': 'Wakoopa Secures $1 Million for App-Monitoring Social Network',\n",
       "   'raised_amount': 1000000,\n",
       "   'raised_currency_code': 'USD',\n",
       "   'funded_year': 2008,\n",
       "   'funded_month': 6,\n",
       "   'funded_day': 2,\n",
       "   'investments': [{'company': None,\n",
       "     'financial_org': {'name': 'Big Bang Ventures',\n",
       "      'permalink': 'big-bang-ventures'},\n",
       "     'person': None},\n",
       "    {'company': None,\n",
       "     'financial_org': {'name': 'HENQ Invest', 'permalink': 'henq-invest'},\n",
       "     'person': None},\n",
       "    {'company': None,\n",
       "     'financial_org': {'name': 'DCIF', 'permalink': 'dcif'},\n",
       "     'person': None},\n",
       "    {'company': {'name': 'The Next Web', 'permalink': 'the-next-web'},\n",
       "     'financial_org': None,\n",
       "     'person': None}]}],\n",
       " 'investments': [],\n",
       " 'acquisition': None,\n",
       " 'acquisitions': [],\n",
       " 'offices': {'description': 'Arts & Crafts',\n",
       "  'address1': 'Damrak 70, 254',\n",
       "  'address2': '',\n",
       "  'zip_code': '1012LM',\n",
       "  'city': 'Amsterdam',\n",
       "  'state_code': None,\n",
       "  'country_code': 'NLD',\n",
       "  'latitude': 52.3745228,\n",
       "  'longitude': 4.8948623},\n",
       " 'milestones': [],\n",
       " 'ipo': None,\n",
       " 'video_embeds': [],\n",
       " 'screenshots': [],\n",
       " 'external_links': [],\n",
       " 'partners': [],\n",
       " 'location': [{'type': 'Point', 'coordinates': [4.8948623, 52.3745228]}]}"
      ]
     },
     "execution_count": 24,
     "metadata": {},
     "output_type": "execute_result"
    }
   ],
   "source": [
    "amsterdam[0]"
   ]
  },
  {
   "cell_type": "code",
   "execution_count": 25,
   "metadata": {},
   "outputs": [
    {
     "name": "stdout",
     "output_type": "stream",
     "text": [
      "74\n"
     ]
    }
   ],
   "source": [
    "print(len(amsterdam))"
   ]
  },
  {
   "cell_type": "code",
   "execution_count": 26,
   "metadata": {},
   "outputs": [
    {
     "name": "stdout",
     "output_type": "stream",
     "text": [
      "['amsterdam', 'companies']\n"
     ]
    }
   ],
   "source": [
    "#col = db['amsterdam']\n",
    "print(db.list_collection_names())\n",
    "#col.insert_many(amsterdam)"
   ]
  },
  {
   "cell_type": "code",
   "execution_count": 27,
   "metadata": {},
   "outputs": [],
   "source": [
    "db, coll2 = connectCollection('companies', 'amsterdam')"
   ]
  },
  {
   "cell_type": "code",
   "execution_count": 28,
   "metadata": {},
   "outputs": [],
   "source": [
    "def getLocation(companies):\n",
    "    #location =[]\n",
    "    #for i in range(len(companies['offices'])):\n",
    "    longitude = companies['offices']['longitude']\n",
    "    latitude = companies['offices']['latitude']\n",
    "    loc = {\n",
    "        'type':'Point',\n",
    "        'coordinates':[float(longitude), float(latitude)]\n",
    "    }\n",
    "    #location.append(loc)\n",
    "    return loc"
   ]
  },
  {
   "cell_type": "code",
   "execution_count": 29,
   "metadata": {},
   "outputs": [
    {
     "data": {
      "text/plain": [
       "[{'type': 'Point', 'coordinates': [4.8948623, 52.3745228]}]"
      ]
     },
     "execution_count": 29,
     "metadata": {},
     "output_type": "execute_result"
    }
   ],
   "source": [
    "getLocation(amsterdam[0])"
   ]
  },
  {
   "cell_type": "code",
   "execution_count": 33,
   "metadata": {},
   "outputs": [],
   "source": [
    "for cp in amsterdam:\n",
    "    value = {\"$set\": {'location':getLocation(cp)}}\n",
    "    query = {\"_id\": cp['_id']}\n",
    "    coll2.update_many(query, value)"
   ]
  },
  {
   "cell_type": "code",
   "execution_count": 40,
   "metadata": {},
   "outputs": [],
   "source": [
    "comp2 = list(coll2.find({\"funding_rounds.raised_amount\": {\"$gte\": 1000000}}))"
   ]
  },
  {
   "cell_type": "code",
   "execution_count": 42,
   "metadata": {},
   "outputs": [
    {
     "data": {
      "text/plain": [
       "21"
      ]
     },
     "execution_count": 42,
     "metadata": {},
     "output_type": "execute_result"
    }
   ],
   "source": [
    "len(comp2)"
   ]
  },
  {
   "cell_type": "code",
   "execution_count": 45,
   "metadata": {},
   "outputs": [],
   "source": [
    "map_city=folium.Map(location=[52.37021,4.895168], zoom_start=12)\n",
    "for cmp in comp2:\n",
    "    for i in range(len(cmp['location'])):\n",
    "        folium.Marker(cmp['location'][i]['coordinates'][::-1],\n",
    "                    radius=2,\n",
    "                    icon=folium.Icon(icon='home',color='red'), \n",
    "                   ).add_to(map_city)"
   ]
  },
  {
   "cell_type": "code",
   "execution_count": 46,
   "metadata": {},
   "outputs": [
    {
     "data": {
      "text/html": [
       "<div style=\"width:100%;\"><div style=\"position:relative;width:100%;height:0;padding-bottom:60%;\"><iframe src=\"data:text/html;charset=utf-8;base64,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\" style=\"position:absolute;width:100%;height:100%;left:0;top:0;border:none !important;\" allowfullscreen webkitallowfullscreen mozallowfullscreen></iframe></div></div>"
      ],
      "text/plain": [
       "<folium.folium.Map at 0x10ec6c210>"
      ]
     },
     "execution_count": 46,
     "metadata": {},
     "output_type": "execute_result"
    }
   ],
   "source": [
    "map_city"
   ]
  },
  {
   "cell_type": "code",
   "execution_count": 47,
   "metadata": {},
   "outputs": [
    {
     "name": "stdout",
     "output_type": "stream",
     "text": [
      "Stored 'comp2' (list)\n"
     ]
    }
   ],
   "source": [
    "%store comp2"
   ]
  },
  {
   "cell_type": "code",
   "execution_count": null,
   "metadata": {},
   "outputs": [],
   "source": []
  }
 ],
 "metadata": {
  "kernelspec": {
   "display_name": "Python 3",
   "language": "python",
   "name": "python3"
  },
  "language_info": {
   "codemirror_mode": {
    "name": "ipython",
    "version": 3
   },
   "file_extension": ".py",
   "mimetype": "text/x-python",
   "name": "python",
   "nbconvert_exporter": "python",
   "pygments_lexer": "ipython3",
   "version": "3.7.4"
  }
 },
 "nbformat": 4,
 "nbformat_minor": 2
}
