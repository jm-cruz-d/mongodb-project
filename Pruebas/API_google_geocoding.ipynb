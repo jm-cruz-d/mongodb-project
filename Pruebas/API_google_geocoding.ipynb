{
 "cells": [
  {
   "cell_type": "code",
   "execution_count": 1,
   "metadata": {},
   "outputs": [
    {
     "name": "stdout",
     "output_type": "stream",
     "text": [
      "Collecting googlemaps\n",
      "  Downloading https://files.pythonhosted.org/packages/ce/a2/732003b9ed29a3b1e721aa8b95b4c1f3f69e6b5dd5648f43cccc457f52d9/googlemaps-3.1.4-py3-none-any.whl\n",
      "Requirement already satisfied, skipping upgrade: requests<3.0,>=2.20.0 in /usr/local/lib/python3.7/site-packages (from googlemaps) (2.22.0)\n",
      "Requirement already satisfied, skipping upgrade: chardet<3.1.0,>=3.0.2 in /usr/local/lib/python3.7/site-packages (from requests<3.0,>=2.20.0->googlemaps) (3.0.4)\n",
      "Requirement already satisfied, skipping upgrade: urllib3!=1.25.0,!=1.25.1,<1.26,>=1.21.1 in /usr/local/lib/python3.7/site-packages (from requests<3.0,>=2.20.0->googlemaps) (1.25.6)\n",
      "Requirement already satisfied, skipping upgrade: certifi>=2017.4.17 in /usr/local/lib/python3.7/site-packages (from requests<3.0,>=2.20.0->googlemaps) (2019.9.11)\n",
      "Requirement already satisfied, skipping upgrade: idna<2.9,>=2.5 in /usr/local/lib/python3.7/site-packages (from requests<3.0,>=2.20.0->googlemaps) (2.8)\n",
      "Installing collected packages: googlemaps\n",
      "Successfully installed googlemaps-3.1.4\n"
     ]
    }
   ],
   "source": [
    "!pip3 install -U googlemaps"
   ]
  },
  {
   "cell_type": "code",
   "execution_count": 3,
   "metadata": {},
   "outputs": [
    {
     "data": {
      "text/plain": [
       "True"
      ]
     },
     "execution_count": 3,
     "metadata": {},
     "output_type": "execute_result"
    }
   ],
   "source": [
    "import googlemaps\n",
    "from datetime import datetime\n",
    "import os\n",
    "from dotenv import load_dotenv\n",
    "load_dotenv()"
   ]
  },
  {
   "cell_type": "code",
   "execution_count": 12,
   "metadata": {},
   "outputs": [],
   "source": [
    "gmaps = googlemaps.Client(key=os.getenv(\"key\"))\n",
    "\n",
    "# Geocoding an address\n",
    "geocode_result = gmaps.geocode('Starbucks, Amsterdam')\n",
    "\n",
    "# Look up an address with reverse geocoding\n",
    "#reverse_geocode_result = gmaps.reverse_geocode((40.714224, -73.961452))\n",
    "\n",
    "# Request directions via public transit\n",
    "#now = datetime.now()\n",
    "#directions_result = gmaps.directions(\"Sydney Town Hall\",\n",
    "                                     #\"Parramatta, NSW\",\n",
    "                                     #mode=\"transit\",\n",
    "                                     #departure_time=now)"
   ]
  },
  {
   "cell_type": "code",
   "execution_count": 13,
   "metadata": {},
   "outputs": [
    {
     "data": {
      "text/plain": [
       "[{'address_components': [{'long_name': '80-81',\n",
       "    'short_name': '80-81',\n",
       "    'types': ['street_number']},\n",
       "   {'long_name': 'Damrak', 'short_name': 'Damrak', 'types': ['route']},\n",
       "   {'long_name': 'Amsterdam-Centrum',\n",
       "    'short_name': 'Amsterdam-Centrum',\n",
       "    'types': ['political', 'sublocality', 'sublocality_level_1']},\n",
       "   {'long_name': 'Amsterdam',\n",
       "    'short_name': 'Amsterdam',\n",
       "    'types': ['locality', 'political']},\n",
       "   {'long_name': 'Amsterdam',\n",
       "    'short_name': 'Amsterdam',\n",
       "    'types': ['administrative_area_level_2', 'political']},\n",
       "   {'long_name': 'Noord-Holland',\n",
       "    'short_name': 'NH',\n",
       "    'types': ['administrative_area_level_1', 'political']},\n",
       "   {'long_name': 'Netherlands',\n",
       "    'short_name': 'NL',\n",
       "    'types': ['country', 'political']},\n",
       "   {'long_name': '1012 LN',\n",
       "    'short_name': '1012 LN',\n",
       "    'types': ['postal_code']}],\n",
       "  'formatted_address': 'Damrak 80-81, 1012 LN Amsterdam, Netherlands',\n",
       "  'geometry': {'location': {'lat': 52.37429770000001, 'lng': 4.8942746},\n",
       "   'location_type': 'ROOFTOP',\n",
       "   'viewport': {'northeast': {'lat': 52.37564668029151,\n",
       "     'lng': 4.895623580291502},\n",
       "    'southwest': {'lat': 52.37294871970851, 'lng': 4.892925619708499}}},\n",
       "  'place_id': 'ChIJmR4_c8cJxkcRzOFSDlo6rIE',\n",
       "  'plus_code': {'compound_code': '9VFV+PP Amsterdam, Netherlands',\n",
       "   'global_code': '9F469VFV+PP'},\n",
       "  'types': ['cafe', 'establishment', 'food', 'point_of_interest', 'store']}]"
      ]
     },
     "execution_count": 13,
     "metadata": {},
     "output_type": "execute_result"
    }
   ],
   "source": [
    "geocode_result"
   ]
  },
  {
   "cell_type": "code",
   "execution_count": null,
   "metadata": {},
   "outputs": [],
   "source": []
  }
 ],
 "metadata": {
  "kernelspec": {
   "display_name": "Python 3",
   "language": "python",
   "name": "python3"
  },
  "language_info": {
   "codemirror_mode": {
    "name": "ipython",
    "version": 3
   },
   "file_extension": ".py",
   "mimetype": "text/x-python",
   "name": "python",
   "nbconvert_exporter": "python",
   "pygments_lexer": "ipython3",
   "version": "3.7.4"
  }
 },
 "nbformat": 4,
 "nbformat_minor": 2
}
