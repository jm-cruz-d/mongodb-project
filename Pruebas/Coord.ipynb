{
 "cells": [
  {
   "cell_type": "code",
   "execution_count": null,
   "metadata": {},
   "outputs": [],
   "source": [
    "!pip3 install pymongo"
   ]
  },
  {
   "cell_type": "code",
   "execution_count": null,
   "metadata": {},
   "outputs": [],
   "source": [
    "!pip3 install folium"
   ]
  },
  {
   "cell_type": "code",
   "execution_count": 1,
   "metadata": {},
   "outputs": [],
   "source": [
    "from pymongo import MongoClient\n",
    "import folium"
   ]
  },
  {
   "cell_type": "code",
   "execution_count": 2,
   "metadata": {},
   "outputs": [],
   "source": [
    "def connectCollection(database, collection):\n",
    "    client = MongoClient()\n",
    "    db = client[database]\n",
    "    coll = db[collection]\n",
    "    return db, coll"
   ]
  },
  {
   "cell_type": "code",
   "execution_count": 3,
   "metadata": {},
   "outputs": [],
   "source": [
    "db, coll = connectCollection('companies', 'companies')"
   ]
  },
  {
   "cell_type": "code",
   "execution_count": 4,
   "metadata": {},
   "outputs": [
    {
     "data": {
      "text/plain": [
       "Database(MongoClient(host=['localhost:27017'], document_class=dict, tz_aware=False, connect=True), 'companies')"
      ]
     },
     "execution_count": 4,
     "metadata": {},
     "output_type": "execute_result"
    }
   ],
   "source": [
    "db"
   ]
  },
  {
   "cell_type": "code",
   "execution_count": 5,
   "metadata": {},
   "outputs": [
    {
     "name": "stdout",
     "output_type": "stream",
     "text": [
      "Collection(Database(MongoClient(host=['localhost:27017'], document_class=dict, tz_aware=False, connect=True), 'companies'), 'companies.json')\n"
     ]
    }
   ],
   "source": [
    "print(coll.json)"
   ]
  },
  {
   "cell_type": "code",
   "execution_count": 6,
   "metadata": {},
   "outputs": [],
   "source": [
    "comp = list(coll.find({'$and': [{\"offices.latitude\": { '$nin': [None] }}, {\"offices.longitude\":{ '$nin': [None] }}, {\"offices.city\": \"Amsterdam\"}, {'deadpooled_year': None}]}))"
   ]
  },
  {
   "cell_type": "code",
   "execution_count": 7,
   "metadata": {},
   "outputs": [],
   "source": [
    "#print(comp)"
   ]
  },
  {
   "cell_type": "code",
   "execution_count": 8,
   "metadata": {},
   "outputs": [
    {
     "name": "stdout",
     "output_type": "stream",
     "text": [
      "45\n",
      "3\n"
     ]
    }
   ],
   "source": [
    "print(len(comp))\n",
    "print(len(comp[1]['offices']))\n"
   ]
  },
  {
   "cell_type": "code",
   "execution_count": 9,
   "metadata": {},
   "outputs": [
    {
     "name": "stdout",
     "output_type": "stream",
     "text": [
      "45\n"
     ]
    },
    {
     "data": {
      "text/plain": [
       "[{'description': 'Arts & Crafts',\n",
       "  'address1': 'Damrak 70, 254',\n",
       "  'address2': '',\n",
       "  'zip_code': '1012LM',\n",
       "  'city': 'Amsterdam',\n",
       "  'state_code': None,\n",
       "  'country_code': 'NLD',\n",
       "  'latitude': 52.3745228,\n",
       "  'longitude': 4.8948623}]"
      ]
     },
     "execution_count": 9,
     "metadata": {},
     "output_type": "execute_result"
    }
   ],
   "source": [
    "print(len(comp))\n",
    "comp[0]['offices']"
   ]
  },
  {
   "cell_type": "code",
   "execution_count": 10,
   "metadata": {},
   "outputs": [
    {
     "name": "stdout",
     "output_type": "stream",
     "text": [
      "1\n"
     ]
    },
    {
     "data": {
      "text/plain": [
       "{'description': 'Arts & Crafts',\n",
       " 'address1': 'Damrak 70, 254',\n",
       " 'address2': '',\n",
       " 'zip_code': '1012LM',\n",
       " 'city': 'Amsterdam',\n",
       " 'state_code': None,\n",
       " 'country_code': 'NLD',\n",
       " 'latitude': 52.3745228,\n",
       " 'longitude': 4.8948623}"
      ]
     },
     "execution_count": 10,
     "metadata": {},
     "output_type": "execute_result"
    }
   ],
   "source": [
    "print(len(comp[0]['offices']))\n",
    "comp[0]['offices'][0]"
   ]
  },
  {
   "cell_type": "code",
   "execution_count": 11,
   "metadata": {},
   "outputs": [],
   "source": [
    "def getLocation(companies):\n",
    "    location =[]\n",
    "    for i in range(len(companies['offices'])):\n",
    "        longitude = companies['offices'][i]['longitude']\n",
    "        latitude = companies['offices'][i]['latitude']\n",
    "        loc = {\n",
    "            'type':'Point',\n",
    "            'coordinates':[longitude, latitude]\n",
    "        }\n",
    "        location.append(loc)\n",
    "    return location"
   ]
  },
  {
   "cell_type": "code",
   "execution_count": 12,
   "metadata": {},
   "outputs": [],
   "source": [
    "for cp in comp:\n",
    "    value = {\"$set\": {'location':getLocation(cp)}}\n",
    "    coll.update_one(cp, value)"
   ]
  },
  {
   "cell_type": "code",
   "execution_count": 13,
   "metadata": {},
   "outputs": [
    {
     "data": {
      "text/plain": [
       "{'type': 'Point', 'coordinates': [4.8948623, 52.3745228]}"
      ]
     },
     "execution_count": 13,
     "metadata": {},
     "output_type": "execute_result"
    }
   ],
   "source": [
    "comp[0]['location'][0]"
   ]
  },
  {
   "cell_type": "code",
   "execution_count": 14,
   "metadata": {},
   "outputs": [
    {
     "data": {
      "text/plain": [
       "{'_id': ObjectId('52cdef7c4bab8bd675297de6'),\n",
       " 'name': 'Wakoopa',\n",
       " 'permalink': 'wakoopa',\n",
       " 'crunchbase_url': 'http://www.crunchbase.com/company/wakoopa',\n",
       " 'homepage_url': 'http://www.wakoopa.com',\n",
       " 'blog_url': 'http://blog.wakoopa.com',\n",
       " 'blog_feed_url': 'http://blog.wakoopa.com/feed/',\n",
       " 'twitter_username': 'wakoopa',\n",
       " 'category_code': 'web',\n",
       " 'number_of_employees': 8,\n",
       " 'founded_year': 2007,\n",
       " 'founded_month': 1,\n",
       " 'founded_day': 1,\n",
       " 'deadpooled_year': None,\n",
       " 'deadpooled_month': None,\n",
       " 'deadpooled_day': None,\n",
       " 'deadpooled_url': None,\n",
       " 'tag_list': 'socialnetwork, software, desktop, apps',\n",
       " 'alias_list': '',\n",
       " 'email_address': 'info@wakoopa.com',\n",
       " 'phone_number': '',\n",
       " 'description': 'Social network for desktop software',\n",
       " 'created_at': 'Tue Feb 05 22:28:16 UTC 2008',\n",
       " 'updated_at': 'Fri Sep 06 12:31:20 UTC 2013',\n",
       " 'overview': '<p>Wakoopa creates digital DNA of today&#8217;s consumer. In a privacy conscious way, our technology tracks what websites are visited, what ads are seen, or what apps are used. Analyze the data and optimize your digital strategy accordingly. Our new measurement dashboard, QD, is available now.</p>',\n",
       " 'image': {'available_sizes': [[[150, 37],\n",
       "    'assets/images/resized/0000/2467/2467v7-max-150x150.png'],\n",
       "   [[200, 50], 'assets/images/resized/0000/2467/2467v7-max-250x250.png'],\n",
       "   [[200, 50], 'assets/images/resized/0000/2467/2467v7-max-450x450.png']],\n",
       "  'attribution': None},\n",
       " 'products': [{'name': 'Wakoopa', 'permalink': 'wakoopa'},\n",
       "  {'name': 'QD', 'permalink': 'qd-tracking'}],\n",
       " 'relationships': [{'is_past': False,\n",
       "   'title': 'Co-founder',\n",
       "   'person': {'first_name': 'Robert',\n",
       "    'last_name': 'Gaal',\n",
       "    'permalink': 'robert-gaal'}},\n",
       "  {'is_past': False,\n",
       "   'title': 'Co-founder',\n",
       "   'person': {'first_name': 'Wouter',\n",
       "    'last_name': 'Broekhof',\n",
       "    'permalink': 'wouter-broekhof'}},\n",
       "  {'is_past': False,\n",
       "   'title': 'Shareholder/Advisor',\n",
       "   'person': {'first_name': 'Boris',\n",
       "    'last_name': 'Veldhuijzen van Zanten',\n",
       "    'permalink': 'boris-veldhuijzen-van-zanten'}},\n",
       "  {'is_past': False,\n",
       "   'title': 'Lead Developer',\n",
       "   'person': {'first_name': 'Menno',\n",
       "    'last_name': 'Van der Sman',\n",
       "    'permalink': 'menno-van-der-sman'}},\n",
       "  {'is_past': True,\n",
       "   'title': 'Developer',\n",
       "   'person': {'first_name': 'Mark',\n",
       "    'last_name': 'Mulder',\n",
       "    'permalink': 'mark-mulder'}}],\n",
       " 'competitions': [{'competitor': {'name': 'RescueTime',\n",
       "    'permalink': 'rescuetime'}},\n",
       "  {'competitor': {'name': 'Chomp', 'permalink': 'chomp'}},\n",
       "  {'competitor': {'name': 'blippr', 'permalink': 'blippr'}},\n",
       "  {'competitor': {'name': 'Suzerein Solutions',\n",
       "    'permalink': 'suzerein-solutions'}}],\n",
       " 'providerships': [{'title': 'Marketing and PR',\n",
       "   'is_past': True,\n",
       "   'provider': {'name': 'Mercury Global Partners',\n",
       "    'permalink': 'mercury-global-partners'}}],\n",
       " 'total_money_raised': '$1M',\n",
       " 'funding_rounds': [{'id': 100,\n",
       "   'round_code': 'a',\n",
       "   'source_url': 'http://www.techcrunch.com/2008/06/02/wakoopa-secures-1-million-for-app-monitoring-social-network/',\n",
       "   'source_description': 'Wakoopa Secures $1 Million for App-Monitoring Social Network',\n",
       "   'raised_amount': 1000000,\n",
       "   'raised_currency_code': 'USD',\n",
       "   'funded_year': 2008,\n",
       "   'funded_month': 6,\n",
       "   'funded_day': 2,\n",
       "   'investments': [{'company': None,\n",
       "     'financial_org': {'name': 'Big Bang Ventures',\n",
       "      'permalink': 'big-bang-ventures'},\n",
       "     'person': None},\n",
       "    {'company': None,\n",
       "     'financial_org': {'name': 'HENQ Invest', 'permalink': 'henq-invest'},\n",
       "     'person': None},\n",
       "    {'company': None,\n",
       "     'financial_org': {'name': 'DCIF', 'permalink': 'dcif'},\n",
       "     'person': None},\n",
       "    {'company': {'name': 'The Next Web', 'permalink': 'the-next-web'},\n",
       "     'financial_org': None,\n",
       "     'person': None}]}],\n",
       " 'investments': [],\n",
       " 'acquisition': None,\n",
       " 'acquisitions': [],\n",
       " 'offices': [{'description': 'Arts & Crafts',\n",
       "   'address1': 'Damrak 70, 254',\n",
       "   'address2': '',\n",
       "   'zip_code': '1012LM',\n",
       "   'city': 'Amsterdam',\n",
       "   'state_code': None,\n",
       "   'country_code': 'NLD',\n",
       "   'latitude': 52.3745228,\n",
       "   'longitude': 4.8948623}],\n",
       " 'milestones': [],\n",
       " 'ipo': None,\n",
       " 'video_embeds': [],\n",
       " 'screenshots': [],\n",
       " 'external_links': [],\n",
       " 'partners': [],\n",
       " 'location': [{'type': 'Point', 'coordinates': [4.8948623, 52.3745228]}]}"
      ]
     },
     "execution_count": 14,
     "metadata": {},
     "output_type": "execute_result"
    }
   ],
   "source": [
    "comp[0]"
   ]
  },
  {
   "cell_type": "code",
   "execution_count": 15,
   "metadata": {},
   "outputs": [],
   "source": [
    "map_city=folium.Map(location=[52.37021,4.895168], zoom_start=12)\n",
    "for cmp in comp:\n",
    "    folium.Marker(cmp['location'][0]['coordinates'][::-1],\n",
    "                radius=2,\n",
    "                icon=folium.Icon(icon='home',color='red'), \n",
    "               ).add_to(map_city)\n",
    "  "
   ]
  },
  {
   "cell_type": "code",
   "execution_count": 16,
   "metadata": {},
   "outputs": [
    {
     "data": {
      "text/html": [
       "<div style=\"width:100%;\"><div style=\"position:relative;width:100%;height:0;padding-bottom:60%;\"><iframe src=\"data:text/html;charset=utf-8;base64,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\" style=\"position:absolute;width:100%;height:100%;left:0;top:0;border:none !important;\" allowfullscreen webkitallowfullscreen mozallowfullscreen></iframe></div></div>"
      ],
      "text/plain": [
       "<folium.folium.Map at 0x11501b610>"
      ]
     },
     "execution_count": 16,
     "metadata": {},
     "output_type": "execute_result"
    }
   ],
   "source": [
    "map_city"
   ]
  },
  {
   "cell_type": "code",
   "execution_count": 18,
   "metadata": {},
   "outputs": [
    {
     "name": "stdout",
     "output_type": "stream",
     "text": [
      "['companies']\n"
     ]
    }
   ],
   "source": [
    "col = db['starbucks']\n",
    "print(db.list_collection_names())\n"
   ]
  },
  {
   "cell_type": "code",
   "execution_count": 20,
   "metadata": {},
   "outputs": [],
   "source": [
    "map_city=folium.Map(location=[52.37021,4.895168], zoom_start=12)\n",
    "for cmp in comp:\n",
    "    for i in range(len(cmp['location'])):\n",
    "        folium.Marker(cmp['location'][i]['coordinates'][::-1],\n",
    "                    radius=2,\n",
    "                    icon=folium.Icon(icon='home',color='red'), \n",
    "                   ).add_to(map_city)\n",
    "  "
   ]
  },
  {
   "cell_type": "code",
   "execution_count": 21,
   "metadata": {},
   "outputs": [
    {
     "data": {
      "text/html": [
       "<div style=\"width:100%;\"><div style=\"position:relative;width:100%;height:0;padding-bottom:60%;\"><iframe src=\"data:text/html;charset=utf-8;base64,PCFET0NUWVBFIGh0bWw+CjxoZWFkPiAgICAKICAgIDxtZXRhIGh0dHAtZXF1aXY9ImNvbnRlbnQtdHlwZSIgY29udGVudD0idGV4dC9odG1sOyBjaGFyc2V0PVVURi04IiAvPgogICAgCiAgICAgICAgPHNjcmlwdD4KICAgICAgICAgICAgTF9OT19UT1VDSCA9IGZhbHNlOwogICAgICAgICAgICBMX0RJU0FCTEVfM0QgPSBmYWxzZTsKICAgICAgICA8L3NjcmlwdD4KICAgIAogICAgPHNjcmlwdCBzcmM9Imh0dHBzOi8vY2RuLmpzZGVsaXZyLm5ldC9ucG0vbGVhZmxldEAxLjUuMS9kaXN0L2xlYWZsZXQuanMiPjwvc2NyaXB0PgogICAgPHNjcmlwdCBzcmM9Imh0dHBzOi8vY29kZS5qcXVlcnkuY29tL2pxdWVyeS0xLjEyLjQubWluLmpzIj48L3NjcmlwdD4KICAgIDxzY3JpcHQgc3JjPSJodHRwczovL21heGNkbi5ib290c3RyYXBjZG4uY29tL2Jvb3RzdHJhcC8zLjIuMC9qcy9ib290c3RyYXAubWluLmpzIj48L3NjcmlwdD4KICAgIDxzY3JpcHQgc3JjPSJodHRwczovL2NkbmpzLmNsb3VkZmxhcmUuY29tL2FqYXgvbGlicy9MZWFmbGV0LmF3ZXNvbWUtbWFya2Vycy8yLjAuMi9sZWFmbGV0LmF3ZXNvbWUtbWFya2Vycy5qcyI+PC9zY3JpcHQ+CiAgICA8bGluayByZWw9InN0eWxlc2hlZXQiIGhyZWY9Imh0dHBzOi8vY2RuLmpzZGVsaXZyLm5ldC9ucG0vbGVhZmxldEAxLjUuMS9kaXN0L2xlYWZsZXQuY3NzIi8+CiAgICA8bGluayByZWw9InN0eWxlc2hlZXQiIGhyZWY9Imh0dHBzOi8vbWF4Y2RuLmJvb3RzdHJhcGNkbi5jb20vYm9vdHN0cmFwLzMuMi4wL2Nzcy9ib290c3RyYXAubWluLmNzcyIvPgogICAgPGxpbmsgcmVsPSJzdHlsZXNoZWV0IiBocmVmPSJodHRwczovL21heGNkbi5ib290c3RyYXBjZG4uY29tL2Jvb3RzdHJhcC8zLjIuMC9jc3MvYm9vdHN0cmFwLXRoZW1lLm1pbi5jc3MiLz4KICAgIDxsaW5rIHJlbD0ic3R5bGVzaGVldCIgaHJlZj0iaHR0cHM6Ly9tYXhjZG4uYm9vdHN0cmFwY2RuLmNvbS9mb250LWF3ZXNvbWUvNC42LjMvY3NzL2ZvbnQtYXdlc29tZS5taW4uY3NzIi8+CiAgICA8bGluayByZWw9InN0eWxlc2hlZXQiIGhyZWY9Imh0dHBzOi8vY2RuanMuY2xvdWRmbGFyZS5jb20vYWpheC9saWJzL0xlYWZsZXQuYXdlc29tZS1tYXJrZXJzLzIuMC4yL2xlYWZsZXQuYXdlc29tZS1tYXJrZXJzLmNzcyIvPgogICAgPGxpbmsgcmVsPSJzdHlsZXNoZWV0IiBocmVmPSJodHRwczovL3Jhd2Nkbi5naXRoYWNrLmNvbS9weXRob24tdmlzdWFsaXphdGlvbi9mb2xpdW0vbWFzdGVyL2ZvbGl1bS90ZW1wbGF0ZXMvbGVhZmxldC5hd2Vzb21lLnJvdGF0ZS5jc3MiLz4KICAgIDxzdHlsZT5odG1sLCBib2R5IHt3aWR0aDogMTAwJTtoZWlnaHQ6IDEwMCU7bWFyZ2luOiAwO3BhZGRpbmc6IDA7fTwvc3R5bGU+CiAgICA8c3R5bGU+I21hcCB7cG9zaXRpb246YWJzb2x1dGU7dG9wOjA7Ym90dG9tOjA7cmlnaHQ6MDtsZWZ0OjA7fTwvc3R5bGU+CiAgICAKICAgICAgICAgICAgPG1ldGEgbmFtZT0idmlld3BvcnQiIGNvbnRlbnQ9IndpZHRoPWRldmljZS13aWR0aCwKICAgICAgICAgICAgICAgIGluaXRpYWwtc2NhbGU9MS4wLCBtYXhpbXVtLXNjYWxlPTEuMCwgdXNlci1zY2FsYWJsZT1ubyIgLz4KICAgICAgICAgICAgPHN0eWxlPgogICAgICAgICAgICAgICAgI21hcF9hYzRmZmE2YzQwYWQ0OWE4OGJmYjY1MDhhYWZlMzdlMyB7CiAgICAgICAgICAgICAgICAgICAgcG9zaXRpb246IHJlbGF0aXZlOwogICAgICAgICAgICAgICAgICAgIHdpZHRoOiAxMDAuMCU7CiAgICAgICAgICAgICAgICAgICAgaGVpZ2h0OiAxMDAuMCU7CiAgICAgICAgICAgICAgICAgICAgbGVmdDogMC4wJTsKICAgICAgICAgICAgICAgICAgICB0b3A6IDAuMCU7CiAgICAgICAgICAgICAgICB9CiAgICAgICAgICAgIDwvc3R5bGU+CiAgICAgICAgCjwvaGVhZD4KPGJvZHk+ICAgIAogICAgCiAgICAgICAgICAgIDxkaXYgY2xhc3M9ImZvbGl1bS1tYXAiIGlkPSJtYXBfYWM0ZmZhNmM0MGFkNDlhODhiZmI2NTA4YWFmZTM3ZTMiID48L2Rpdj4KICAgICAgICAKPC9ib2R5Pgo8c2NyaXB0PiAgICAKICAgIAogICAgICAgICAgICB2YXIgbWFwX2FjNGZmYTZjNDBhZDQ5YTg4YmZiNjUwOGFhZmUzN2UzID0gTC5tYXAoCiAgICAgICAgICAgICAgICAibWFwX2FjNGZmYTZjNDBhZDQ5YTg4YmZiNjUwOGFhZmUzN2UzIiwKICAgICAgICAgICAgICAgIHsKICAgICAgICAgICAgICAgICAgICBjZW50ZXI6IFs1Mi4zNzAyMSwgNC44OTUxNjhdLAogICAgICAgICAgICAgICAgICAgIGNyczogTC5DUlMuRVBTRzM4NTcsCiAgICAgICAgICAgICAgICAgICAgem9vbTogMTIsCiAgICAgICAgICAgICAgICAgICAgem9vbUNvbnRyb2w6IHRydWUsCiAgICAgICAgICAgICAgICAgICAgcHJlZmVyQ2FudmFzOiBmYWxzZSwKICAgICAgICAgICAgICAgIH0KICAgICAgICAgICAgKTsKCiAgICAgICAgICAgIAoKICAgICAgICAKICAgIAogICAgICAgICAgICB2YXIgdGlsZV9sYXllcl8wZjUxNjM5MjNjMGE0ZTk0YmVkZmJmZTIwOGI1OTdiZiA9IEwudGlsZUxheWVyKAogICAgICAgICAgICAgICAgImh0dHBzOi8ve3N9LnRpbGUub3BlbnN0cmVldG1hcC5vcmcve3p9L3t4fS97eX0ucG5nIiwKICAgICAgICAgICAgICAgIHsiYXR0cmlidXRpb24iOiAiRGF0YSBieSBcdTAwMjZjb3B5OyBcdTAwM2NhIGhyZWY9XCJodHRwOi8vb3BlbnN0cmVldG1hcC5vcmdcIlx1MDAzZU9wZW5TdHJlZXRNYXBcdTAwM2MvYVx1MDAzZSwgdW5kZXIgXHUwMDNjYSBocmVmPVwiaHR0cDovL3d3dy5vcGVuc3RyZWV0bWFwLm9yZy9jb3B5cmlnaHRcIlx1MDAzZU9EYkxcdTAwM2MvYVx1MDAzZS4iLCAiZGV0ZWN0UmV0aW5hIjogZmFsc2UsICJtYXhOYXRpdmVab29tIjogMTgsICJtYXhab29tIjogMTgsICJtaW5ab29tIjogMCwgIm5vV3JhcCI6IGZhbHNlLCAib3BhY2l0eSI6IDEsICJzdWJkb21haW5zIjogImFiYyIsICJ0bXMiOiBmYWxzZX0KICAgICAgICAgICAgKS5hZGRUbyhtYXBfYWM0ZmZhNmM0MGFkNDlhODhiZmI2NTA4YWFmZTM3ZTMpOwogICAgICAgIAogICAgCiAgICAgICAgICAgIHZhciBtYXJrZXJfYWY2YmRiYjgwYmZiNGVhZjlkOGZlM2UxZDIxNjg1ZDcgPSBMLm1hcmtlcigKICAgICAgICAgICAgICAgIFs1Mi4zNzQ1MjI4LCA0Ljg5NDg2MjNdLAogICAgICAgICAgICAgICAgeyJyYWRpdXMiOiAyfQogICAgICAgICAgICApLmFkZFRvKG1hcF9hYzRmZmE2YzQwYWQ0OWE4OGJmYjY1MDhhYWZlMzdlMyk7CiAgICAgICAgCiAgICAKICAgICAgICAgICAgdmFyIGljb25fZTNmMjE1OGZjYWY3NDEyNWEzODgwZTAxNWI3OWM2NWYgPSBMLkF3ZXNvbWVNYXJrZXJzLmljb24oCiAgICAgICAgICAgICAgICB7ImV4dHJhQ2xhc3NlcyI6ICJmYS1yb3RhdGUtMCIsICJpY29uIjogImhvbWUiLCAiaWNvbkNvbG9yIjogIndoaXRlIiwgIm1hcmtlckNvbG9yIjogInJlZCIsICJwcmVmaXgiOiAiZ2x5cGhpY29uIn0KICAgICAgICAgICAgKTsKICAgICAgICAgICAgbWFya2VyX2FmNmJkYmI4MGJmYjRlYWY5ZDhmZTNlMWQyMTY4NWQ3LnNldEljb24oaWNvbl9lM2YyMTU4ZmNhZjc0MTI1YTM4ODBlMDE1Yjc5YzY1Zik7CiAgICAgICAgCiAgICAKICAgICAgICAgICAgdmFyIG1hcmtlcl8wZWQ1N2E5MjE5ZGY0MjdkODBhN2M3Y2E2YWYxZGU5NiA9IEwubWFya2VyKAogICAgICAgICAgICAgICAgWzUyLjM2NDA5MzMsIDQuODkxOTQ1N10sCiAgICAgICAgICAgICAgICB7InJhZGl1cyI6IDJ9CiAgICAgICAgICAgICkuYWRkVG8obWFwX2FjNGZmYTZjNDBhZDQ5YTg4YmZiNjUwOGFhZmUzN2UzKTsKICAgICAgICAKICAgIAogICAgICAgICAgICB2YXIgaWNvbl9iMWY2N2EyMjRkZWY0OGNjYThkYTNlNWM2MmVkOTk1ZiA9IEwuQXdlc29tZU1hcmtlcnMuaWNvbigKICAgICAgICAgICAgICAgIHsiZXh0cmFDbGFzc2VzIjogImZhLXJvdGF0ZS0wIiwgImljb24iOiAiaG9tZSIsICJpY29uQ29sb3IiOiAid2hpdGUiLCAibWFya2VyQ29sb3IiOiAicmVkIiwgInByZWZpeCI6ICJnbHlwaGljb24ifQogICAgICAgICAgICApOwogICAgICAgICAgICBtYXJrZXJfMGVkNTdhOTIxOWRmNDI3ZDgwYTdjN2NhNmFmMWRlOTYuc2V0SWNvbihpY29uX2IxZjY3YTIyNGRlZjQ4Y2NhOGRhM2U1YzYyZWQ5OTVmKTsKICAgICAgICAKICAgIAogICAgICAgICAgICB2YXIgbWFya2VyX2U1OWYxZDVjOWI1NzQ1NDdiOTYyZDYyOGM5MmFmZDdiID0gTC5tYXJrZXIoCiAgICAgICAgICAgICAgICBbMzcuNzg3NjgzLCAtMTIyLjQxMDk0M10sCiAgICAgICAgICAgICAgICB7InJhZGl1cyI6IDJ9CiAgICAgICAgICAgICkuYWRkVG8obWFwX2FjNGZmYTZjNDBhZDQ5YTg4YmZiNjUwOGFhZmUzN2UzKTsKICAgICAgICAKICAgIAogICAgICAgICAgICB2YXIgaWNvbl85MjViYzI1ZjVjN2U0YWZmYTY4MWU0YzNkNmEzNmRmMyA9IEwuQXdlc29tZU1hcmtlcnMuaWNvbigKICAgICAgICAgICAgICAgIHsiZXh0cmFDbGFzc2VzIjogImZhLXJvdGF0ZS0wIiwgImljb24iOiAiaG9tZSIsICJpY29uQ29sb3IiOiAid2hpdGUiLCAibWFya2VyQ29sb3IiOiAicmVkIiwgInByZWZpeCI6ICJnbHlwaGljb24ifQogICAgICAgICAgICApOwogICAgICAgICAgICBtYXJrZXJfZTU5ZjFkNWM5YjU3NDU0N2I5NjJkNjI4YzkyYWZkN2Iuc2V0SWNvbihpY29uXzkyNWJjMjVmNWM3ZTRhZmZhNjgxZTRjM2Q2YTM2ZGYzKTsKICAgICAgICAKICAgIAogICAgICAgICAgICB2YXIgbWFya2VyXzY1OWJiNDMyNjY1NjQ3OTBhNDJkODEyMTE1ZGI1NzliID0gTC5tYXJrZXIoCiAgICAgICAgICAgICAgICBbNTEuNTAwMTUyLCAtMC4xMjYyMzZdLAogICAgICAgICAgICAgICAgeyJyYWRpdXMiOiAyfQogICAgICAgICAgICApLmFkZFRvKG1hcF9hYzRmZmE2YzQwYWQ0OWE4OGJmYjY1MDhhYWZlMzdlMyk7CiAgICAgICAgCiAgICAKICAgICAgICAgICAgdmFyIGljb25fMjc1ZmI5YjkzMTRmNDVhYzhiNzk4MTZhOTdjYTIzYjIgPSBMLkF3ZXNvbWVNYXJrZXJzLmljb24oCiAgICAgICAgICAgICAgICB7ImV4dHJhQ2xhc3NlcyI6ICJmYS1yb3RhdGUtMCIsICJpY29uIjogImhvbWUiLCAiaWNvbkNvbG9yIjogIndoaXRlIiwgIm1hcmtlckNvbG9yIjogInJlZCIsICJwcmVmaXgiOiAiZ2x5cGhpY29uIn0KICAgICAgICAgICAgKTsKICAgICAgICAgICAgbWFya2VyXzY1OWJiNDMyNjY1NjQ3OTBhNDJkODEyMTE1ZGI1NzliLnNldEljb24oaWNvbl8yNzVmYjliOTMxNGY0NWFjOGI3OTgxNmE5N2NhMjNiMik7CiAgICAgICAgCiAgICAKICAgICAgICAgICAgdmFyIG1hcmtlcl9hNmEzNzk3MDFmYWI0ZDdhOGEyNDg4OTYyNjIxMTAzYSA9IEwubWFya2VyKAogICAgICAgICAgICAgICAgWzM3LjA5MDI0LCAtOTUuNzEyODkxXSwKICAgICAgICAgICAgICAgIHsicmFkaXVzIjogMn0KICAgICAgICAgICAgKS5hZGRUbyhtYXBfYWM0ZmZhNmM0MGFkNDlhODhiZmI2NTA4YWFmZTM3ZTMpOwogICAgICAgIAogICAgCiAgICAgICAgICAgIHZhciBpY29uX2IzYzcwZDliMmRmNjQ5OGQ5ZTNjMzM5NzUyNjQ3NDQyID0gTC5Bd2Vzb21lTWFya2Vycy5pY29uKAogICAgICAgICAgICAgICAgeyJleHRyYUNsYXNzZXMiOiAiZmEtcm90YXRlLTAiLCAiaWNvbiI6ICJob21lIiwgImljb25Db2xvciI6ICJ3aGl0ZSIsICJtYXJrZXJDb2xvciI6ICJyZWQiLCAicHJlZml4IjogImdseXBoaWNvbiJ9CiAgICAgICAgICAgICk7CiAgICAgICAgICAgIG1hcmtlcl9hNmEzNzk3MDFmYWI0ZDdhOGEyNDg4OTYyNjIxMTAzYS5zZXRJY29uKGljb25fYjNjNzBkOWIyZGY2NDk4ZDllM2MzMzk3NTI2NDc0NDIpOwogICAgICAgIAogICAgCiAgICAgICAgICAgIHZhciBtYXJrZXJfNTRjNmFhOGNlOWIzNDNhNjk4ZDcyYzFhNzE0NGMwOTMgPSBMLm1hcmtlcigKICAgICAgICAgICAgICAgIFs1Mi4zNzM4MTIsIDQuODkwOTUxXSwKICAgICAgICAgICAgICAgIHsicmFkaXVzIjogMn0KICAgICAgICAgICAgKS5hZGRUbyhtYXBfYWM0ZmZhNmM0MGFkNDlhODhiZmI2NTA4YWFmZTM3ZTMpOwogICAgICAgIAogICAgCiAgICAgICAgICAgIHZhciBpY29uX2EzNmQ4OGUzMGQzOTRjZGZiMzUyOTczZDBiYjc4MmE4ID0gTC5Bd2Vzb21lTWFya2Vycy5pY29uKAogICAgICAgICAgICAgICAgeyJleHRyYUNsYXNzZXMiOiAiZmEtcm90YXRlLTAiLCAiaWNvbiI6ICJob21lIiwgImljb25Db2xvciI6ICJ3aGl0ZSIsICJtYXJrZXJDb2xvciI6ICJyZWQiLCAicHJlZml4IjogImdseXBoaWNvbiJ9CiAgICAgICAgICAgICk7CiAgICAgICAgICAgIG1hcmtlcl81NGM2YWE4Y2U5YjM0M2E2OThkNzJjMWE3MTQ0YzA5My5zZXRJY29uKGljb25fYTM2ZDg4ZTMwZDM5NGNkZmIzNTI5NzNkMGJiNzgyYTgpOwogICAgICAgIAogICAgCiAgICAgICAgICAgIHZhciBtYXJrZXJfYWQ2ZmJjN2UxMDMzNGUzNWJjNWQyYmM4ZWYwMWRhMWQgPSBMLm1hcmtlcigKICAgICAgICAgICAgICAgIFs1Mi4zNzM4MTIsIDQuODkwOTUxXSwKICAgICAgICAgICAgICAgIHsicmFkaXVzIjogMn0KICAgICAgICAgICAgKS5hZGRUbyhtYXBfYWM0ZmZhNmM0MGFkNDlhODhiZmI2NTA4YWFmZTM3ZTMpOwogICAgICAgIAogICAgCiAgICAgICAgICAgIHZhciBpY29uXzE1OTYxNGRiNzAxMzQ4NDU5ZTUyNWVmMDNjNGI4ZGQwID0gTC5Bd2Vzb21lTWFya2Vycy5pY29uKAogICAgICAgICAgICAgICAgeyJleHRyYUNsYXNzZXMiOiAiZmEtcm90YXRlLTAiLCAiaWNvbiI6ICJob21lIiwgImljb25Db2xvciI6ICJ3aGl0ZSIsICJtYXJrZXJDb2xvciI6ICJyZWQiLCAicHJlZml4IjogImdseXBoaWNvbiJ9CiAgICAgICAgICAgICk7CiAgICAgICAgICAgIG1hcmtlcl9hZDZmYmM3ZTEwMzM0ZTM1YmM1ZDJiYzhlZjAxZGExZC5zZXRJY29uKGljb25fMTU5NjE0ZGI3MDEzNDg0NTllNTI1ZWYwM2M0YjhkZDApOwogICAgICAgIAogICAgCiAgICAgICAgICAgIHZhciBtYXJrZXJfYWQzYzVlZDcxNTVjNDljNGI0NzliYzUwOGM0NGMxZDEgPSBMLm1hcmtlcigKICAgICAgICAgICAgICAgIFs1Mi4zNjUwMDEsIDQuODkyOTAzXSwKICAgICAgICAgICAgICAgIHsicmFkaXVzIjogMn0KICAgICAgICAgICAgKS5hZGRUbyhtYXBfYWM0ZmZhNmM0MGFkNDlhODhiZmI2NTA4YWFmZTM3ZTMpOwogICAgICAgIAogICAgCiAgICAgICAgICAgIHZhciBpY29uXzk5OGI2MTlmODViMTQyM2VhZjYyZmE5Nzc1N2VkYjFkID0gTC5Bd2Vzb21lTWFya2Vycy5pY29uKAogICAgICAgICAgICAgICAgeyJleHRyYUNsYXNzZXMiOiAiZmEtcm90YXRlLTAiLCAiaWNvbiI6ICJob21lIiwgImljb25Db2xvciI6ICJ3aGl0ZSIsICJtYXJrZXJDb2xvciI6ICJyZWQiLCAicHJlZml4IjogImdseXBoaWNvbiJ9CiAgICAgICAgICAgICk7CiAgICAgICAgICAgIG1hcmtlcl9hZDNjNWVkNzE1NWM0OWM0YjQ3OWJjNTA4YzQ0YzFkMS5zZXRJY29uKGljb25fOTk4YjYxOWY4NWIxNDIzZWFmNjJmYTk3NzU3ZWRiMWQpOwogICAgICAgIAogICAgCiAgICAgICAgICAgIHZhciBtYXJrZXJfZGFlYzQyNGJhYmQwNDNjZTg5NzY3MGIwM2FmN2Y0ZGIgPSBMLm1hcmtlcigKICAgICAgICAgICAgICAgIFs1Mi4zNjUwMzEyLCA0LjkwMjQyOTVdLAogICAgICAgICAgICAgICAgeyJyYWRpdXMiOiAyfQogICAgICAgICAgICApLmFkZFRvKG1hcF9hYzRmZmE2YzQwYWQ0OWE4OGJmYjY1MDhhYWZlMzdlMyk7CiAgICAgICAgCiAgICAKICAgICAgICAgICAgdmFyIGljb25fZGE1ODlmOGY2NTg2NGMxY2JmOWMyODM3NmYxNDc2NmEgPSBMLkF3ZXNvbWVNYXJrZXJzLmljb24oCiAgICAgICAgICAgICAgICB7ImV4dHJhQ2xhc3NlcyI6ICJmYS1yb3RhdGUtMCIsICJpY29uIjogImhvbWUiLCAiaWNvbkNvbG9yIjogIndoaXRlIiwgIm1hcmtlckNvbG9yIjogInJlZCIsICJwcmVmaXgiOiAiZ2x5cGhpY29uIn0KICAgICAgICAgICAgKTsKICAgICAgICAgICAgbWFya2VyX2RhZWM0MjRiYWJkMDQzY2U4OTc2NzBiMDNhZjdmNGRiLnNldEljb24oaWNvbl9kYTU4OWY4ZjY1ODY0YzFjYmY5YzI4Mzc2ZjE0NzY2YSk7CiAgICAgICAgCiAgICAKICAgICAgICAgICAgdmFyIG1hcmtlcl9jYTFjMjM0MjRkZTg0N2FmOTIzZGRlOTgzODQwMGJjNCA9IEwubWFya2VyKAogICAgICAgICAgICAgICAgWzUyLjM2Mzc3NDYsIDQuODk0NjA3MV0sCiAgICAgICAgICAgICAgICB7InJhZGl1cyI6IDJ9CiAgICAgICAgICAgICkuYWRkVG8obWFwX2FjNGZmYTZjNDBhZDQ5YTg4YmZiNjUwOGFhZmUzN2UzKTsKICAgICAgICAKICAgIAogICAgICAgICAgICB2YXIgaWNvbl9iNjEwZTNjNjYwODI0MTdmOWVmNGEwM2VmYmYzZDQwOCA9IEwuQXdlc29tZU1hcmtlcnMuaWNvbigKICAgICAgICAgICAgICAgIHsiZXh0cmFDbGFzc2VzIjogImZhLXJvdGF0ZS0wIiwgImljb24iOiAiaG9tZSIsICJpY29uQ29sb3IiOiAid2hpdGUiLCAibWFya2VyQ29sb3IiOiAicmVkIiwgInByZWZpeCI6ICJnbHlwaGljb24ifQogICAgICAgICAgICApOwogICAgICAgICAgICBtYXJrZXJfY2ExYzIzNDI0ZGU4NDdhZjkyM2RkZTk4Mzg0MDBiYzQuc2V0SWNvbihpY29uX2I2MTBlM2M2NjA4MjQxN2Y5ZWY0YTAzZWZiZjNkNDA4KTsKICAgICAgICAKICAgIAogICAgICAgICAgICB2YXIgbWFya2VyX2Q4NGEzYTJiZDIyNTQ0ZjRiYmY4ZjQwMDM3YTE4ZjcwID0gTC5tYXJrZXIoCiAgICAgICAgICAgICAgICBbNTIuMzc1MTA1OCwgNC44ODUzODg3XSwKICAgICAgICAgICAgICAgIHsicmFkaXVzIjogMn0KICAgICAgICAgICAgKS5hZGRUbyhtYXBfYWM0ZmZhNmM0MGFkNDlhODhiZmI2NTA4YWFmZTM3ZTMpOwogICAgICAgIAogICAgCiAgICAgICAgICAgIHZhciBpY29uXzE0M2I5ZWQ4ZjAyOTQyMzQ4YWJlYTc2ZDdjZTdkMGM0ID0gTC5Bd2Vzb21lTWFya2Vycy5pY29uKAogICAgICAgICAgICAgICAgeyJleHRyYUNsYXNzZXMiOiAiZmEtcm90YXRlLTAiLCAiaWNvbiI6ICJob21lIiwgImljb25Db2xvciI6ICJ3aGl0ZSIsICJtYXJrZXJDb2xvciI6ICJyZWQiLCAicHJlZml4IjogImdseXBoaWNvbiJ9CiAgICAgICAgICAgICk7CiAgICAgICAgICAgIG1hcmtlcl9kODRhM2EyYmQyMjU0NGY0YmJmOGY0MDAzN2ExOGY3MC5zZXRJY29uKGljb25fMTQzYjllZDhmMDI5NDIzNDhhYmVhNzZkN2NlN2QwYzQpOwogICAgICAgIAogICAgCiAgICAgICAgICAgIHZhciBtYXJrZXJfZDU3ZjdhMzY4N2ZmNGI5ZjllNjE4ZWNhYTZmNzYzNzIgPSBMLm1hcmtlcigKICAgICAgICAgICAgICAgIFs1Mi4zNjcwMiwgNC44OTY0NjhdLAogICAgICAgICAgICAgICAgeyJyYWRpdXMiOiAyfQogICAgICAgICAgICApLmFkZFRvKG1hcF9hYzRmZmE2YzQwYWQ0OWE4OGJmYjY1MDhhYWZlMzdlMyk7CiAgICAgICAgCiAgICAKICAgICAgICAgICAgdmFyIGljb25fY2U4Y2M1ZWZiNThkNGJlOTg2N2VjZDM0NTg4NjJmMGMgPSBMLkF3ZXNvbWVNYXJrZXJzLmljb24oCiAgICAgICAgICAgICAgICB7ImV4dHJhQ2xhc3NlcyI6ICJmYS1yb3RhdGUtMCIsICJpY29uIjogImhvbWUiLCAiaWNvbkNvbG9yIjogIndoaXRlIiwgIm1hcmtlckNvbG9yIjogInJlZCIsICJwcmVmaXgiOiAiZ2x5cGhpY29uIn0KICAgICAgICAgICAgKTsKICAgICAgICAgICAgbWFya2VyX2Q1N2Y3YTM2ODdmZjRiOWY5ZTYxOGVjYWE2Zjc2MzcyLnNldEljb24oaWNvbl9jZThjYzVlZmI1OGQ0YmU5ODY3ZWNkMzQ1ODg2MmYwYyk7CiAgICAgICAgCiAgICAKICAgICAgICAgICAgdmFyIG1hcmtlcl83ZmY4NGE4NmExZTA0NDA4ODY2ZjQ2OWYzYzE0MmYxYyA9IEwubWFya2VyKAogICAgICAgICAgICAgICAgWzUyLjM3Njg3NDcsIDQuOTIzMTldLAogICAgICAgICAgICAgICAgeyJyYWRpdXMiOiAyfQogICAgICAgICAgICApLmFkZFRvKG1hcF9hYzRmZmE2YzQwYWQ0OWE4OGJmYjY1MDhhYWZlMzdlMyk7CiAgICAgICAgCiAgICAKICAgICAgICAgICAgdmFyIGljb25fOTJlOGU2YTJkMTQ0NDFlZDg0NTJkYzRmMzgwZWYwNDggPSBMLkF3ZXNvbWVNYXJrZXJzLmljb24oCiAgICAgICAgICAgICAgICB7ImV4dHJhQ2xhc3NlcyI6ICJmYS1yb3RhdGUtMCIsICJpY29uIjogImhvbWUiLCAiaWNvbkNvbG9yIjogIndoaXRlIiwgIm1hcmtlckNvbG9yIjogInJlZCIsICJwcmVmaXgiOiAiZ2x5cGhpY29uIn0KICAgICAgICAgICAgKTsKICAgICAgICAgICAgbWFya2VyXzdmZjg0YTg2YTFlMDQ0MDg4NjZmNDY5ZjNjMTQyZjFjLnNldEljb24oaWNvbl85MmU4ZTZhMmQxNDQ0MWVkODQ1MmRjNGYzODBlZjA0OCk7CiAgICAgICAgCiAgICAKICAgICAgICAgICAgdmFyIG1hcmtlcl83YzkyZGNlM2YzNDA0N2RmODk3Yjg4Nzg3N2U0MWE2NiA9IEwubWFya2VyKAogICAgICAgICAgICAgICAgWzUyLjM3MDMzMSwgNC45MTcyMDNdLAogICAgICAgICAgICAgICAgeyJyYWRpdXMiOiAyfQogICAgICAgICAgICApLmFkZFRvKG1hcF9hYzRmZmE2YzQwYWQ0OWE4OGJmYjY1MDhhYWZlMzdlMyk7CiAgICAgICAgCiAgICAKICAgICAgICAgICAgdmFyIGljb25fNTFjYmUwNmI3OWQwNDAwNDk5NDYyNzdhMjlhNDgyZjUgPSBMLkF3ZXNvbWVNYXJrZXJzLmljb24oCiAgICAgICAgICAgICAgICB7ImV4dHJhQ2xhc3NlcyI6ICJmYS1yb3RhdGUtMCIsICJpY29uIjogImhvbWUiLCAiaWNvbkNvbG9yIjogIndoaXRlIiwgIm1hcmtlckNvbG9yIjogInJlZCIsICJwcmVmaXgiOiAiZ2x5cGhpY29uIn0KICAgICAgICAgICAgKTsKICAgICAgICAgICAgbWFya2VyXzdjOTJkY2UzZjM0MDQ3ZGY4OTdiODg3ODc3ZTQxYTY2LnNldEljb24oaWNvbl81MWNiZTA2Yjc5ZDA0MDA0OTk0NjI3N2EyOWE0ODJmNSk7CiAgICAgICAgCiAgICAKICAgICAgICAgICAgdmFyIG1hcmtlcl9mMTY4MDNlMTEyYTA0OTAwOGQxYTk4MTU3ZGJmMWI3ZCA9IEwubWFya2VyKAogICAgICAgICAgICAgICAgWzUyLjM3Njc5MiwgNC45MjA1ODJdLAogICAgICAgICAgICAgICAgeyJyYWRpdXMiOiAyfQogICAgICAgICAgICApLmFkZFRvKG1hcF9hYzRmZmE2YzQwYWQ0OWE4OGJmYjY1MDhhYWZlMzdlMyk7CiAgICAgICAgCiAgICAKICAgICAgICAgICAgdmFyIGljb25fZTBhNjhhZjJlNDFiNGY3ZDhiNmQzZmI1NGI1Mzk4NjcgPSBMLkF3ZXNvbWVNYXJrZXJzLmljb24oCiAgICAgICAgICAgICAgICB7ImV4dHJhQ2xhc3NlcyI6ICJmYS1yb3RhdGUtMCIsICJpY29uIjogImhvbWUiLCAiaWNvbkNvbG9yIjogIndoaXRlIiwgIm1hcmtlckNvbG9yIjogInJlZCIsICJwcmVmaXgiOiAiZ2x5cGhpY29uIn0KICAgICAgICAgICAgKTsKICAgICAgICAgICAgbWFya2VyX2YxNjgwM2UxMTJhMDQ5MDA4ZDFhOTgxNTdkYmYxYjdkLnNldEljb24oaWNvbl9lMGE2OGFmMmU0MWI0ZjdkOGI2ZDNmYjU0YjUzOTg2Nyk7CiAgICAgICAgCiAgICAKICAgICAgICAgICAgdmFyIG1hcmtlcl9kYWVlNTk3YjM3MDQ0ODZmYjUzMDE2MjJlOGNiMjQzNiA9IEwubWFya2VyKAogICAgICAgICAgICAgICAgWzUyLjM1NDA5OCwgNC44NjM2MDRdLAogICAgICAgICAgICAgICAgeyJyYWRpdXMiOiAyfQogICAgICAgICAgICApLmFkZFRvKG1hcF9hYzRmZmE2YzQwYWQ0OWE4OGJmYjY1MDhhYWZlMzdlMyk7CiAgICAgICAgCiAgICAKICAgICAgICAgICAgdmFyIGljb25fZGZmYmFjYWYwMzczNGVhNGI0NzczZGRhYmZkNGE5NmYgPSBMLkF3ZXNvbWVNYXJrZXJzLmljb24oCiAgICAgICAgICAgICAgICB7ImV4dHJhQ2xhc3NlcyI6ICJmYS1yb3RhdGUtMCIsICJpY29uIjogImhvbWUiLCAiaWNvbkNvbG9yIjogIndoaXRlIiwgIm1hcmtlckNvbG9yIjogInJlZCIsICJwcmVmaXgiOiAiZ2x5cGhpY29uIn0KICAgICAgICAgICAgKTsKICAgICAgICAgICAgbWFya2VyX2RhZWU1OTdiMzcwNDQ4NmZiNTMwMTYyMmU4Y2IyNDM2LnNldEljb24oaWNvbl9kZmZiYWNhZjAzNzM0ZWE0YjQ3NzNkZGFiZmQ0YTk2Zik7CiAgICAgICAgCiAgICAKICAgICAgICAgICAgdmFyIG1hcmtlcl9jMjQzZGI0MzQyY2E0ZTk0YmVkNGI1NDMzYmRkNDQwOSA9IEwubWFya2VyKAogICAgICAgICAgICAgICAgWzUyLjM2NzAzMzksIDQuODk2NDcyM10sCiAgICAgICAgICAgICAgICB7InJhZGl1cyI6IDJ9CiAgICAgICAgICAgICkuYWRkVG8obWFwX2FjNGZmYTZjNDBhZDQ5YTg4YmZiNjUwOGFhZmUzN2UzKTsKICAgICAgICAKICAgIAogICAgICAgICAgICB2YXIgaWNvbl9hNzQ5ZmYyZmFmYjg0YzQ0ODIxZTU0M2Q4YzVjOWFkMCA9IEwuQXdlc29tZU1hcmtlcnMuaWNvbigKICAgICAgICAgICAgICAgIHsiZXh0cmFDbGFzc2VzIjogImZhLXJvdGF0ZS0wIiwgImljb24iOiAiaG9tZSIsICJpY29uQ29sb3IiOiAid2hpdGUiLCAibWFya2VyQ29sb3IiOiAicmVkIiwgInByZWZpeCI6ICJnbHlwaGljb24ifQogICAgICAgICAgICApOwogICAgICAgICAgICBtYXJrZXJfYzI0M2RiNDM0MmNhNGU5NGJlZDRiNTQzM2JkZDQ0MDkuc2V0SWNvbihpY29uX2E3NDlmZjJmYWZiODRjNDQ4MjFlNTQzZDhjNWM5YWQwKTsKICAgICAgICAKICAgIAogICAgICAgICAgICB2YXIgbWFya2VyXzYxZjE4NTNkNTgxOTQzZGU5N2FkMjg2M2U2NTg0ZTc1ID0gTC5tYXJrZXIoCiAgICAgICAgICAgICAgICBbNTIuMzc5MDA3OSwgNC44OTE1MTg5XSwKICAgICAgICAgICAgICAgIHsicmFkaXVzIjogMn0KICAgICAgICAgICAgKS5hZGRUbyhtYXBfYWM0ZmZhNmM0MGFkNDlhODhiZmI2NTA4YWFmZTM3ZTMpOwogICAgICAgIAogICAgCiAgICAgICAgICAgIHZhciBpY29uXzJmMTc0NTBhMTYzNDQwNmQ5ZDYyODFiYWQ3ZmMzNjMxID0gTC5Bd2Vzb21lTWFya2Vycy5pY29uKAogICAgICAgICAgICAgICAgeyJleHRyYUNsYXNzZXMiOiAiZmEtcm90YXRlLTAiLCAiaWNvbiI6ICJob21lIiwgImljb25Db2xvciI6ICJ3aGl0ZSIsICJtYXJrZXJDb2xvciI6ICJyZWQiLCAicHJlZml4IjogImdseXBoaWNvbiJ9CiAgICAgICAgICAgICk7CiAgICAgICAgICAgIG1hcmtlcl82MWYxODUzZDU4MTk0M2RlOTdhZDI4NjNlNjU4NGU3NS5zZXRJY29uKGljb25fMmYxNzQ1MGExNjM0NDA2ZDlkNjI4MWJhZDdmYzM2MzEpOwogICAgICAgIAogICAgCiAgICAgICAgICAgIHZhciBtYXJrZXJfOTBjNzMxZTI4YjQ1NGIxYzg1ZTc5YWE2ZTMzYjc0MmYgPSBMLm1hcmtlcigKICAgICAgICAgICAgICAgIFs1Mi4yOTgwNjE0LCA0Ljk1MjcwOTFdLAogICAgICAgICAgICAgICAgeyJyYWRpdXMiOiAyfQogICAgICAgICAgICApLmFkZFRvKG1hcF9hYzRmZmE2YzQwYWQ0OWE4OGJmYjY1MDhhYWZlMzdlMyk7CiAgICAgICAgCiAgICAKICAgICAgICAgICAgdmFyIGljb25fMTUxYzZmNmRkZGM2NDM3NDkzZGRkNWNmZjQzODBlNDkgPSBMLkF3ZXNvbWVNYXJrZXJzLmljb24oCiAgICAgICAgICAgICAgICB7ImV4dHJhQ2xhc3NlcyI6ICJmYS1yb3RhdGUtMCIsICJpY29uIjogImhvbWUiLCAiaWNvbkNvbG9yIjogIndoaXRlIiwgIm1hcmtlckNvbG9yIjogInJlZCIsICJwcmVmaXgiOiAiZ2x5cGhpY29uIn0KICAgICAgICAgICAgKTsKICAgICAgICAgICAgbWFya2VyXzkwYzczMWUyOGI0NTRiMWM4NWU3OWFhNmUzM2I3NDJmLnNldEljb24oaWNvbl8xNTFjNmY2ZGRkYzY0Mzc0OTNkZGQ1Y2ZmNDM4MGU0OSk7CiAgICAgICAgCiAgICAKICAgICAgICAgICAgdmFyIG1hcmtlcl81MmU1Y2FjYzc4OTQ0NGU3ODM4ODM4ZDU2NDI2ZjFjNCA9IEwubWFya2VyKAogICAgICAgICAgICAgICAgWzUyLjM1NDUyNSwgNC45MTIxMDZdLAogICAgICAgICAgICAgICAgeyJyYWRpdXMiOiAyfQogICAgICAgICAgICApLmFkZFRvKG1hcF9hYzRmZmE2YzQwYWQ0OWE4OGJmYjY1MDhhYWZlMzdlMyk7CiAgICAgICAgCiAgICAKICAgICAgICAgICAgdmFyIGljb25fOTAyYjA3YzJkYmZlNDU4Zjk5MDI2MWI2Y2JiNGJkODUgPSBMLkF3ZXNvbWVNYXJrZXJzLmljb24oCiAgICAgICAgICAgICAgICB7ImV4dHJhQ2xhc3NlcyI6ICJmYS1yb3RhdGUtMCIsICJpY29uIjogImhvbWUiLCAiaWNvbkNvbG9yIjogIndoaXRlIiwgIm1hcmtlckNvbG9yIjogInJlZCIsICJwcmVmaXgiOiAiZ2x5cGhpY29uIn0KICAgICAgICAgICAgKTsKICAgICAgICAgICAgbWFya2VyXzUyZTVjYWNjNzg5NDQ0ZTc4Mzg4MzhkNTY0MjZmMWM0LnNldEljb24oaWNvbl85MDJiMDdjMmRiZmU0NThmOTkwMjYxYjZjYmI0YmQ4NSk7CiAgICAgICAgCiAgICAKICAgICAgICAgICAgdmFyIG1hcmtlcl8zNGE0MjcyMjhmYWM0Yzc2OGY4NTFkMGYzZjQzOGUyMCA9IEwubWFya2VyKAogICAgICAgICAgICAgICAgWzQyLjM5ODkxNiwgLTcxLjI1Mzk5OF0sCiAgICAgICAgICAgICAgICB7InJhZGl1cyI6IDJ9CiAgICAgICAgICAgICkuYWRkVG8obWFwX2FjNGZmYTZjNDBhZDQ5YTg4YmZiNjUwOGFhZmUzN2UzKTsKICAgICAgICAKICAgIAogICAgICAgICAgICB2YXIgaWNvbl9lZTAzMjBiYjc4YTU0YjhkOWYzZTA4MmE3MjRmYTQyYSA9IEwuQXdlc29tZU1hcmtlcnMuaWNvbigKICAgICAgICAgICAgICAgIHsiZXh0cmFDbGFzc2VzIjogImZhLXJvdGF0ZS0wIiwgImljb24iOiAiaG9tZSIsICJpY29uQ29sb3IiOiAid2hpdGUiLCAibWFya2VyQ29sb3IiOiAicmVkIiwgInByZWZpeCI6ICJnbHlwaGljb24ifQogICAgICAgICAgICApOwogICAgICAgICAgICBtYXJrZXJfMzRhNDI3MjI4ZmFjNGM3NjhmODUxZDBmM2Y0MzhlMjAuc2V0SWNvbihpY29uX2VlMDMyMGJiNzhhNTRiOGQ5ZjNlMDgyYTcyNGZhNDJhKTsKICAgICAgICAKICAgIAogICAgICAgICAgICB2YXIgbWFya2VyXzZhZmMzM2Q4YTIwODQzMTBhZDUwNDM5ZmZlYWQ1MTJiID0gTC5tYXJrZXIoCiAgICAgICAgICAgICAgICBbMzcuNTU2MTUyLCAtMTIyLjI4MTQ4NF0sCiAgICAgICAgICAgICAgICB7InJhZGl1cyI6IDJ9CiAgICAgICAgICAgICkuYWRkVG8obWFwX2FjNGZmYTZjNDBhZDQ5YTg4YmZiNjUwOGFhZmUzN2UzKTsKICAgICAgICAKICAgIAogICAgICAgICAgICB2YXIgaWNvbl8yM2YwM2YyYzFkYWM0OGQ5YWY2ZDNkYzBmNjdiMTA2MCA9IEwuQXdlc29tZU1hcmtlcnMuaWNvbigKICAgICAgICAgICAgICAgIHsiZXh0cmFDbGFzc2VzIjogImZhLXJvdGF0ZS0wIiwgImljb24iOiAiaG9tZSIsICJpY29uQ29sb3IiOiAid2hpdGUiLCAibWFya2VyQ29sb3IiOiAicmVkIiwgInByZWZpeCI6ICJnbHlwaGljb24ifQogICAgICAgICAgICApOwogICAgICAgICAgICBtYXJrZXJfNmFmYzMzZDhhMjA4NDMxMGFkNTA0MzlmZmVhZDUxMmIuc2V0SWNvbihpY29uXzIzZjAzZjJjMWRhYzQ4ZDlhZjZkM2RjMGY2N2IxMDYwKTsKICAgICAgICAKICAgIAogICAgICAgICAgICB2YXIgbWFya2VyXzI0NjU0ZmVkZGI0YTRiZWZiMTUwNjEzMjMzYTlhYzY0ID0gTC5tYXJrZXIoCiAgICAgICAgICAgICAgICBbNTMuNTI0NDE5LCAtMi4yNTg3MTRdLAogICAgICAgICAgICAgICAgeyJyYWRpdXMiOiAyfQogICAgICAgICAgICApLmFkZFRvKG1hcF9hYzRmZmE2YzQwYWQ0OWE4OGJmYjY1MDhhYWZlMzdlMyk7CiAgICAgICAgCiAgICAKICAgICAgICAgICAgdmFyIGljb25fNjM3ZDZiZDhjYjE4NGRmZTk5MWUyNjEzMzFiNDVjNjAgPSBMLkF3ZXNvbWVNYXJrZXJzLmljb24oCiAgICAgICAgICAgICAgICB7ImV4dHJhQ2xhc3NlcyI6ICJmYS1yb3RhdGUtMCIsICJpY29uIjogImhvbWUiLCAiaWNvbkNvbG9yIjogIndoaXRlIiwgIm1hcmtlckNvbG9yIjogInJlZCIsICJwcmVmaXgiOiAiZ2x5cGhpY29uIn0KICAgICAgICAgICAgKTsKICAgICAgICAgICAgbWFya2VyXzI0NjU0ZmVkZGI0YTRiZWZiMTUwNjEzMjMzYTlhYzY0LnNldEljb24oaWNvbl82MzdkNmJkOGNiMTg0ZGZlOTkxZTI2MTMzMWI0NWM2MCk7CiAgICAgICAgCiAgICAKICAgICAgICAgICAgdmFyIG1hcmtlcl8yMzVhYmRkNmFlOGE0NWVlOWUyNmVhODc0YjZjNTRhMiA9IEwubWFya2VyKAogICAgICAgICAgICAgICAgWzUyLjM0MDYwOSwgNC44NzAzMTJdLAogICAgICAgICAgICAgICAgeyJyYWRpdXMiOiAyfQogICAgICAgICAgICApLmFkZFRvKG1hcF9hYzRmZmE2YzQwYWQ0OWE4OGJmYjY1MDhhYWZlMzdlMyk7CiAgICAgICAgCiAgICAKICAgICAgICAgICAgdmFyIGljb25fYWJlZGZhZjkwMjc0NDI4NWEzODZkOWI3OTU5NDJjMTQgPSBMLkF3ZXNvbWVNYXJrZXJzLmljb24oCiAgICAgICAgICAgICAgICB7ImV4dHJhQ2xhc3NlcyI6ICJmYS1yb3RhdGUtMCIsICJpY29uIjogImhvbWUiLCAiaWNvbkNvbG9yIjogIndoaXRlIiwgIm1hcmtlckNvbG9yIjogInJlZCIsICJwcmVmaXgiOiAiZ2x5cGhpY29uIn0KICAgICAgICAgICAgKTsKICAgICAgICAgICAgbWFya2VyXzIzNWFiZGQ2YWU4YTQ1ZWU5ZTI2ZWE4NzRiNmM1NGEyLnNldEljb24oaWNvbl9hYmVkZmFmOTAyNzQ0Mjg1YTM4NmQ5Yjc5NTk0MmMxNCk7CiAgICAgICAgCiAgICAKICAgICAgICAgICAgdmFyIG1hcmtlcl9hOTJhYjMzY2FjOWI0NzQ5YWMxODIzNjU2Njg3MTJiNSA9IEwubWFya2VyKAogICAgICAgICAgICAgICAgWzUyLjM2NDQ3NDMsIDQuODkyNjUyOV0sCiAgICAgICAgICAgICAgICB7InJhZGl1cyI6IDJ9CiAgICAgICAgICAgICkuYWRkVG8obWFwX2FjNGZmYTZjNDBhZDQ5YTg4YmZiNjUwOGFhZmUzN2UzKTsKICAgICAgICAKICAgIAogICAgICAgICAgICB2YXIgaWNvbl85ZmExOWExYWQyZTM0NWQ5YmQ4OWI5MDE0OTk4OGUxMyA9IEwuQXdlc29tZU1hcmtlcnMuaWNvbigKICAgICAgICAgICAgICAgIHsiZXh0cmFDbGFzc2VzIjogImZhLXJvdGF0ZS0wIiwgImljb24iOiAiaG9tZSIsICJpY29uQ29sb3IiOiAid2hpdGUiLCAibWFya2VyQ29sb3IiOiAicmVkIiwgInByZWZpeCI6ICJnbHlwaGljb24ifQogICAgICAgICAgICApOwogICAgICAgICAgICBtYXJrZXJfYTkyYWIzM2NhYzliNDc0OWFjMTgyMzY1NjY4NzEyYjUuc2V0SWNvbihpY29uXzlmYTE5YTFhZDJlMzQ1ZDliZDg5YjkwMTQ5OTg4ZTEzKTsKICAgICAgICAKICAgIAogICAgICAgICAgICB2YXIgbWFya2VyX2UzYjg0NGUwY2M4NzQ3NzE5MjEwY2U3ZTkxOGFlNTg1ID0gTC5tYXJrZXIoCiAgICAgICAgICAgICAgICBbNTIuMzUyMjAxLCA0Ljg5MDMxNF0sCiAgICAgICAgICAgICAgICB7InJhZGl1cyI6IDJ9CiAgICAgICAgICAgICkuYWRkVG8obWFwX2FjNGZmYTZjNDBhZDQ5YTg4YmZiNjUwOGFhZmUzN2UzKTsKICAgICAgICAKICAgIAogICAgICAgICAgICB2YXIgaWNvbl8zY2M1NzY3YTk1YTY0ZWExYTk3MWQ3ZjkxOTQ0ODRiOSA9IEwuQXdlc29tZU1hcmtlcnMuaWNvbigKICAgICAgICAgICAgICAgIHsiZXh0cmFDbGFzc2VzIjogImZhLXJvdGF0ZS0wIiwgImljb24iOiAiaG9tZSIsICJpY29uQ29sb3IiOiAid2hpdGUiLCAibWFya2VyQ29sb3IiOiAicmVkIiwgInByZWZpeCI6ICJnbHlwaGljb24ifQogICAgICAgICAgICApOwogICAgICAgICAgICBtYXJrZXJfZTNiODQ0ZTBjYzg3NDc3MTkyMTBjZTdlOTE4YWU1ODUuc2V0SWNvbihpY29uXzNjYzU3NjdhOTVhNjRlYTFhOTcxZDdmOTE5NDQ4NGI5KTsKICAgICAgICAKICAgIAogICAgICAgICAgICB2YXIgbWFya2VyXzIxMzgyZmE2YTQwNjRjOGJiNjQyM2JhNGIxYThjMTMzID0gTC5tYXJrZXIoCiAgICAgICAgICAgICAgICBbNTIuMzYxNDc3LCA0Ljg5MTU5Ml0sCiAgICAgICAgICAgICAgICB7InJhZGl1cyI6IDJ9CiAgICAgICAgICAgICkuYWRkVG8obWFwX2FjNGZmYTZjNDBhZDQ5YTg4YmZiNjUwOGFhZmUzN2UzKTsKICAgICAgICAKICAgIAogICAgICAgICAgICB2YXIgaWNvbl9lNjEyZDdiNTE2NWM0MjJlYjk0ZGUxNDY2YjcyODczMCA9IEwuQXdlc29tZU1hcmtlcnMuaWNvbigKICAgICAgICAgICAgICAgIHsiZXh0cmFDbGFzc2VzIjogImZhLXJvdGF0ZS0wIiwgImljb24iOiAiaG9tZSIsICJpY29uQ29sb3IiOiAid2hpdGUiLCAibWFya2VyQ29sb3IiOiAicmVkIiwgInByZWZpeCI6ICJnbHlwaGljb24ifQogICAgICAgICAgICApOwogICAgICAgICAgICBtYXJrZXJfMjEzODJmYTZhNDA2NGM4YmI2NDIzYmE0YjFhOGMxMzMuc2V0SWNvbihpY29uX2U2MTJkN2I1MTY1YzQyMmViOTRkZTE0NjZiNzI4NzMwKTsKICAgICAgICAKICAgIAogICAgICAgICAgICB2YXIgbWFya2VyXzA2OTRmZGIxYzBkYzQ0MTg4MGQ5YzM1YThiNDdmMjlhID0gTC5tYXJrZXIoCiAgICAgICAgICAgICAgICBbNTIuMzY0NDc0MywgNC44OTI2NTI5XSwKICAgICAgICAgICAgICAgIHsicmFkaXVzIjogMn0KICAgICAgICAgICAgKS5hZGRUbyhtYXBfYWM0ZmZhNmM0MGFkNDlhODhiZmI2NTA4YWFmZTM3ZTMpOwogICAgICAgIAogICAgCiAgICAgICAgICAgIHZhciBpY29uXzUzNTk0OTkyZWY3MjRlZmJhOWNjN2RmY2QzZTg4M2I0ID0gTC5Bd2Vzb21lTWFya2Vycy5pY29uKAogICAgICAgICAgICAgICAgeyJleHRyYUNsYXNzZXMiOiAiZmEtcm90YXRlLTAiLCAiaWNvbiI6ICJob21lIiwgImljb25Db2xvciI6ICJ3aGl0ZSIsICJtYXJrZXJDb2xvciI6ICJyZWQiLCAicHJlZml4IjogImdseXBoaWNvbiJ9CiAgICAgICAgICAgICk7CiAgICAgICAgICAgIG1hcmtlcl8wNjk0ZmRiMWMwZGM0NDE4ODBkOWMzNWE4YjQ3ZjI5YS5zZXRJY29uKGljb25fNTM1OTQ5OTJlZjcyNGVmYmE5Y2M3ZGZjZDNlODgzYjQpOwogICAgICAgIAogICAgCiAgICAgICAgICAgIHZhciBtYXJrZXJfMWU4MTNjOWEwMjNlNGRmYmEzODkwMjY2NjczOTdhNzYgPSBMLm1hcmtlcigKICAgICAgICAgICAgICAgIFs1Mi4zNTIyMDEsIDQuODkwMzE0XSwKICAgICAgICAgICAgICAgIHsicmFkaXVzIjogMn0KICAgICAgICAgICAgKS5hZGRUbyhtYXBfYWM0ZmZhNmM0MGFkNDlhODhiZmI2NTA4YWFmZTM3ZTMpOwogICAgICAgIAogICAgCiAgICAgICAgICAgIHZhciBpY29uX2UxNThjYzdhOTAxMzQ1MmNiNzRiODJjYzA0YmNlYmJlID0gTC5Bd2Vzb21lTWFya2Vycy5pY29uKAogICAgICAgICAgICAgICAgeyJleHRyYUNsYXNzZXMiOiAiZmEtcm90YXRlLTAiLCAiaWNvbiI6ICJob21lIiwgImljb25Db2xvciI6ICJ3aGl0ZSIsICJtYXJrZXJDb2xvciI6ICJyZWQiLCAicHJlZml4IjogImdseXBoaWNvbiJ9CiAgICAgICAgICAgICk7CiAgICAgICAgICAgIG1hcmtlcl8xZTgxM2M5YTAyM2U0ZGZiYTM4OTAyNjY2NzM5N2E3Ni5zZXRJY29uKGljb25fZTE1OGNjN2E5MDEzNDUyY2I3NGI4MmNjMDRiY2ViYmUpOwogICAgICAgIAogICAgCiAgICAgICAgICAgIHZhciBtYXJrZXJfYjIxNzlmZGEzOTMwNDNmYzlmOTJkNzNjMTNlNGIxZDYgPSBMLm1hcmtlcigKICAgICAgICAgICAgICAgIFs1Mi4zNjE0NzcsIDQuODkxNTkyXSwKICAgICAgICAgICAgICAgIHsicmFkaXVzIjogMn0KICAgICAgICAgICAgKS5hZGRUbyhtYXBfYWM0ZmZhNmM0MGFkNDlhODhiZmI2NTA4YWFmZTM3ZTMpOwogICAgICAgIAogICAgCiAgICAgICAgICAgIHZhciBpY29uXzYwMDFkNDkzYjFlZTRiZTBhNDlhNGFjZWYyYTAxYzRjID0gTC5Bd2Vzb21lTWFya2Vycy5pY29uKAogICAgICAgICAgICAgICAgeyJleHRyYUNsYXNzZXMiOiAiZmEtcm90YXRlLTAiLCAiaWNvbiI6ICJob21lIiwgImljb25Db2xvciI6ICJ3aGl0ZSIsICJtYXJrZXJDb2xvciI6ICJyZWQiLCAicHJlZml4IjogImdseXBoaWNvbiJ9CiAgICAgICAgICAgICk7CiAgICAgICAgICAgIG1hcmtlcl9iMjE3OWZkYTM5MzA0M2ZjOWY5MmQ3M2MxM2U0YjFkNi5zZXRJY29uKGljb25fNjAwMWQ0OTNiMWVlNGJlMGE0OWE0YWNlZjJhMDFjNGMpOwogICAgICAgIAogICAgCiAgICAgICAgICAgIHZhciBtYXJrZXJfMmY4NGM2MjJiYTc1NGQ0N2EyNGJmN2NkODE0NTQxNzUgPSBMLm1hcmtlcigKICAgICAgICAgICAgICAgIFs1Mi4zNDkwNDI2LCA0LjkxNzU3NjRdLAogICAgICAgICAgICAgICAgeyJyYWRpdXMiOiAyfQogICAgICAgICAgICApLmFkZFRvKG1hcF9hYzRmZmE2YzQwYWQ0OWE4OGJmYjY1MDhhYWZlMzdlMyk7CiAgICAgICAgCiAgICAKICAgICAgICAgICAgdmFyIGljb25fNjNiZjZkNjU2OWM1NGRhZmJjODdjMjg3MTY5MmI3MDQgPSBMLkF3ZXNvbWVNYXJrZXJzLmljb24oCiAgICAgICAgICAgICAgICB7ImV4dHJhQ2xhc3NlcyI6ICJmYS1yb3RhdGUtMCIsICJpY29uIjogImhvbWUiLCAiaWNvbkNvbG9yIjogIndoaXRlIiwgIm1hcmtlckNvbG9yIjogInJlZCIsICJwcmVmaXgiOiAiZ2x5cGhpY29uIn0KICAgICAgICAgICAgKTsKICAgICAgICAgICAgbWFya2VyXzJmODRjNjIyYmE3NTRkNDdhMjRiZjdjZDgxNDU0MTc1LnNldEljb24oaWNvbl82M2JmNmQ2NTY5YzU0ZGFmYmM4N2MyODcxNjkyYjcwNCk7CiAgICAgICAgCiAgICAKICAgICAgICAgICAgdmFyIG1hcmtlcl9lMzBjZDljYjM5ZDI0YTFjYWRiN2E0NDcxY2YwYzcxYyA9IEwubWFya2VyKAogICAgICAgICAgICAgICAgWzUyLjM1NTEwNCwgNC44MzkwMzNdLAogICAgICAgICAgICAgICAgeyJyYWRpdXMiOiAyfQogICAgICAgICAgICApLmFkZFRvKG1hcF9hYzRmZmE2YzQwYWQ0OWE4OGJmYjY1MDhhYWZlMzdlMyk7CiAgICAgICAgCiAgICAKICAgICAgICAgICAgdmFyIGljb25fYTgwOTc3MTY0NjE3NGRkZTk0MzRmOTI4MGM1Nzk5M2YgPSBMLkF3ZXNvbWVNYXJrZXJzLmljb24oCiAgICAgICAgICAgICAgICB7ImV4dHJhQ2xhc3NlcyI6ICJmYS1yb3RhdGUtMCIsICJpY29uIjogImhvbWUiLCAiaWNvbkNvbG9yIjogIndoaXRlIiwgIm1hcmtlckNvbG9yIjogInJlZCIsICJwcmVmaXgiOiAiZ2x5cGhpY29uIn0KICAgICAgICAgICAgKTsKICAgICAgICAgICAgbWFya2VyX2UzMGNkOWNiMzlkMjRhMWNhZGI3YTQ0NzFjZjBjNzFjLnNldEljb24oaWNvbl9hODA5NzcxNjQ2MTc0ZGRlOTQzNGY5MjgwYzU3OTkzZik7CiAgICAgICAgCiAgICAKICAgICAgICAgICAgdmFyIG1hcmtlcl9kZmE2ZjU4Mzc2M2M0NjFjYjU1OGFiZTA0MTdhNGJhMyA9IEwubWFya2VyKAogICAgICAgICAgICAgICAgWzUyLjMzNjExNywgNC44ODc2NDFdLAogICAgICAgICAgICAgICAgeyJyYWRpdXMiOiAyfQogICAgICAgICAgICApLmFkZFRvKG1hcF9hYzRmZmE2YzQwYWQ0OWE4OGJmYjY1MDhhYWZlMzdlMyk7CiAgICAgICAgCiAgICAKICAgICAgICAgICAgdmFyIGljb25fYTRkNzJlNmYwMGFkNDM1MWEzYzM4N2FiMGI0NDg3MzcgPSBMLkF3ZXNvbWVNYXJrZXJzLmljb24oCiAgICAgICAgICAgICAgICB7ImV4dHJhQ2xhc3NlcyI6ICJmYS1yb3RhdGUtMCIsICJpY29uIjogImhvbWUiLCAiaWNvbkNvbG9yIjogIndoaXRlIiwgIm1hcmtlckNvbG9yIjogInJlZCIsICJwcmVmaXgiOiAiZ2x5cGhpY29uIn0KICAgICAgICAgICAgKTsKICAgICAgICAgICAgbWFya2VyX2RmYTZmNTgzNzYzYzQ2MWNiNTU4YWJlMDQxN2E0YmEzLnNldEljb24oaWNvbl9hNGQ3MmU2ZjAwYWQ0MzUxYTNjMzg3YWIwYjQ0ODczNyk7CiAgICAgICAgCiAgICAKICAgICAgICAgICAgdmFyIG1hcmtlcl9mOWY5YWEzYTUzMmU0OTRiOTU3NDA1OTgxNWE3YTVhZiA9IEwubWFya2VyKAogICAgICAgICAgICAgICAgWzQyLjQ4NjUzNSwgLTcxLjExNTQxM10sCiAgICAgICAgICAgICAgICB7InJhZGl1cyI6IDJ9CiAgICAgICAgICAgICkuYWRkVG8obWFwX2FjNGZmYTZjNDBhZDQ5YTg4YmZiNjUwOGFhZmUzN2UzKTsKICAgICAgICAKICAgIAogICAgICAgICAgICB2YXIgaWNvbl80YWJmM2FmODZmYzE0NmFlODBjZjEwNzUwMTlkNTIyOSA9IEwuQXdlc29tZU1hcmtlcnMuaWNvbigKICAgICAgICAgICAgICAgIHsiZXh0cmFDbGFzc2VzIjogImZhLXJvdGF0ZS0wIiwgImljb24iOiAiaG9tZSIsICJpY29uQ29sb3IiOiAid2hpdGUiLCAibWFya2VyQ29sb3IiOiAicmVkIiwgInByZWZpeCI6ICJnbHlwaGljb24ifQogICAgICAgICAgICApOwogICAgICAgICAgICBtYXJrZXJfZjlmOWFhM2E1MzJlNDk0Yjk1NzQwNTk4MTVhN2E1YWYuc2V0SWNvbihpY29uXzRhYmYzYWY4NmZjMTQ2YWU4MGNmMTA3NTAxOWQ1MjI5KTsKICAgICAgICAKICAgIAogICAgICAgICAgICB2YXIgbWFya2VyX2RhNTU4M2M5ODQ3OTQxMzdhNzZlN2Y0YWM3NmZjZTc2ID0gTC5tYXJrZXIoCiAgICAgICAgICAgICAgICBbNTIuMzcxMDA4OSwgNC45Mjc3NjUzXSwKICAgICAgICAgICAgICAgIHsicmFkaXVzIjogMn0KICAgICAgICAgICAgKS5hZGRUbyhtYXBfYWM0ZmZhNmM0MGFkNDlhODhiZmI2NTA4YWFmZTM3ZTMpOwogICAgICAgIAogICAgCiAgICAgICAgICAgIHZhciBpY29uXzRhYWU4MTk5NDVkYzRjMTE4NGZmZTU4OGVmOWZjNzA5ID0gTC5Bd2Vzb21lTWFya2Vycy5pY29uKAogICAgICAgICAgICAgICAgeyJleHRyYUNsYXNzZXMiOiAiZmEtcm90YXRlLTAiLCAiaWNvbiI6ICJob21lIiwgImljb25Db2xvciI6ICJ3aGl0ZSIsICJtYXJrZXJDb2xvciI6ICJyZWQiLCAicHJlZml4IjogImdseXBoaWNvbiJ9CiAgICAgICAgICAgICk7CiAgICAgICAgICAgIG1hcmtlcl9kYTU1ODNjOTg0Nzk0MTM3YTc2ZTdmNGFjNzZmY2U3Ni5zZXRJY29uKGljb25fNGFhZTgxOTk0NWRjNGMxMTg0ZmZlNTg4ZWY5ZmM3MDkpOwogICAgICAgIAogICAgCiAgICAgICAgICAgIHZhciBtYXJrZXJfZjg2N2JhMzU5OWUxNDJjMjhlMDhkZWYzYTc0MzI3YjIgPSBMLm1hcmtlcigKICAgICAgICAgICAgICAgIFs1Mi4zNDI5MzgsIDQuODQxOTA4M10sCiAgICAgICAgICAgICAgICB7InJhZGl1cyI6IDJ9CiAgICAgICAgICAgICkuYWRkVG8obWFwX2FjNGZmYTZjNDBhZDQ5YTg4YmZiNjUwOGFhZmUzN2UzKTsKICAgICAgICAKICAgIAogICAgICAgICAgICB2YXIgaWNvbl9jNGIwMjExYTUxNzc0ZjNjYjI0MWFkYjRmYjBkZDdiNyA9IEwuQXdlc29tZU1hcmtlcnMuaWNvbigKICAgICAgICAgICAgICAgIHsiZXh0cmFDbGFzc2VzIjogImZhLXJvdGF0ZS0wIiwgImljb24iOiAiaG9tZSIsICJpY29uQ29sb3IiOiAid2hpdGUiLCAibWFya2VyQ29sb3IiOiAicmVkIiwgInByZWZpeCI6ICJnbHlwaGljb24ifQogICAgICAgICAgICApOwogICAgICAgICAgICBtYXJrZXJfZjg2N2JhMzU5OWUxNDJjMjhlMDhkZWYzYTc0MzI3YjIuc2V0SWNvbihpY29uX2M0YjAyMTFhNTE3NzRmM2NiMjQxYWRiNGZiMGRkN2I3KTsKICAgICAgICAKICAgIAogICAgICAgICAgICB2YXIgbWFya2VyX2Q2ODUyZDAwZDRmNTRiNTlhNWJjMGUyMjQ3MTAwNGYzID0gTC5tYXJrZXIoCiAgICAgICAgICAgICAgICBbNTIuMzU0MjMxMiwgNC44NzQ1NzY2XSwKICAgICAgICAgICAgICAgIHsicmFkaXVzIjogMn0KICAgICAgICAgICAgKS5hZGRUbyhtYXBfYWM0ZmZhNmM0MGFkNDlhODhiZmI2NTA4YWFmZTM3ZTMpOwogICAgICAgIAogICAgCiAgICAgICAgICAgIHZhciBpY29uXzdlMjliNjdjODMwOTQwNGRiNDcwZmU3NmYzYmM5NGFiID0gTC5Bd2Vzb21lTWFya2Vycy5pY29uKAogICAgICAgICAgICAgICAgeyJleHRyYUNsYXNzZXMiOiAiZmEtcm90YXRlLTAiLCAiaWNvbiI6ICJob21lIiwgImljb25Db2xvciI6ICJ3aGl0ZSIsICJtYXJrZXJDb2xvciI6ICJyZWQiLCAicHJlZml4IjogImdseXBoaWNvbiJ9CiAgICAgICAgICAgICk7CiAgICAgICAgICAgIG1hcmtlcl9kNjg1MmQwMGQ0ZjU0YjU5YTViYzBlMjI0NzEwMDRmMy5zZXRJY29uKGljb25fN2UyOWI2N2M4MzA5NDA0ZGI0NzBmZTc2ZjNiYzk0YWIpOwogICAgICAgIAogICAgCiAgICAgICAgICAgIHZhciBtYXJrZXJfMDYyN2EyOTIwMWQ3NGNhYTkwNGM0N2I5Mjk0YjkyODYgPSBMLm1hcmtlcigKICAgICAgICAgICAgICAgIFs0MC43MTQzNTI4LCAtNzQuMDA1OTczMV0sCiAgICAgICAgICAgICAgICB7InJhZGl1cyI6IDJ9CiAgICAgICAgICAgICkuYWRkVG8obWFwX2FjNGZmYTZjNDBhZDQ5YTg4YmZiNjUwOGFhZmUzN2UzKTsKICAgICAgICAKICAgIAogICAgICAgICAgICB2YXIgaWNvbl9lZmIxNzRiNmU3NDM0YjEyOTlmOGYwZTlhYWE5YjM2MCA9IEwuQXdlc29tZU1hcmtlcnMuaWNvbigKICAgICAgICAgICAgICAgIHsiZXh0cmFDbGFzc2VzIjogImZhLXJvdGF0ZS0wIiwgImljb24iOiAiaG9tZSIsICJpY29uQ29sb3IiOiAid2hpdGUiLCAibWFya2VyQ29sb3IiOiAicmVkIiwgInByZWZpeCI6ICJnbHlwaGljb24ifQogICAgICAgICAgICApOwogICAgICAgICAgICBtYXJrZXJfMDYyN2EyOTIwMWQ3NGNhYTkwNGM0N2I5Mjk0YjkyODYuc2V0SWNvbihpY29uX2VmYjE3NGI2ZTc0MzRiMTI5OWY4ZjBlOWFhYTliMzYwKTsKICAgICAgICAKICAgIAogICAgICAgICAgICB2YXIgbWFya2VyXzk1MjQwYzk3MjNlYjQwYjNiNzhhMTYwMGQxYWI4NTI2ID0gTC5tYXJrZXIoCiAgICAgICAgICAgICAgICBbNTIuMzcxMDE3OSwgNC45Mjc3Nzk5XSwKICAgICAgICAgICAgICAgIHsicmFkaXVzIjogMn0KICAgICAgICAgICAgKS5hZGRUbyhtYXBfYWM0ZmZhNmM0MGFkNDlhODhiZmI2NTA4YWFmZTM3ZTMpOwogICAgICAgIAogICAgCiAgICAgICAgICAgIHZhciBpY29uX2VjY2MyMTYxZTIxMzQzZDc4MDhiNzczNDNkNDAwM2YzID0gTC5Bd2Vzb21lTWFya2Vycy5pY29uKAogICAgICAgICAgICAgICAgeyJleHRyYUNsYXNzZXMiOiAiZmEtcm90YXRlLTAiLCAiaWNvbiI6ICJob21lIiwgImljb25Db2xvciI6ICJ3aGl0ZSIsICJtYXJrZXJDb2xvciI6ICJyZWQiLCAicHJlZml4IjogImdseXBoaWNvbiJ9CiAgICAgICAgICAgICk7CiAgICAgICAgICAgIG1hcmtlcl85NTI0MGM5NzIzZWI0MGIzYjc4YTE2MDBkMWFiODUyNi5zZXRJY29uKGljb25fZWNjYzIxNjFlMjEzNDNkNzgwOGI3NzM0M2Q0MDAzZjMpOwogICAgICAgIAogICAgCiAgICAgICAgICAgIHZhciBtYXJrZXJfZGQ1MzViMzBlZWRjNGFkOTk4YWM4YWRlYTNjOWQxZjAgPSBMLm1hcmtlcigKICAgICAgICAgICAgICAgIFs1Mi4zNzIyNTU2LCA0Ljg4NjQ4OTddLAogICAgICAgICAgICAgICAgeyJyYWRpdXMiOiAyfQogICAgICAgICAgICApLmFkZFRvKG1hcF9hYzRmZmE2YzQwYWQ0OWE4OGJmYjY1MDhhYWZlMzdlMyk7CiAgICAgICAgCiAgICAKICAgICAgICAgICAgdmFyIGljb25fMjE2YTZmOTBjOWVlNDM4Yjk4ZjczNzgzZGJlN2I2ODQgPSBMLkF3ZXNvbWVNYXJrZXJzLmljb24oCiAgICAgICAgICAgICAgICB7ImV4dHJhQ2xhc3NlcyI6ICJmYS1yb3RhdGUtMCIsICJpY29uIjogImhvbWUiLCAiaWNvbkNvbG9yIjogIndoaXRlIiwgIm1hcmtlckNvbG9yIjogInJlZCIsICJwcmVmaXgiOiAiZ2x5cGhpY29uIn0KICAgICAgICAgICAgKTsKICAgICAgICAgICAgbWFya2VyX2RkNTM1YjMwZWVkYzRhZDk5OGFjOGFkZWEzYzlkMWYwLnNldEljb24oaWNvbl8yMTZhNmY5MGM5ZWU0MzhiOThmNzM3ODNkYmU3YjY4NCk7CiAgICAgICAgCiAgICAKICAgICAgICAgICAgdmFyIG1hcmtlcl9hYTYyMzBhY2I2YjM0NDE1YjUwODBiYWM4YWMwNzhlZiA9IEwubWFya2VyKAogICAgICAgICAgICAgICAgWzUyLjM3MzgwMDcsIDQuODkwOTM0N10sCiAgICAgICAgICAgICAgICB7InJhZGl1cyI6IDJ9CiAgICAgICAgICAgICkuYWRkVG8obWFwX2FjNGZmYTZjNDBhZDQ5YTg4YmZiNjUwOGFhZmUzN2UzKTsKICAgICAgICAKICAgIAogICAgICAgICAgICB2YXIgaWNvbl9kNTIyOTg3MmU3NWI0ODg2OGYyZTM0MDAzNjZjMjllMyA9IEwuQXdlc29tZU1hcmtlcnMuaWNvbigKICAgICAgICAgICAgICAgIHsiZXh0cmFDbGFzc2VzIjogImZhLXJvdGF0ZS0wIiwgImljb24iOiAiaG9tZSIsICJpY29uQ29sb3IiOiAid2hpdGUiLCAibWFya2VyQ29sb3IiOiAicmVkIiwgInByZWZpeCI6ICJnbHlwaGljb24ifQogICAgICAgICAgICApOwogICAgICAgICAgICBtYXJrZXJfYWE2MjMwYWNiNmIzNDQxNWI1MDgwYmFjOGFjMDc4ZWYuc2V0SWNvbihpY29uX2Q1MjI5ODcyZTc1YjQ4ODY4ZjJlMzQwMDM2NmMyOWUzKTsKICAgICAgICAKICAgIAogICAgICAgICAgICB2YXIgbWFya2VyXzZlMTk1ZDUzZmNkZTQxYjBhMTg3MmM3YTU4M2M4YzllID0gTC5tYXJrZXIoCiAgICAgICAgICAgICAgICBbNTIuMzY5Mjk3MSwgNC45MzM5NTk2XSwKICAgICAgICAgICAgICAgIHsicmFkaXVzIjogMn0KICAgICAgICAgICAgKS5hZGRUbyhtYXBfYWM0ZmZhNmM0MGFkNDlhODhiZmI2NTA4YWFmZTM3ZTMpOwogICAgICAgIAogICAgCiAgICAgICAgICAgIHZhciBpY29uX2NmYTNiZWE5YjFmMTQwNjRhY2VkYmM4YmYxOTg5MWI3ID0gTC5Bd2Vzb21lTWFya2Vycy5pY29uKAogICAgICAgICAgICAgICAgeyJleHRyYUNsYXNzZXMiOiAiZmEtcm90YXRlLTAiLCAiaWNvbiI6ICJob21lIiwgImljb25Db2xvciI6ICJ3aGl0ZSIsICJtYXJrZXJDb2xvciI6ICJyZWQiLCAicHJlZml4IjogImdseXBoaWNvbiJ9CiAgICAgICAgICAgICk7CiAgICAgICAgICAgIG1hcmtlcl82ZTE5NWQ1M2ZjZGU0MWIwYTE4NzJjN2E1ODNjOGM5ZS5zZXRJY29uKGljb25fY2ZhM2JlYTliMWYxNDA2NGFjZWRiYzhiZjE5ODkxYjcpOwogICAgICAgIAogICAgCiAgICAgICAgICAgIHZhciBtYXJrZXJfNDk3YzRkODgxZDM5NDZiMTg0ODFjODNiYmNkYjBhMDAgPSBMLm1hcmtlcigKICAgICAgICAgICAgICAgIFs1Mi4zNjQ2MDMxLCA0Ljg5MjY5NjZdLAogICAgICAgICAgICAgICAgeyJyYWRpdXMiOiAyfQogICAgICAgICAgICApLmFkZFRvKG1hcF9hYzRmZmE2YzQwYWQ0OWE4OGJmYjY1MDhhYWZlMzdlMyk7CiAgICAgICAgCiAgICAKICAgICAgICAgICAgdmFyIGljb25fNDU4OWJkY2M3MDgxNDRjN2FkMTZkZDIyNDk2MjI4NGMgPSBMLkF3ZXNvbWVNYXJrZXJzLmljb24oCiAgICAgICAgICAgICAgICB7ImV4dHJhQ2xhc3NlcyI6ICJmYS1yb3RhdGUtMCIsICJpY29uIjogImhvbWUiLCAiaWNvbkNvbG9yIjogIndoaXRlIiwgIm1hcmtlckNvbG9yIjogInJlZCIsICJwcmVmaXgiOiAiZ2x5cGhpY29uIn0KICAgICAgICAgICAgKTsKICAgICAgICAgICAgbWFya2VyXzQ5N2M0ZDg4MWQzOTQ2YjE4NDgxYzgzYmJjZGIwYTAwLnNldEljb24oaWNvbl80NTg5YmRjYzcwODE0NGM3YWQxNmRkMjI0OTYyMjg0Yyk7CiAgICAgICAgCiAgICAKICAgICAgICAgICAgdmFyIG1hcmtlcl9jZjA5NGU0ODlhZjY0YWQ1YjM2NTA2MTMyNmE2ODZlZCA9IEwubWFya2VyKAogICAgICAgICAgICAgICAgWzUyLjM0MzUyMzksIDQuODY2ODU3XSwKICAgICAgICAgICAgICAgIHsicmFkaXVzIjogMn0KICAgICAgICAgICAgKS5hZGRUbyhtYXBfYWM0ZmZhNmM0MGFkNDlhODhiZmI2NTA4YWFmZTM3ZTMpOwogICAgICAgIAogICAgCiAgICAgICAgICAgIHZhciBpY29uXzQ0ZTdhNDEyZjc5ZjQ0NTA4MDBjNzMwZWQwY2FhZWI4ID0gTC5Bd2Vzb21lTWFya2Vycy5pY29uKAogICAgICAgICAgICAgICAgeyJleHRyYUNsYXNzZXMiOiAiZmEtcm90YXRlLTAiLCAiaWNvbiI6ICJob21lIiwgImljb25Db2xvciI6ICJ3aGl0ZSIsICJtYXJrZXJDb2xvciI6ICJyZWQiLCAicHJlZml4IjogImdseXBoaWNvbiJ9CiAgICAgICAgICAgICk7CiAgICAgICAgICAgIG1hcmtlcl9jZjA5NGU0ODlhZjY0YWQ1YjM2NTA2MTMyNmE2ODZlZC5zZXRJY29uKGljb25fNDRlN2E0MTJmNzlmNDQ1MDgwMGM3MzBlZDBjYWFlYjgpOwogICAgICAgIAogICAgCiAgICAgICAgICAgIHZhciBtYXJrZXJfNDQyZmUyMmY0NTU3NDFjZjllYmUwODhlZTg0NTk3YmIgPSBMLm1hcmtlcigKICAgICAgICAgICAgICAgIFs1Mi4yOTg2MDQyLCA0Ljk1NDkyMTFdLAogICAgICAgICAgICAgICAgeyJyYWRpdXMiOiAyfQogICAgICAgICAgICApLmFkZFRvKG1hcF9hYzRmZmE2YzQwYWQ0OWE4OGJmYjY1MDhhYWZlMzdlMyk7CiAgICAgICAgCiAgICAKICAgICAgICAgICAgdmFyIGljb25fZDI2NmM3MjQ0YTFiNDRhYmFjNWMzYmIxM2M4MzM4ODkgPSBMLkF3ZXNvbWVNYXJrZXJzLmljb24oCiAgICAgICAgICAgICAgICB7ImV4dHJhQ2xhc3NlcyI6ICJmYS1yb3RhdGUtMCIsICJpY29uIjogImhvbWUiLCAiaWNvbkNvbG9yIjogIndoaXRlIiwgIm1hcmtlckNvbG9yIjogInJlZCIsICJwcmVmaXgiOiAiZ2x5cGhpY29uIn0KICAgICAgICAgICAgKTsKICAgICAgICAgICAgbWFya2VyXzQ0MmZlMjJmNDU1NzQxY2Y5ZWJlMDg4ZWU4NDU5N2JiLnNldEljb24oaWNvbl9kMjY2YzcyNDRhMWI0NGFiYWM1YzNiYjEzYzgzMzg4OSk7CiAgICAgICAgCiAgICAKICAgICAgICAgICAgdmFyIG1hcmtlcl80ZjUyNGYwZDQ1NmM0NjJmYjcxMjNiZjRmM2JlZGY2NiA9IEwubWFya2VyKAogICAgICAgICAgICAgICAgWzUyLjM3MzM4MTIsIDQuODc2MTA2Nl0sCiAgICAgICAgICAgICAgICB7InJhZGl1cyI6IDJ9CiAgICAgICAgICAgICkuYWRkVG8obWFwX2FjNGZmYTZjNDBhZDQ5YTg4YmZiNjUwOGFhZmUzN2UzKTsKICAgICAgICAKICAgIAogICAgICAgICAgICB2YXIgaWNvbl9hYzI1NzhlNWM5YWE0NGY1YWQ5ZmQyOWFkMWFhNGJkMyA9IEwuQXdlc29tZU1hcmtlcnMuaWNvbigKICAgICAgICAgICAgICAgIHsiZXh0cmFDbGFzc2VzIjogImZhLXJvdGF0ZS0wIiwgImljb24iOiAiaG9tZSIsICJpY29uQ29sb3IiOiAid2hpdGUiLCAibWFya2VyQ29sb3IiOiAicmVkIiwgInByZWZpeCI6ICJnbHlwaGljb24ifQogICAgICAgICAgICApOwogICAgICAgICAgICBtYXJrZXJfNGY1MjRmMGQ0NTZjNDYyZmI3MTIzYmY0ZjNiZWRmNjYuc2V0SWNvbihpY29uX2FjMjU3OGU1YzlhYTQ0ZjVhZDlmZDI5YWQxYWE0YmQzKTsKICAgICAgICAKICAgIAogICAgICAgICAgICB2YXIgbWFya2VyXzc1MDc3ZmFlZDljODQ0YjliMWIwM2Q1ZjAyNzIxOGViID0gTC5tYXJrZXIoCiAgICAgICAgICAgICAgICBbNDguODk0MzExNSwgMi4yODgzMTldLAogICAgICAgICAgICAgICAgeyJyYWRpdXMiOiAyfQogICAgICAgICAgICApLmFkZFRvKG1hcF9hYzRmZmE2YzQwYWQ0OWE4OGJmYjY1MDhhYWZlMzdlMyk7CiAgICAgICAgCiAgICAKICAgICAgICAgICAgdmFyIGljb25fOWIxNTRjNjUwYjBhNGRhYzk5NTNjZmIwNTZkYmIwZDkgPSBMLkF3ZXNvbWVNYXJrZXJzLmljb24oCiAgICAgICAgICAgICAgICB7ImV4dHJhQ2xhc3NlcyI6ICJmYS1yb3RhdGUtMCIsICJpY29uIjogImhvbWUiLCAiaWNvbkNvbG9yIjogIndoaXRlIiwgIm1hcmtlckNvbG9yIjogInJlZCIsICJwcmVmaXgiOiAiZ2x5cGhpY29uIn0KICAgICAgICAgICAgKTsKICAgICAgICAgICAgbWFya2VyXzc1MDc3ZmFlZDljODQ0YjliMWIwM2Q1ZjAyNzIxOGViLnNldEljb24oaWNvbl85YjE1NGM2NTBiMGE0ZGFjOTk1M2NmYjA1NmRiYjBkOSk7CiAgICAgICAgCiAgICAKICAgICAgICAgICAgdmFyIG1hcmtlcl80Y2I3NjE3YzE0ODA0MzljOTdmYThjODQwNjc2ZTcyZiA9IEwubWFya2VyKAogICAgICAgICAgICAgICAgWy0zMy44NjcxMzksIDE1MS4yMDcxMTRdLAogICAgICAgICAgICAgICAgeyJyYWRpdXMiOiAyfQogICAgICAgICAgICApLmFkZFRvKG1hcF9hYzRmZmE2YzQwYWQ0OWE4OGJmYjY1MDhhYWZlMzdlMyk7CiAgICAgICAgCiAgICAKICAgICAgICAgICAgdmFyIGljb25fYTU5MjRlNzEzNmNlNDYxYjg4Njk2Yjk3NjUwN2RmZWYgPSBMLkF3ZXNvbWVNYXJrZXJzLmljb24oCiAgICAgICAgICAgICAgICB7ImV4dHJhQ2xhc3NlcyI6ICJmYS1yb3RhdGUtMCIsICJpY29uIjogImhvbWUiLCAiaWNvbkNvbG9yIjogIndoaXRlIiwgIm1hcmtlckNvbG9yIjogInJlZCIsICJwcmVmaXgiOiAiZ2x5cGhpY29uIn0KICAgICAgICAgICAgKTsKICAgICAgICAgICAgbWFya2VyXzRjYjc2MTdjMTQ4MDQzOWM5N2ZhOGM4NDA2NzZlNzJmLnNldEljb24oaWNvbl9hNTkyNGU3MTM2Y2U0NjFiODg2OTZiOTc2NTA3ZGZlZik7CiAgICAgICAgCiAgICAKICAgICAgICAgICAgdmFyIG1hcmtlcl9mNjE3M2ZlMjM3MGI0ZTJiYWM2ZGMxZDQyMjBhMDFmMSA9IEwubWFya2VyKAogICAgICAgICAgICAgICAgWzQ3LjQ5ODQwNTYsIDE5LjA0MDc1NzhdLAogICAgICAgICAgICAgICAgeyJyYWRpdXMiOiAyfQogICAgICAgICAgICApLmFkZFRvKG1hcF9hYzRmZmE2YzQwYWQ0OWE4OGJmYjY1MDhhYWZlMzdlMyk7CiAgICAgICAgCiAgICAKICAgICAgICAgICAgdmFyIGljb25fZmUyNjg5OGQxMDVkNDg0ZWJhOTRmMDM1YzFhYzA2N2QgPSBMLkF3ZXNvbWVNYXJrZXJzLmljb24oCiAgICAgICAgICAgICAgICB7ImV4dHJhQ2xhc3NlcyI6ICJmYS1yb3RhdGUtMCIsICJpY29uIjogImhvbWUiLCAiaWNvbkNvbG9yIjogIndoaXRlIiwgIm1hcmtlckNvbG9yIjogInJlZCIsICJwcmVmaXgiOiAiZ2x5cGhpY29uIn0KICAgICAgICAgICAgKTsKICAgICAgICAgICAgbWFya2VyX2Y2MTczZmUyMzcwYjRlMmJhYzZkYzFkNDIyMGEwMWYxLnNldEljb24oaWNvbl9mZTI2ODk4ZDEwNWQ0ODRlYmE5NGYwMzVjMWFjMDY3ZCk7CiAgICAgICAgCiAgICAKICAgICAgICAgICAgdmFyIG1hcmtlcl8yNDgwYjZmNjQ0YTQ0MWYyYWY2MmQ2NmU0MTJlNmQ4YiA9IEwubWFya2VyKAogICAgICAgICAgICAgICAgWzQxLjg5NTQ2NTYsIDEyLjQ4MjMyNDNdLAogICAgICAgICAgICAgICAgeyJyYWRpdXMiOiAyfQogICAgICAgICAgICApLmFkZFRvKG1hcF9hYzRmZmE2YzQwYWQ0OWE4OGJmYjY1MDhhYWZlMzdlMyk7CiAgICAgICAgCiAgICAKICAgICAgICAgICAgdmFyIGljb25fMWM1NWIyOGE3YjU0NDgzNWE2YTc1OWIwNWQ3ZjQ5ZDEgPSBMLkF3ZXNvbWVNYXJrZXJzLmljb24oCiAgICAgICAgICAgICAgICB7ImV4dHJhQ2xhc3NlcyI6ICJmYS1yb3RhdGUtMCIsICJpY29uIjogImhvbWUiLCAiaWNvbkNvbG9yIjogIndoaXRlIiwgIm1hcmtlckNvbG9yIjogInJlZCIsICJwcmVmaXgiOiAiZ2x5cGhpY29uIn0KICAgICAgICAgICAgKTsKICAgICAgICAgICAgbWFya2VyXzI0ODBiNmY2NDRhNDQxZjJhZjYyZDY2ZTQxMmU2ZDhiLnNldEljb24oaWNvbl8xYzU1YjI4YTdiNTQ0ODM1YTZhNzU5YjA1ZDdmNDlkMSk7CiAgICAgICAgCiAgICAKICAgICAgICAgICAgdmFyIG1hcmtlcl9lYWE4ZTMzZGZlODU0MjIxOWY3OTk3YTQ3NzdhNWViZCA9IEwubWFya2VyKAogICAgICAgICAgICAgICAgWzUyLjM3MzgwMDcsIDQuODkwOTM0N10sCiAgICAgICAgICAgICAgICB7InJhZGl1cyI6IDJ9CiAgICAgICAgICAgICkuYWRkVG8obWFwX2FjNGZmYTZjNDBhZDQ5YTg4YmZiNjUwOGFhZmUzN2UzKTsKICAgICAgICAKICAgIAogICAgICAgICAgICB2YXIgaWNvbl8xM2QyNzI5YjJkNjM0OGM2YTg4OWI4ZTQ1YjJkNThiMSA9IEwuQXdlc29tZU1hcmtlcnMuaWNvbigKICAgICAgICAgICAgICAgIHsiZXh0cmFDbGFzc2VzIjogImZhLXJvdGF0ZS0wIiwgImljb24iOiAiaG9tZSIsICJpY29uQ29sb3IiOiAid2hpdGUiLCAibWFya2VyQ29sb3IiOiAicmVkIiwgInByZWZpeCI6ICJnbHlwaGljb24ifQogICAgICAgICAgICApOwogICAgICAgICAgICBtYXJrZXJfZWFhOGUzM2RmZTg1NDIyMTlmNzk5N2E0Nzc3YTVlYmQuc2V0SWNvbihpY29uXzEzZDI3MjliMmQ2MzQ4YzZhODg5YjhlNDViMmQ1OGIxKTsKICAgICAgICAKICAgIAogICAgICAgICAgICB2YXIgbWFya2VyXzFkZDU3Nzk4MDNjNDQ5ZmRhYzM4N2M3ZGE3NGExOGIxID0gTC5tYXJrZXIoCiAgICAgICAgICAgICAgICBbNDAuNDE2NzQxMywgLTMuNzAzMjQ5OF0sCiAgICAgICAgICAgICAgICB7InJhZGl1cyI6IDJ9CiAgICAgICAgICAgICkuYWRkVG8obWFwX2FjNGZmYTZjNDBhZDQ5YTg4YmZiNjUwOGFhZmUzN2UzKTsKICAgICAgICAKICAgIAogICAgICAgICAgICB2YXIgaWNvbl9lZGQ5MDc0MzQyZjM0OTNmOGFiN2QzNzg1NjkxZWRlYyA9IEwuQXdlc29tZU1hcmtlcnMuaWNvbigKICAgICAgICAgICAgICAgIHsiZXh0cmFDbGFzc2VzIjogImZhLXJvdGF0ZS0wIiwgImljb24iOiAiaG9tZSIsICJpY29uQ29sb3IiOiAid2hpdGUiLCAibWFya2VyQ29sb3IiOiAicmVkIiwgInByZWZpeCI6ICJnbHlwaGljb24ifQogICAgICAgICAgICApOwogICAgICAgICAgICBtYXJrZXJfMWRkNTc3OTgwM2M0NDlmZGFjMzg3YzdkYTc0YTE4YjEuc2V0SWNvbihpY29uX2VkZDkwNzQzNDJmMzQ5M2Y4YWI3ZDM3ODU2OTFlZGVjKTsKICAgICAgICAKICAgIAogICAgICAgICAgICB2YXIgbWFya2VyX2MyNTE0NjU3M2MzMzQ1YzQ5ODRkNjYyM2Y4YjEyYjQ3ID0gTC5tYXJrZXIoCiAgICAgICAgICAgICAgICBbNTkuMzMyNzg4MSwgMTguMDY0NDg4MV0sCiAgICAgICAgICAgICAgICB7InJhZGl1cyI6IDJ9CiAgICAgICAgICAgICkuYWRkVG8obWFwX2FjNGZmYTZjNDBhZDQ5YTg4YmZiNjUwOGFhZmUzN2UzKTsKICAgICAgICAKICAgIAogICAgICAgICAgICB2YXIgaWNvbl9mOTFhMzI3MjMxNGU0OTI3YTZmODkzY2Q2NTlkMzgxNyA9IEwuQXdlc29tZU1hcmtlcnMuaWNvbigKICAgICAgICAgICAgICAgIHsiZXh0cmFDbGFzc2VzIjogImZhLXJvdGF0ZS0wIiwgImljb24iOiAiaG9tZSIsICJpY29uQ29sb3IiOiAid2hpdGUiLCAibWFya2VyQ29sb3IiOiAicmVkIiwgInByZWZpeCI6ICJnbHlwaGljb24ifQogICAgICAgICAgICApOwogICAgICAgICAgICBtYXJrZXJfYzI1MTQ2NTczYzMzNDVjNDk4NGQ2NjIzZjhiMTJiNDcuc2V0SWNvbihpY29uX2Y5MWEzMjcyMzE0ZTQ5MjdhNmY4OTNjZDY1OWQzODE3KTsKICAgICAgICAKICAgIAogICAgICAgICAgICB2YXIgbWFya2VyXzk2NWU0ZjI1ZmM5MjQ5YzZhNDAyMmZlOTk1MzQ5MzU3ID0gTC5tYXJrZXIoCiAgICAgICAgICAgICAgICBbNTEuNTAwMTUyNCwgLTAuMTI2MjM2Ml0sCiAgICAgICAgICAgICAgICB7InJhZGl1cyI6IDJ9CiAgICAgICAgICAgICkuYWRkVG8obWFwX2FjNGZmYTZjNDBhZDQ5YTg4YmZiNjUwOGFhZmUzN2UzKTsKICAgICAgICAKICAgIAogICAgICAgICAgICB2YXIgaWNvbl85NTgxNjJmZTM4NmU0ODllOWYwZDgzMzc5Njg1NzJiMSA9IEwuQXdlc29tZU1hcmtlcnMuaWNvbigKICAgICAgICAgICAgICAgIHsiZXh0cmFDbGFzc2VzIjogImZhLXJvdGF0ZS0wIiwgImljb24iOiAiaG9tZSIsICJpY29uQ29sb3IiOiAid2hpdGUiLCAibWFya2VyQ29sb3IiOiAicmVkIiwgInByZWZpeCI6ICJnbHlwaGljb24ifQogICAgICAgICAgICApOwogICAgICAgICAgICBtYXJrZXJfOTY1ZTRmMjVmYzkyNDljNmE0MDIyZmU5OTUzNDkzNTcuc2V0SWNvbihpY29uXzk1ODE2MmZlMzg2ZTQ4OWU5ZjBkODMzNzk2ODU3MmIxKTsKICAgICAgICAKICAgIAogICAgICAgICAgICB2YXIgbWFya2VyXzBmODU3ZGM4ZWU5ZTRhZTFhNWZkNmNiOWNlNTJhYjY1ID0gTC5tYXJrZXIoCiAgICAgICAgICAgICAgICBbNTIuMzk2NTYwMywgNC44NTE2OTY0XSwKICAgICAgICAgICAgICAgIHsicmFkaXVzIjogMn0KICAgICAgICAgICAgKS5hZGRUbyhtYXBfYWM0ZmZhNmM0MGFkNDlhODhiZmI2NTA4YWFmZTM3ZTMpOwogICAgICAgIAogICAgCiAgICAgICAgICAgIHZhciBpY29uX2U0ODNjYWIzOGM3MTQzMDViM2ViNzI1YzFiZDc1MWFiID0gTC5Bd2Vzb21lTWFya2Vycy5pY29uKAogICAgICAgICAgICAgICAgeyJleHRyYUNsYXNzZXMiOiAiZmEtcm90YXRlLTAiLCAiaWNvbiI6ICJob21lIiwgImljb25Db2xvciI6ICJ3aGl0ZSIsICJtYXJrZXJDb2xvciI6ICJyZWQiLCAicHJlZml4IjogImdseXBoaWNvbiJ9CiAgICAgICAgICAgICk7CiAgICAgICAgICAgIG1hcmtlcl8wZjg1N2RjOGVlOWU0YWUxYTVmZDZjYjljZTUyYWI2NS5zZXRJY29uKGljb25fZTQ4M2NhYjM4YzcxNDMwNWIzZWI3MjVjMWJkNzUxYWIpOwogICAgICAgIAogICAgCiAgICAgICAgICAgIHZhciBtYXJrZXJfYjMzYzgxOTM5MWZlNDUwMzkxYWEwOTZjZjUwNzI0YzkgPSBMLm1hcmtlcigKICAgICAgICAgICAgICAgIFs1Mi4zNzM1NTkyLCA0Ljg4NTI3NDddLAogICAgICAgICAgICAgICAgeyJyYWRpdXMiOiAyfQogICAgICAgICAgICApLmFkZFRvKG1hcF9hYzRmZmE2YzQwYWQ0OWE4OGJmYjY1MDhhYWZlMzdlMyk7CiAgICAgICAgCiAgICAKICAgICAgICAgICAgdmFyIGljb25fZDVjNDhjNTgwZTZlNDhiZTg1YjhkNzEwMDVhMzFjMDEgPSBMLkF3ZXNvbWVNYXJrZXJzLmljb24oCiAgICAgICAgICAgICAgICB7ImV4dHJhQ2xhc3NlcyI6ICJmYS1yb3RhdGUtMCIsICJpY29uIjogImhvbWUiLCAiaWNvbkNvbG9yIjogIndoaXRlIiwgIm1hcmtlckNvbG9yIjogInJlZCIsICJwcmVmaXgiOiAiZ2x5cGhpY29uIn0KICAgICAgICAgICAgKTsKICAgICAgICAgICAgbWFya2VyX2IzM2M4MTkzOTFmZTQ1MDM5MWFhMDk2Y2Y1MDcyNGM5LnNldEljb24oaWNvbl9kNWM0OGM1ODBlNmU0OGJlODViOGQ3MTAwNWEzMWMwMSk7CiAgICAgICAgCiAgICAKICAgICAgICAgICAgdmFyIG1hcmtlcl9hYjA3MTgyNDUzOWQ0M2E5OTg3OTFkMTg1NjRjZjBjMyA9IEwubWFya2VyKAogICAgICAgICAgICAgICAgWzUyLjM2NTc1NzgsIDQuODkyODcyMl0sCiAgICAgICAgICAgICAgICB7InJhZGl1cyI6IDJ9CiAgICAgICAgICAgICkuYWRkVG8obWFwX2FjNGZmYTZjNDBhZDQ5YTg4YmZiNjUwOGFhZmUzN2UzKTsKICAgICAgICAKICAgIAogICAgICAgICAgICB2YXIgaWNvbl8wMTM0ZTg0YTZlZmM0MWFhYmMwMGI3MGU1OTU2ZGNkMSA9IEwuQXdlc29tZU1hcmtlcnMuaWNvbigKICAgICAgICAgICAgICAgIHsiZXh0cmFDbGFzc2VzIjogImZhLXJvdGF0ZS0wIiwgImljb24iOiAiaG9tZSIsICJpY29uQ29sb3IiOiAid2hpdGUiLCAibWFya2VyQ29sb3IiOiAicmVkIiwgInByZWZpeCI6ICJnbHlwaGljb24ifQogICAgICAgICAgICApOwogICAgICAgICAgICBtYXJrZXJfYWIwNzE4MjQ1MzlkNDNhOTk4NzkxZDE4NTY0Y2YwYzMuc2V0SWNvbihpY29uXzAxMzRlODRhNmVmYzQxYWFiYzAwYjcwZTU5NTZkY2QxKTsKICAgICAgICAKICAgIAogICAgICAgICAgICB2YXIgbWFya2VyXzc3NjgwOWEyMTcwNTRmYzE4Mjc5NTFjZGU2NTQ0N2NkID0gTC5tYXJrZXIoCiAgICAgICAgICAgICAgICBbNTIuMzY1NTU3OCwgNC45MzQ1ODI0XSwKICAgICAgICAgICAgICAgIHsicmFkaXVzIjogMn0KICAgICAgICAgICAgKS5hZGRUbyhtYXBfYWM0ZmZhNmM0MGFkNDlhODhiZmI2NTA4YWFmZTM3ZTMpOwogICAgICAgIAogICAgCiAgICAgICAgICAgIHZhciBpY29uXzVmNmE5Mzk4Y2IxYjRjOGI5MjZlNDUzODgxNGYwNzBlID0gTC5Bd2Vzb21lTWFya2Vycy5pY29uKAogICAgICAgICAgICAgICAgeyJleHRyYUNsYXNzZXMiOiAiZmEtcm90YXRlLTAiLCAiaWNvbiI6ICJob21lIiwgImljb25Db2xvciI6ICJ3aGl0ZSIsICJtYXJrZXJDb2xvciI6ICJyZWQiLCAicHJlZml4IjogImdseXBoaWNvbiJ9CiAgICAgICAgICAgICk7CiAgICAgICAgICAgIG1hcmtlcl83NzY4MDlhMjE3MDU0ZmMxODI3OTUxY2RlNjU0NDdjZC5zZXRJY29uKGljb25fNWY2YTkzOThjYjFiNGM4YjkyNmU0NTM4ODE0ZjA3MGUpOwogICAgICAgIAogICAgCiAgICAgICAgICAgIHZhciBtYXJrZXJfMDE2OTRmZTg1ZTA5NDhmM2E4MTUwNWE0YmM2OGE1NWYgPSBMLm1hcmtlcigKICAgICAgICAgICAgICAgIFs1Mi4zNzM4MDA3LCA0Ljg5MDkzNDddLAogICAgICAgICAgICAgICAgeyJyYWRpdXMiOiAyfQogICAgICAgICAgICApLmFkZFRvKG1hcF9hYzRmZmE2YzQwYWQ0OWE4OGJmYjY1MDhhYWZlMzdlMyk7CiAgICAgICAgCiAgICAKICAgICAgICAgICAgdmFyIGljb25fN2MxMGE4ZmMzZGExNGU2Yjg4NjQ4NjIyZDU0NzA3OWIgPSBMLkF3ZXNvbWVNYXJrZXJzLmljb24oCiAgICAgICAgICAgICAgICB7ImV4dHJhQ2xhc3NlcyI6ICJmYS1yb3RhdGUtMCIsICJpY29uIjogImhvbWUiLCAiaWNvbkNvbG9yIjogIndoaXRlIiwgIm1hcmtlckNvbG9yIjogInJlZCIsICJwcmVmaXgiOiAiZ2x5cGhpY29uIn0KICAgICAgICAgICAgKTsKICAgICAgICAgICAgbWFya2VyXzAxNjk0ZmU4NWUwOTQ4ZjNhODE1MDVhNGJjNjhhNTVmLnNldEljb24oaWNvbl83YzEwYThmYzNkYTE0ZTZiODg2NDg2MjJkNTQ3MDc5Yik7CiAgICAgICAgCjwvc2NyaXB0Pg==\" style=\"position:absolute;width:100%;height:100%;left:0;top:0;border:none !important;\" allowfullscreen webkitallowfullscreen mozallowfullscreen></iframe></div></div>"
      ],
      "text/plain": [
       "<folium.folium.Map at 0x115024390>"
      ]
     },
     "execution_count": 21,
     "metadata": {},
     "output_type": "execute_result"
    }
   ],
   "source": [
    "map_city"
   ]
  },
  {
   "cell_type": "markdown",
   "metadata": {},
   "source": []
  }
 ],
 "metadata": {
  "kernelspec": {
   "display_name": "Python 3",
   "language": "python",
   "name": "python3"
  },
  "language_info": {
   "codemirror_mode": {
    "name": "ipython",
    "version": 3
   },
   "file_extension": ".py",
   "mimetype": "text/x-python",
   "name": "python",
   "nbconvert_exporter": "python",
   "pygments_lexer": "ipython3",
   "version": "3.7.4"
  }
 },
 "nbformat": 4,
 "nbformat_minor": 2
}
