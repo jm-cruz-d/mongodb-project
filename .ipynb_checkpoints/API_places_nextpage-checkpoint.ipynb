{
 "cells": [
  {
   "cell_type": "code",
   "execution_count": null,
   "metadata": {},
   "outputs": [],
   "source": [
    "!pip3 install python-google-places"
   ]
  },
  {
   "cell_type": "code",
   "execution_count": null,
   "metadata": {},
   "outputs": [],
   "source": [
    "!pip3 install Unidecode"
   ]
  },
  {
   "cell_type": "code",
   "execution_count": 15,
   "metadata": {},
   "outputs": [
    {
     "data": {
      "text/plain": [
       "True"
      ]
     },
     "execution_count": 15,
     "metadata": {},
     "output_type": "execute_result"
    }
   ],
   "source": [
    "from pymongo import MongoClient\n",
    "from googleplaces import GooglePlaces, types, lang\n",
    "from unidecode import unidecode \n",
    "import googlemaps\n",
    "from datetime import datetime\n",
    "import json\n",
    "import time\n",
    "import requests\n",
    "import os\n",
    "from dotenv import load_dotenv\n",
    "load_dotenv()"
   ]
  },
  {
   "cell_type": "code",
   "execution_count": 16,
   "metadata": {},
   "outputs": [],
   "source": [
    "def searchPlaces(query):\n",
    "    API_key = os.getenv('key')\n",
    "    endpoint_url = \"https://maps.googleapis.com/maps/api/place/textsearch/json\"\n",
    "    places = []\n",
    "    params = {\n",
    "        'query': query,\n",
    "        'location': '52.37021, 4.895168',\n",
    "        'radius': 5000,\n",
    "        'key': API_key\n",
    "    }\n",
    "    res = requests.get(endpoint_url, params = params)\n",
    "    results =  json.loads(res.content)\n",
    "    places.extend(results['results'])\n",
    "    time.sleep(2)\n",
    "    while \"next_page_token\" in results:\n",
    "        params['pagetoken'] = results['next_page_token'],\n",
    "        res = requests.get(endpoint_url, params = params)\n",
    "        results = json.loads(res.content)\n",
    "        places.extend(results['results'])\n",
    "        time.sleep(2)\n",
    "    return places"
   ]
  },
  {
   "cell_type": "code",
   "execution_count": 17,
   "metadata": {},
   "outputs": [],
   "source": [
    "starbucks = searchPlaces('Starbucks')"
   ]
  },
  {
   "cell_type": "code",
   "execution_count": 18,
   "metadata": {},
   "outputs": [
    {
     "data": {
      "text/plain": [
       "{'formatted_address': 'Leidsestraat 101, 1017 NZ Amsterdam, Netherlands',\n",
       " 'geometry': {'location': {'lat': 52.36448240000001, 'lng': 4.8836336},\n",
       "  'viewport': {'northeast': {'lat': 52.36607492989272,\n",
       "    'lng': 4.885273579892721},\n",
       "   'southwest': {'lat': 52.36337527010728, 'lng': 4.882573920107277}}},\n",
       " 'icon': 'https://maps.gstatic.com/mapfiles/place_api/icons/cafe-71.png',\n",
       " 'id': 'dbdc22ef98c9361e5823edf56b4b397516ce501a',\n",
       " 'name': 'STARBUCKS COFFEE Leidsestraat Shop',\n",
       " 'opening_hours': {'open_now': True},\n",
       " 'photos': [{'height': 4032,\n",
       "   'html_attributions': ['<a href=\"https://maps.google.com/maps/contrib/118149578868575755031/photos\">Taylan Özgür ÇELİK</a>'],\n",
       "   'photo_reference': 'CmRaAAAAIKrwn-Br3s7WZMIjekOGEqb-HHiM6s_GkHuJrWgRkrgDbmY20bGJxZ6w4IkRF-_upnGLkbCTeN-ZaEulDoO1DTkQ6VokTzoRuhK4C9IBJ6OUZZtiseqBrJgS4JJzyiKPEhA8mi-OOaSYFoWkX2-giimGGhR2sNF1aDqJU0REkAE6t2sh8iICZg',\n",
       "   'width': 3024}],\n",
       " 'place_id': 'ChIJlVbUV-gJxkcRHHmmM_0RSNI',\n",
       " 'plus_code': {'compound_code': '9V7M+QF Amsterdam, Netherlands',\n",
       "  'global_code': '9F469V7M+QF'},\n",
       " 'price_level': 2,\n",
       " 'rating': 4,\n",
       " 'reference': 'ChIJlVbUV-gJxkcRHHmmM_0RSNI',\n",
       " 'types': ['cafe', 'food', 'point_of_interest', 'store', 'establishment'],\n",
       " 'user_ratings_total': 1064}"
      ]
     },
     "execution_count": 18,
     "metadata": {},
     "output_type": "execute_result"
    }
   ],
   "source": [
    "starbucks[0]"
   ]
  },
  {
   "cell_type": "code",
   "execution_count": 19,
   "metadata": {},
   "outputs": [
    {
     "data": {
      "text/plain": [
       "36"
      ]
     },
     "execution_count": 19,
     "metadata": {},
     "output_type": "execute_result"
    }
   ],
   "source": [
    "len(starbucks)"
   ]
  },
  {
   "cell_type": "code",
   "execution_count": 20,
   "metadata": {},
   "outputs": [],
   "source": [
    "def getLocation(companies):\n",
    "    location =[]\n",
    "    for x in range(len(companies)):\n",
    "        longitude = companies[x]['geometry']['location']['lng']\n",
    "        latitude = companies[x]['geometry']['location']['lat']\n",
    "        name=companies[x]['name']\n",
    "        address=companies[x]['formatted_address']\n",
    "        loc = {\n",
    "            'name': name,\n",
    "            'address': address,\n",
    "            'location':{\n",
    "                'type':'Point',\n",
    "                'coordinates':[longitude, latitude]\n",
    "                       }\n",
    "        }\n",
    "        location.append(loc)\n",
    "    return location"
   ]
  },
  {
   "cell_type": "code",
   "execution_count": 21,
   "metadata": {},
   "outputs": [
    {
     "data": {
      "text/plain": [
       "{'location': {'lat': 52.36448240000001, 'lng': 4.8836336},\n",
       " 'viewport': {'northeast': {'lat': 52.36607492989272,\n",
       "   'lng': 4.885273579892721},\n",
       "  'southwest': {'lat': 52.36337527010728, 'lng': 4.882573920107277}}}"
      ]
     },
     "execution_count": 21,
     "metadata": {},
     "output_type": "execute_result"
    }
   ],
   "source": [
    "starbucks[0]['geometry']"
   ]
  },
  {
   "cell_type": "code",
   "execution_count": 22,
   "metadata": {},
   "outputs": [
    {
     "data": {
      "text/plain": [
       "[{'name': 'STARBUCKS COFFEE Leidsestraat Shop',\n",
       "  'address': 'Leidsestraat 101, 1017 NZ Amsterdam, Netherlands',\n",
       "  'location': {'type': 'Point',\n",
       "   'coordinates': [4.8836336, 52.36448240000001]}},\n",
       " {'name': 'STARBUCKS COFFEE Amsterdam Damrak Shop',\n",
       "  'address': 'Damrak 80-81, 1012 LN Amsterdam, Netherlands',\n",
       "  'location': {'type': 'Point',\n",
       "   'coordinates': [4.8942746, 52.37429770000001]}},\n",
       " {'name': 'Starbucks',\n",
       "  'address': 'Stationsplein 9, 1012 AB Amsterdam, Netherlands',\n",
       "  'location': {'type': 'Point',\n",
       "   'coordinates': [4.900354099999999, 52.37904899999999]}},\n",
       " {'name': 'STARBUCKS The Bank Rembrandtplein',\n",
       "  'address': 'The Bank Rembrandtplein, Utrechtsestraat 9, 1017 CV Amsterdam, Netherlands',\n",
       "  'location': {'type': 'Point', 'coordinates': [4.8977405, 52.3659541]}},\n",
       " {'name': 'STARBUCKS COFFEE Doubletree by Hilton Amsterdam Shop',\n",
       "  'address': 'Ground Floor, Oosterdokskade 4, 1001 RD Amsterdam, Netherlands',\n",
       "  'location': {'type': 'Point',\n",
       "   'coordinates': [4.9043465, 52.37687829999999]}},\n",
       " {'name': 'Starbucks',\n",
       "  'address': 'Orlyplein 103, 1043 DT Amsterdam, Netherlands',\n",
       "  'location': {'type': 'Point', 'coordinates': [4.8375534, 52.3892232]}},\n",
       " {'name': 'Starbucks',\n",
       "  'address': 'Zuidplein 10, 1077 XV Amsterdam, Netherlands',\n",
       "  'location': {'type': 'Point',\n",
       "   'coordinates': [4.8731287, 52.33961009999999]}},\n",
       " {'name': 'STARBUCKS COFFEE Bloemenmarkt Shop',\n",
       "  'address': 'Singel 480, 1017 AW Amsterdam, Netherlands',\n",
       "  'location': {'type': 'Point',\n",
       "   'coordinates': [4.8896652, 52.36699789999999]}},\n",
       " {'name': 'Starbucks',\n",
       "  'address': 'Beethovenstraat 36-38, 1077 JH Amsterdam, Netherlands',\n",
       "  'location': {'type': 'Point', 'coordinates': [4.8771144, 52.3493467]}},\n",
       " {'name': 'Starbucks',\n",
       "  'address': 'Ferdinand Bolstraat 21580, 1072 LM Amsterdam, Netherlands',\n",
       "  'location': {'type': 'Point', 'coordinates': [4.8905951, 52.3553881]}},\n",
       " {'name': 'STARBUCKS COFFEE Amsterdam Overtoom Shop',\n",
       "  'address': 'Overtoom 72, 1054 HL Amsterdam, Netherlands',\n",
       "  'location': {'type': 'Point',\n",
       "   'coordinates': [4.8758273, 52.36311569999999]}},\n",
       " {'name': 'Starbucks Amsterdam Amstel Station',\n",
       "  'address': 'Julianaplein 1, 1097 DN Amsterdam, Netherlands',\n",
       "  'location': {'type': 'Point',\n",
       "   'coordinates': [4.917986099999999, 52.3464775]}},\n",
       " {'name': 'Starbucks on the go',\n",
       "  'address': 'Europaboulevard 24, 1083 AD Amsterdam, Netherlands',\n",
       "  'location': {'type': 'Point',\n",
       "   'coordinates': [4.8896519, 52.32816709999999]}},\n",
       " {'name': 'Starbucks Amsterdam Rokin',\n",
       "  'address': 'Rokin 74, 1012 KW Amsterdam, Netherlands',\n",
       "  'location': {'type': 'Point',\n",
       "   'coordinates': [4.892257499999999, 52.3703102]}},\n",
       " {'name': 'Starbucks',\n",
       "  'address': 'Gustav Mahlerlaan 841a, 1082 MA Amsterdam, Netherlands',\n",
       "  'location': {'type': 'Point',\n",
       "   'coordinates': [4.870430199999999, 52.3364927]}},\n",
       " {'name': 'Starbucks IJHal',\n",
       "  'address': 'Stationsplein 38B, 1012 AB Amsterdam, Netherlands',\n",
       "  'location': {'type': 'Point', 'coordinates': [4.9005785, 52.3798957]}},\n",
       " {'name': 'Starbucks',\n",
       "  'address': 'ArenA Boulevard 618, 1011 DS Amsterdam, Netherlands',\n",
       "  'location': {'type': 'Point', 'coordinates': [4.947705, 52.3121749]}},\n",
       " {'name': 'Starbucks',\n",
       "  'address': 'Binnenhof 7c, 1181 GE Amstelveen, Netherlands',\n",
       "  'location': {'type': 'Point', 'coordinates': [4.8617459, 52.30287]}},\n",
       " {'name': 'Starbucks on the go',\n",
       "  'address': 'Van Slingelandtplein 17, 1051 DD Amsterdam, Netherlands',\n",
       "  'location': {'type': 'Point', 'coordinates': [4.864634, 52.3841098]}},\n",
       " {'name': 'Starbucks',\n",
       "  'address': 'Airport Pier C, 1117 ZN Schiphol, Netherlands',\n",
       "  'location': {'type': 'Point', 'coordinates': [4.7654295, 52.3098683]}},\n",
       " {'name': 'Starbucks',\n",
       "  'address': 'Vertrekpassage 135, Lounge 1, 1118 AS Schiphol, Netherlands',\n",
       "  'location': {'type': 'Point', 'coordinates': [4.769328, 52.308968]}},\n",
       " {'name': \"Julia's\",\n",
       "  'address': 'De Ruijterkade 38a, 1012 AA Amsterdam, Netherlands',\n",
       "  'location': {'type': 'Point',\n",
       "   'coordinates': [4.900392099999999, 52.3799621]}},\n",
       " {'name': 'Starbucks',\n",
       "  'address': 'Vertrekpassage 135, Arrivals 4, 1118 AS Schiphol, Netherlands',\n",
       "  'location': {'type': 'Point', 'coordinates': [4.759779, 52.310937]}},\n",
       " {'name': 'Starbucks',\n",
       "  'address': 'Evert van de Beekstraat 12, 1118 CL Schiphol, Netherlands',\n",
       "  'location': {'type': 'Point',\n",
       "   'coordinates': [4.751034499999999, 52.30482139999999]}},\n",
       " {'name': 'Starbucks',\n",
       "  'address': 'Postbus 75041Terminal 2 - Concourse D - AirsideSchiphol, 1117 ZN Netherlands',\n",
       "  'location': {'type': 'Point', 'coordinates': [4.7693463, 52.3089581]}},\n",
       " {'name': 'Starbucks Coffee Emea B.v.',\n",
       "  'address': '7 24, 1034 ZL Amsterdam, Netherlands',\n",
       "  'location': {'type': 'Point',\n",
       "   'coordinates': [4.9236606, 52.40299479999999]}},\n",
       " {'name': \"Ipo's Coffee Gallery\",\n",
       "  'address': 'Piet Heinkade 29, 1019 BR Amsterdam, Netherlands',\n",
       "  'location': {'type': 'Point',\n",
       "   'coordinates': [4.9158558, 52.37760369999999]}},\n",
       " {'name': 'Starbucks',\n",
       "  'address': 'Evert van de Beekstraat 202, 1118 CP Schiphol, Netherlands',\n",
       "  'location': {'type': 'Point', 'coordinates': [4.7596772, 52.3101156]}},\n",
       " {'name': 'Starbucks Coffee',\n",
       "  'address': 'Evert van de Beekstraat 202, 1118 CP Schiphol, Netherlands',\n",
       "  'location': {'type': 'Point', 'coordinates': [4.7643564, 52.306903]}},\n",
       " {'name': 'Starbucks',\n",
       "  'address': 'Evert van de Beekstraat 202, 1118 CP Schiphol, Netherlands',\n",
       "  'location': {'type': 'Point',\n",
       "   'coordinates': [4.769095699999999, 52.3088518]}},\n",
       " {'name': \"Cafe 't Molentje\",\n",
       "  'address': 'Singel 278, 1016 AC Amsterdam, Netherlands',\n",
       "  'location': {'type': 'Point',\n",
       "   'coordinates': [4.888104999999999, 52.3722534]}},\n",
       " {'name': 'Starbucks The Pavillion',\n",
       "  'address': 'Evert van de Beekstraat 202, 1118 CP Schiphol, Netherlands',\n",
       "  'location': {'type': 'Point',\n",
       "   'coordinates': [4.765429399999999, 52.3098684]}},\n",
       " {'name': 'coffeecompany',\n",
       "  'address': '11, Oude Doelenstraat, 1012 ED Amsterdam, Netherlands',\n",
       "  'location': {'type': 'Point', 'coordinates': [4.8967462, 52.3716334]}},\n",
       " {'name': 'Café Reynders',\n",
       "  'address': 'Leidseplein 6, 1017 PT Amsterdam, Netherlands',\n",
       "  'location': {'type': 'Point',\n",
       "   'coordinates': [4.882987099999999, 52.3646634]}},\n",
       " {'name': 'Coffee Company',\n",
       "  'address': 'Ferdinand Bolstraat 38, 1072 LK Amsterdam, Netherlands',\n",
       "  'location': {'type': 'Point', 'coordinates': [4.8903759, 52.3563014]}},\n",
       " {'name': 'Starbucks on the go',\n",
       "  'address': 'A4, 2132 Hoofddorp, Netherlands',\n",
       "  'location': {'type': 'Point', 'coordinates': [4.6848793, 52.2588764]}}]"
      ]
     },
     "execution_count": 22,
     "metadata": {},
     "output_type": "execute_result"
    }
   ],
   "source": [
    "sbloc = getLocation(starbucks)\n",
    "sbloc"
   ]
  },
  {
   "cell_type": "code",
   "execution_count": 23,
   "metadata": {},
   "outputs": [
    {
     "name": "stdout",
     "output_type": "stream",
     "text": [
      "36\n"
     ]
    },
    {
     "data": {
      "text/plain": [
       "[{'name': 'STARBUCKS COFFEE Leidsestraat Shop',\n",
       "  'address': 'Leidsestraat 101, 1017 NZ Amsterdam, Netherlands',\n",
       "  'location': {'type': 'Point',\n",
       "   'coordinates': [4.8836336, 52.36448240000001]}},\n",
       " {'name': 'STARBUCKS COFFEE Amsterdam Damrak Shop',\n",
       "  'address': 'Damrak 80-81, 1012 LN Amsterdam, Netherlands',\n",
       "  'location': {'type': 'Point',\n",
       "   'coordinates': [4.8942746, 52.37429770000001]}},\n",
       " {'name': 'Starbucks',\n",
       "  'address': 'Stationsplein 9, 1012 AB Amsterdam, Netherlands',\n",
       "  'location': {'type': 'Point',\n",
       "   'coordinates': [4.900354099999999, 52.37904899999999]}},\n",
       " {'name': 'STARBUCKS The Bank Rembrandtplein',\n",
       "  'address': 'The Bank Rembrandtplein, Utrechtsestraat 9, 1017 CV Amsterdam, Netherlands',\n",
       "  'location': {'type': 'Point', 'coordinates': [4.8977405, 52.3659541]}},\n",
       " {'name': 'STARBUCKS COFFEE Doubletree by Hilton Amsterdam Shop',\n",
       "  'address': 'Ground Floor, Oosterdokskade 4, 1001 RD Amsterdam, Netherlands',\n",
       "  'location': {'type': 'Point',\n",
       "   'coordinates': [4.9043465, 52.37687829999999]}},\n",
       " {'name': 'Starbucks',\n",
       "  'address': 'Orlyplein 103, 1043 DT Amsterdam, Netherlands',\n",
       "  'location': {'type': 'Point', 'coordinates': [4.8375534, 52.3892232]}},\n",
       " {'name': 'Starbucks',\n",
       "  'address': 'Zuidplein 10, 1077 XV Amsterdam, Netherlands',\n",
       "  'location': {'type': 'Point',\n",
       "   'coordinates': [4.8731287, 52.33961009999999]}},\n",
       " {'name': 'STARBUCKS COFFEE Bloemenmarkt Shop',\n",
       "  'address': 'Singel 480, 1017 AW Amsterdam, Netherlands',\n",
       "  'location': {'type': 'Point',\n",
       "   'coordinates': [4.8896652, 52.36699789999999]}},\n",
       " {'name': 'Starbucks',\n",
       "  'address': 'Beethovenstraat 36-38, 1077 JH Amsterdam, Netherlands',\n",
       "  'location': {'type': 'Point', 'coordinates': [4.8771144, 52.3493467]}},\n",
       " {'name': 'Starbucks',\n",
       "  'address': 'Ferdinand Bolstraat 21580, 1072 LM Amsterdam, Netherlands',\n",
       "  'location': {'type': 'Point', 'coordinates': [4.8905951, 52.3553881]}},\n",
       " {'name': 'STARBUCKS COFFEE Amsterdam Overtoom Shop',\n",
       "  'address': 'Overtoom 72, 1054 HL Amsterdam, Netherlands',\n",
       "  'location': {'type': 'Point',\n",
       "   'coordinates': [4.8758273, 52.36311569999999]}},\n",
       " {'name': 'Starbucks Amsterdam Amstel Station',\n",
       "  'address': 'Julianaplein 1, 1097 DN Amsterdam, Netherlands',\n",
       "  'location': {'type': 'Point',\n",
       "   'coordinates': [4.917986099999999, 52.3464775]}},\n",
       " {'name': 'Starbucks on the go',\n",
       "  'address': 'Europaboulevard 24, 1083 AD Amsterdam, Netherlands',\n",
       "  'location': {'type': 'Point',\n",
       "   'coordinates': [4.8896519, 52.32816709999999]}},\n",
       " {'name': 'Starbucks Amsterdam Rokin',\n",
       "  'address': 'Rokin 74, 1012 KW Amsterdam, Netherlands',\n",
       "  'location': {'type': 'Point',\n",
       "   'coordinates': [4.892257499999999, 52.3703102]}},\n",
       " {'name': 'Starbucks',\n",
       "  'address': 'Gustav Mahlerlaan 841a, 1082 MA Amsterdam, Netherlands',\n",
       "  'location': {'type': 'Point',\n",
       "   'coordinates': [4.870430199999999, 52.3364927]}},\n",
       " {'name': 'Starbucks IJHal',\n",
       "  'address': 'Stationsplein 38B, 1012 AB Amsterdam, Netherlands',\n",
       "  'location': {'type': 'Point', 'coordinates': [4.9005785, 52.3798957]}},\n",
       " {'name': 'Starbucks',\n",
       "  'address': 'ArenA Boulevard 618, 1011 DS Amsterdam, Netherlands',\n",
       "  'location': {'type': 'Point', 'coordinates': [4.947705, 52.3121749]}},\n",
       " {'name': 'Starbucks',\n",
       "  'address': 'Binnenhof 7c, 1181 GE Amstelveen, Netherlands',\n",
       "  'location': {'type': 'Point', 'coordinates': [4.8617459, 52.30287]}},\n",
       " {'name': 'Starbucks on the go',\n",
       "  'address': 'Van Slingelandtplein 17, 1051 DD Amsterdam, Netherlands',\n",
       "  'location': {'type': 'Point', 'coordinates': [4.864634, 52.3841098]}},\n",
       " {'name': 'Starbucks',\n",
       "  'address': 'Airport Pier C, 1117 ZN Schiphol, Netherlands',\n",
       "  'location': {'type': 'Point', 'coordinates': [4.7654295, 52.3098683]}},\n",
       " {'name': 'Starbucks',\n",
       "  'address': 'Vertrekpassage 135, Lounge 1, 1118 AS Schiphol, Netherlands',\n",
       "  'location': {'type': 'Point', 'coordinates': [4.769328, 52.308968]}},\n",
       " {'name': \"Julia's\",\n",
       "  'address': 'De Ruijterkade 38a, 1012 AA Amsterdam, Netherlands',\n",
       "  'location': {'type': 'Point',\n",
       "   'coordinates': [4.900392099999999, 52.3799621]}},\n",
       " {'name': 'Starbucks',\n",
       "  'address': 'Vertrekpassage 135, Arrivals 4, 1118 AS Schiphol, Netherlands',\n",
       "  'location': {'type': 'Point', 'coordinates': [4.759779, 52.310937]}},\n",
       " {'name': 'Starbucks',\n",
       "  'address': 'Evert van de Beekstraat 12, 1118 CL Schiphol, Netherlands',\n",
       "  'location': {'type': 'Point',\n",
       "   'coordinates': [4.751034499999999, 52.30482139999999]}},\n",
       " {'name': 'Starbucks',\n",
       "  'address': 'Postbus 75041Terminal 2 - Concourse D - AirsideSchiphol, 1117 ZN Netherlands',\n",
       "  'location': {'type': 'Point', 'coordinates': [4.7693463, 52.3089581]}},\n",
       " {'name': 'Starbucks Coffee Emea B.v.',\n",
       "  'address': '7 24, 1034 ZL Amsterdam, Netherlands',\n",
       "  'location': {'type': 'Point',\n",
       "   'coordinates': [4.9236606, 52.40299479999999]}},\n",
       " {'name': \"Ipo's Coffee Gallery\",\n",
       "  'address': 'Piet Heinkade 29, 1019 BR Amsterdam, Netherlands',\n",
       "  'location': {'type': 'Point',\n",
       "   'coordinates': [4.9158558, 52.37760369999999]}},\n",
       " {'name': 'Starbucks',\n",
       "  'address': 'Evert van de Beekstraat 202, 1118 CP Schiphol, Netherlands',\n",
       "  'location': {'type': 'Point', 'coordinates': [4.7596772, 52.3101156]}},\n",
       " {'name': 'Starbucks Coffee',\n",
       "  'address': 'Evert van de Beekstraat 202, 1118 CP Schiphol, Netherlands',\n",
       "  'location': {'type': 'Point', 'coordinates': [4.7643564, 52.306903]}},\n",
       " {'name': 'Starbucks',\n",
       "  'address': 'Evert van de Beekstraat 202, 1118 CP Schiphol, Netherlands',\n",
       "  'location': {'type': 'Point',\n",
       "   'coordinates': [4.769095699999999, 52.3088518]}},\n",
       " {'name': \"Cafe 't Molentje\",\n",
       "  'address': 'Singel 278, 1016 AC Amsterdam, Netherlands',\n",
       "  'location': {'type': 'Point',\n",
       "   'coordinates': [4.888104999999999, 52.3722534]}},\n",
       " {'name': 'Starbucks The Pavillion',\n",
       "  'address': 'Evert van de Beekstraat 202, 1118 CP Schiphol, Netherlands',\n",
       "  'location': {'type': 'Point',\n",
       "   'coordinates': [4.765429399999999, 52.3098684]}},\n",
       " {'name': 'coffeecompany',\n",
       "  'address': '11, Oude Doelenstraat, 1012 ED Amsterdam, Netherlands',\n",
       "  'location': {'type': 'Point', 'coordinates': [4.8967462, 52.3716334]}},\n",
       " {'name': 'Café Reynders',\n",
       "  'address': 'Leidseplein 6, 1017 PT Amsterdam, Netherlands',\n",
       "  'location': {'type': 'Point',\n",
       "   'coordinates': [4.882987099999999, 52.3646634]}},\n",
       " {'name': 'Coffee Company',\n",
       "  'address': 'Ferdinand Bolstraat 38, 1072 LK Amsterdam, Netherlands',\n",
       "  'location': {'type': 'Point', 'coordinates': [4.8903759, 52.3563014]}},\n",
       " {'name': 'Starbucks on the go',\n",
       "  'address': 'A4, 2132 Hoofddorp, Netherlands',\n",
       "  'location': {'type': 'Point', 'coordinates': [4.6848793, 52.2588764]}}]"
      ]
     },
     "execution_count": 23,
     "metadata": {},
     "output_type": "execute_result"
    }
   ],
   "source": [
    "print(len(sbloc))\n",
    "sbloc"
   ]
  },
  {
   "cell_type": "code",
   "execution_count": 24,
   "metadata": {},
   "outputs": [
    {
     "name": "stdout",
     "output_type": "stream",
     "text": [
      "60\n"
     ]
    },
    {
     "data": {
      "text/plain": [
       "{'name': 'Public Elementary School De Kleine Nicolaas',\n",
       " 'address': 'Cornelis Krusemanstraat 10, 1075 NL Amsterdam, Netherlands',\n",
       " 'location': {'type': 'Point', 'coordinates': [4.8633356, 52.3515548]}}"
      ]
     },
     "execution_count": 24,
     "metadata": {},
     "output_type": "execute_result"
    }
   ],
   "source": [
    "schools = searchPlaces('Primary school')\n",
    "len(schools)\n",
    "scloc = getLocation(schools)\n",
    "print(len(scloc))\n",
    "scloc[1]"
   ]
  },
  {
   "cell_type": "code",
   "execution_count": 25,
   "metadata": {},
   "outputs": [
    {
     "name": "stdout",
     "output_type": "stream",
     "text": [
      "60\n"
     ]
    },
    {
     "data": {
      "text/plain": [
       "{'name': \"'t Kinderhonk (locatie Middenhonk)\",\n",
       " 'address': 'Middenweg 88, 1097 BC Amsterdam, Netherlands',\n",
       " 'location': {'type': 'Point', 'coordinates': [4.9360609, 52.3500585]}}"
      ]
     },
     "execution_count": 25,
     "metadata": {},
     "output_type": "execute_result"
    }
   ],
   "source": [
    "kindergarten = searchPlaces('kindergarten')\n",
    "len(kindergarten)\n",
    "kdloc = getLocation(kindergarten)\n",
    "print(len(kdloc))\n",
    "kdloc[2]"
   ]
  },
  {
   "cell_type": "code",
   "execution_count": 26,
   "metadata": {},
   "outputs": [
    {
     "name": "stdout",
     "output_type": "stream",
     "text": [
      "60\n"
     ]
    },
    {
     "data": {
      "text/plain": [
       "{'name': 'Blue Ivy Nightclub',\n",
       " 'address': 'Amstelstraat 30, 1017 DA Amsterdam, Netherlands',\n",
       " 'location': {'type': 'Point', 'coordinates': [4.8996878, 52.3660594]}}"
      ]
     },
     "execution_count": 26,
     "metadata": {},
     "output_type": "execute_result"
    }
   ],
   "source": [
    "night_club = searchPlaces('night club')\n",
    "len(night_club)\n",
    "ncloc = getLocation(night_club)\n",
    "print(len(ncloc))\n",
    "ncloc[3]"
   ]
  },
  {
   "cell_type": "code",
   "execution_count": 27,
   "metadata": {},
   "outputs": [
    {
     "name": "stdout",
     "output_type": "stream",
     "text": [
      "60\n"
     ]
    },
    {
     "data": {
      "text/plain": [
       "{'name': 'Loving Hut - Vegan House',\n",
       " 'address': 'Admiraal de Ruijterweg 334, 1055 MZ Amsterdam, Netherlands',\n",
       " 'location': {'type': 'Point', 'coordinates': [4.8544336, 52.3810426]}}"
      ]
     },
     "execution_count": 27,
     "metadata": {},
     "output_type": "execute_result"
    }
   ],
   "source": [
    "vegan_restaurant = searchPlaces('vegan restaurant')\n",
    "len(vegan_restaurant)\n",
    "vrloc = getLocation(vegan_restaurant)\n",
    "print(len(vrloc))\n",
    "vrloc[4]"
   ]
  },
  {
   "cell_type": "code",
   "execution_count": 28,
   "metadata": {},
   "outputs": [
    {
     "name": "stdout",
     "output_type": "stream",
     "text": [
      "1\n"
     ]
    },
    {
     "data": {
      "text/plain": [
       "{'name': 'Schiphol',\n",
       " 'address': 'Schiphol, Netherlands',\n",
       " 'location': {'type': 'Point', 'coordinates': [4.767424099999999, 52.3076865]}}"
      ]
     },
     "execution_count": 28,
     "metadata": {},
     "output_type": "execute_result"
    }
   ],
   "source": [
    "airport = searchPlaces('airport amsterdam')\n",
    "len(airport)\n",
    "aloc = getLocation(airport)\n",
    "print(len(aloc))\n",
    "aloc[0]"
   ]
  },
  {
   "cell_type": "code",
   "execution_count": 29,
   "metadata": {},
   "outputs": [],
   "source": [
    "#gmaps = googlemaps.Client(key=os.getenv(\"key\"))\n",
    "#places_result = gmaps.places('airport, Amsterdam')\n"
   ]
  },
  {
   "cell_type": "code",
   "execution_count": 30,
   "metadata": {},
   "outputs": [],
   "source": [
    "#places_result['results'][0]['geometry']['location']"
   ]
  },
  {
   "cell_type": "code",
   "execution_count": 31,
   "metadata": {},
   "outputs": [
    {
     "name": "stdout",
     "output_type": "stream",
     "text": [
      "Stored 'sbloc' (list)\n",
      "Stored 'scloc' (list)\n",
      "Stored 'kdloc' (list)\n",
      "Stored 'ncloc' (list)\n",
      "Stored 'vrloc' (list)\n",
      "Stored 'aloc' (list)\n"
     ]
    }
   ],
   "source": [
    "%store sbloc #starbucks\n",
    "%store scloc #schools\n",
    "%store kdloc #kindergarten\n",
    "%store ncloc #night club\n",
    "%store vrloc #vegan restaurant\n",
    "%store aloc #airport"
   ]
  },
  {
   "cell_type": "code",
   "execution_count": 32,
   "metadata": {},
   "outputs": [],
   "source": [
    "def connectCollection(database, collection):\n",
    "    client = MongoClient()\n",
    "    db = client[database]\n",
    "    coll = db[collection]\n",
    "    return db, coll"
   ]
  },
  {
   "cell_type": "code",
   "execution_count": 33,
   "metadata": {},
   "outputs": [],
   "source": [
    "db, coll = connectCollection('companies', 'companies')"
   ]
  },
  {
   "cell_type": "code",
   "execution_count": 34,
   "metadata": {},
   "outputs": [
    {
     "data": {
      "text/plain": [
       "[{'name': 'Schiphol',\n",
       "  'address': 'Schiphol, Netherlands',\n",
       "  'location': {'type': 'Point',\n",
       "   'coordinates': [4.767424099999999, 52.3076865]}}]"
      ]
     },
     "execution_count": 34,
     "metadata": {},
     "output_type": "execute_result"
    }
   ],
   "source": [
    "aloc"
   ]
  },
  {
   "cell_type": "code",
   "execution_count": 35,
   "metadata": {},
   "outputs": [
    {
     "data": {
      "text/plain": [
       "<pymongo.results.InsertManyResult at 0x110d59820>"
      ]
     },
     "execution_count": 35,
     "metadata": {},
     "output_type": "execute_result"
    }
   ],
   "source": [
    "col = db[\"airport\"]\n",
    "col.insert_many(aloc)"
   ]
  },
  {
   "cell_type": "code",
   "execution_count": 36,
   "metadata": {},
   "outputs": [],
   "source": [
    "diccsearch = {'starbucks': sbloc,\n",
    "              'schools': scloc,\n",
    "              'kindergarten': kdloc,\n",
    "              'clubs': ncloc,\n",
    "              'veganrest': vrloc,\n",
    "              'airport': aloc}"
   ]
  },
  {
   "cell_type": "code",
   "execution_count": 37,
   "metadata": {},
   "outputs": [],
   "source": [
    "def insertColl(dictionary, database):\n",
    "    for k, v in dictionary.items():\n",
    "        col = database[k]\n",
    "        col.insert_many(v)\n",
    "        print(\"collects inserted\")"
   ]
  },
  {
   "cell_type": "code",
   "execution_count": 38,
   "metadata": {},
   "outputs": [
    {
     "name": "stdout",
     "output_type": "stream",
     "text": [
      "collects inserted\n",
      "collects inserted\n",
      "collects inserted\n",
      "collects inserted\n",
      "collects inserted\n"
     ]
    },
    {
     "ename": "BulkWriteError",
     "evalue": "batch op errors occurred",
     "output_type": "error",
     "traceback": [
      "\u001b[0;31m---------------------------------------------------------------------------\u001b[0m",
      "\u001b[0;31mBulkWriteError\u001b[0m                            Traceback (most recent call last)",
      "\u001b[0;32m<ipython-input-38-a47aa852a539>\u001b[0m in \u001b[0;36m<module>\u001b[0;34m\u001b[0m\n\u001b[0;32m----> 1\u001b[0;31m \u001b[0minsertColl\u001b[0m\u001b[0;34m(\u001b[0m\u001b[0mdiccsearch\u001b[0m\u001b[0;34m,\u001b[0m \u001b[0mdb\u001b[0m\u001b[0;34m)\u001b[0m\u001b[0;34m\u001b[0m\u001b[0;34m\u001b[0m\u001b[0m\n\u001b[0m",
      "\u001b[0;32m<ipython-input-37-471cca323965>\u001b[0m in \u001b[0;36minsertColl\u001b[0;34m(dictionary, database)\u001b[0m\n\u001b[1;32m      2\u001b[0m     \u001b[0;32mfor\u001b[0m \u001b[0mk\u001b[0m\u001b[0;34m,\u001b[0m \u001b[0mv\u001b[0m \u001b[0;32min\u001b[0m \u001b[0mdictionary\u001b[0m\u001b[0;34m.\u001b[0m\u001b[0mitems\u001b[0m\u001b[0;34m(\u001b[0m\u001b[0;34m)\u001b[0m\u001b[0;34m:\u001b[0m\u001b[0;34m\u001b[0m\u001b[0;34m\u001b[0m\u001b[0m\n\u001b[1;32m      3\u001b[0m         \u001b[0mcol\u001b[0m \u001b[0;34m=\u001b[0m \u001b[0mdatabase\u001b[0m\u001b[0;34m[\u001b[0m\u001b[0mk\u001b[0m\u001b[0;34m]\u001b[0m\u001b[0;34m\u001b[0m\u001b[0;34m\u001b[0m\u001b[0m\n\u001b[0;32m----> 4\u001b[0;31m         \u001b[0mcol\u001b[0m\u001b[0;34m.\u001b[0m\u001b[0minsert_many\u001b[0m\u001b[0;34m(\u001b[0m\u001b[0mv\u001b[0m\u001b[0;34m)\u001b[0m\u001b[0;34m\u001b[0m\u001b[0;34m\u001b[0m\u001b[0m\n\u001b[0m\u001b[1;32m      5\u001b[0m         \u001b[0mprint\u001b[0m\u001b[0;34m(\u001b[0m\u001b[0;34m\"collects inserted\"\u001b[0m\u001b[0;34m)\u001b[0m\u001b[0;34m\u001b[0m\u001b[0;34m\u001b[0m\u001b[0m\n",
      "\u001b[0;32m/usr/local/lib/python3.7/site-packages/pymongo/collection.py\u001b[0m in \u001b[0;36minsert_many\u001b[0;34m(self, documents, ordered, bypass_document_validation, session)\u001b[0m\n\u001b[1;32m    756\u001b[0m         \u001b[0mblk\u001b[0m \u001b[0;34m=\u001b[0m \u001b[0m_Bulk\u001b[0m\u001b[0;34m(\u001b[0m\u001b[0mself\u001b[0m\u001b[0;34m,\u001b[0m \u001b[0mordered\u001b[0m\u001b[0;34m,\u001b[0m \u001b[0mbypass_document_validation\u001b[0m\u001b[0;34m)\u001b[0m\u001b[0;34m\u001b[0m\u001b[0;34m\u001b[0m\u001b[0m\n\u001b[1;32m    757\u001b[0m         \u001b[0mblk\u001b[0m\u001b[0;34m.\u001b[0m\u001b[0mops\u001b[0m \u001b[0;34m=\u001b[0m \u001b[0;34m[\u001b[0m\u001b[0mdoc\u001b[0m \u001b[0;32mfor\u001b[0m \u001b[0mdoc\u001b[0m \u001b[0;32min\u001b[0m \u001b[0mgen\u001b[0m\u001b[0;34m(\u001b[0m\u001b[0;34m)\u001b[0m\u001b[0;34m]\u001b[0m\u001b[0;34m\u001b[0m\u001b[0;34m\u001b[0m\u001b[0m\n\u001b[0;32m--> 758\u001b[0;31m         \u001b[0mblk\u001b[0m\u001b[0;34m.\u001b[0m\u001b[0mexecute\u001b[0m\u001b[0;34m(\u001b[0m\u001b[0mwrite_concern\u001b[0m\u001b[0;34m,\u001b[0m \u001b[0msession\u001b[0m\u001b[0;34m=\u001b[0m\u001b[0msession\u001b[0m\u001b[0;34m)\u001b[0m\u001b[0;34m\u001b[0m\u001b[0;34m\u001b[0m\u001b[0m\n\u001b[0m\u001b[1;32m    759\u001b[0m         \u001b[0;32mreturn\u001b[0m \u001b[0mInsertManyResult\u001b[0m\u001b[0;34m(\u001b[0m\u001b[0minserted_ids\u001b[0m\u001b[0;34m,\u001b[0m \u001b[0mwrite_concern\u001b[0m\u001b[0;34m.\u001b[0m\u001b[0macknowledged\u001b[0m\u001b[0;34m)\u001b[0m\u001b[0;34m\u001b[0m\u001b[0;34m\u001b[0m\u001b[0m\n\u001b[1;32m    760\u001b[0m \u001b[0;34m\u001b[0m\u001b[0m\n",
      "\u001b[0;32m/usr/local/lib/python3.7/site-packages/pymongo/bulk.py\u001b[0m in \u001b[0;36mexecute\u001b[0;34m(self, write_concern, session)\u001b[0m\n\u001b[1;32m    509\u001b[0m                 \u001b[0mself\u001b[0m\u001b[0;34m.\u001b[0m\u001b[0mexecute_no_results\u001b[0m\u001b[0;34m(\u001b[0m\u001b[0msock_info\u001b[0m\u001b[0;34m,\u001b[0m \u001b[0mgenerator\u001b[0m\u001b[0;34m)\u001b[0m\u001b[0;34m\u001b[0m\u001b[0;34m\u001b[0m\u001b[0m\n\u001b[1;32m    510\u001b[0m         \u001b[0;32melse\u001b[0m\u001b[0;34m:\u001b[0m\u001b[0;34m\u001b[0m\u001b[0;34m\u001b[0m\u001b[0m\n\u001b[0;32m--> 511\u001b[0;31m             \u001b[0;32mreturn\u001b[0m \u001b[0mself\u001b[0m\u001b[0;34m.\u001b[0m\u001b[0mexecute_command\u001b[0m\u001b[0;34m(\u001b[0m\u001b[0mgenerator\u001b[0m\u001b[0;34m,\u001b[0m \u001b[0mwrite_concern\u001b[0m\u001b[0;34m,\u001b[0m \u001b[0msession\u001b[0m\u001b[0;34m)\u001b[0m\u001b[0;34m\u001b[0m\u001b[0;34m\u001b[0m\u001b[0m\n\u001b[0m\u001b[1;32m    512\u001b[0m \u001b[0;34m\u001b[0m\u001b[0m\n\u001b[1;32m    513\u001b[0m \u001b[0;34m\u001b[0m\u001b[0m\n",
      "\u001b[0;32m/usr/local/lib/python3.7/site-packages/pymongo/bulk.py\u001b[0m in \u001b[0;36mexecute_command\u001b[0;34m(self, generator, write_concern, session)\u001b[0m\n\u001b[1;32m    347\u001b[0m \u001b[0;34m\u001b[0m\u001b[0m\n\u001b[1;32m    348\u001b[0m         \u001b[0;32mif\u001b[0m \u001b[0mfull_result\u001b[0m\u001b[0;34m[\u001b[0m\u001b[0;34m\"writeErrors\"\u001b[0m\u001b[0;34m]\u001b[0m \u001b[0;32mor\u001b[0m \u001b[0mfull_result\u001b[0m\u001b[0;34m[\u001b[0m\u001b[0;34m\"writeConcernErrors\"\u001b[0m\u001b[0;34m]\u001b[0m\u001b[0;34m:\u001b[0m\u001b[0;34m\u001b[0m\u001b[0;34m\u001b[0m\u001b[0m\n\u001b[0;32m--> 349\u001b[0;31m             \u001b[0m_raise_bulk_write_error\u001b[0m\u001b[0;34m(\u001b[0m\u001b[0mfull_result\u001b[0m\u001b[0;34m)\u001b[0m\u001b[0;34m\u001b[0m\u001b[0;34m\u001b[0m\u001b[0m\n\u001b[0m\u001b[1;32m    350\u001b[0m         \u001b[0;32mreturn\u001b[0m \u001b[0mfull_result\u001b[0m\u001b[0;34m\u001b[0m\u001b[0;34m\u001b[0m\u001b[0m\n\u001b[1;32m    351\u001b[0m \u001b[0;34m\u001b[0m\u001b[0m\n",
      "\u001b[0;32m/usr/local/lib/python3.7/site-packages/pymongo/bulk.py\u001b[0m in \u001b[0;36m_raise_bulk_write_error\u001b[0;34m(full_result)\u001b[0m\n\u001b[1;32m    138\u001b[0m         full_result[\"writeErrors\"].sort(\n\u001b[1;32m    139\u001b[0m             key=lambda error: error[\"index\"])\n\u001b[0;32m--> 140\u001b[0;31m     \u001b[0;32mraise\u001b[0m \u001b[0mBulkWriteError\u001b[0m\u001b[0;34m(\u001b[0m\u001b[0mfull_result\u001b[0m\u001b[0;34m)\u001b[0m\u001b[0;34m\u001b[0m\u001b[0;34m\u001b[0m\u001b[0m\n\u001b[0m\u001b[1;32m    141\u001b[0m \u001b[0;34m\u001b[0m\u001b[0m\n\u001b[1;32m    142\u001b[0m \u001b[0;34m\u001b[0m\u001b[0m\n",
      "\u001b[0;31mBulkWriteError\u001b[0m: batch op errors occurred"
     ]
    }
   ],
   "source": [
    "insertColl(diccsearch, db)"
   ]
  },
  {
   "cell_type": "code",
   "execution_count": null,
   "metadata": {},
   "outputs": [],
   "source": [
    "#aloc[0]['coordinates'][0]\n"
   ]
  },
  {
   "cell_type": "code",
   "execution_count": null,
   "metadata": {},
   "outputs": [],
   "source": [
    "'''\n",
    "def getLocation(companies):\n",
    "    location =[]\n",
    "    longitude = companies['coordinates'][1]\n",
    "    latitude = companies['coordinates'][0]\n",
    "    loc = {\n",
    "        'type':'Point',\n",
    "        'coordinates':[latitude, longitude]\n",
    "    }\n",
    "    location.append(loc)\n",
    "    print(location)\n",
    "    return location\n",
    "'''"
   ]
  },
  {
   "cell_type": "code",
   "execution_count": null,
   "metadata": {},
   "outputs": [],
   "source": [
    "'''\n",
    "for k, v in diccsearch.items():\n",
    "    for v1 in v:\n",
    "        db, coll = connectCollection('companies', k)\n",
    "        value = {\"$set\": {'location':getLocation(v1)}}\n",
    "        query = {\"_id\": v1['_id']}\n",
    "        coll.update_many(query, value)\n",
    "'''"
   ]
  },
  {
   "cell_type": "code",
   "execution_count": null,
   "metadata": {},
   "outputs": [],
   "source": []
  }
 ],
 "metadata": {
  "kernelspec": {
   "display_name": "Python 3",
   "language": "python",
   "name": "python3"
  },
  "language_info": {
   "codemirror_mode": {
    "name": "ipython",
    "version": 3
   },
   "file_extension": ".py",
   "mimetype": "text/x-python",
   "name": "python",
   "nbconvert_exporter": "python",
   "pygments_lexer": "ipython3",
   "version": "3.7.4"
  }
 },
 "nbformat": 4,
 "nbformat_minor": 2
}
