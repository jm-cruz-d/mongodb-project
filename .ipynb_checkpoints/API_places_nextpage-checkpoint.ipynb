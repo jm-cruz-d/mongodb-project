{
 "cells": [
  {
   "cell_type": "code",
   "execution_count": 2,
   "metadata": {},
   "outputs": [
    {
     "name": "stdout",
     "output_type": "stream",
     "text": [
      "Collecting python-google-places\n",
      "  Downloading https://files.pythonhosted.org/packages/b9/30/0193735c93113974d8dabb69327ea66bf9d7e1985700d2d8e6806f89ae32/python-google-places-1.4.1.tar.gz\n",
      "Requirement already satisfied: six in /usr/local/Cellar/ipython/7.8.0/libexec/vendor/lib/python3.7/site-packages (from python-google-places) (1.12.0)\n",
      "Building wheels for collected packages: python-google-places\n",
      "  Building wheel for python-google-places (setup.py) ... \u001b[?25ldone\n",
      "\u001b[?25h  Stored in directory: /Users/jm/Library/Caches/pip/wheels/b8/85/d3/9e591bba4afe2b9c4a8e3c95e5037f4fa19bd76c3333dfb76f\n",
      "Successfully built python-google-places\n",
      "Installing collected packages: python-google-places\n",
      "Successfully installed python-google-places-1.4.1\n"
     ]
    }
   ],
   "source": [
    "!pip3 install python-google-places"
   ]
  },
  {
   "cell_type": "code",
   "execution_count": 6,
   "metadata": {},
   "outputs": [
    {
     "name": "stdout",
     "output_type": "stream",
     "text": [
      "Collecting Unidecode\n",
      "\u001b[?25l  Downloading https://files.pythonhosted.org/packages/d0/42/d9edfed04228bacea2d824904cae367ee9efd05e6cce7ceaaedd0b0ad964/Unidecode-1.1.1-py2.py3-none-any.whl (238kB)\n",
      "\u001b[K     |████████████████████████████████| 245kB 2.7MB/s eta 0:00:01\n",
      "\u001b[?25hInstalling collected packages: Unidecode\n",
      "Successfully installed Unidecode-1.1.1\n"
     ]
    }
   ],
   "source": [
    "!pip3 install Unidecode"
   ]
  },
  {
   "cell_type": "code",
   "execution_count": 51,
   "metadata": {},
   "outputs": [
    {
     "data": {
      "text/plain": [
       "True"
      ]
     },
     "execution_count": 51,
     "metadata": {},
     "output_type": "execute_result"
    }
   ],
   "source": [
    "from googleplaces import GooglePlaces, types, lang\n",
    "from unidecode import unidecode \n",
    "import googlemaps\n",
    "from datetime import datetime\n",
    "import json\n",
    "import time\n",
    "import requests\n",
    "import os\n",
    "from dotenv import load_dotenv\n",
    "load_dotenv()"
   ]
  },
  {
   "cell_type": "code",
   "execution_count": 10,
   "metadata": {},
   "outputs": [],
   "source": [
    "def searchPlaces(query):\n",
    "    API_key = os.getenv('key')\n",
    "    endpoint_url = \"https://maps.googleapis.com/maps/api/place/textsearch/json\"\n",
    "    places = []\n",
    "    params = {\n",
    "        'query': query,\n",
    "        'location': '52.37021, 4.895168',\n",
    "        'radius': 5000,\n",
    "        'key': API_key\n",
    "    }\n",
    "    res = requests.get(endpoint_url, params = params)\n",
    "    results =  json.loads(res.content)\n",
    "    places.extend(results['results'])\n",
    "    time.sleep(2)\n",
    "    while \"next_page_token\" in results:\n",
    "        params['pagetoken'] = results['next_page_token'],\n",
    "        res = requests.get(endpoint_url, params = params)\n",
    "        results = json.loads(res.content)\n",
    "        places.extend(results['results'])\n",
    "        time.sleep(2)\n",
    "    return places"
   ]
  },
  {
   "cell_type": "code",
   "execution_count": 12,
   "metadata": {},
   "outputs": [],
   "source": [
    "starbucks = searchPlaces('Starbucks')"
   ]
  },
  {
   "cell_type": "code",
   "execution_count": 13,
   "metadata": {},
   "outputs": [
    {
     "data": {
      "text/plain": [
       "38"
      ]
     },
     "execution_count": 13,
     "metadata": {},
     "output_type": "execute_result"
    }
   ],
   "source": [
    "len(starbucks)"
   ]
  },
  {
   "cell_type": "code",
   "execution_count": 29,
   "metadata": {},
   "outputs": [],
   "source": [
    "def getLocation(companies):\n",
    "    location =[]\n",
    "    for x in range(len(companies)):\n",
    "        longitude = companies[x]['geometry']['location']['lng']\n",
    "        latitude = companies[x]['geometry']['location']['lat']\n",
    "        name=companies[x]['name']\n",
    "        loc = {\n",
    "            'name': name,\n",
    "            'type':'Point',\n",
    "            'coordinates':[latitude, longitude]\n",
    "        }\n",
    "        location.append(loc)\n",
    "    return location"
   ]
  },
  {
   "cell_type": "code",
   "execution_count": 30,
   "metadata": {},
   "outputs": [
    {
     "data": {
      "text/plain": [
       "{'location': {'lat': 52.36448240000001, 'lng': 4.8836336},\n",
       " 'viewport': {'northeast': {'lat': 52.36607492989272,\n",
       "   'lng': 4.885273579892721},\n",
       "  'southwest': {'lat': 52.36337527010728, 'lng': 4.882573920107277}}}"
      ]
     },
     "execution_count": 30,
     "metadata": {},
     "output_type": "execute_result"
    }
   ],
   "source": [
    "starbucks[0]['geometry']"
   ]
  },
  {
   "cell_type": "code",
   "execution_count": 31,
   "metadata": {},
   "outputs": [],
   "source": [
    "sbloc = getLocation(starbucks)"
   ]
  },
  {
   "cell_type": "code",
   "execution_count": 33,
   "metadata": {},
   "outputs": [
    {
     "name": "stdout",
     "output_type": "stream",
     "text": [
      "38\n"
     ]
    },
    {
     "data": {
      "text/plain": [
       "{'name': 'STARBUCKS COFFEE Leidsestraat Shop',\n",
       " 'type': 'Point',\n",
       " 'coordinates': [52.36448240000001, 4.8836336]}"
      ]
     },
     "execution_count": 33,
     "metadata": {},
     "output_type": "execute_result"
    }
   ],
   "source": [
    "print(len(sbloc))\n",
    "sbloc[0]"
   ]
  },
  {
   "cell_type": "code",
   "execution_count": 67,
   "metadata": {},
   "outputs": [
    {
     "name": "stdout",
     "output_type": "stream",
     "text": [
      "60\n"
     ]
    },
    {
     "data": {
      "text/plain": [
       "{'name': '15ᵗʰ Montessori Public Elementary School Maas and Waal',\n",
       " 'type': 'Point',\n",
       " 'coordinates': [52.3433973, 4.899729]}"
      ]
     },
     "execution_count": 67,
     "metadata": {},
     "output_type": "execute_result"
    }
   ],
   "source": [
    "schools = searchPlaces('Primary school')\n",
    "len(schools)\n",
    "scloc = getLocation(schools)\n",
    "print(len(scloc))\n",
    "scloc[1]"
   ]
  },
  {
   "cell_type": "code",
   "execution_count": 68,
   "metadata": {},
   "outputs": [
    {
     "name": "stdout",
     "output_type": "stream",
     "text": [
      "60\n"
     ]
    },
    {
     "data": {
      "text/plain": [
       "{'name': 'Kindergarden Kinderdagverblijf Amsterdam Villa Vondel',\n",
       " 'type': 'Point',\n",
       " 'coordinates': [52.35313420000001, 4.8576681]}"
      ]
     },
     "execution_count": 68,
     "metadata": {},
     "output_type": "execute_result"
    }
   ],
   "source": [
    "kindergarten = searchPlaces('kindergarten')\n",
    "len(kindergarten)\n",
    "kdloc = getLocation(kindergarten)\n",
    "print(len(kdloc))\n",
    "kdloc[2]"
   ]
  },
  {
   "cell_type": "code",
   "execution_count": 48,
   "metadata": {},
   "outputs": [
    {
     "name": "stdout",
     "output_type": "stream",
     "text": [
      "60\n"
     ]
    },
    {
     "data": {
      "text/plain": [
       "{'name': 'Blue Ivy Nightclub',\n",
       " 'type': 'Point',\n",
       " 'coordinates': [52.3660594, 4.8996878]}"
      ]
     },
     "execution_count": 48,
     "metadata": {},
     "output_type": "execute_result"
    }
   ],
   "source": [
    "night_club = searchPlaces('night club')\n",
    "len(night_club)\n",
    "ncloc = getLocation(night_club)\n",
    "print(len(ncloc))\n",
    "ncloc[3]"
   ]
  },
  {
   "cell_type": "code",
   "execution_count": 50,
   "metadata": {},
   "outputs": [
    {
     "name": "stdout",
     "output_type": "stream",
     "text": [
      "60\n"
     ]
    },
    {
     "data": {
      "text/plain": [
       "{'name': 'Loving Hut - Vegan House',\n",
       " 'type': 'Point',\n",
       " 'coordinates': [52.3810426, 4.8544336]}"
      ]
     },
     "execution_count": 50,
     "metadata": {},
     "output_type": "execute_result"
    }
   ],
   "source": [
    "vegan_restaurant = searchPlaces('vegan restaurant')\n",
    "len(vegan_restaurant)\n",
    "vrloc = getLocation(vegan_restaurant)\n",
    "print(len(vrloc))\n",
    "vrloc[4]"
   ]
  },
  {
   "cell_type": "code",
   "execution_count": 63,
   "metadata": {},
   "outputs": [
    {
     "name": "stdout",
     "output_type": "stream",
     "text": [
      "1\n"
     ]
    },
    {
     "data": {
      "text/plain": [
       "{'name': 'Schiphol',\n",
       " 'type': 'Point',\n",
       " 'coordinates': [52.3076865, 4.767424099999999]}"
      ]
     },
     "execution_count": 63,
     "metadata": {},
     "output_type": "execute_result"
    }
   ],
   "source": [
    "airport = searchPlaces('airport amsterdam')\n",
    "len(airport)\n",
    "aloc = getLocation(airport)\n",
    "print(len(aloc))\n",
    "aloc[0]"
   ]
  },
  {
   "cell_type": "code",
   "execution_count": 52,
   "metadata": {},
   "outputs": [],
   "source": [
    "gmaps = googlemaps.Client(key=os.getenv(\"key\"))\n",
    "places_result = gmaps.places('airport, Amsterdam')\n"
   ]
  },
  {
   "cell_type": "code",
   "execution_count": 69,
   "metadata": {},
   "outputs": [
    {
     "data": {
      "text/plain": [
       "{'lat': 52.3076865, 'lng': 4.767424099999999}"
      ]
     },
     "execution_count": 69,
     "metadata": {},
     "output_type": "execute_result"
    }
   ],
   "source": [
    "places_result['results'][0]['geometry']['location']"
   ]
  },
  {
   "cell_type": "code",
   "execution_count": 76,
   "metadata": {},
   "outputs": [
    {
     "name": "stdout",
     "output_type": "stream",
     "text": [
      "Stored 'sbloc' (list)\n",
      "Stored 'scloc' (list)\n",
      "Stored 'kdloc' (list)\n",
      "Stored 'ncloc' (list)\n",
      "Stored 'vrloc' (list)\n",
      "Stored 'aloc' (list)\n"
     ]
    }
   ],
   "source": [
    "%store sbloc #starbucks\n",
    "%store scloc #schools\n",
    "%store kdloc #kindergarten\n",
    "%store ncloc #night club\n",
    "%store vrloc #vegan restaurant\n",
    "%store aloc #airport"
   ]
  },
  {
   "cell_type": "code",
   "execution_count": null,
   "metadata": {},
   "outputs": [],
   "source": [
    "#tengo que hacer las colecciones, intentarlo con una funcion\n",
    "col = db['amsterdam']\n",
    "col.insert_many(amsterdam)"
   ]
  },
  {
   "cell_type": "code",
   "execution_count": null,
   "metadata": {},
   "outputs": [],
   "source": [
    "def insertColl(name, listlocs):\n",
    "    "
   ]
  }
 ],
 "metadata": {
  "kernelspec": {
   "display_name": "Python 3",
   "language": "python",
   "name": "python3"
  },
  "language_info": {
   "codemirror_mode": {
    "name": "ipython",
    "version": 3
   },
   "file_extension": ".py",
   "mimetype": "text/x-python",
   "name": "python",
   "nbconvert_exporter": "python",
   "pygments_lexer": "ipython3",
   "version": "3.7.4"
  }
 },
 "nbformat": 4,
 "nbformat_minor": 2
}
