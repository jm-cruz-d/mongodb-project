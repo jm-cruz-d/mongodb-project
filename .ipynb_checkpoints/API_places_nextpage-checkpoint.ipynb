{
 "cells": [
  {
   "cell_type": "code",
   "execution_count": null,
   "metadata": {},
   "outputs": [],
   "source": [
    "!pip3 install python-google-places"
   ]
  },
  {
   "cell_type": "code",
   "execution_count": null,
   "metadata": {},
   "outputs": [],
   "source": [
    "!pip3 install Unidecode"
   ]
  },
  {
   "cell_type": "code",
   "execution_count": 1,
   "metadata": {},
   "outputs": [
    {
     "data": {
      "text/plain": [
       "True"
      ]
     },
     "execution_count": 1,
     "metadata": {},
     "output_type": "execute_result"
    }
   ],
   "source": [
    "from pymongo import MongoClient\n",
    "from googleplaces import GooglePlaces, types, lang\n",
    "from unidecode import unidecode \n",
    "import googlemaps\n",
    "from datetime import datetime\n",
    "import json\n",
    "import time\n",
    "import requests\n",
    "import os\n",
    "from dotenv import load_dotenv\n",
    "load_dotenv()"
   ]
  },
  {
   "cell_type": "code",
   "execution_count": 2,
   "metadata": {},
   "outputs": [],
   "source": [
    "def searchPlaces(query):\n",
    "    API_key = os.getenv('key')\n",
    "    endpoint_url = \"https://maps.googleapis.com/maps/api/place/textsearch/json\"\n",
    "    places = []\n",
    "    params = {\n",
    "        'query': query,\n",
    "        'location': '52.37021, 4.895168',\n",
    "        'radius': 5000,\n",
    "        'key': API_key\n",
    "    }\n",
    "    res = requests.get(endpoint_url, params = params)\n",
    "    results =  json.loads(res.content)\n",
    "    places.extend(results['results'])\n",
    "    time.sleep(2)\n",
    "    while \"next_page_token\" in results:\n",
    "        params['pagetoken'] = results['next_page_token'],\n",
    "        res = requests.get(endpoint_url, params = params)\n",
    "        results = json.loads(res.content)\n",
    "        places.extend(results['results'])\n",
    "        time.sleep(2)\n",
    "    return places"
   ]
  },
  {
   "cell_type": "code",
   "execution_count": 3,
   "metadata": {},
   "outputs": [],
   "source": [
    "starbucks = searchPlaces('Starbucks')"
   ]
  },
  {
   "cell_type": "code",
   "execution_count": 6,
   "metadata": {},
   "outputs": [
    {
     "data": {
      "text/plain": [
       "{'formatted_address': 'Leidsestraat 101, 1017 NZ Amsterdam, Netherlands',\n",
       " 'geometry': {'location': {'lat': 52.36448240000001, 'lng': 4.8836336},\n",
       "  'viewport': {'northeast': {'lat': 52.36607492989272,\n",
       "    'lng': 4.885273579892721},\n",
       "   'southwest': {'lat': 52.36337527010728, 'lng': 4.882573920107277}}},\n",
       " 'icon': 'https://maps.gstatic.com/mapfiles/place_api/icons/cafe-71.png',\n",
       " 'id': 'dbdc22ef98c9361e5823edf56b4b397516ce501a',\n",
       " 'name': 'STARBUCKS COFFEE Leidsestraat Shop',\n",
       " 'opening_hours': {'open_now': True},\n",
       " 'photos': [{'height': 4032,\n",
       "   'html_attributions': ['<a href=\"https://maps.google.com/maps/contrib/118149578868575755031/photos\">Taylan Özgür ÇELİK</a>'],\n",
       "   'photo_reference': 'CmRaAAAA5CAsfp6YgDb6i2WvzwJgbM0fAE5TbUibTFTuK69bYXb95cgSX-lS5AEbMfGKMNeF_lyv1QvmGU7vvCGDSD_JvnpFfjCdjK7vxA1ArywPWt_fLDk7Kh0QqK_Ja1eI9yHZEhC2WsCy46pZWyTmboY-UrbOGhQA82epdNV_kKTAhsOE8mT0fNSbNw',\n",
       "   'width': 3024}],\n",
       " 'place_id': 'ChIJlVbUV-gJxkcRHHmmM_0RSNI',\n",
       " 'plus_code': {'compound_code': '9V7M+QF Amsterdam, Netherlands',\n",
       "  'global_code': '9F469V7M+QF'},\n",
       " 'price_level': 2,\n",
       " 'rating': 4,\n",
       " 'reference': 'ChIJlVbUV-gJxkcRHHmmM_0RSNI',\n",
       " 'types': ['cafe', 'food', 'point_of_interest', 'store', 'establishment'],\n",
       " 'user_ratings_total': 1064}"
      ]
     },
     "execution_count": 6,
     "metadata": {},
     "output_type": "execute_result"
    }
   ],
   "source": [
    "starbucks[0]"
   ]
  },
  {
   "cell_type": "code",
   "execution_count": 7,
   "metadata": {},
   "outputs": [
    {
     "data": {
      "text/plain": [
       "30"
      ]
     },
     "execution_count": 7,
     "metadata": {},
     "output_type": "execute_result"
    }
   ],
   "source": [
    "len(starbucks)"
   ]
  },
  {
   "cell_type": "code",
   "execution_count": 24,
   "metadata": {},
   "outputs": [],
   "source": [
    "def getLocation(companies):\n",
    "    location =[]\n",
    "    for x in range(len(companies)):\n",
    "        longitude = companies[x]['geometry']['location']['lng']\n",
    "        latitude = companies[x]['geometry']['location']['lat']\n",
    "        name=companies[x]['name']\n",
    "        loc = {\n",
    "            'name': name,\n",
    "            'type':'Point',\n",
    "            'coordinates':[longitude, latitude]\n",
    "        }\n",
    "        location.append(loc)\n",
    "    return location"
   ]
  },
  {
   "cell_type": "code",
   "execution_count": 25,
   "metadata": {},
   "outputs": [
    {
     "data": {
      "text/plain": [
       "{'location': {'lat': 52.36448240000001, 'lng': 4.8836336},\n",
       " 'viewport': {'northeast': {'lat': 52.36607492989272,\n",
       "   'lng': 4.885273579892721},\n",
       "  'southwest': {'lat': 52.36337527010728, 'lng': 4.882573920107277}}}"
      ]
     },
     "execution_count": 25,
     "metadata": {},
     "output_type": "execute_result"
    }
   ],
   "source": [
    "starbucks[0]['geometry']"
   ]
  },
  {
   "cell_type": "code",
   "execution_count": 26,
   "metadata": {},
   "outputs": [],
   "source": [
    "sbloc = getLocation(starbucks)"
   ]
  },
  {
   "cell_type": "code",
   "execution_count": 27,
   "metadata": {},
   "outputs": [
    {
     "name": "stdout",
     "output_type": "stream",
     "text": [
      "30\n"
     ]
    },
    {
     "data": {
      "text/plain": [
       "{'name': 'STARBUCKS COFFEE Leidsestraat Shop',\n",
       " 'type': 'Point',\n",
       " 'coordinates': [4.8836336, 52.36448240000001]}"
      ]
     },
     "execution_count": 27,
     "metadata": {},
     "output_type": "execute_result"
    }
   ],
   "source": [
    "print(len(sbloc))\n",
    "sbloc[0]"
   ]
  },
  {
   "cell_type": "code",
   "execution_count": 28,
   "metadata": {},
   "outputs": [
    {
     "name": "stdout",
     "output_type": "stream",
     "text": [
      "60\n"
     ]
    },
    {
     "data": {
      "text/plain": [
       "{'name': 'Public Elementary School De Kleine Nicolaas',\n",
       " 'type': 'Point',\n",
       " 'coordinates': [4.8633356, 52.3515548]}"
      ]
     },
     "execution_count": 28,
     "metadata": {},
     "output_type": "execute_result"
    }
   ],
   "source": [
    "schools = searchPlaces('Primary school')\n",
    "len(schools)\n",
    "scloc = getLocation(schools)\n",
    "print(len(scloc))\n",
    "scloc[1]"
   ]
  },
  {
   "cell_type": "code",
   "execution_count": 29,
   "metadata": {},
   "outputs": [
    {
     "name": "stdout",
     "output_type": "stream",
     "text": [
      "60\n"
     ]
    },
    {
     "data": {
      "text/plain": [
       "{'name': 'Kindergarden Kinderdagverblijf Amsterdam Villa Vondel',\n",
       " 'type': 'Point',\n",
       " 'coordinates': [4.8576681, 52.35313420000001]}"
      ]
     },
     "execution_count": 29,
     "metadata": {},
     "output_type": "execute_result"
    }
   ],
   "source": [
    "kindergarten = searchPlaces('kindergarten')\n",
    "len(kindergarten)\n",
    "kdloc = getLocation(kindergarten)\n",
    "print(len(kdloc))\n",
    "kdloc[2]"
   ]
  },
  {
   "cell_type": "code",
   "execution_count": 30,
   "metadata": {},
   "outputs": [
    {
     "name": "stdout",
     "output_type": "stream",
     "text": [
      "60\n"
     ]
    },
    {
     "data": {
      "text/plain": [
       "{'name': 'Blue Ivy Nightclub',\n",
       " 'type': 'Point',\n",
       " 'coordinates': [4.8996878, 52.3660594]}"
      ]
     },
     "execution_count": 30,
     "metadata": {},
     "output_type": "execute_result"
    }
   ],
   "source": [
    "night_club = searchPlaces('night club')\n",
    "len(night_club)\n",
    "ncloc = getLocation(night_club)\n",
    "print(len(ncloc))\n",
    "ncloc[3]"
   ]
  },
  {
   "cell_type": "code",
   "execution_count": 31,
   "metadata": {},
   "outputs": [
    {
     "name": "stdout",
     "output_type": "stream",
     "text": [
      "60\n"
     ]
    },
    {
     "data": {
      "text/plain": [
       "{'name': 'Loving Hut - Vegan House',\n",
       " 'type': 'Point',\n",
       " 'coordinates': [4.8544336, 52.3810426]}"
      ]
     },
     "execution_count": 31,
     "metadata": {},
     "output_type": "execute_result"
    }
   ],
   "source": [
    "vegan_restaurant = searchPlaces('vegan restaurant')\n",
    "len(vegan_restaurant)\n",
    "vrloc = getLocation(vegan_restaurant)\n",
    "print(len(vrloc))\n",
    "vrloc[4]"
   ]
  },
  {
   "cell_type": "code",
   "execution_count": 32,
   "metadata": {},
   "outputs": [
    {
     "name": "stdout",
     "output_type": "stream",
     "text": [
      "1\n"
     ]
    },
    {
     "data": {
      "text/plain": [
       "{'name': 'Schiphol',\n",
       " 'type': 'Point',\n",
       " 'coordinates': [4.767424099999999, 52.3076865]}"
      ]
     },
     "execution_count": 32,
     "metadata": {},
     "output_type": "execute_result"
    }
   ],
   "source": [
    "airport = searchPlaces('airport amsterdam')\n",
    "len(airport)\n",
    "aloc = getLocation(airport)\n",
    "print(len(aloc))\n",
    "aloc[0]"
   ]
  },
  {
   "cell_type": "code",
   "execution_count": 33,
   "metadata": {},
   "outputs": [],
   "source": [
    "#gmaps = googlemaps.Client(key=os.getenv(\"key\"))\n",
    "#places_result = gmaps.places('airport, Amsterdam')\n"
   ]
  },
  {
   "cell_type": "code",
   "execution_count": 34,
   "metadata": {},
   "outputs": [],
   "source": [
    "#places_result['results'][0]['geometry']['location']"
   ]
  },
  {
   "cell_type": "code",
   "execution_count": 35,
   "metadata": {},
   "outputs": [
    {
     "name": "stdout",
     "output_type": "stream",
     "text": [
      "Stored 'sbloc' (list)\n",
      "Stored 'scloc' (list)\n",
      "Stored 'kdloc' (list)\n",
      "Stored 'ncloc' (list)\n",
      "Stored 'vrloc' (list)\n",
      "Stored 'aloc' (list)\n"
     ]
    }
   ],
   "source": [
    "%store sbloc #starbucks\n",
    "%store scloc #schools\n",
    "%store kdloc #kindergarten\n",
    "%store ncloc #night club\n",
    "%store vrloc #vegan restaurant\n",
    "%store aloc #airport"
   ]
  },
  {
   "cell_type": "code",
   "execution_count": 36,
   "metadata": {},
   "outputs": [],
   "source": [
    "def connectCollection(database, collection):\n",
    "    client = MongoClient()\n",
    "    db = client[database]\n",
    "    coll = db[collection]\n",
    "    return db, coll"
   ]
  },
  {
   "cell_type": "code",
   "execution_count": 37,
   "metadata": {},
   "outputs": [],
   "source": [
    "db, coll = connectCollection('companies', 'companies')"
   ]
  },
  {
   "cell_type": "code",
   "execution_count": 38,
   "metadata": {},
   "outputs": [
    {
     "data": {
      "text/plain": [
       "[{'name': 'Schiphol',\n",
       "  'type': 'Point',\n",
       "  'coordinates': [4.767424099999999, 52.3076865]}]"
      ]
     },
     "execution_count": 38,
     "metadata": {},
     "output_type": "execute_result"
    }
   ],
   "source": [
    "aloc"
   ]
  },
  {
   "cell_type": "code",
   "execution_count": 39,
   "metadata": {},
   "outputs": [
    {
     "data": {
      "text/plain": [
       "<pymongo.results.InsertManyResult at 0x1056ae820>"
      ]
     },
     "execution_count": 39,
     "metadata": {},
     "output_type": "execute_result"
    }
   ],
   "source": [
    "col = db[\"airport\"]\n",
    "col.insert_many(aloc)"
   ]
  },
  {
   "cell_type": "code",
   "execution_count": 40,
   "metadata": {},
   "outputs": [],
   "source": [
    "diccsearch = {'starbucks': sbloc,\n",
    "              'schools': scloc,\n",
    "              'kindergarten': kdloc,\n",
    "              'clubs': ncloc,\n",
    "              'veganrest': vrloc,\n",
    "              'airport': aloc}"
   ]
  },
  {
   "cell_type": "code",
   "execution_count": 41,
   "metadata": {},
   "outputs": [],
   "source": [
    "def insertColl(dictionary, database):\n",
    "    for k, v in dictionary.items():\n",
    "        col = database[k]\n",
    "        col.insert_many(v)\n",
    "        print(\"collects inserted\")"
   ]
  },
  {
   "cell_type": "code",
   "execution_count": 42,
   "metadata": {},
   "outputs": [
    {
     "name": "stdout",
     "output_type": "stream",
     "text": [
      "collects inserted\n",
      "collects inserted\n",
      "collects inserted\n",
      "collects inserted\n",
      "collects inserted\n",
      "collects inserted\n"
     ]
    }
   ],
   "source": [
    "insertColl(diccsearch, db)"
   ]
  },
  {
   "cell_type": "code",
   "execution_count": 43,
   "metadata": {},
   "outputs": [
    {
     "data": {
      "text/plain": [
       "4.767424099999999"
      ]
     },
     "execution_count": 43,
     "metadata": {},
     "output_type": "execute_result"
    }
   ],
   "source": [
    "aloc[0]['coordinates'][0]\n"
   ]
  },
  {
   "cell_type": "code",
   "execution_count": 44,
   "metadata": {},
   "outputs": [],
   "source": [
    "def getLocation(companies):\n",
    "    location =[]\n",
    "    longitude = companies['coordinates'][1]\n",
    "    latitude = companies['coordinates'][0]\n",
    "    loc = {\n",
    "        'type':'Point',\n",
    "        'coordinates':[latitude, longitude]\n",
    "    }\n",
    "    location.append(loc)\n",
    "    print(location)\n",
    "    return location"
   ]
  },
  {
   "cell_type": "code",
   "execution_count": 45,
   "metadata": {},
   "outputs": [
    {
     "name": "stdout",
     "output_type": "stream",
     "text": [
      "[{'type': 'Point', 'coordinates': [4.8836336, 52.36448240000001]}]\n",
      "[{'type': 'Point', 'coordinates': [4.8942746, 52.37429770000001]}]\n",
      "[{'type': 'Point', 'coordinates': [4.900354099999999, 52.37904899999999]}]\n",
      "[{'type': 'Point', 'coordinates': [4.8977405, 52.3659541]}]\n",
      "[{'type': 'Point', 'coordinates': [4.9043465, 52.37687829999999]}]\n",
      "[{'type': 'Point', 'coordinates': [4.8771144, 52.3493467]}]\n",
      "[{'type': 'Point', 'coordinates': [4.8905951, 52.3553881]}]\n",
      "[{'type': 'Point', 'coordinates': [4.8896652, 52.36699789999999]}]\n",
      "[{'type': 'Point', 'coordinates': [4.8375534, 52.3892232]}]\n",
      "[{'type': 'Point', 'coordinates': [4.8758273, 52.36311569999999]}]\n",
      "[{'type': 'Point', 'coordinates': [4.8731287, 52.33961009999999]}]\n",
      "[{'type': 'Point', 'coordinates': [4.917986099999999, 52.3464775]}]\n",
      "[{'type': 'Point', 'coordinates': [4.8896519, 52.32816709999999]}]\n",
      "[{'type': 'Point', 'coordinates': [4.892257499999999, 52.3703102]}]\n",
      "[{'type': 'Point', 'coordinates': [4.870430199999999, 52.3364927]}]\n",
      "[{'type': 'Point', 'coordinates': [4.9005785, 52.3798957]}]\n",
      "[{'type': 'Point', 'coordinates': [4.947705, 52.3121749]}]\n",
      "[{'type': 'Point', 'coordinates': [4.8617459, 52.30287]}]\n",
      "[{'type': 'Point', 'coordinates': [4.864634, 52.3841098]}]\n",
      "[{'type': 'Point', 'coordinates': [4.7627697, 52.3097748]}]\n",
      "[{'type': 'Point', 'coordinates': [4.769328, 52.308968]}]\n",
      "[{'type': 'Point', 'coordinates': [4.900392099999999, 52.3799621]}]\n",
      "[{'type': 'Point', 'coordinates': [4.759779, 52.310937]}]\n",
      "[{'type': 'Point', 'coordinates': [4.751034499999999, 52.30482139999999]}]\n",
      "[{'type': 'Point', 'coordinates': [4.7693463, 52.3089581]}]\n",
      "[{'type': 'Point', 'coordinates': [4.9236606, 52.40299479999999]}]\n",
      "[{'type': 'Point', 'coordinates': [4.9158558, 52.37760369999999]}]\n",
      "[{'type': 'Point', 'coordinates': [4.7596772, 52.3101156]}]\n",
      "[{'type': 'Point', 'coordinates': [4.7643564, 52.306903]}]\n",
      "[{'type': 'Point', 'coordinates': [4.769095699999999, 52.3088518]}]\n",
      "[{'type': 'Point', 'coordinates': [4.8586598, 52.3503303]}]\n",
      "[{'type': 'Point', 'coordinates': [4.8633356, 52.3515548]}]\n",
      "[{'type': 'Point', 'coordinates': [4.902455799999999, 52.3561097]}]\n",
      "[{'type': 'Point', 'coordinates': [4.847756599999999, 52.3827808]}]\n",
      "[{'type': 'Point', 'coordinates': [4.9586406, 52.3411267]}]\n",
      "[{'type': 'Point', 'coordinates': [4.9135409, 52.3816242]}]\n",
      "[{'type': 'Point', 'coordinates': [4.9172664, 52.3868069]}]\n",
      "[{'type': 'Point', 'coordinates': [4.8606725, 52.3743888]}]\n",
      "[{'type': 'Point', 'coordinates': [4.8580612, 52.3705986]}]\n",
      "[{'type': 'Point', 'coordinates': [4.899729, 52.3433973]}]\n",
      "[{'type': 'Point', 'coordinates': [4.9134971, 52.3597797]}]\n",
      "[{'type': 'Point', 'coordinates': [4.8392894, 52.3631307]}]\n",
      "[{'type': 'Point', 'coordinates': [4.8869026, 52.3898986]}]\n",
      "[{'type': 'Point', 'coordinates': [4.8802108, 52.35937029999999]}]\n",
      "[{'type': 'Point', 'coordinates': [4.8553329, 52.3731982]}]\n",
      "[{'type': 'Point', 'coordinates': [4.846344, 52.355133]}]\n",
      "[{'type': 'Point', 'coordinates': [4.8550719, 52.3668132]}]\n",
      "[{'type': 'Point', 'coordinates': [4.9339121, 52.3472692]}]\n",
      "[{'type': 'Point', 'coordinates': [4.9042338, 52.34411009999999]}]\n",
      "[{'type': 'Point', 'coordinates': [4.8282875, 52.3837201]}]\n",
      "[{'type': 'Point', 'coordinates': [4.9156752, 52.3933122]}]\n",
      "[{'type': 'Point', 'coordinates': [4.8367685, 52.38062189999999]}]\n",
      "[{'type': 'Point', 'coordinates': [4.916198, 52.3901473]}]\n",
      "[{'type': 'Point', 'coordinates': [4.9161905, 52.3953582]}]\n",
      "[{'type': 'Point', 'coordinates': [4.9360011, 52.3964371]}]\n",
      "[{'type': 'Point', 'coordinates': [4.8217222, 52.3837024]}]\n",
      "[{'type': 'Point', 'coordinates': [4.8780524, 52.3327207]}]\n",
      "[{'type': 'Point', 'coordinates': [4.9112293, 52.35889400000001]}]\n",
      "[{'type': 'Point', 'coordinates': [4.8988473, 52.3528488]}]\n",
      "[{'type': 'Point', 'coordinates': [4.8979043, 52.35317740000001]}]\n",
      "[{'type': 'Point', 'coordinates': [4.8756638, 52.35409809999999]}]\n",
      "[{'type': 'Point', 'coordinates': [4.92045, 52.38852559999999]}]\n",
      "[{'type': 'Point', 'coordinates': [4.9021308, 52.3731742]}]\n",
      "[{'type': 'Point', 'coordinates': [4.922552, 52.3799834]}]\n",
      "[{'type': 'Point', 'coordinates': [4.8526346, 52.3620417]}]\n",
      "[{'type': 'Point', 'coordinates': [4.8385066, 52.3492679]}]\n",
      "[{'type': 'Point', 'coordinates': [4.9220375, 52.4109945]}]\n",
      "[{'type': 'Point', 'coordinates': [4.869816399999999, 52.35142219999999]}]\n",
      "[{'type': 'Point', 'coordinates': [4.9322796, 52.3947388]}]\n",
      "[{'type': 'Point', 'coordinates': [4.942218, 52.36121]}]\n",
      "[{'type': 'Point', 'coordinates': [4.83986, 52.37886700000001]}]\n",
      "[{'type': 'Point', 'coordinates': [4.9189412, 52.35424219999999]}]\n",
      "[{'type': 'Point', 'coordinates': [4.8931429, 52.3457787]}]\n",
      "[{'type': 'Point', 'coordinates': [4.871309699999999, 52.38330819999999]}]\n",
      "[{'type': 'Point', 'coordinates': [4.858047, 52.363485]}]\n",
      "[{'type': 'Point', 'coordinates': [4.8747846, 52.3266375]}]\n",
      "[{'type': 'Point', 'coordinates': [4.959084, 52.3352734]}]\n",
      "[{'type': 'Point', 'coordinates': [4.9426313, 52.3733605]}]\n",
      "[{'type': 'Point', 'coordinates': [4.9416228, 52.4021262]}]\n",
      "[{'type': 'Point', 'coordinates': [4.874398999999999, 52.38226599999999]}]\n",
      "[{'type': 'Point', 'coordinates': [4.9457523, 52.4006137]}]\n",
      "[{'type': 'Point', 'coordinates': [4.918085, 52.410899]}]\n",
      "[{'type': 'Point', 'coordinates': [4.9505107, 52.3950138]}]\n",
      "[{'type': 'Point', 'coordinates': [4.926231, 52.3615445]}]\n",
      "[{'type': 'Point', 'coordinates': [4.901051, 52.3609187]}]\n",
      "[{'type': 'Point', 'coordinates': [4.8803369, 52.3880372]}]\n",
      "[{'type': 'Point', 'coordinates': [4.904168299999999, 52.370287]}]\n",
      "[{'type': 'Point', 'coordinates': [4.8933028, 52.3538642]}]\n",
      "[{'type': 'Point', 'coordinates': [4.8905195, 52.3784313]}]\n",
      "[{'type': 'Point', 'coordinates': [4.930983599999999, 52.3748312]}]\n",
      "[{'type': 'Point', 'coordinates': [4.874885, 52.34199760000001]}]\n",
      "[{'type': 'Point', 'coordinates': [4.875636, 52.3686051]}]\n",
      "[{'type': 'Point', 'coordinates': [4.8576681, 52.35313420000001]}]\n",
      "[{'type': 'Point', 'coordinates': [4.9360609, 52.3500585]}]\n",
      "[{'type': 'Point', 'coordinates': [4.8765176, 52.3618414]}]\n",
      "[{'type': 'Point', 'coordinates': [4.8757209, 52.3485089]}]\n",
      "[{'type': 'Point', 'coordinates': [4.874306, 52.3793871]}]\n",
      "[{'type': 'Point', 'coordinates': [4.8711835, 52.35629059999999]}]\n",
      "[{'type': 'Point', 'coordinates': [4.9564324, 52.334288]}]\n",
      "[{'type': 'Point', 'coordinates': [4.893504399999999, 52.3529014]}]\n",
      "[{'type': 'Point', 'coordinates': [4.9376226, 52.3285647]}]\n",
      "[{'type': 'Point', 'coordinates': [4.9223143, 52.3879829]}]\n",
      "[{'type': 'Point', 'coordinates': [4.9081215, 52.3645185]}]\n",
      "[{'type': 'Point', 'coordinates': [4.9356278, 52.3963334]}]\n",
      "[{'type': 'Point', 'coordinates': [4.9023387, 52.3731754]}]\n",
      "[{'type': 'Point', 'coordinates': [4.9298603, 52.3971202]}]\n",
      "[{'type': 'Point', 'coordinates': [4.837267199999999, 52.3498015]}]\n",
      "[{'type': 'Point', 'coordinates': [4.8976732, 52.3640541]}]\n",
      "[{'type': 'Point', 'coordinates': [4.9135409, 52.3816242]}]\n",
      "[{'type': 'Point', 'coordinates': [4.9083499, 52.3454817]}]\n",
      "[{'type': 'Point', 'coordinates': [4.8800318, 52.3493377]}]\n",
      "[{'type': 'Point', 'coordinates': [4.8785397, 52.3535542]}]\n",
      "[{'type': 'Point', 'coordinates': [4.8646812, 52.3660747]}]\n",
      "[{'type': 'Point', 'coordinates': [4.864850199999999, 52.3592015]}]\n",
      "[{'type': 'Point', 'coordinates': [4.9271855, 52.3596706]}]\n",
      "[{'type': 'Point', 'coordinates': [4.847279299999999, 52.339943]}]\n",
      "[{'type': 'Point', 'coordinates': [4.8402331, 52.3542208]}]\n",
      "[{'type': 'Point', 'coordinates': [4.8749483, 52.3251643]}]\n",
      "[{'type': 'Point', 'coordinates': [4.8612433, 52.36977839999999]}]\n",
      "[{'type': 'Point', 'coordinates': [4.8934825, 52.3529348]}]\n",
      "[{'type': 'Point', 'coordinates': [4.8711299, 52.3683761]}]\n",
      "[{'type': 'Point', 'coordinates': [4.9232247, 52.3891206]}]\n",
      "[{'type': 'Point', 'coordinates': [4.9225562, 52.3650686]}]\n",
      "[{'type': 'Point', 'coordinates': [4.9006871, 52.3544974]}]\n",
      "[{'type': 'Point', 'coordinates': [4.881207499999999, 52.3773075]}]\n",
      "[{'type': 'Point', 'coordinates': [4.8744774, 52.37483760000001]}]\n",
      "[{'type': 'Point', 'coordinates': [4.9685612, 52.33947329999999]}]\n",
      "[{'type': 'Point', 'coordinates': [4.843592699999999, 52.36060699999999]}]\n",
      "[{'type': 'Point', 'coordinates': [4.8749484, 52.3251643]}]\n",
      "[{'type': 'Point', 'coordinates': [4.9101102, 52.3679186]}]\n",
      "[{'type': 'Point', 'coordinates': [4.9393958, 52.3625181]}]\n",
      "[{'type': 'Point', 'coordinates': [4.8473234, 52.3821677]}]\n",
      "[{'type': 'Point', 'coordinates': [4.8811114, 52.3862258]}]\n",
      "[{'type': 'Point', 'coordinates': [4.900808, 52.354496]}]\n",
      "[{'type': 'Point', 'coordinates': [4.931381300000001, 52.3556533]}]\n",
      "[{'type': 'Point', 'coordinates': [4.856033399999999, 52.3535066]}]\n",
      "[{'type': 'Point', 'coordinates': [4.8638265, 52.3415902]}]\n",
      "[{'type': 'Point', 'coordinates': [4.858685299999999, 52.3223065]}]\n",
      "[{'type': 'Point', 'coordinates': [4.8725815, 52.336268]}]\n"
     ]
    },
    {
     "name": "stdout",
     "output_type": "stream",
     "text": [
      "[{'type': 'Point', 'coordinates': [4.9589433, 52.3199492]}]\n",
      "[{'type': 'Point', 'coordinates': [4.9723578, 52.3115969]}]\n",
      "[{'type': 'Point', 'coordinates': [4.7932617, 52.3490027]}]\n",
      "[{'type': 'Point', 'coordinates': [4.980779, 52.362443]}]\n",
      "[{'type': 'Point', 'coordinates': [4.9867403, 52.3163654]}]\n",
      "[{'type': 'Point', 'coordinates': [4.9966515, 52.3565859]}]\n",
      "[{'type': 'Point', 'coordinates': [4.8592495, 52.2933412]}]\n",
      "[{'type': 'Point', 'coordinates': [4.853890499999999, 52.3514953]}]\n",
      "[{'type': 'Point', 'coordinates': [4.8592492, 52.30570849999999]}]\n",
      "[{'type': 'Point', 'coordinates': [4.849022, 52.4370451]}]\n",
      "[{'type': 'Point', 'coordinates': [4.9807792, 52.3624427]}]\n",
      "[{'type': 'Point', 'coordinates': [4.8968611, 52.3745369]}]\n",
      "[{'type': 'Point', 'coordinates': [4.8962443, 52.36566639999999]}]\n",
      "[{'type': 'Point', 'coordinates': [4.8963486, 52.3664279]}]\n",
      "[{'type': 'Point', 'coordinates': [4.8996878, 52.3660594]}]\n",
      "[{'type': 'Point', 'coordinates': [4.890917, 52.3721164]}]\n",
      "[{'type': 'Point', 'coordinates': [4.899462100000001, 52.3661098]}]\n",
      "[{'type': 'Point', 'coordinates': [4.899332500000001, 52.3667165]}]\n",
      "[{'type': 'Point', 'coordinates': [4.8958653, 52.36539140000001]}]\n",
      "[{'type': 'Point', 'coordinates': [4.897587, 52.366464]}]\n",
      "[{'type': 'Point', 'coordinates': [4.883681999999999, 52.363972]}]\n",
      "[{'type': 'Point', 'coordinates': [4.8518123, 52.39381789999999]}]\n",
      "[{'type': 'Point', 'coordinates': [4.902919199999999, 52.3838075]}]\n",
      "[{'type': 'Point', 'coordinates': [4.882696, 52.365138]}]\n",
      "[{'type': 'Point', 'coordinates': [4.8923966, 52.3666451]}]\n",
      "[{'type': 'Point', 'coordinates': [4.856074, 52.363632]}]\n",
      "[{'type': 'Point', 'coordinates': [4.890185400000001, 52.3680748]}]\n",
      "[{'type': 'Point', 'coordinates': [4.8846631, 52.364062]}]\n",
      "[{'type': 'Point', 'coordinates': [4.8849222, 52.3630419]}]\n",
      "[{'type': 'Point', 'coordinates': [4.882211, 52.364748]}]\n",
      "[{'type': 'Point', 'coordinates': [4.8970018, 52.3746525]}]\n",
      "[{'type': 'Point', 'coordinates': [4.894546, 52.378287]}]\n",
      "[{'type': 'Point', 'coordinates': [4.8822071, 52.3649221]}]\n",
      "[{'type': 'Point', 'coordinates': [4.867600599999999, 52.3501183]}]\n",
      "[{'type': 'Point', 'coordinates': [4.8848357, 52.3644007]}]\n",
      "[{'type': 'Point', 'coordinates': [4.8806563, 52.3603552]}]\n",
      "[{'type': 'Point', 'coordinates': [4.8818315, 52.3648119]}]\n",
      "[{'type': 'Point', 'coordinates': [4.895861000000001, 52.3718604]}]\n",
      "[{'type': 'Point', 'coordinates': [4.882159199999999, 52.3648955]}]\n",
      "[{'type': 'Point', 'coordinates': [4.8700145, 52.38713019999999]}]\n",
      "[{'type': 'Point', 'coordinates': [4.8519958, 52.3856761]}]\n",
      "[{'type': 'Point', 'coordinates': [4.855634300000001, 52.3394685]}]\n",
      "[{'type': 'Point', 'coordinates': [4.8797575, 52.3767028]}]\n",
      "[{'type': 'Point', 'coordinates': [4.882203, 52.36477199999999]}]\n",
      "[{'type': 'Point', 'coordinates': [4.9116007, 52.353777]}]\n",
      "[{'type': 'Point', 'coordinates': [4.896334899999999, 52.3668164]}]\n",
      "[{'type': 'Point', 'coordinates': [4.8844745, 52.364194]}]\n",
      "[{'type': 'Point', 'coordinates': [4.928392, 52.384538]}]\n",
      "[{'type': 'Point', 'coordinates': [4.912372899999999, 52.3988039]}]\n",
      "[{'type': 'Point', 'coordinates': [4.8927191, 52.3555603]}]\n",
      "[{'type': 'Point', 'coordinates': [4.8650821, 52.3758121]}]\n",
      "[{'type': 'Point', 'coordinates': [4.8994073, 52.3736671]}]\n",
      "[{'type': 'Point', 'coordinates': [4.9130867, 52.3518803]}]\n",
      "[{'type': 'Point', 'coordinates': [4.8370516, 52.3767745]}]\n",
      "[{'type': 'Point', 'coordinates': [4.8376131, 52.3890746]}]\n",
      "[{'type': 'Point', 'coordinates': [4.8915865, 52.36116149999999]}]\n",
      "[{'type': 'Point', 'coordinates': [4.9606746, 52.3707815]}]\n",
      "[{'type': 'Point', 'coordinates': [4.8716339, 52.39933670000001]}]\n",
      "[{'type': 'Point', 'coordinates': [4.903027199999999, 52.3831177]}]\n",
      "[{'type': 'Point', 'coordinates': [4.8415971, 52.3605259]}]\n",
      "[{'type': 'Point', 'coordinates': [4.868415300000001, 52.3843497]}]\n",
      "[{'type': 'Point', 'coordinates': [4.883255699999999, 52.3648]}]\n",
      "[{'type': 'Point', 'coordinates': [4.8692199, 52.3712098]}]\n",
      "[{'type': 'Point', 'coordinates': [4.8691739, 52.3668029]}]\n",
      "[{'type': 'Point', 'coordinates': [4.9610049, 52.3715047]}]\n",
      "[{'type': 'Point', 'coordinates': [4.8517584, 52.3565728]}]\n",
      "[{'type': 'Point', 'coordinates': [4.907506, 52.34744209999999]}]\n",
      "[{'type': 'Point', 'coordinates': [4.885496, 52.354741]}]\n",
      "[{'type': 'Point', 'coordinates': [4.8468168, 52.4000012]}]\n",
      "[{'type': 'Point', 'coordinates': [4.8873741, 52.3747659]}]\n",
      "[{'type': 'Point', 'coordinates': [4.902175, 52.383828]}]\n",
      "[{'type': 'Point', 'coordinates': [4.8632043, 52.36028220000001]}]\n",
      "[{'type': 'Point', 'coordinates': [4.8961991, 52.3560554]}]\n",
      "[{'type': 'Point', 'coordinates': [4.9016187, 52.35404339999999]}]\n",
      "[{'type': 'Point', 'coordinates': [4.9290881, 52.3552526]}]\n",
      "[{'type': 'Point', 'coordinates': [4.8544336, 52.3810426]}]\n",
      "[{'type': 'Point', 'coordinates': [4.87071, 52.370026]}]\n",
      "[{'type': 'Point', 'coordinates': [4.8590293, 52.34518199999999]}]\n",
      "[{'type': 'Point', 'coordinates': [4.891575, 52.3572385]}]\n",
      "[{'type': 'Point', 'coordinates': [4.9282408, 52.3630192]}]\n",
      "[{'type': 'Point', 'coordinates': [4.8914415, 52.3663781]}]\n",
      "[{'type': 'Point', 'coordinates': [4.9137, 52.359323]}]\n",
      "[{'type': 'Point', 'coordinates': [4.9035758, 52.3513756]}]\n",
      "[{'type': 'Point', 'coordinates': [4.905777899999999, 52.34554079999999]}]\n",
      "[{'type': 'Point', 'coordinates': [4.8937772, 52.366985]}]\n",
      "[{'type': 'Point', 'coordinates': [4.89476, 52.3765036]}]\n",
      "[{'type': 'Point', 'coordinates': [4.8841725, 52.3647787]}]\n",
      "[{'type': 'Point', 'coordinates': [4.886051, 52.361598]}]\n",
      "[{'type': 'Point', 'coordinates': [4.872707699999999, 52.3742187]}]\n",
      "[{'type': 'Point', 'coordinates': [4.854267999999999, 52.35394729999999]}]\n",
      "[{'type': 'Point', 'coordinates': [4.8615061, 52.3591886]}]\n",
      "[{'type': 'Point', 'coordinates': [4.8991181, 52.3613721]}]\n",
      "[{'type': 'Point', 'coordinates': [4.8716395, 52.38526]}]\n",
      "[{'type': 'Point', 'coordinates': [4.941644999999999, 52.3765294]}]\n",
      "[{'type': 'Point', 'coordinates': [4.890146, 52.3557557]}]\n",
      "[{'type': 'Point', 'coordinates': [4.889897599999999, 52.35277989999999]}]\n",
      "[{'type': 'Point', 'coordinates': [4.8895311, 52.35494509999999]}]\n",
      "[{'type': 'Point', 'coordinates': [4.913155, 52.376521]}]\n",
      "[{'type': 'Point', 'coordinates': [4.8656822, 52.3601328]}]\n",
      "[{'type': 'Point', 'coordinates': [4.871333, 52.379717]}]\n",
      "[{'type': 'Point', 'coordinates': [4.8852734, 52.378904]}]\n",
      "[{'type': 'Point', 'coordinates': [4.9303628, 52.35406210000001]}]\n",
      "[{'type': 'Point', 'coordinates': [4.8975471, 52.3655197]}]\n",
      "[{'type': 'Point', 'coordinates': [4.8871954, 52.3751341]}]\n",
      "[{'type': 'Point', 'coordinates': [4.819876199999999, 52.3840093]}]\n",
      "[{'type': 'Point', 'coordinates': [4.8712597, 52.3373741]}]\n",
      "[{'type': 'Point', 'coordinates': [4.8936062, 52.3532263]}]\n",
      "[{'type': 'Point', 'coordinates': [4.8723563, 52.36654170000001]}]\n",
      "[{'type': 'Point', 'coordinates': [4.8933883, 52.3552872]}]\n",
      "[{'type': 'Point', 'coordinates': [4.879998899999999, 52.3707065]}]\n",
      "[{'type': 'Point', 'coordinates': [4.8722417, 52.36658389999999]}]\n",
      "[{'type': 'Point', 'coordinates': [4.8557762, 52.3533437]}]\n",
      "[{'type': 'Point', 'coordinates': [4.9260043, 52.36767159999999]}]\n",
      "[{'type': 'Point', 'coordinates': [4.8773186, 52.36880619999999]}]\n",
      "[{'type': 'Point', 'coordinates': [4.8513926, 52.3704268]}]\n",
      "[{'type': 'Point', 'coordinates': [4.893581, 52.3668591]}]\n",
      "[{'type': 'Point', 'coordinates': [4.855305599999999, 52.3548027]}]\n",
      "[{'type': 'Point', 'coordinates': [4.9030013, 52.35145559999999]}]\n",
      "[{'type': 'Point', 'coordinates': [4.8991526, 52.35692330000001]}]\n",
      "[{'type': 'Point', 'coordinates': [4.8889195, 52.3571514]}]\n",
      "[{'type': 'Point', 'coordinates': [4.8937336, 52.3532844]}]\n",
      "[{'type': 'Point', 'coordinates': [4.8941557, 52.3761435]}]\n",
      "[{'type': 'Point', 'coordinates': [4.8873149, 52.3524615]}]\n",
      "[{'type': 'Point', 'coordinates': [4.8912201, 52.3530965]}]\n",
      "[{'type': 'Point', 'coordinates': [4.888087, 52.382357]}]\n",
      "[{'type': 'Point', 'coordinates': [4.8908708, 52.3544862]}]\n",
      "[{'type': 'Point', 'coordinates': [4.896185099999999, 52.3758297]}]\n",
      "[{'type': 'Point', 'coordinates': [4.871182300000001, 52.36816719999999]}]\n",
      "[{'type': 'Point', 'coordinates': [4.8484681, 52.3782394]}]\n",
      "[{'type': 'Point', 'coordinates': [4.902157, 52.3690209]}]\n",
      "[{'type': 'Point', 'coordinates': [4.909893299999999, 52.356286]}]\n",
      "[{'type': 'Point', 'coordinates': [4.767424099999999, 52.3076865]}]\n"
     ]
    }
   ],
   "source": [
    "for k, v in diccsearch.items():\n",
    "    for v1 in v:\n",
    "        db, coll = connectCollection('companies', k)\n",
    "        value = {\"$set\": {'location':getLocation(v1)}}\n",
    "        query = {\"_id\": v1['_id']}\n",
    "        coll.update_many(query, value)"
   ]
  },
  {
   "cell_type": "code",
   "execution_count": null,
   "metadata": {},
   "outputs": [],
   "source": []
  }
 ],
 "metadata": {
  "kernelspec": {
   "display_name": "Python 3",
   "language": "python",
   "name": "python3"
  },
  "language_info": {
   "codemirror_mode": {
    "name": "ipython",
    "version": 3
   },
   "file_extension": ".py",
   "mimetype": "text/x-python",
   "name": "python",
   "nbconvert_exporter": "python",
   "pygments_lexer": "ipython3",
   "version": "3.7.4"
  }
 },
 "nbformat": 4,
 "nbformat_minor": 2
}
