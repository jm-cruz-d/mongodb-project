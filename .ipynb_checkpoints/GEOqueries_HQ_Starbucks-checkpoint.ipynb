{
 "cells": [
  {
   "cell_type": "code",
   "execution_count": 1,
   "metadata": {},
   "outputs": [
    {
     "data": {
      "text/plain": [
       "True"
      ]
     },
     "execution_count": 1,
     "metadata": {},
     "output_type": "execute_result"
    }
   ],
   "source": [
    "import re\n",
    "import pandas as pd\n",
    "from pymongo import MongoClient\n",
    "import folium\n",
    "import googlemaps\n",
    "from datetime import datetime\n",
    "import os\n",
    "from dotenv import load_dotenv\n",
    "load_dotenv()"
   ]
  },
  {
   "cell_type": "code",
   "execution_count": 2,
   "metadata": {},
   "outputs": [],
   "source": [
    "def connectCollection(database, collection):\n",
    "    client = MongoClient()\n",
    "    db = client[database]\n",
    "    coll = db[collection]\n",
    "    return db, coll"
   ]
  },
  {
   "cell_type": "code",
   "execution_count": 3,
   "metadata": {},
   "outputs": [
    {
     "name": "stdout",
     "output_type": "stream",
     "text": [
      "23\n",
      "{'_id': ObjectId('5dd6ada72eb127ee9342a41c'), 'name': \"Oostheim Bro's\", 'address': 'Albert Cuypstraat 139, 1072 CS Amsterdam, Netherlands', 'location': {'type': 'Point', 'coordinates': [4.8927191, 52.3555603]}}\n"
     ]
    },
    {
     "name": "stderr",
     "output_type": "stream",
     "text": [
      "/usr/local/Cellar/ipython/7.8.0/libexec/vendor/lib/python3.7/site-packages/ipykernel_launcher.py:18: DeprecationWarning: count is deprecated. Use Collection.count_documents instead.\n"
     ]
    }
   ],
   "source": [
    "def filterType(lat,lng, typeName, radius):\n",
    "    db, coll = connectCollection('companies', typeName)\n",
    "    results = coll.find({\n",
    "        \"location\":{\n",
    "            \"$near\":{\n",
    "                \"$geometry\":{\n",
    "                    \"type\":\"Point\",\n",
    "                    \"coordinates\":[lng,lat]\n",
    "                },\n",
    "                \"$maxDistance\": radius,\n",
    "            }\n",
    "        }\n",
    "    })\n",
    "    return results\n",
    "\n",
    "coords = [52.3573865,4.892337]\n",
    "data = filterType(*coords,'clubs',1000)\n",
    "print(data.count())\n",
    "print(data[0])\n"
   ]
  },
  {
   "cell_type": "code",
   "execution_count": 4,
   "metadata": {},
   "outputs": [],
   "source": [
    "db, starbucks = connectCollection('companies', 'starbucks')\n",
    "#db, clubs = connectCollection('companies', 'clubs')"
   ]
  },
  {
   "cell_type": "code",
   "execution_count": 5,
   "metadata": {},
   "outputs": [
    {
     "data": {
      "text/plain": [
       "{'_id': ObjectId('5dd6ada62eb127ee9342a35a'),\n",
       " 'name': 'STARBUCKS COFFEE Leidsestraat Shop',\n",
       " 'address': 'Leidsestraat 101, 1017 NZ Amsterdam, Netherlands',\n",
       " 'location': {'type': 'Point', 'coordinates': [4.8836336, 52.36448240000001]}}"
      ]
     },
     "execution_count": 5,
     "metadata": {},
     "output_type": "execute_result"
    }
   ],
   "source": [
    "lr = list(starbucks.find())\n",
    "lr[0]"
   ]
  },
  {
   "cell_type": "code",
   "execution_count": 6,
   "metadata": {},
   "outputs": [],
   "source": [
    "def counting(collection, radius):\n",
    "    lst=[]\n",
    "    for l in lr:\n",
    "        lst.append(l['location']['coordinates'][::-1])\n",
    "    data=[]\n",
    "    for l in lst:\n",
    "        data.append(filterType(*l,collection,radius))\n",
    "    contando=[]\n",
    "    for i in range(len(data)):\n",
    "        contando.append(data[i].count())\n",
    "    return contando"
   ]
  },
  {
   "cell_type": "code",
   "execution_count": 7,
   "metadata": {},
   "outputs": [
    {
     "name": "stdout",
     "output_type": "stream",
     "text": [
      "[23, 4, 0, 16, 0, 2, 0, 4, 0, 2, 0, 0, 0, 2, 0, 0, 0, 0, 0, 0, 0, 0, 0, 0, 0, 0, 0, 0, 0, 0, 2, 0, 2, 23, 3, 0, 23, 4, 0, 16, 0, 0, 4, 0, 2, 2, 0, 0, 0, 2, 0, 0, 0, 0, 0, 0, 0, 0, 0, 0, 0, 0, 2, 0, 0, 0, 0, 0]\n"
     ]
    },
    {
     "name": "stderr",
     "output_type": "stream",
     "text": [
      "/usr/local/Cellar/ipython/7.8.0/libexec/vendor/lib/python3.7/site-packages/ipykernel_launcher.py:10: DeprecationWarning: count is deprecated. Use Collection.count_documents instead.\n",
      "  # Remove the CWD from sys.path while we load stuff.\n"
     ]
    }
   ],
   "source": [
    "clubs = counting('clubs',250)\n",
    "print(clubs)"
   ]
  },
  {
   "cell_type": "code",
   "execution_count": 8,
   "metadata": {},
   "outputs": [
    {
     "name": "stdout",
     "output_type": "stream",
     "text": [
      "[2, 4, 4, 3, 4, 0, 0, 0, 4, 5, 2, 0, 0, 3, 2, 1, 0, 0, 2, 0, 0, 1, 0, 0, 0, 0, 4, 0, 0, 0, 1, 0, 4, 2, 5, 0, 2, 4, 4, 3, 4, 4, 0, 2, 5, 0, 0, 0, 0, 3, 2, 1, 0, 0, 2, 0, 0, 0, 0, 1, 0, 0, 4, 0, 4, 0, 0, 0]\n"
     ]
    },
    {
     "name": "stderr",
     "output_type": "stream",
     "text": [
      "/usr/local/Cellar/ipython/7.8.0/libexec/vendor/lib/python3.7/site-packages/ipykernel_launcher.py:10: DeprecationWarning: count is deprecated. Use Collection.count_documents instead.\n",
      "  # Remove the CWD from sys.path while we load stuff.\n"
     ]
    }
   ],
   "source": [
    "schools = counting('schools', 750)\n",
    "print(schools)"
   ]
  },
  {
   "cell_type": "code",
   "execution_count": 9,
   "metadata": {},
   "outputs": [],
   "source": [
    "#starbucks = counting('starbucks',200)\n",
    "#print(starbucks)"
   ]
  },
  {
   "cell_type": "code",
   "execution_count": 10,
   "metadata": {},
   "outputs": [
    {
     "name": "stdout",
     "output_type": "stream",
     "text": [
      "[2, 0, 0, 2, 0, 0, 0, 0, 0, 4, 0, 0, 0, 0, 0, 0, 0, 0, 0, 0, 0, 0, 0, 0, 0, 0, 0, 0, 0, 0, 0, 0, 0, 2, 2, 0, 2, 0, 0, 2, 0, 0, 0, 0, 4, 0, 0, 0, 0, 0, 0, 0, 0, 0, 0, 0, 0, 0, 0, 0, 0, 0, 0, 0, 0, 0, 0, 0]\n"
     ]
    },
    {
     "name": "stderr",
     "output_type": "stream",
     "text": [
      "/usr/local/Cellar/ipython/7.8.0/libexec/vendor/lib/python3.7/site-packages/ipykernel_launcher.py:10: DeprecationWarning: count is deprecated. Use Collection.count_documents instead.\n",
      "  # Remove the CWD from sys.path while we load stuff.\n"
     ]
    }
   ],
   "source": [
    "veganrest = counting('veganrest', 100)\n",
    "print(veganrest)"
   ]
  },
  {
   "cell_type": "code",
   "execution_count": 11,
   "metadata": {},
   "outputs": [
    {
     "name": "stdout",
     "output_type": "stream",
     "text": [
      "[0, 0, 0, 2, 0, 0, 2, 0, 4, 0, 2, 0, 0, 0, 2, 0, 0, 0, 0, 0, 0, 0, 0, 0, 0, 0, 0, 0, 0, 0, 0, 0, 0, 0, 0, 0, 0, 0, 0, 2, 0, 4, 0, 2, 0, 0, 2, 0, 0, 0, 2, 0, 0, 0, 0, 0, 0, 0, 0, 0, 0, 0, 0, 0, 0, 0, 0, 0]\n"
     ]
    },
    {
     "name": "stderr",
     "output_type": "stream",
     "text": [
      "/usr/local/Cellar/ipython/7.8.0/libexec/vendor/lib/python3.7/site-packages/ipykernel_launcher.py:10: DeprecationWarning: count is deprecated. Use Collection.count_documents instead.\n",
      "  # Remove the CWD from sys.path while we load stuff.\n"
     ]
    }
   ],
   "source": [
    "kindergarten = counting('kindergarten', 300)\n",
    "print(kindergarten)"
   ]
  },
  {
   "cell_type": "code",
   "execution_count": 12,
   "metadata": {},
   "outputs": [
    {
     "name": "stdout",
     "output_type": "stream",
     "text": [
      "[2, 6, 0, 2, 0, 0, 1, 2, 0, 0, 0, 0, 0, 0, 4, 0, 0, 0, 0, 0, 0, 0, 0, 0, 0, 0, 0, 0, 0, 0, 5, 0, 0, 0, 0, 0, 2, 6, 0, 2, 0, 0, 2, 0, 0, 0, 1, 0, 0, 0, 4, 0, 0, 0, 0, 0, 0, 1, 0, 0, 0, 0, 0, 0, 0, 0, 0, 0]\n"
     ]
    },
    {
     "name": "stderr",
     "output_type": "stream",
     "text": [
      "/usr/local/Cellar/ipython/7.8.0/libexec/vendor/lib/python3.7/site-packages/ipykernel_launcher.py:10: DeprecationWarning: count is deprecated. Use Collection.count_documents instead.\n",
      "  # Remove the CWD from sys.path while we load stuff.\n"
     ]
    }
   ],
   "source": [
    "amsterdam = counting('amsterdam', 250)\n",
    "print(amsterdam)"
   ]
  },
  {
   "cell_type": "code",
   "execution_count": 13,
   "metadata": {},
   "outputs": [
    {
     "name": "stderr",
     "output_type": "stream",
     "text": [
      "/usr/local/Cellar/ipython/7.8.0/libexec/vendor/lib/python3.7/site-packages/ipykernel_launcher.py:10: DeprecationWarning: count is deprecated. Use Collection.count_documents instead.\n",
      "  # Remove the CWD from sys.path while we load stuff.\n"
     ]
    },
    {
     "name": "stdout",
     "output_type": "stream",
     "text": [
      "[3, 1, 0, 2, 0, 0, 0, 2, 0, 1, 1, 1, 0, 0, 0, 0, 0, 0, 0, 0, 0, 0, 0, 0, 0, 0, 0, 0, 0, 0, 0, 0, 2, 2, 1, 0, 3, 1, 0, 2, 0, 0, 2, 1, 1, 0, 0, 1, 0, 0, 0, 0, 0, 0, 0, 0, 0, 0, 0, 0, 0, 0, 2, 0, 0, 0, 0, 0]\n"
     ]
    }
   ],
   "source": [
    "coffeeshop = counting('coffeeshop', 200)\n",
    "print(coffeeshop)"
   ]
  },
  {
   "cell_type": "code",
   "execution_count": 14,
   "metadata": {},
   "outputs": [
    {
     "name": "stdout",
     "output_type": "stream",
     "text": [
      "[2, 2, 2, 2, 2, 2, 2, 2, 2, 2, 2, 2, 2, 2, 2, 2, 2, 2, 2, 2, 2, 2, 2, 2, 2, 0, 2, 2, 2, 2, 2, 2, 2, 2, 2, 2, 2, 2, 2, 2, 2, 2, 2, 2, 2, 2, 2, 2, 2, 2, 2, 2, 2, 2, 2, 2, 2, 2, 2, 2, 2, 2, 2, 0, 2, 2, 2, 2]\n"
     ]
    },
    {
     "name": "stderr",
     "output_type": "stream",
     "text": [
      "/usr/local/Cellar/ipython/7.8.0/libexec/vendor/lib/python3.7/site-packages/ipykernel_launcher.py:10: DeprecationWarning: count is deprecated. Use Collection.count_documents instead.\n",
      "  # Remove the CWD from sys.path while we load stuff.\n"
     ]
    }
   ],
   "source": [
    "airport = counting('airport', 15000)\n",
    "print(airport)"
   ]
  },
  {
   "cell_type": "code",
   "execution_count": 15,
   "metadata": {},
   "outputs": [
    {
     "data": {
      "text/html": [
       "<div>\n",
       "<style scoped>\n",
       "    .dataframe tbody tr th:only-of-type {\n",
       "        vertical-align: middle;\n",
       "    }\n",
       "\n",
       "    .dataframe tbody tr th {\n",
       "        vertical-align: top;\n",
       "    }\n",
       "\n",
       "    .dataframe thead th {\n",
       "        text-align: right;\n",
       "    }\n",
       "</style>\n",
       "<table border=\"1\" class=\"dataframe\">\n",
       "  <thead>\n",
       "    <tr style=\"text-align: right;\">\n",
       "      <th></th>\n",
       "      <th>_id</th>\n",
       "      <th>name</th>\n",
       "      <th>address</th>\n",
       "      <th>location</th>\n",
       "    </tr>\n",
       "  </thead>\n",
       "  <tbody>\n",
       "    <tr>\n",
       "      <th>0</th>\n",
       "      <td>5dd6ada62eb127ee9342a35a</td>\n",
       "      <td>STARBUCKS COFFEE Leidsestraat Shop</td>\n",
       "      <td>Leidsestraat 101, 1017 NZ Amsterdam, Netherlands</td>\n",
       "      <td>{'type': 'Point', 'coordinates': [4.8836336, 5...</td>\n",
       "    </tr>\n",
       "    <tr>\n",
       "      <th>1</th>\n",
       "      <td>5dd6ada62eb127ee9342a35b</td>\n",
       "      <td>STARBUCKS COFFEE Amsterdam Damrak Shop</td>\n",
       "      <td>Damrak 80-81, 1012 LN Amsterdam, Netherlands</td>\n",
       "      <td>{'type': 'Point', 'coordinates': [4.8942746, 5...</td>\n",
       "    </tr>\n",
       "    <tr>\n",
       "      <th>2</th>\n",
       "      <td>5dd6ada62eb127ee9342a35c</td>\n",
       "      <td>Starbucks</td>\n",
       "      <td>Stationsplein 9, 1012 AB Amsterdam, Netherlands</td>\n",
       "      <td>{'type': 'Point', 'coordinates': [4.9003540999...</td>\n",
       "    </tr>\n",
       "    <tr>\n",
       "      <th>3</th>\n",
       "      <td>5dd6ada62eb127ee9342a35d</td>\n",
       "      <td>STARBUCKS The Bank Rembrandtplein</td>\n",
       "      <td>The Bank Rembrandtplein, Utrechtsestraat 9, 10...</td>\n",
       "      <td>{'type': 'Point', 'coordinates': [4.8977405, 5...</td>\n",
       "    </tr>\n",
       "    <tr>\n",
       "      <th>4</th>\n",
       "      <td>5dd6ada62eb127ee9342a35e</td>\n",
       "      <td>STARBUCKS COFFEE Doubletree by Hilton Amsterda...</td>\n",
       "      <td>Ground Floor, Oosterdokskade 4, 1001 RD Amster...</td>\n",
       "      <td>{'type': 'Point', 'coordinates': [4.9043465, 5...</td>\n",
       "    </tr>\n",
       "  </tbody>\n",
       "</table>\n",
       "</div>"
      ],
      "text/plain": [
       "                        _id  \\\n",
       "0  5dd6ada62eb127ee9342a35a   \n",
       "1  5dd6ada62eb127ee9342a35b   \n",
       "2  5dd6ada62eb127ee9342a35c   \n",
       "3  5dd6ada62eb127ee9342a35d   \n",
       "4  5dd6ada62eb127ee9342a35e   \n",
       "\n",
       "                                                name  \\\n",
       "0                 STARBUCKS COFFEE Leidsestraat Shop   \n",
       "1             STARBUCKS COFFEE Amsterdam Damrak Shop   \n",
       "2                                          Starbucks   \n",
       "3                  STARBUCKS The Bank Rembrandtplein   \n",
       "4  STARBUCKS COFFEE Doubletree by Hilton Amsterda...   \n",
       "\n",
       "                                             address  \\\n",
       "0   Leidsestraat 101, 1017 NZ Amsterdam, Netherlands   \n",
       "1       Damrak 80-81, 1012 LN Amsterdam, Netherlands   \n",
       "2    Stationsplein 9, 1012 AB Amsterdam, Netherlands   \n",
       "3  The Bank Rembrandtplein, Utrechtsestraat 9, 10...   \n",
       "4  Ground Floor, Oosterdokskade 4, 1001 RD Amster...   \n",
       "\n",
       "                                            location  \n",
       "0  {'type': 'Point', 'coordinates': [4.8836336, 5...  \n",
       "1  {'type': 'Point', 'coordinates': [4.8942746, 5...  \n",
       "2  {'type': 'Point', 'coordinates': [4.9003540999...  \n",
       "3  {'type': 'Point', 'coordinates': [4.8977405, 5...  \n",
       "4  {'type': 'Point', 'coordinates': [4.9043465, 5...  "
      ]
     },
     "execution_count": 15,
     "metadata": {},
     "output_type": "execute_result"
    }
   ],
   "source": [
    "df=pd.DataFrame(lr)\n",
    "df.head()"
   ]
  },
  {
   "cell_type": "code",
   "execution_count": 16,
   "metadata": {},
   "outputs": [
    {
     "data": {
      "text/html": [
       "<div>\n",
       "<style scoped>\n",
       "    .dataframe tbody tr th:only-of-type {\n",
       "        vertical-align: middle;\n",
       "    }\n",
       "\n",
       "    .dataframe tbody tr th {\n",
       "        vertical-align: top;\n",
       "    }\n",
       "\n",
       "    .dataframe thead th {\n",
       "        text-align: right;\n",
       "    }\n",
       "</style>\n",
       "<table border=\"1\" class=\"dataframe\">\n",
       "  <thead>\n",
       "    <tr style=\"text-align: right;\">\n",
       "      <th></th>\n",
       "      <th>_id</th>\n",
       "      <th>name</th>\n",
       "      <th>kindergarten_300m</th>\n",
       "      <th>schools_750m</th>\n",
       "      <th>veganrest_100m</th>\n",
       "      <th>clubs_250m</th>\n",
       "      <th>coffee_shop_200m</th>\n",
       "      <th>amsterdam_250m</th>\n",
       "      <th>airport_15km</th>\n",
       "      <th>address</th>\n",
       "      <th>location</th>\n",
       "    </tr>\n",
       "  </thead>\n",
       "  <tbody>\n",
       "    <tr>\n",
       "      <th>0</th>\n",
       "      <td>5dd6ada62eb127ee9342a35a</td>\n",
       "      <td>STARBUCKS COFFEE Leidsestraat Shop</td>\n",
       "      <td>0</td>\n",
       "      <td>2</td>\n",
       "      <td>2</td>\n",
       "      <td>23</td>\n",
       "      <td>3</td>\n",
       "      <td>2</td>\n",
       "      <td>2</td>\n",
       "      <td>Leidsestraat 101, 1017 NZ Amsterdam, Netherlands</td>\n",
       "      <td>{'type': 'Point', 'coordinates': [4.8836336, 5...</td>\n",
       "    </tr>\n",
       "    <tr>\n",
       "      <th>1</th>\n",
       "      <td>5dd6ada62eb127ee9342a35b</td>\n",
       "      <td>STARBUCKS COFFEE Amsterdam Damrak Shop</td>\n",
       "      <td>0</td>\n",
       "      <td>4</td>\n",
       "      <td>0</td>\n",
       "      <td>4</td>\n",
       "      <td>1</td>\n",
       "      <td>6</td>\n",
       "      <td>2</td>\n",
       "      <td>Damrak 80-81, 1012 LN Amsterdam, Netherlands</td>\n",
       "      <td>{'type': 'Point', 'coordinates': [4.8942746, 5...</td>\n",
       "    </tr>\n",
       "    <tr>\n",
       "      <th>2</th>\n",
       "      <td>5dd6ada62eb127ee9342a35c</td>\n",
       "      <td>Starbucks</td>\n",
       "      <td>0</td>\n",
       "      <td>4</td>\n",
       "      <td>0</td>\n",
       "      <td>0</td>\n",
       "      <td>0</td>\n",
       "      <td>0</td>\n",
       "      <td>2</td>\n",
       "      <td>Stationsplein 9, 1012 AB Amsterdam, Netherlands</td>\n",
       "      <td>{'type': 'Point', 'coordinates': [4.9003540999...</td>\n",
       "    </tr>\n",
       "    <tr>\n",
       "      <th>3</th>\n",
       "      <td>5dd6ada62eb127ee9342a35d</td>\n",
       "      <td>STARBUCKS The Bank Rembrandtplein</td>\n",
       "      <td>2</td>\n",
       "      <td>3</td>\n",
       "      <td>2</td>\n",
       "      <td>16</td>\n",
       "      <td>2</td>\n",
       "      <td>2</td>\n",
       "      <td>2</td>\n",
       "      <td>The Bank Rembrandtplein, Utrechtsestraat 9, 10...</td>\n",
       "      <td>{'type': 'Point', 'coordinates': [4.8977405, 5...</td>\n",
       "    </tr>\n",
       "    <tr>\n",
       "      <th>4</th>\n",
       "      <td>5dd6ada62eb127ee9342a35e</td>\n",
       "      <td>STARBUCKS COFFEE Doubletree by Hilton Amsterda...</td>\n",
       "      <td>0</td>\n",
       "      <td>4</td>\n",
       "      <td>0</td>\n",
       "      <td>0</td>\n",
       "      <td>0</td>\n",
       "      <td>0</td>\n",
       "      <td>2</td>\n",
       "      <td>Ground Floor, Oosterdokskade 4, 1001 RD Amster...</td>\n",
       "      <td>{'type': 'Point', 'coordinates': [4.9043465, 5...</td>\n",
       "    </tr>\n",
       "  </tbody>\n",
       "</table>\n",
       "</div>"
      ],
      "text/plain": [
       "                        _id  \\\n",
       "0  5dd6ada62eb127ee9342a35a   \n",
       "1  5dd6ada62eb127ee9342a35b   \n",
       "2  5dd6ada62eb127ee9342a35c   \n",
       "3  5dd6ada62eb127ee9342a35d   \n",
       "4  5dd6ada62eb127ee9342a35e   \n",
       "\n",
       "                                                name  kindergarten_300m  \\\n",
       "0                 STARBUCKS COFFEE Leidsestraat Shop                  0   \n",
       "1             STARBUCKS COFFEE Amsterdam Damrak Shop                  0   \n",
       "2                                          Starbucks                  0   \n",
       "3                  STARBUCKS The Bank Rembrandtplein                  2   \n",
       "4  STARBUCKS COFFEE Doubletree by Hilton Amsterda...                  0   \n",
       "\n",
       "   schools_750m  veganrest_100m  clubs_250m  coffee_shop_200m  amsterdam_250m  \\\n",
       "0             2               2          23                 3               2   \n",
       "1             4               0           4                 1               6   \n",
       "2             4               0           0                 0               0   \n",
       "3             3               2          16                 2               2   \n",
       "4             4               0           0                 0               0   \n",
       "\n",
       "   airport_15km                                            address  \\\n",
       "0             2   Leidsestraat 101, 1017 NZ Amsterdam, Netherlands   \n",
       "1             2       Damrak 80-81, 1012 LN Amsterdam, Netherlands   \n",
       "2             2    Stationsplein 9, 1012 AB Amsterdam, Netherlands   \n",
       "3             2  The Bank Rembrandtplein, Utrechtsestraat 9, 10...   \n",
       "4             2  Ground Floor, Oosterdokskade 4, 1001 RD Amster...   \n",
       "\n",
       "                                            location  \n",
       "0  {'type': 'Point', 'coordinates': [4.8836336, 5...  \n",
       "1  {'type': 'Point', 'coordinates': [4.8942746, 5...  \n",
       "2  {'type': 'Point', 'coordinates': [4.9003540999...  \n",
       "3  {'type': 'Point', 'coordinates': [4.8977405, 5...  \n",
       "4  {'type': 'Point', 'coordinates': [4.9043465, 5...  "
      ]
     },
     "execution_count": 16,
     "metadata": {},
     "output_type": "execute_result"
    }
   ],
   "source": [
    "def insertColumn(name, listname):\n",
    "    df.insert(2, name, listname) \n",
    "    return df\n",
    "\n",
    "insertColumn('airport_15km', airport)\n",
    "insertColumn('amsterdam_250m', amsterdam)\n",
    "insertColumn('coffee_shop_200m', coffeeshop)\n",
    "insertColumn('clubs_250m', clubs)\n",
    "insertColumn('veganrest_100m', veganrest)\n",
    "#insertColumn('starbucks', starbucks)\n",
    "insertColumn('schools_750m', schools)\n",
    "insertColumn('kindergarten_300m', kindergarten)\n",
    "#insertColumn('coordinates', lst)\n",
    "\n",
    "\n",
    "df.head()"
   ]
  },
  {
   "cell_type": "code",
   "execution_count": 17,
   "metadata": {},
   "outputs": [
    {
     "data": {
      "text/plain": [
       "Index(['_id', 'name', 'kindergarten_300m', 'schools_750m', 'veganrest_100m',\n",
       "       'clubs_250m', 'coffee_shop_200m', 'amsterdam_250m', 'airport_15km',\n",
       "       'address', 'location'],\n",
       "      dtype='object')"
      ]
     },
     "execution_count": 17,
     "metadata": {},
     "output_type": "execute_result"
    }
   ],
   "source": [
    "df.columns"
   ]
  },
  {
   "cell_type": "code",
   "execution_count": 18,
   "metadata": {},
   "outputs": [],
   "source": [
    "#df=df.drop(columns=['location'])\n",
    "#df.head()"
   ]
  },
  {
   "cell_type": "code",
   "execution_count": 19,
   "metadata": {},
   "outputs": [],
   "source": [
    "#df['address'] = df['address'].str.replace(' Parking Heinekenplein- Amsterdam -APCOA', ' ')\n",
    "#df['address'] = df['address'].str.replace('Parking Museum', '')\n"
   ]
  },
  {
   "cell_type": "code",
   "execution_count": 20,
   "metadata": {},
   "outputs": [
    {
     "data": {
      "text/html": [
       "<div>\n",
       "<style scoped>\n",
       "    .dataframe tbody tr th:only-of-type {\n",
       "        vertical-align: middle;\n",
       "    }\n",
       "\n",
       "    .dataframe tbody tr th {\n",
       "        vertical-align: top;\n",
       "    }\n",
       "\n",
       "    .dataframe thead th {\n",
       "        text-align: right;\n",
       "    }\n",
       "</style>\n",
       "<table border=\"1\" class=\"dataframe\">\n",
       "  <thead>\n",
       "    <tr style=\"text-align: right;\">\n",
       "      <th></th>\n",
       "      <th>_id</th>\n",
       "      <th>name</th>\n",
       "      <th>kindergarten_300m</th>\n",
       "      <th>schools_750m</th>\n",
       "      <th>veganrest_100m</th>\n",
       "      <th>clubs_250m</th>\n",
       "      <th>coffee_shop_200m</th>\n",
       "      <th>amsterdam_250m</th>\n",
       "      <th>airport_15km</th>\n",
       "      <th>address</th>\n",
       "      <th>location</th>\n",
       "    </tr>\n",
       "  </thead>\n",
       "  <tbody>\n",
       "    <tr>\n",
       "      <th>0</th>\n",
       "      <td>5dd6ada62eb127ee9342a35a</td>\n",
       "      <td>STARBUCKS COFFEE Leidsestraat Shop</td>\n",
       "      <td>0</td>\n",
       "      <td>2</td>\n",
       "      <td>2</td>\n",
       "      <td>23</td>\n",
       "      <td>3</td>\n",
       "      <td>2</td>\n",
       "      <td>2</td>\n",
       "      <td>Leidsestraat 101, 1017 NZ Amsterdam, Netherlands</td>\n",
       "      <td>{'type': 'Point', 'coordinates': [4.8836336, 5...</td>\n",
       "    </tr>\n",
       "    <tr>\n",
       "      <th>1</th>\n",
       "      <td>5dd6ada62eb127ee9342a35b</td>\n",
       "      <td>STARBUCKS COFFEE Amsterdam Damrak Shop</td>\n",
       "      <td>0</td>\n",
       "      <td>4</td>\n",
       "      <td>0</td>\n",
       "      <td>4</td>\n",
       "      <td>1</td>\n",
       "      <td>6</td>\n",
       "      <td>2</td>\n",
       "      <td>Damrak 80-81, 1012 LN Amsterdam, Netherlands</td>\n",
       "      <td>{'type': 'Point', 'coordinates': [4.8942746, 5...</td>\n",
       "    </tr>\n",
       "    <tr>\n",
       "      <th>2</th>\n",
       "      <td>5dd6ada62eb127ee9342a35c</td>\n",
       "      <td>Starbucks</td>\n",
       "      <td>0</td>\n",
       "      <td>4</td>\n",
       "      <td>0</td>\n",
       "      <td>0</td>\n",
       "      <td>0</td>\n",
       "      <td>0</td>\n",
       "      <td>2</td>\n",
       "      <td>Stationsplein 9, 1012 AB Amsterdam, Netherlands</td>\n",
       "      <td>{'type': 'Point', 'coordinates': [4.9003540999...</td>\n",
       "    </tr>\n",
       "    <tr>\n",
       "      <th>3</th>\n",
       "      <td>5dd6ada62eb127ee9342a35d</td>\n",
       "      <td>STARBUCKS The Bank Rembrandtplein</td>\n",
       "      <td>2</td>\n",
       "      <td>3</td>\n",
       "      <td>2</td>\n",
       "      <td>16</td>\n",
       "      <td>2</td>\n",
       "      <td>2</td>\n",
       "      <td>2</td>\n",
       "      <td>The Bank Rembrandtplein, Utrechtsestraat 9, 10...</td>\n",
       "      <td>{'type': 'Point', 'coordinates': [4.8977405, 5...</td>\n",
       "    </tr>\n",
       "    <tr>\n",
       "      <th>4</th>\n",
       "      <td>5dd6ada62eb127ee9342a35e</td>\n",
       "      <td>STARBUCKS COFFEE Doubletree by Hilton Amsterda...</td>\n",
       "      <td>0</td>\n",
       "      <td>4</td>\n",
       "      <td>0</td>\n",
       "      <td>0</td>\n",
       "      <td>0</td>\n",
       "      <td>0</td>\n",
       "      <td>2</td>\n",
       "      <td>Ground Floor, Oosterdokskade 4, 1001 RD Amster...</td>\n",
       "      <td>{'type': 'Point', 'coordinates': [4.9043465, 5...</td>\n",
       "    </tr>\n",
       "    <tr>\n",
       "      <th>...</th>\n",
       "      <td>...</td>\n",
       "      <td>...</td>\n",
       "      <td>...</td>\n",
       "      <td>...</td>\n",
       "      <td>...</td>\n",
       "      <td>...</td>\n",
       "      <td>...</td>\n",
       "      <td>...</td>\n",
       "      <td>...</td>\n",
       "      <td>...</td>\n",
       "      <td>...</td>\n",
       "    </tr>\n",
       "    <tr>\n",
       "      <th>63</th>\n",
       "      <td>5dd7af53025f92abb69b8fa0</td>\n",
       "      <td>Starbucks Coffee Emea B.v.</td>\n",
       "      <td>0</td>\n",
       "      <td>0</td>\n",
       "      <td>0</td>\n",
       "      <td>0</td>\n",
       "      <td>0</td>\n",
       "      <td>0</td>\n",
       "      <td>0</td>\n",
       "      <td>7 24, 1034 ZL Amsterdam, Netherlands</td>\n",
       "      <td>{'type': 'Point', 'coordinates': [4.9236606, 5...</td>\n",
       "    </tr>\n",
       "    <tr>\n",
       "      <th>64</th>\n",
       "      <td>5dd7af53025f92abb69b8fa1</td>\n",
       "      <td>Ipo's Coffee Gallery</td>\n",
       "      <td>0</td>\n",
       "      <td>4</td>\n",
       "      <td>0</td>\n",
       "      <td>0</td>\n",
       "      <td>0</td>\n",
       "      <td>0</td>\n",
       "      <td>2</td>\n",
       "      <td>Piet Heinkade 29, 1019 BR Amsterdam, Netherlands</td>\n",
       "      <td>{'type': 'Point', 'coordinates': [4.9158558, 5...</td>\n",
       "    </tr>\n",
       "    <tr>\n",
       "      <th>65</th>\n",
       "      <td>5dd7af53025f92abb69b8fa2</td>\n",
       "      <td>Starbucks</td>\n",
       "      <td>0</td>\n",
       "      <td>0</td>\n",
       "      <td>0</td>\n",
       "      <td>0</td>\n",
       "      <td>0</td>\n",
       "      <td>0</td>\n",
       "      <td>2</td>\n",
       "      <td>Evert van de Beekstraat 202, 1118 CP Schiphol,...</td>\n",
       "      <td>{'type': 'Point', 'coordinates': [4.7596772, 5...</td>\n",
       "    </tr>\n",
       "    <tr>\n",
       "      <th>66</th>\n",
       "      <td>5dd7af53025f92abb69b8fa3</td>\n",
       "      <td>Starbucks Coffee</td>\n",
       "      <td>0</td>\n",
       "      <td>0</td>\n",
       "      <td>0</td>\n",
       "      <td>0</td>\n",
       "      <td>0</td>\n",
       "      <td>0</td>\n",
       "      <td>2</td>\n",
       "      <td>Evert van de Beekstraat 202, 1118 CP Schiphol,...</td>\n",
       "      <td>{'type': 'Point', 'coordinates': [4.7643564, 5...</td>\n",
       "    </tr>\n",
       "    <tr>\n",
       "      <th>67</th>\n",
       "      <td>5dd7af53025f92abb69b8fa4</td>\n",
       "      <td>Starbucks</td>\n",
       "      <td>0</td>\n",
       "      <td>0</td>\n",
       "      <td>0</td>\n",
       "      <td>0</td>\n",
       "      <td>0</td>\n",
       "      <td>0</td>\n",
       "      <td>2</td>\n",
       "      <td>Evert van de Beekstraat 202, 1118 CP Schiphol,...</td>\n",
       "      <td>{'type': 'Point', 'coordinates': [4.7690956999...</td>\n",
       "    </tr>\n",
       "  </tbody>\n",
       "</table>\n",
       "<p>68 rows × 11 columns</p>\n",
       "</div>"
      ],
      "text/plain": [
       "                         _id  \\\n",
       "0   5dd6ada62eb127ee9342a35a   \n",
       "1   5dd6ada62eb127ee9342a35b   \n",
       "2   5dd6ada62eb127ee9342a35c   \n",
       "3   5dd6ada62eb127ee9342a35d   \n",
       "4   5dd6ada62eb127ee9342a35e   \n",
       "..                       ...   \n",
       "63  5dd7af53025f92abb69b8fa0   \n",
       "64  5dd7af53025f92abb69b8fa1   \n",
       "65  5dd7af53025f92abb69b8fa2   \n",
       "66  5dd7af53025f92abb69b8fa3   \n",
       "67  5dd7af53025f92abb69b8fa4   \n",
       "\n",
       "                                                 name  kindergarten_300m  \\\n",
       "0                  STARBUCKS COFFEE Leidsestraat Shop                  0   \n",
       "1              STARBUCKS COFFEE Amsterdam Damrak Shop                  0   \n",
       "2                                           Starbucks                  0   \n",
       "3                   STARBUCKS The Bank Rembrandtplein                  2   \n",
       "4   STARBUCKS COFFEE Doubletree by Hilton Amsterda...                  0   \n",
       "..                                                ...                ...   \n",
       "63                         Starbucks Coffee Emea B.v.                  0   \n",
       "64                               Ipo's Coffee Gallery                  0   \n",
       "65                                          Starbucks                  0   \n",
       "66                                   Starbucks Coffee                  0   \n",
       "67                                          Starbucks                  0   \n",
       "\n",
       "    schools_750m  veganrest_100m  clubs_250m  coffee_shop_200m  \\\n",
       "0              2               2          23                 3   \n",
       "1              4               0           4                 1   \n",
       "2              4               0           0                 0   \n",
       "3              3               2          16                 2   \n",
       "4              4               0           0                 0   \n",
       "..           ...             ...         ...               ...   \n",
       "63             0               0           0                 0   \n",
       "64             4               0           0                 0   \n",
       "65             0               0           0                 0   \n",
       "66             0               0           0                 0   \n",
       "67             0               0           0                 0   \n",
       "\n",
       "    amsterdam_250m  airport_15km  \\\n",
       "0                2             2   \n",
       "1                6             2   \n",
       "2                0             2   \n",
       "3                2             2   \n",
       "4                0             2   \n",
       "..             ...           ...   \n",
       "63               0             0   \n",
       "64               0             2   \n",
       "65               0             2   \n",
       "66               0             2   \n",
       "67               0             2   \n",
       "\n",
       "                                              address  \\\n",
       "0    Leidsestraat 101, 1017 NZ Amsterdam, Netherlands   \n",
       "1        Damrak 80-81, 1012 LN Amsterdam, Netherlands   \n",
       "2     Stationsplein 9, 1012 AB Amsterdam, Netherlands   \n",
       "3   The Bank Rembrandtplein, Utrechtsestraat 9, 10...   \n",
       "4   Ground Floor, Oosterdokskade 4, 1001 RD Amster...   \n",
       "..                                                ...   \n",
       "63               7 24, 1034 ZL Amsterdam, Netherlands   \n",
       "64   Piet Heinkade 29, 1019 BR Amsterdam, Netherlands   \n",
       "65  Evert van de Beekstraat 202, 1118 CP Schiphol,...   \n",
       "66  Evert van de Beekstraat 202, 1118 CP Schiphol,...   \n",
       "67  Evert van de Beekstraat 202, 1118 CP Schiphol,...   \n",
       "\n",
       "                                             location  \n",
       "0   {'type': 'Point', 'coordinates': [4.8836336, 5...  \n",
       "1   {'type': 'Point', 'coordinates': [4.8942746, 5...  \n",
       "2   {'type': 'Point', 'coordinates': [4.9003540999...  \n",
       "3   {'type': 'Point', 'coordinates': [4.8977405, 5...  \n",
       "4   {'type': 'Point', 'coordinates': [4.9043465, 5...  \n",
       "..                                                ...  \n",
       "63  {'type': 'Point', 'coordinates': [4.9236606, 5...  \n",
       "64  {'type': 'Point', 'coordinates': [4.9158558, 5...  \n",
       "65  {'type': 'Point', 'coordinates': [4.7596772, 5...  \n",
       "66  {'type': 'Point', 'coordinates': [4.7643564, 5...  \n",
       "67  {'type': 'Point', 'coordinates': [4.7690956999...  \n",
       "\n",
       "[68 rows x 11 columns]"
      ]
     },
     "execution_count": 20,
     "metadata": {},
     "output_type": "execute_result"
    }
   ],
   "source": [
    "df"
   ]
  },
  {
   "cell_type": "code",
   "execution_count": 31,
   "metadata": {},
   "outputs": [],
   "source": [
    "df = df.drop([39])"
   ]
  },
  {
   "cell_type": "code",
   "execution_count": 32,
   "metadata": {},
   "outputs": [],
   "source": [
    "headquarter = df[(df['kindergarten_300m']>0) & (df['schools_750m']>0) & (df['veganrest_100m']>0) & (df['clubs_250m']>0) & (df['amsterdam_250m']>0) & (df['airport_15km']>0)& (df['coffee_shop_200m']>0)]"
   ]
  },
  {
   "cell_type": "code",
   "execution_count": 33,
   "metadata": {},
   "outputs": [
    {
     "data": {
      "text/html": [
       "<div>\n",
       "<style scoped>\n",
       "    .dataframe tbody tr th:only-of-type {\n",
       "        vertical-align: middle;\n",
       "    }\n",
       "\n",
       "    .dataframe tbody tr th {\n",
       "        vertical-align: top;\n",
       "    }\n",
       "\n",
       "    .dataframe thead th {\n",
       "        text-align: right;\n",
       "    }\n",
       "</style>\n",
       "<table border=\"1\" class=\"dataframe\">\n",
       "  <thead>\n",
       "    <tr style=\"text-align: right;\">\n",
       "      <th></th>\n",
       "      <th>_id</th>\n",
       "      <th>name</th>\n",
       "      <th>kindergarten_300m</th>\n",
       "      <th>schools_750m</th>\n",
       "      <th>veganrest_100m</th>\n",
       "      <th>clubs_250m</th>\n",
       "      <th>coffee_shop_200m</th>\n",
       "      <th>amsterdam_250m</th>\n",
       "      <th>airport_15km</th>\n",
       "      <th>address</th>\n",
       "      <th>location</th>\n",
       "    </tr>\n",
       "  </thead>\n",
       "  <tbody>\n",
       "    <tr>\n",
       "      <th>3</th>\n",
       "      <td>5dd6ada62eb127ee9342a35d</td>\n",
       "      <td>STARBUCKS The Bank Rembrandtplein</td>\n",
       "      <td>2</td>\n",
       "      <td>3</td>\n",
       "      <td>2</td>\n",
       "      <td>16</td>\n",
       "      <td>2</td>\n",
       "      <td>2</td>\n",
       "      <td>2</td>\n",
       "      <td>The Bank Rembrandtplein, Utrechtsestraat 9, 10...</td>\n",
       "      <td>{'type': 'Point', 'coordinates': [4.8977405, 5...</td>\n",
       "    </tr>\n",
       "  </tbody>\n",
       "</table>\n",
       "</div>"
      ],
      "text/plain": [
       "                        _id                               name  \\\n",
       "3  5dd6ada62eb127ee9342a35d  STARBUCKS The Bank Rembrandtplein   \n",
       "\n",
       "   kindergarten_300m  schools_750m  veganrest_100m  clubs_250m  \\\n",
       "3                  2             3               2          16   \n",
       "\n",
       "   coffee_shop_200m  amsterdam_250m  airport_15km  \\\n",
       "3                 2               2             2   \n",
       "\n",
       "                                             address  \\\n",
       "3  The Bank Rembrandtplein, Utrechtsestraat 9, 10...   \n",
       "\n",
       "                                            location  \n",
       "3  {'type': 'Point', 'coordinates': [4.8977405, 5...  "
      ]
     },
     "execution_count": 33,
     "metadata": {},
     "output_type": "execute_result"
    }
   ],
   "source": [
    "headquarter"
   ]
  },
  {
   "cell_type": "code",
   "execution_count": null,
   "metadata": {},
   "outputs": [],
   "source": []
  },
  {
   "cell_type": "code",
   "execution_count": null,
   "metadata": {},
   "outputs": [],
   "source": []
  }
 ],
 "metadata": {
  "kernelspec": {
   "display_name": "Python 3",
   "language": "python",
   "name": "python3"
  },
  "language_info": {
   "codemirror_mode": {
    "name": "ipython",
    "version": 3
   },
   "file_extension": ".py",
   "mimetype": "text/x-python",
   "name": "python",
   "nbconvert_exporter": "python",
   "pygments_lexer": "ipython3",
   "version": "3.7.4"
  }
 },
 "nbformat": 4,
 "nbformat_minor": 2
}
