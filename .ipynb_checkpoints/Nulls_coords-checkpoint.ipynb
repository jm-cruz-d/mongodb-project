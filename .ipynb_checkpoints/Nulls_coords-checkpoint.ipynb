{
 "cells": [
  {
   "cell_type": "code",
   "execution_count": 51,
   "metadata": {},
   "outputs": [
    {
     "data": {
      "text/plain": [
       "True"
      ]
     },
     "execution_count": 51,
     "metadata": {},
     "output_type": "execute_result"
    }
   ],
   "source": [
    "from pymongo import MongoClient\n",
    "import folium\n",
    "import googlemaps\n",
    "from datetime import datetime\n",
    "import os\n",
    "from dotenv import load_dotenv\n",
    "load_dotenv()"
   ]
  },
  {
   "cell_type": "code",
   "execution_count": 52,
   "metadata": {},
   "outputs": [],
   "source": [
    "def connectCollection(database, collection):\n",
    "    client = MongoClient()\n",
    "    db = client[database]\n",
    "    coll = db[collection]\n",
    "    return db, coll"
   ]
  },
  {
   "cell_type": "code",
   "execution_count": 53,
   "metadata": {},
   "outputs": [],
   "source": [
    "db, coll = connectCollection('companies', 'companies')"
   ]
  },
  {
   "cell_type": "code",
   "execution_count": 54,
   "metadata": {},
   "outputs": [],
   "source": [
    "comp = list(coll.find({'$and': [{\"offices.city\": \"Amsterdam\"}, {'deadpooled_year': None}, {\"funding_rounds.raised_amount\": {\"$gte\": 1000000}}]}))"
   ]
  },
  {
   "cell_type": "code",
   "execution_count": 55,
   "metadata": {},
   "outputs": [
    {
     "data": {
      "text/plain": [
       "'Wakoopa'"
      ]
     },
     "execution_count": 55,
     "metadata": {},
     "output_type": "execute_result"
    }
   ],
   "source": [
    "comp[0]['name']"
   ]
  },
  {
   "cell_type": "code",
   "execution_count": 84,
   "metadata": {},
   "outputs": [
    {
     "name": "stdout",
     "output_type": "stream",
     "text": [
      "[{'description': 'Blyk NL', 'address1': 'Gustav Mahlerlaan 42', 'address2': '', 'zip_code': '1082 MC', 'city': 'Amsterdam', 'state_code': None, 'country_code': 'NLD', 'latitude': None, 'longitude': None}, {'description': '', 'address1': 'Herengracht 124-128', 'address2': '1015BT', 'zip_code': '', 'city': 'Amsterdam', 'state_code': None, 'country_code': 'NLD', 'latitude': None, 'longitude': None}, {'description': '', 'address1': 'Hillegomstraat 12-14', 'address2': '', 'zip_code': '1058LS', 'city': 'Amsterdam', 'state_code': None, 'country_code': 'NLD', 'latitude': None, 'longitude': None}, {'description': 'Benelux Office', 'address1': 'Herengracht 282', 'address2': '1016 BX', 'zip_code': '', 'city': 'Amsterdam', 'state_code': None, 'country_code': 'NLD', 'latitude': None, 'longitude': None}, {'description': '', 'address1': 'Playlogic International N.V. World Trade Centre', 'address2': 'C-Tower 10th Floor Strawinskylaan 1041', 'zip_code': '1077', 'city': 'Amsterdam', 'state_code': None, 'country_code': 'NLD', 'latitude': None, 'longitude': None}, {'description': '', 'address1': 'Willem Fenengastraat 17', 'address2': '1096 BL', 'zip_code': '', 'city': 'Amsterdam', 'state_code': None, 'country_code': 'NLD', 'latitude': None, 'longitude': None}]\n"
     ]
    }
   ],
   "source": [
    "def outNulls(company):\n",
    "    ll_null = []\n",
    "    for x in range(len(company)): \n",
    "        for i in range(len(company[x]['offices'])):\n",
    "            if company[x]['offices'][i]['longitude']==None or company[x]['offices'][i]['latitude']==None:\n",
    "                if company[x]['offices'][i]['city'] == \"Amsterdam\":\n",
    "                    if company[x]['offices'][i]['address1'] != \"\":         \n",
    "                        ll_null.append(company[x]['offices'][i])\n",
    "    return ll_null\n",
    "\n",
    "new_coord = outNulls(comp)\n",
    "len(new_coord)\n",
    "print(new_coord)"
   ]
  },
  {
   "cell_type": "code",
   "execution_count": 97,
   "metadata": {},
   "outputs": [
    {
     "data": {
      "text/plain": [
       "''"
      ]
     },
     "execution_count": 97,
     "metadata": {},
     "output_type": "execute_result"
    }
   ],
   "source": [
    "new_coord[0]['address2']"
   ]
  },
  {
   "cell_type": "code",
   "execution_count": 94,
   "metadata": {},
   "outputs": [
    {
     "data": {
      "text/plain": [
       "6"
      ]
     },
     "execution_count": 94,
     "metadata": {},
     "output_type": "execute_result"
    }
   ],
   "source": [
    "gmaps = googlemaps.Client(key=os.getenv(\"key\"))\n",
    "\n",
    "# Geocoding an address\n",
    "lst = []\n",
    "for n in new_coord:\n",
    "    lst.append(gmaps.places(n['address1']))\n",
    "len(lst)"
   ]
  },
  {
   "cell_type": "code",
   "execution_count": 98,
   "metadata": {},
   "outputs": [
    {
     "data": {
      "text/plain": [
       "4"
      ]
     },
     "execution_count": 98,
     "metadata": {},
     "output_type": "execute_result"
    }
   ],
   "source": [
    "lst2 = []\n",
    "for nw in new_coord:\n",
    "    if nw['address2']!='':\n",
    "        lst2.append(gmaps.places(nw['address2']))\n",
    "len(lst2)"
   ]
  },
  {
   "cell_type": "code",
   "execution_count": 99,
   "metadata": {},
   "outputs": [
    {
     "data": {
      "text/plain": [
       "[{'html_attributions': [],\n",
       "  'results': [{'formatted_address': '1015 BT Amsterdam, Netherlands',\n",
       "    'geometry': {'location': {'lat': 52.37566109999999, 'lng': 4.8884191},\n",
       "     'viewport': {'northeast': {'lat': 52.3918123, 'lng': 4.9602093},\n",
       "      'southwest': {'lat': 52.3239639, 'lng': 4.8865141}}},\n",
       "    'icon': 'https://maps.gstatic.com/mapfiles/place_api/icons/geocode-71.png',\n",
       "    'id': 'bb96fe37f6eaccac9a168b998bd00d495d3aea66',\n",
       "    'name': '1015 BT Amsterdam',\n",
       "    'place_id': 'ChIJJ5gO3cUJxkcR21ADcglLXkE',\n",
       "    'reference': 'ChIJJ5gO3cUJxkcR21ADcglLXkE',\n",
       "    'types': ['postal_code']}],\n",
       "  'status': 'OK'},\n",
       " {'html_attributions': [],\n",
       "  'results': [{'formatted_address': '1016 BX Amsterdam, Netherlands',\n",
       "    'geometry': {'location': {'lat': 52.3704946, 'lng': 4.886627},\n",
       "     'viewport': {'northeast': {'lat': 52.372403, 'lng': 4.8888837},\n",
       "      'southwest': {'lat': 52.3549511, 'lng': 4.854313100000001}}},\n",
       "    'icon': 'https://maps.gstatic.com/mapfiles/place_api/icons/geocode-71.png',\n",
       "    'id': '2b2e2a2bb132696612dfb06d8266ca6ac58058b9',\n",
       "    'name': '1016 BX Amsterdam',\n",
       "    'place_id': 'ChIJ59otucMJxkcRB91aOkBoNP0',\n",
       "    'reference': 'ChIJ59otucMJxkcRB91aOkBoNP0',\n",
       "    'types': ['postal_code']}],\n",
       "  'status': 'OK'},\n",
       " {'html_attributions': [],\n",
       "  'results': [{'formatted_address': 'Strawinskylaan 1041, C-Tower 10th Floor, 1077 XX Amsterdam, Netherlands',\n",
       "    'geometry': {'location': {'lat': 52.3400749, 'lng': 4.874923},\n",
       "     'viewport': {'northeast': {'lat': 52.34178172989273,\n",
       "       'lng': 4.876251279892722},\n",
       "      'southwest': {'lat': 52.33908207010729, 'lng': 4.873551620107278}}},\n",
       "    'icon': 'https://maps.gstatic.com/mapfiles/place_api/icons/geocode-71.png',\n",
       "    'id': '7609ef4b10530cf0fb42baeaf8b8a1ba8854ea6c',\n",
       "    'name': 'Strawinskylaan 1041, C-Tower 10th Floor',\n",
       "    'place_id': 'EkVTdHJhd2luc2t5bGFhbiAxMDQxLCBDLVRvd2VyIDEwdGggRmxvb3IsIDEwNzcgWFggQW1zdGVyZGFtLCBOZWRlcmxhbmQiLhosChYKFAoSCQsnYb0ECsZHEb0W8KgVmIjGEhJDLVRvd2VyIDEwdGggRmxvb3I',\n",
       "    'reference': 'EkVTdHJhd2luc2t5bGFhbiAxMDQxLCBDLVRvd2VyIDEwdGggRmxvb3IsIDEwNzcgWFggQW1zdGVyZGFtLCBOZWRlcmxhbmQiLhosChYKFAoSCQsnYb0ECsZHEb0W8KgVmIjGEhJDLVRvd2VyIDEwdGggRmxvb3I',\n",
       "    'types': ['subpremise']}],\n",
       "  'status': 'OK'},\n",
       " {'html_attributions': [],\n",
       "  'results': [{'formatted_address': '1096 BL Amsterdam, Netherlands',\n",
       "    'geometry': {'location': {'lat': 52.3334537, 'lng': 4.916725},\n",
       "     'viewport': {'northeast': {'lat': 52.3351549, 'lng': 4.9187945},\n",
       "      'southwest': {'lat': 52.3323709, 'lng': 4.9150297}}},\n",
       "    'icon': 'https://maps.gstatic.com/mapfiles/place_api/icons/geocode-71.png',\n",
       "    'id': '4dc343cd5f7f6b311ec9475a1dadadf18416ea08',\n",
       "    'name': '1096 BL Amsterdam',\n",
       "    'place_id': 'ChIJv_-FZ80LxkcRTP1RHRs4mME',\n",
       "    'reference': 'ChIJv_-FZ80LxkcRTP1RHRs4mME',\n",
       "    'types': ['postal_code']}],\n",
       "  'status': 'OK'}]"
      ]
     },
     "execution_count": 99,
     "metadata": {},
     "output_type": "execute_result"
    }
   ],
   "source": [
    "lst2"
   ]
  },
  {
   "cell_type": "code",
   "execution_count": 86,
   "metadata": {},
   "outputs": [
    {
     "data": {
      "text/plain": [
       "52.336993"
      ]
     },
     "execution_count": 86,
     "metadata": {},
     "output_type": "execute_result"
    }
   ],
   "source": [
    "lst[0]['results'][0]['geometry']['location']['lat']"
   ]
  },
  {
   "cell_type": "code",
   "execution_count": 87,
   "metadata": {},
   "outputs": [
    {
     "name": "stdout",
     "output_type": "stream",
     "text": [
      "{'lat': 52.336993, 'lng': 4.872646}\n",
      "{'lat': 52.3757779, 'lng': 4.8881539}\n",
      "{'lat': 52.3522794, 'lng': 4.8486568}\n",
      "{'lat': 52.3707639, 'lng': 4.8864128}\n",
      "{'lat': 52.3335533, 'lng': 4.9169147}\n"
     ]
    }
   ],
   "source": [
    "for x in range(len(lst)):\n",
    "        for i in range(len(lst[x]['results'])):\n",
    "            print(lst[x]['results'][i]['geometry']['location'])\n",
    "            "
   ]
  },
  {
   "cell_type": "code",
   "execution_count": 88,
   "metadata": {},
   "outputs": [
    {
     "data": {
      "text/plain": [
       "[{'html_attributions': [],\n",
       "  'results': [{'formatted_address': 'Gustav Mahlerlaan 42, 1082 LS Amsterdam, Netherlands',\n",
       "    'geometry': {'location': {'lat': 52.336993, 'lng': 4.872646},\n",
       "     'viewport': {'northeast': {'lat': 52.33818597989272,\n",
       "       'lng': 4.873996879892721},\n",
       "      'southwest': {'lat': 52.33548632010728, 'lng': 4.871297220107278}}},\n",
       "    'icon': 'https://maps.gstatic.com/mapfiles/place_api/icons/geocode-71.png',\n",
       "    'id': '809fc2d4b44d8bfb4b255f10199003ef6d25a47a',\n",
       "    'name': 'Gustav Mahlerlaan 42',\n",
       "    'place_id': 'ChIJxQMSoAUKxkcR3tISsiACK4U',\n",
       "    'plus_code': {'compound_code': '8VPF+Q3 Amsterdam, Netherlands',\n",
       "     'global_code': '9F468VPF+Q3'},\n",
       "    'reference': 'ChIJxQMSoAUKxkcR3tISsiACK4U',\n",
       "    'types': ['street_address']}],\n",
       "  'status': 'OK'},\n",
       " {'html_attributions': [],\n",
       "  'results': [{'formatted_address': 'Herengracht 124, 1015 BT Amsterdam, Netherlands',\n",
       "    'geometry': {'location': {'lat': 52.3757779, 'lng': 4.8881539},\n",
       "     'viewport': {'northeast': {'lat': 52.37707427989272,\n",
       "       'lng': 4.889656779892722},\n",
       "      'southwest': {'lat': 52.37437462010728, 'lng': 4.886957120107278}}},\n",
       "    'icon': 'https://maps.gstatic.com/mapfiles/place_api/icons/geocode-71.png',\n",
       "    'id': '0ba62ebdee59f9edd984b7c521c5faa243db46a3',\n",
       "    'name': 'Herengracht 124',\n",
       "    'place_id': 'ChIJlWS-xcUJxkcRfNUPv3wWHLo',\n",
       "    'plus_code': {'compound_code': '9VGQ+87 Amsterdam, Netherlands',\n",
       "     'global_code': '9F469VGQ+87'},\n",
       "    'reference': 'ChIJlWS-xcUJxkcRfNUPv3wWHLo',\n",
       "    'types': ['street_address']}],\n",
       "  'status': 'OK'},\n",
       " {'html_attributions': [],\n",
       "  'results': [{'formatted_address': 'Hillegomstraat 12, 1058 LS Amsterdam, Netherlands',\n",
       "    'geometry': {'location': {'lat': 52.3522794, 'lng': 4.8486568},\n",
       "     'viewport': {'northeast': {'lat': 52.35356247989272,\n",
       "       'lng': 4.850008379892723},\n",
       "      'southwest': {'lat': 52.35086282010727, 'lng': 4.84730872010728}}},\n",
       "    'icon': 'https://maps.gstatic.com/mapfiles/place_api/icons/geocode-71.png',\n",
       "    'id': 'f85ed84ced51998d29a6c1215f9dddfba46c5724',\n",
       "    'name': 'Hillegomstraat 12',\n",
       "    'place_id': 'ChIJPUWmgBzixUcRsGQj7P2_fy8',\n",
       "    'plus_code': {'compound_code': '9R2X+WF Amsterdam, Netherlands',\n",
       "     'global_code': '9F469R2X+WF'},\n",
       "    'reference': 'ChIJPUWmgBzixUcRsGQj7P2_fy8',\n",
       "    'types': ['street_address']}],\n",
       "  'status': 'OK'},\n",
       " {'html_attributions': [],\n",
       "  'results': [{'formatted_address': 'Herengracht 282, 1016 BX Amsterdam, Netherlands',\n",
       "    'geometry': {'location': {'lat': 52.3707639, 'lng': 4.8864128},\n",
       "     'viewport': {'northeast': {'lat': 52.37210947989273,\n",
       "       'lng': 4.887900779892722},\n",
       "      'southwest': {'lat': 52.36940982010728, 'lng': 4.885201120107278}}},\n",
       "    'icon': 'https://maps.gstatic.com/mapfiles/place_api/icons/geocode-71.png',\n",
       "    'id': '315fb315e9264c68c3b4bb1197682e6e8c624f2a',\n",
       "    'name': 'Herengracht 282',\n",
       "    'place_id': 'ChIJr9JlvMMJxkcRB3SjKxyj848',\n",
       "    'reference': 'ChIJr9JlvMMJxkcRB3SjKxyj848',\n",
       "    'types': ['premise']}],\n",
       "  'status': 'OK'},\n",
       " {'html_attributions': [], 'results': [], 'status': 'ZERO_RESULTS'},\n",
       " {'html_attributions': [],\n",
       "  'results': [{'formatted_address': 'Willem Fenengastraat 17, 1096 BL Amsterdam, Netherlands',\n",
       "    'geometry': {'location': {'lat': 52.3335533, 'lng': 4.9169147},\n",
       "     'viewport': {'northeast': {'lat': 52.33487092989273,\n",
       "       'lng': 4.918137579892722},\n",
       "      'southwest': {'lat': 52.33217127010729, 'lng': 4.915437920107278}}},\n",
       "    'icon': 'https://maps.gstatic.com/mapfiles/place_api/icons/geocode-71.png',\n",
       "    'id': '71f9b007621b612053b9dd1d650908322725cfe2',\n",
       "    'name': 'Willem Fenengastraat 17',\n",
       "    'place_id': 'ChIJP9SaYM0LxkcRXkqfa4ZuZnE',\n",
       "    'plus_code': {'compound_code': '8WM8+CQ Amsterdam, Netherlands',\n",
       "     'global_code': '9F468WM8+CQ'},\n",
       "    'reference': 'ChIJP9SaYM0LxkcRXkqfa4ZuZnE',\n",
       "    'types': ['street_address']}],\n",
       "  'status': 'OK'}]"
      ]
     },
     "execution_count": 88,
     "metadata": {},
     "output_type": "execute_result"
    }
   ],
   "source": [
    "lst"
   ]
  },
  {
   "cell_type": "code",
   "execution_count": 106,
   "metadata": {},
   "outputs": [
    {
     "data": {
      "text/plain": [
       "[{'address': 'Gustav Mahlerlaan 42, 1082 LS Amsterdam, Netherlands',\n",
       "  'type': 'Point',\n",
       "  'coordinates': [4.872646, 52.336993]},\n",
       " {'address': 'Herengracht 124, 1015 BT Amsterdam, Netherlands',\n",
       "  'type': 'Point',\n",
       "  'coordinates': [4.8881539, 52.3757779]},\n",
       " {'address': 'Hillegomstraat 12, 1058 LS Amsterdam, Netherlands',\n",
       "  'type': 'Point',\n",
       "  'coordinates': [4.8486568, 52.3522794]},\n",
       " {'address': 'Herengracht 282, 1016 BX Amsterdam, Netherlands',\n",
       "  'type': 'Point',\n",
       "  'coordinates': [4.8864128, 52.3707639]}]"
      ]
     },
     "execution_count": 106,
     "metadata": {},
     "output_type": "execute_result"
    }
   ],
   "source": [
    "def getLocation(companies):\n",
    "    location =[]\n",
    "    for x in range(len(companies)):\n",
    "        for i in range(len(companies[x]['results'])):\n",
    "            longitude = companies[x]['results'][i]['geometry']['location']['lng']\n",
    "            latitude = companies[x]['results'][i]['geometry']['location']['lat']\n",
    "            address = companies[x]['results'][i]['formatted_address']\n",
    "            loc = {\n",
    "                'address': address,\n",
    "                'type':'Point',\n",
    "                'coordinates':[longitude, latitude]\n",
    "            }\n",
    "            location.append(loc)\n",
    "    return location\n",
    "\n",
    "x = getLocation(lst)\n",
    "x[0:4]"
   ]
  },
  {
   "cell_type": "code",
   "execution_count": 108,
   "metadata": {},
   "outputs": [
    {
     "data": {
      "text/plain": [
       "[{'address': 'Strawinskylaan 1041, C-Tower 10th Floor, 1077 XX Amsterdam, Netherlands',\n",
       "  'type': 'Point',\n",
       "  'coordinates': [4.874923, 52.3400749]},\n",
       " {'address': '1096 BL Amsterdam, Netherlands',\n",
       "  'type': 'Point',\n",
       "  'coordinates': [4.916725, 52.3334537]}]"
      ]
     },
     "execution_count": 108,
     "metadata": {},
     "output_type": "execute_result"
    }
   ],
   "source": [
    "y = getLocation(lst2)\n",
    "y[2:5]"
   ]
  },
  {
   "cell_type": "code",
   "execution_count": 109,
   "metadata": {},
   "outputs": [],
   "source": [
    "lst_final = x[0:4] + y[2:5]"
   ]
  },
  {
   "cell_type": "code",
   "execution_count": 110,
   "metadata": {},
   "outputs": [
    {
     "data": {
      "text/plain": [
       "[{'address': 'Gustav Mahlerlaan 42, 1082 LS Amsterdam, Netherlands',\n",
       "  'type': 'Point',\n",
       "  'coordinates': [4.872646, 52.336993]},\n",
       " {'address': 'Herengracht 124, 1015 BT Amsterdam, Netherlands',\n",
       "  'type': 'Point',\n",
       "  'coordinates': [4.8881539, 52.3757779]},\n",
       " {'address': 'Hillegomstraat 12, 1058 LS Amsterdam, Netherlands',\n",
       "  'type': 'Point',\n",
       "  'coordinates': [4.8486568, 52.3522794]},\n",
       " {'address': 'Herengracht 282, 1016 BX Amsterdam, Netherlands',\n",
       "  'type': 'Point',\n",
       "  'coordinates': [4.8864128, 52.3707639]},\n",
       " {'address': 'Strawinskylaan 1041, C-Tower 10th Floor, 1077 XX Amsterdam, Netherlands',\n",
       "  'type': 'Point',\n",
       "  'coordinates': [4.874923, 52.3400749]},\n",
       " {'address': '1096 BL Amsterdam, Netherlands',\n",
       "  'type': 'Point',\n",
       "  'coordinates': [4.916725, 52.3334537]}]"
      ]
     },
     "execution_count": 110,
     "metadata": {},
     "output_type": "execute_result"
    }
   ],
   "source": [
    "lst_final"
   ]
  },
  {
   "cell_type": "code",
   "execution_count": null,
   "metadata": {},
   "outputs": [],
   "source": []
  },
  {
   "cell_type": "code",
   "execution_count": null,
   "metadata": {},
   "outputs": [],
   "source": []
  }
 ],
 "metadata": {
  "kernelspec": {
   "display_name": "Python 3",
   "language": "python",
   "name": "python3"
  },
  "language_info": {
   "codemirror_mode": {
    "name": "ipython",
    "version": 3
   },
   "file_extension": ".py",
   "mimetype": "text/x-python",
   "name": "python",
   "nbconvert_exporter": "python",
   "pygments_lexer": "ipython3",
   "version": "3.7.4"
  }
 },
 "nbformat": 4,
 "nbformat_minor": 2
}
