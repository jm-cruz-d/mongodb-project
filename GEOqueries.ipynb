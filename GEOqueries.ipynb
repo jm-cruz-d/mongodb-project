{
 "cells": [
  {
   "cell_type": "code",
   "execution_count": 1,
   "metadata": {},
   "outputs": [
    {
     "data": {
      "text/plain": [
       "True"
      ]
     },
     "execution_count": 1,
     "metadata": {},
     "output_type": "execute_result"
    }
   ],
   "source": [
    "from pymongo import MongoClient\n",
    "import folium\n",
    "import googlemaps\n",
    "from datetime import datetime\n",
    "import os\n",
    "from dotenv import load_dotenv\n",
    "load_dotenv()"
   ]
  },
  {
   "cell_type": "code",
   "execution_count": 2,
   "metadata": {},
   "outputs": [],
   "source": [
    "def connectCollection(database, collection):\n",
    "    client = MongoClient()\n",
    "    db = client[database]\n",
    "    coll = db[collection]\n",
    "    return db, coll"
   ]
  },
  {
   "cell_type": "code",
   "execution_count": 3,
   "metadata": {},
   "outputs": [
    {
     "name": "stdout",
     "output_type": "stream",
     "text": [
      "20\n",
      "{'_id': ObjectId('5dd6ada72eb127ee9342a412'), 'name': 'alfie newell', 'address': '1012 DV Amsterdam, Netherlands', 'location': {'type': 'Point', 'coordinates': [4.895861000000001, 52.3718604]}}\n"
     ]
    },
    {
     "name": "stderr",
     "output_type": "stream",
     "text": [
      "/usr/local/Cellar/ipython/7.8.0/libexec/vendor/lib/python3.7/site-packages/ipykernel_launcher.py:18: DeprecationWarning: count is deprecated. Use Collection.count_documents instead.\n"
     ]
    }
   ],
   "source": [
    "def filterType(lat,lng, typeName, radius):\n",
    "    db, coll = connectCollection('companies', typeName)\n",
    "    results = coll.find({\n",
    "        \"location\":{\n",
    "            \"$near\":{\n",
    "                \"$geometry\":{\n",
    "                    \"type\":\"Point\",\n",
    "                    \"coordinates\":[lng,lat]\n",
    "                },\n",
    "                \"$maxDistance\": radius,\n",
    "            }\n",
    "        }\n",
    "    })\n",
    "    return results\n",
    "\n",
    "coords = [52.37021,4.895168]\n",
    "data = filterType(*coords,'clubs',1000)\n",
    "print(data.count())\n",
    "print(data[0])\n"
   ]
  },
  {
   "cell_type": "code",
   "execution_count": 4,
   "metadata": {},
   "outputs": [],
   "source": [
    "db, localrent = connectCollection('companies', 'rentlocals')\n"
   ]
  },
  {
   "cell_type": "code",
   "execution_count": 5,
   "metadata": {},
   "outputs": [],
   "source": [
    "lr = localrent.find()"
   ]
  },
  {
   "cell_type": "code",
   "execution_count": 6,
   "metadata": {},
   "outputs": [],
   "source": [
    "\n",
    "def distanceFromlocals(coll, radius):\n",
    "    listlocals = []\n",
    "    for l in lr:\n",
    "        listlocals.append(l['location']['coordinates'])\n",
    "    for ll in listlocals:\n",
    "        data = filterType(*ll[::-1], coll, radius)\n",
    "        return data \n",
    "\n"
   ]
  },
  {
   "cell_type": "code",
   "execution_count": 7,
   "metadata": {},
   "outputs": [],
   "source": [
    "clubs = distanceFromlocals('clubs', 500)    "
   ]
  },
  {
   "cell_type": "code",
   "execution_count": 9,
   "metadata": {},
   "outputs": [
    {
     "name": "stdout",
     "output_type": "stream",
     "text": [
      "[]\n"
     ]
    }
   ],
   "source": [
    "print(list(clubs))"
   ]
  },
  {
   "cell_type": "code",
   "execution_count": null,
   "metadata": {},
   "outputs": [],
   "source": []
  }
 ],
 "metadata": {
  "kernelspec": {
   "display_name": "Python 3",
   "language": "python",
   "name": "python3"
  },
  "language_info": {
   "codemirror_mode": {
    "name": "ipython",
    "version": 3
   },
   "file_extension": ".py",
   "mimetype": "text/x-python",
   "name": "python",
   "nbconvert_exporter": "python",
   "pygments_lexer": "ipython3",
   "version": "3.7.4"
  }
 },
 "nbformat": 4,
 "nbformat_minor": 2
}
