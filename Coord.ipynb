{
 "cells": [
  {
   "cell_type": "code",
   "execution_count": 5,
   "metadata": {},
   "outputs": [
    {
     "name": "stdout",
     "output_type": "stream",
     "text": [
      "Collecting pymongo\n",
      "\u001b[?25l  Downloading https://files.pythonhosted.org/packages/a3/8c/ec46f4aa95515989711a7893e64c30f9d33c58eaccc01f8f37c4513739a2/pymongo-3.9.0-cp37-cp37m-macosx_10_6_intel.whl (378kB)\n",
      "\u001b[K     |████████████████████████████████| 378kB 2.7MB/s eta 0:00:01\n",
      "\u001b[?25hInstalling collected packages: pymongo\n",
      "Successfully installed pymongo-3.9.0\n"
     ]
    }
   ],
   "source": [
    "!pip3 install pymongo"
   ]
  },
  {
   "cell_type": "code",
   "execution_count": 119,
   "metadata": {},
   "outputs": [
    {
     "name": "stdout",
     "output_type": "stream",
     "text": [
      "Collecting folium\n",
      "\u001b[?25l  Downloading https://files.pythonhosted.org/packages/72/ff/004bfe344150a064e558cb2aedeaa02ecbf75e60e148a55a9198f0c41765/folium-0.10.0-py2.py3-none-any.whl (91kB)\n",
      "\u001b[K     |████████████████████████████████| 92kB 2.7MB/s eta 0:00:01\n",
      "\u001b[?25hCollecting jinja2>=2.9 (from folium)\n",
      "\u001b[?25l  Downloading https://files.pythonhosted.org/packages/65/e0/eb35e762802015cab1ccee04e8a277b03f1d8e53da3ec3106882ec42558b/Jinja2-2.10.3-py2.py3-none-any.whl (125kB)\n",
      "\u001b[K     |████████████████████████████████| 133kB 3.3MB/s eta 0:00:01\n",
      "\u001b[?25hRequirement already satisfied: requests in /usr/local/lib/python3.7/site-packages (from folium) (2.22.0)\n",
      "Collecting branca>=0.3.0 (from folium)\n",
      "  Downloading https://files.pythonhosted.org/packages/63/36/1c93318e9653f4e414a2e0c3b98fc898b4970e939afeedeee6075dd3b703/branca-0.3.1-py3-none-any.whl\n",
      "Requirement already satisfied: numpy in /usr/local/lib/python3.7/site-packages (from folium) (1.17.3)\n",
      "Collecting MarkupSafe>=0.23 (from jinja2>=2.9->folium)\n",
      "  Downloading https://files.pythonhosted.org/packages/ce/c6/f000f1af136ef74e4a95e33785921c73595c5390403f102e9b231b065b7a/MarkupSafe-1.1.1-cp37-cp37m-macosx_10_6_intel.whl\n",
      "Requirement already satisfied: urllib3!=1.25.0,!=1.25.1,<1.26,>=1.21.1 in /usr/local/lib/python3.7/site-packages (from requests->folium) (1.25.6)\n",
      "Requirement already satisfied: idna<2.9,>=2.5 in /usr/local/lib/python3.7/site-packages (from requests->folium) (2.8)\n",
      "Requirement already satisfied: chardet<3.1.0,>=3.0.2 in /usr/local/lib/python3.7/site-packages (from requests->folium) (3.0.4)\n",
      "Requirement already satisfied: certifi>=2017.4.17 in /usr/local/lib/python3.7/site-packages (from requests->folium) (2019.9.11)\n",
      "Requirement already satisfied: six in /usr/local/Cellar/ipython/7.8.0/libexec/vendor/lib/python3.7/site-packages (from branca>=0.3.0->folium) (1.12.0)\n",
      "Installing collected packages: MarkupSafe, jinja2, branca, folium\n",
      "Successfully installed MarkupSafe-1.1.1 branca-0.3.1 folium-0.10.0 jinja2-2.10.3\n"
     ]
    }
   ],
   "source": [
    "!pip3 install folium"
   ]
  },
  {
   "cell_type": "code",
   "execution_count": 120,
   "metadata": {},
   "outputs": [],
   "source": [
    "from pymongo import MongoClient\n",
    "import folium"
   ]
  },
  {
   "cell_type": "code",
   "execution_count": 104,
   "metadata": {},
   "outputs": [],
   "source": [
    "def connectCollection(database, collection):\n",
    "    client = MongoClient()\n",
    "    db = client[database]\n",
    "    coll = db[collection]\n",
    "    return db, coll"
   ]
  },
  {
   "cell_type": "code",
   "execution_count": 105,
   "metadata": {},
   "outputs": [],
   "source": [
    "db, coll = connectCollection('companies', 'companies')"
   ]
  },
  {
   "cell_type": "code",
   "execution_count": 106,
   "metadata": {},
   "outputs": [
    {
     "name": "stdout",
     "output_type": "stream",
     "text": [
      "Collection(Database(MongoClient(host=['localhost:27017'], document_class=dict, tz_aware=False, connect=True), 'companies'), 'companies.json')\n"
     ]
    }
   ],
   "source": [
    "print(coll.json)"
   ]
  },
  {
   "cell_type": "code",
   "execution_count": 107,
   "metadata": {},
   "outputs": [],
   "source": [
    "comp = list(coll.find({'$and': [{\"offices.latitude\": { '$nin': [None] }}, {\"offices.longitude\":{ '$nin': [None] }}, {\"offices.city\": \"Amsterdam\"}, {'deadpooled_year': None}]}))"
   ]
  },
  {
   "cell_type": "code",
   "execution_count": 117,
   "metadata": {},
   "outputs": [],
   "source": [
    "#print(comp)"
   ]
  },
  {
   "cell_type": "code",
   "execution_count": 109,
   "metadata": {},
   "outputs": [
    {
     "name": "stdout",
     "output_type": "stream",
     "text": [
      "45\n",
      "3\n"
     ]
    }
   ],
   "source": [
    "print(len(comp))\n",
    "print(len(comp[1]['offices']))\n"
   ]
  },
  {
   "cell_type": "code",
   "execution_count": 111,
   "metadata": {},
   "outputs": [
    {
     "name": "stdout",
     "output_type": "stream",
     "text": [
      "45\n"
     ]
    },
    {
     "data": {
      "text/plain": [
       "[{'description': 'Arts & Crafts',\n",
       "  'address1': 'Damrak 70, 254',\n",
       "  'address2': '',\n",
       "  'zip_code': '1012LM',\n",
       "  'city': 'Amsterdam',\n",
       "  'state_code': None,\n",
       "  'country_code': 'NLD',\n",
       "  'latitude': 52.3745228,\n",
       "  'longitude': 4.8948623}]"
      ]
     },
     "execution_count": 111,
     "metadata": {},
     "output_type": "execute_result"
    }
   ],
   "source": [
    "print(len(comp))\n",
    "comp[0]['offices']"
   ]
  },
  {
   "cell_type": "code",
   "execution_count": 112,
   "metadata": {},
   "outputs": [
    {
     "name": "stdout",
     "output_type": "stream",
     "text": [
      "1\n"
     ]
    },
    {
     "data": {
      "text/plain": [
       "{'description': 'Arts & Crafts',\n",
       " 'address1': 'Damrak 70, 254',\n",
       " 'address2': '',\n",
       " 'zip_code': '1012LM',\n",
       " 'city': 'Amsterdam',\n",
       " 'state_code': None,\n",
       " 'country_code': 'NLD',\n",
       " 'latitude': 52.3745228,\n",
       " 'longitude': 4.8948623}"
      ]
     },
     "execution_count": 112,
     "metadata": {},
     "output_type": "execute_result"
    }
   ],
   "source": [
    "print(len(comp[0]['offices']))\n",
    "comp[0]['offices'][0]"
   ]
  },
  {
   "cell_type": "code",
   "execution_count": 113,
   "metadata": {},
   "outputs": [],
   "source": [
    "def getLocation(companies):\n",
    "    location =[]\n",
    "    for i in range(len(companies['offices'])):\n",
    "        longitude = companies['offices'][i]['longitude']\n",
    "        latitude = companies['offices'][i]['latitude']\n",
    "        loc = {\n",
    "            'type':'Point',\n",
    "            'coordinates':[longitude, latitude]\n",
    "        }\n",
    "        location.append(loc)\n",
    "    return location"
   ]
  },
  {
   "cell_type": "code",
   "execution_count": 116,
   "metadata": {},
   "outputs": [],
   "source": [
    "for cp in comp:\n",
    "    value = {\"$set\": {'location':getLocation(cp)}}\n",
    "    coll.update_one(cp, value)"
   ]
  },
  {
   "cell_type": "code",
   "execution_count": 154,
   "metadata": {},
   "outputs": [
    {
     "data": {
      "text/plain": [
       "{'type': 'Point', 'coordinates': [4.8948623, 52.3745228]}"
      ]
     },
     "execution_count": 154,
     "metadata": {},
     "output_type": "execute_result"
    }
   ],
   "source": [
    "comp[0]['location'][0]"
   ]
  },
  {
   "cell_type": "code",
   "execution_count": 151,
   "metadata": {},
   "outputs": [
    {
     "data": {
      "text/plain": [
       "{'_id': ObjectId('52cdef7c4bab8bd675297de6'),\n",
       " 'name': 'Wakoopa',\n",
       " 'permalink': 'wakoopa',\n",
       " 'crunchbase_url': 'http://www.crunchbase.com/company/wakoopa',\n",
       " 'homepage_url': 'http://www.wakoopa.com',\n",
       " 'blog_url': 'http://blog.wakoopa.com',\n",
       " 'blog_feed_url': 'http://blog.wakoopa.com/feed/',\n",
       " 'twitter_username': 'wakoopa',\n",
       " 'category_code': 'web',\n",
       " 'number_of_employees': 8,\n",
       " 'founded_year': 2007,\n",
       " 'founded_month': 1,\n",
       " 'founded_day': 1,\n",
       " 'deadpooled_year': None,\n",
       " 'deadpooled_month': None,\n",
       " 'deadpooled_day': None,\n",
       " 'deadpooled_url': None,\n",
       " 'tag_list': 'socialnetwork, software, desktop, apps',\n",
       " 'alias_list': '',\n",
       " 'email_address': 'info@wakoopa.com',\n",
       " 'phone_number': '',\n",
       " 'description': 'Social network for desktop software',\n",
       " 'created_at': 'Tue Feb 05 22:28:16 UTC 2008',\n",
       " 'updated_at': 'Fri Sep 06 12:31:20 UTC 2013',\n",
       " 'overview': '<p>Wakoopa creates digital DNA of today&#8217;s consumer. In a privacy conscious way, our technology tracks what websites are visited, what ads are seen, or what apps are used. Analyze the data and optimize your digital strategy accordingly. Our new measurement dashboard, QD, is available now.</p>',\n",
       " 'image': {'available_sizes': [[[150, 37],\n",
       "    'assets/images/resized/0000/2467/2467v7-max-150x150.png'],\n",
       "   [[200, 50], 'assets/images/resized/0000/2467/2467v7-max-250x250.png'],\n",
       "   [[200, 50], 'assets/images/resized/0000/2467/2467v7-max-450x450.png']],\n",
       "  'attribution': None},\n",
       " 'products': [{'name': 'Wakoopa', 'permalink': 'wakoopa'},\n",
       "  {'name': 'QD', 'permalink': 'qd-tracking'}],\n",
       " 'relationships': [{'is_past': False,\n",
       "   'title': 'Co-founder',\n",
       "   'person': {'first_name': 'Robert',\n",
       "    'last_name': 'Gaal',\n",
       "    'permalink': 'robert-gaal'}},\n",
       "  {'is_past': False,\n",
       "   'title': 'Co-founder',\n",
       "   'person': {'first_name': 'Wouter',\n",
       "    'last_name': 'Broekhof',\n",
       "    'permalink': 'wouter-broekhof'}},\n",
       "  {'is_past': False,\n",
       "   'title': 'Shareholder/Advisor',\n",
       "   'person': {'first_name': 'Boris',\n",
       "    'last_name': 'Veldhuijzen van Zanten',\n",
       "    'permalink': 'boris-veldhuijzen-van-zanten'}},\n",
       "  {'is_past': False,\n",
       "   'title': 'Lead Developer',\n",
       "   'person': {'first_name': 'Menno',\n",
       "    'last_name': 'Van der Sman',\n",
       "    'permalink': 'menno-van-der-sman'}},\n",
       "  {'is_past': True,\n",
       "   'title': 'Developer',\n",
       "   'person': {'first_name': 'Mark',\n",
       "    'last_name': 'Mulder',\n",
       "    'permalink': 'mark-mulder'}}],\n",
       " 'competitions': [{'competitor': {'name': 'RescueTime',\n",
       "    'permalink': 'rescuetime'}},\n",
       "  {'competitor': {'name': 'Chomp', 'permalink': 'chomp'}},\n",
       "  {'competitor': {'name': 'blippr', 'permalink': 'blippr'}},\n",
       "  {'competitor': {'name': 'Suzerein Solutions',\n",
       "    'permalink': 'suzerein-solutions'}}],\n",
       " 'providerships': [{'title': 'Marketing and PR',\n",
       "   'is_past': True,\n",
       "   'provider': {'name': 'Mercury Global Partners',\n",
       "    'permalink': 'mercury-global-partners'}}],\n",
       " 'total_money_raised': '$1M',\n",
       " 'funding_rounds': [{'id': 100,\n",
       "   'round_code': 'a',\n",
       "   'source_url': 'http://www.techcrunch.com/2008/06/02/wakoopa-secures-1-million-for-app-monitoring-social-network/',\n",
       "   'source_description': 'Wakoopa Secures $1 Million for App-Monitoring Social Network',\n",
       "   'raised_amount': 1000000,\n",
       "   'raised_currency_code': 'USD',\n",
       "   'funded_year': 2008,\n",
       "   'funded_month': 6,\n",
       "   'funded_day': 2,\n",
       "   'investments': [{'company': None,\n",
       "     'financial_org': {'name': 'Big Bang Ventures',\n",
       "      'permalink': 'big-bang-ventures'},\n",
       "     'person': None},\n",
       "    {'company': None,\n",
       "     'financial_org': {'name': 'HENQ Invest', 'permalink': 'henq-invest'},\n",
       "     'person': None},\n",
       "    {'company': None,\n",
       "     'financial_org': {'name': 'DCIF', 'permalink': 'dcif'},\n",
       "     'person': None},\n",
       "    {'company': {'name': 'The Next Web', 'permalink': 'the-next-web'},\n",
       "     'financial_org': None,\n",
       "     'person': None}]}],\n",
       " 'investments': [],\n",
       " 'acquisition': None,\n",
       " 'acquisitions': [],\n",
       " 'offices': [{'description': 'Arts & Crafts',\n",
       "   'address1': 'Damrak 70, 254',\n",
       "   'address2': '',\n",
       "   'zip_code': '1012LM',\n",
       "   'city': 'Amsterdam',\n",
       "   'state_code': None,\n",
       "   'country_code': 'NLD',\n",
       "   'latitude': 52.3745228,\n",
       "   'longitude': 4.8948623}],\n",
       " 'milestones': [],\n",
       " 'ipo': None,\n",
       " 'video_embeds': [],\n",
       " 'screenshots': [],\n",
       " 'external_links': [],\n",
       " 'partners': [],\n",
       " 'location': [{'type': 'Point', 'coordinates': [4.8948623, 52.3745228]}]}"
      ]
     },
     "execution_count": 151,
     "metadata": {},
     "output_type": "execute_result"
    }
   ],
   "source": [
    "comp[0]"
   ]
  },
  {
   "cell_type": "code",
   "execution_count": 155,
   "metadata": {},
   "outputs": [],
   "source": [
    "map_city=folium.Map(location=[52.37021,4.895168], zoom_start=12)\n",
    "for cmp in comp:\n",
    "    folium.Marker(cmp['location'][0]['coordinates'][::-1],\n",
    "                radius=2,\n",
    "                icon=folium.Icon(icon='home',color='red'), \n",
    "               ).add_to(map_city)\n",
    "  "
   ]
  },
  {
   "cell_type": "code",
   "execution_count": 156,
   "metadata": {},
   "outputs": [
    {
     "data": {
      "text/html": [
       "<div style=\"width:100%;\"><div style=\"position:relative;width:100%;height:0;padding-bottom:60%;\"><iframe src=\"data:text/html;charset=utf-8;base64,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\" style=\"position:absolute;width:100%;height:100%;left:0;top:0;border:none !important;\" allowfullscreen webkitallowfullscreen mozallowfullscreen></iframe></div></div>"
      ],
      "text/plain": [
       "<folium.folium.Map at 0x11d92e490>"
      ]
     },
     "execution_count": 156,
     "metadata": {},
     "output_type": "execute_result"
    }
   ],
   "source": [
    "map_city"
   ]
  },
  {
   "cell_type": "markdown",
   "metadata": {},
   "source": []
  }
 ],
 "metadata": {
  "kernelspec": {
   "display_name": "Python 3",
   "language": "python",
   "name": "python3"
  },
  "language_info": {
   "codemirror_mode": {
    "name": "ipython",
    "version": 3
   },
   "file_extension": ".py",
   "mimetype": "text/x-python",
   "name": "python",
   "nbconvert_exporter": "python",
   "pygments_lexer": "ipython3",
   "version": "3.7.4"
  }
 },
 "nbformat": 4,
 "nbformat_minor": 2
}
