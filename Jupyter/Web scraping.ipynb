{
 "cells": [
  {
   "cell_type": "code",
   "execution_count": 1,
   "metadata": {},
   "outputs": [],
   "source": [
    "import pandas as pd\n",
    "import numpy as np\n",
    "import re as re\n",
    "import requests\n",
    "from bs4 import BeautifulSoup\n",
    "from pymongo import MongoClient\n",
    "import folium\n",
    "import googlemaps\n",
    "from datetime import datetime\n",
    "import os\n",
    "from dotenv import load_dotenv\n",
    "load_dotenv()\n",
    "\n",
    "def getPage(url):\n",
    "    res = requests.get(url)\n",
    "    html = res.text\n",
    "    soup = BeautifulSoup(html, 'html.parser')\n",
    "    return soup"
   ]
  },
  {
   "cell_type": "markdown",
   "metadata": {},
   "source": [
    "## Web scraping para encontrar locales en alquiler en Amsterdam"
   ]
  },
  {
   "cell_type": "code",
   "execution_count": 2,
   "metadata": {},
   "outputs": [],
   "source": [
    "url = \"http://www.dutchrental.com/commercial-property/Amsterdam\"\n",
    "soup = getPage(url)\n",
    "rlocal = soup.select('p a')"
   ]
  },
  {
   "cell_type": "code",
   "execution_count": 3,
   "metadata": {},
   "outputs": [
    {
     "name": "stdout",
     "output_type": "stream",
     "text": [
      "['/commercial-property-for-rent/Amsterdam/Corsicaweg-10/770329/overview', '/commercial-property-for-rent/Amsterdam/Robert-Kochplantsoen-19/770331/overview', '/commercial-property-for-rent/Amsterdam/Eerste-Leliedwarsstraat-6/744638/overview', '/commercial-property-for-rent/Amsterdam/Geuzenstraat-98/744754/overview', '/commercial-property-for-rent/Amsterdam/Jan-Rebelstraat-18-C/739903/overview', '/commercial-property-for-rent/Amsterdam/Willebroekstraat-62/733702/overview', '/commercial-property-for-rent/Amsterdam/Admiraal-de-Ruijterweg-402/650655/overview', '/commercial-property-for-rent/Amsterdam/Geuzenstraat-98/644697/overview']\n"
     ]
    }
   ],
   "source": [
    "web =[]\n",
    "for r in rlocal:\n",
    "    web.append(r.get('href'))\n",
    "print(web)"
   ]
  },
  {
   "cell_type": "code",
   "execution_count": 4,
   "metadata": {},
   "outputs": [
    {
     "name": "stdout",
     "output_type": "stream",
     "text": [
      "['/commercial-property-for-rent/Amsterdam/Nieuw-Zeelandweg-6-E/571247/overview', '/commercial-property-for-rent/Amsterdam/Meentstraat-66/558209/overview', '/commercial-property-for-rent/Amsterdam/Johan-Huizingalaan-110/558606/overview', '/commercial-property-for-rent/Amsterdam/Keurenplein-17-A/515379/overview', '/commercial-property-for-rent/Amsterdam/Socratesstraat-26/466064/overview', '/commercial-property-for-rent/Amsterdam/Stadhouderskade-55-parkeerplaats/462061/overview', '/commercial-property-for-rent/Amsterdam/Rhoneweg-18/449573/overview', '/commercial-property-for-rent/Amsterdam/Stadhouderskade-55/408508/overview', '/commercial-property-for-rent/Amsterdam/Petroleumhavenweg-22/360434/overview', '/commercial-property-for-rent/Amsterdam/Licentiehouder-gezocht/358640/overview', '/commercial-property-for-rent/Amsterdam/Willemsparkweg-135-B/346519/overview', '/commercial-property-for-rent/Amsterdam/Contactweg-131/204353/overview', '/commercial-property-for-rent/Amsterdam/Hemonystraat-66/191094/overview', '/commercial-property-for-rent/Amsterdam/Nieuwe-Hemweg-4-c/177768/overview', '/commercial-property-for-rent/Amsterdam/Veemarkt-212-F/157985/overview', '/commercial-property-for-rent/Amsterdam/Siriusdreef-17-27/135717/overview']\n"
     ]
    }
   ],
   "source": [
    "web1=[]\n",
    "for i in range (2,6):\n",
    "    x = getPage(f\"http://www.dutchrental.com/commercial-property/Amsterdam?page={i}\")   \n",
    "    rlocal1 = x.select('p a')\n",
    "    for r in rlocal1:\n",
    "        web1.append(r.get('href'))\n",
    "print(web1)\n"
   ]
  },
  {
   "cell_type": "code",
   "execution_count": 5,
   "metadata": {},
   "outputs": [
    {
     "data": {
      "text/plain": [
       "['Corsicaweg 10',\n",
       " 'Robert Kochplantsoen 19',\n",
       " 'Eerste Leliedwarsstraat 6',\n",
       " 'Geuzenstraat 98',\n",
       " 'Jan Rebelstraat 18 C',\n",
       " 'Willebroekstraat 62',\n",
       " 'Admiraal de Ruijterweg 402',\n",
       " 'Geuzenstraat 98',\n",
       " 'Nieuw Zeelandweg 6 E',\n",
       " 'Meentstraat 66',\n",
       " 'Johan Huizingalaan 110',\n",
       " 'Keurenplein 17 A',\n",
       " 'Socratesstraat 26',\n",
       " 'Stadhouderskade 55 parkeerplaats',\n",
       " 'Rhoneweg 18',\n",
       " 'Stadhouderskade 55',\n",
       " 'Petroleumhavenweg 22',\n",
       " 'Licentiehouder gezocht',\n",
       " 'Willemsparkweg 135 B',\n",
       " 'Contactweg 131',\n",
       " 'Hemonystraat 66',\n",
       " 'Nieuwe Hemweg 4 c',\n",
       " 'Veemarkt 212 F',\n",
       " 'Siriusdreef 17 27']"
      ]
     },
     "execution_count": 5,
     "metadata": {},
     "output_type": "execute_result"
    }
   ],
   "source": [
    "import re\n",
    "cleaning = web+web1\n",
    "clean =[]\n",
    "for c in cleaning:\n",
    "    c1 = re.sub(\"/commercial-property-for-rent/Amsterdam/\", \"\", c)\n",
    "    c2 = re.sub(\"\\/[0-9]+\\/overview\", \"\", c1)\n",
    "    c3 = re.sub(\"\\-\", \" \", c2)\n",
    "    clean.append(c3)\n",
    "clean"
   ]
  },
  {
   "cell_type": "code",
   "execution_count": 6,
   "metadata": {},
   "outputs": [],
   "source": [
    "gmaps = googlemaps.Client(key=os.getenv(\"key\"))\n"
   ]
  },
  {
   "cell_type": "markdown",
   "metadata": {},
   "source": [
    "## Con las direcciones saco las coordenadas"
   ]
  },
  {
   "cell_type": "code",
   "execution_count": 7,
   "metadata": {},
   "outputs": [],
   "source": [
    "def coordLocals(listlocals):\n",
    "    addresslocals = []\n",
    "    for n in listlocals:\n",
    "        addresslocals.append(gmaps.places(n))      \n",
    "    return addresslocals\n",
    "\n",
    "localams = coordLocals(clean)"
   ]
  },
  {
   "cell_type": "code",
   "execution_count": 8,
   "metadata": {},
   "outputs": [
    {
     "data": {
      "text/plain": [
       "4.8115896"
      ]
     },
     "execution_count": 8,
     "metadata": {},
     "output_type": "execute_result"
    }
   ],
   "source": [
    "localams[0]['results'][0]['geometry']['location']['lng']"
   ]
  },
  {
   "cell_type": "markdown",
   "metadata": {},
   "source": [
    "## Saco los parametros que quiero de los locales"
   ]
  },
  {
   "cell_type": "code",
   "execution_count": 9,
   "metadata": {},
   "outputs": [],
   "source": [
    "def getParameters(companies):\n",
    "    param =[]\n",
    "    for comp in companies:\n",
    "        for i in range(len(comp['results'])):\n",
    "            longitude = comp['results'][i]['geometry']['location']['lng']\n",
    "            latitude = comp['results'][i]['geometry']['location']['lat']\n",
    "            address = comp['results'][i]['name']\n",
    "            loc = {\n",
    "            'address': address,\n",
    "            'coordinates':[longitude, latitude]\n",
    "            }\n",
    "            param.append(loc)\n",
    "    return param"
   ]
  },
  {
   "cell_type": "code",
   "execution_count": 10,
   "metadata": {},
   "outputs": [],
   "source": [
    "x = getParameters(localams)"
   ]
  },
  {
   "cell_type": "markdown",
   "metadata": {},
   "source": [
    "## Lo subo a mongodb y creo la localización para el geoindex"
   ]
  },
  {
   "cell_type": "code",
   "execution_count": 11,
   "metadata": {},
   "outputs": [],
   "source": [
    "def connectCollection(database, collection):\n",
    "    client = MongoClient()\n",
    "    db = client[database]\n",
    "    coll = db[collection]\n",
    "    return db, coll"
   ]
  },
  {
   "cell_type": "code",
   "execution_count": 12,
   "metadata": {},
   "outputs": [],
   "source": [
    "db, coll = connectCollection('companies', 'companies')"
   ]
  },
  {
   "cell_type": "code",
   "execution_count": 13,
   "metadata": {},
   "outputs": [
    {
     "data": {
      "text/plain": [
       "<pymongo.results.InsertManyResult at 0x11100d230>"
      ]
     },
     "execution_count": 13,
     "metadata": {},
     "output_type": "execute_result"
    }
   ],
   "source": [
    "col = db[\"rentlocals\"]\n",
    "col.insert_many(x)"
   ]
  },
  {
   "cell_type": "code",
   "execution_count": 14,
   "metadata": {},
   "outputs": [],
   "source": [
    "def getLocation(companies):\n",
    "    location =[]\n",
    "    longitude = companies['coordinates'][1]\n",
    "    latitude = companies['coordinates'][0]\n",
    "    loc = {\n",
    "        'type':'Point',\n",
    "        'coordinates':[latitude, longitude]\n",
    "    }\n",
    "    location.append(loc)\n",
    "    print(location)\n",
    "    return location"
   ]
  },
  {
   "cell_type": "code",
   "execution_count": 15,
   "metadata": {},
   "outputs": [
    {
     "data": {
      "text/plain": [
       "{'address': 'Corsicaweg 10',\n",
       " 'coordinates': [4.8115896, 52.4021632],\n",
       " '_id': ObjectId('5dd7cc20ead1fc712e30354a')}"
      ]
     },
     "execution_count": 15,
     "metadata": {},
     "output_type": "execute_result"
    }
   ],
   "source": [
    "x[0]"
   ]
  },
  {
   "cell_type": "code",
   "execution_count": 16,
   "metadata": {},
   "outputs": [],
   "source": [
    "db, collr = connectCollection('companies', 'rentlocals')\n"
   ]
  },
  {
   "cell_type": "code",
   "execution_count": null,
   "metadata": {},
   "outputs": [],
   "source": [
    "for x1 in x:\n",
    "    value = {\"$set\": {'location':getLocation(x1)}}\n",
    "    query = {\"_id\": x1['_id']}\n",
    "    collr.update_many(query, value)"
   ]
  },
  {
   "cell_type": "code",
   "execution_count": 18,
   "metadata": {},
   "outputs": [
    {
     "name": "stdout",
     "output_type": "stream",
     "text": [
      "Stored 'x' (list)\n"
     ]
    }
   ],
   "source": [
    "%store x"
   ]
  },
  {
   "cell_type": "code",
   "execution_count": null,
   "metadata": {},
   "outputs": [],
   "source": [
    "# Con esto compruebo si puedo hacer web scraping con selenium la primera o de manera normal como la segunda, \n",
    "# crea un archivo en la carpeta que estoy y si se abre en el navegador es que puedo hacerlo sin selenium\n",
    "\n",
    "test = requests.get(\"https://www.fundainbusiness.nl/en/alle-bedrijfsaanbod/amsterdam/\").text\n",
    "with open(\"test.html\",\"w+\") as file:\n",
    "    file.write(test)\n",
    "\n",
    "    \n",
    "test = requests.get(\"http://www.dutchrental.com/commercial-property/Amsterdam\").text\n",
    "with open(\"test.html\",\"w+\") as file:\n",
    "    file.write(test)"
   ]
  },
  {
   "cell_type": "code",
   "execution_count": null,
   "metadata": {},
   "outputs": [],
   "source": []
  },
  {
   "cell_type": "code",
   "execution_count": null,
   "metadata": {},
   "outputs": [],
   "source": []
  }
 ],
 "metadata": {
  "kernelspec": {
   "display_name": "Python 3",
   "language": "python",
   "name": "python3"
  },
  "language_info": {
   "codemirror_mode": {
    "name": "ipython",
    "version": 3
   },
   "file_extension": ".py",
   "mimetype": "text/x-python",
   "name": "python",
   "nbconvert_exporter": "python",
   "pygments_lexer": "ipython3",
   "version": "3.7.4"
  }
 },
 "nbformat": 4,
 "nbformat_minor": 2
}
