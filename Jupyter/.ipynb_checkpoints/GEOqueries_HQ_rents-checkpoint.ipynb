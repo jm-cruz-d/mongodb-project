{
 "cells": [
  {
   "cell_type": "code",
   "execution_count": 1,
   "metadata": {},
   "outputs": [
    {
     "data": {
      "text/plain": [
       "True"
      ]
     },
     "execution_count": 1,
     "metadata": {},
     "output_type": "execute_result"
    }
   ],
   "source": [
    "import re\n",
    "import pandas as pd\n",
    "from pymongo import MongoClient\n",
    "import folium\n",
    "import googlemaps\n",
    "from datetime import datetime\n",
    "import os\n",
    "from dotenv import load_dotenv\n",
    "load_dotenv()"
   ]
  },
  {
   "cell_type": "code",
   "execution_count": 2,
   "metadata": {},
   "outputs": [],
   "source": [
    "def connectCollection(database, collection):\n",
    "    client = MongoClient()\n",
    "    db = client[database]\n",
    "    coll = db[collection]\n",
    "    return db, coll"
   ]
  },
  {
   "cell_type": "markdown",
   "metadata": {},
   "source": [
    "## Función que realiza la geoquerie"
   ]
  },
  {
   "cell_type": "code",
   "execution_count": 3,
   "metadata": {},
   "outputs": [
    {
     "name": "stdout",
     "output_type": "stream",
     "text": [
      "23\n",
      "{'_id': ObjectId('5dd6ada72eb127ee9342a41c'), 'name': \"Oostheim Bro's\", 'address': 'Albert Cuypstraat 139, 1072 CS Amsterdam, Netherlands', 'location': {'type': 'Point', 'coordinates': [4.8927191, 52.3555603]}}\n"
     ]
    },
    {
     "name": "stderr",
     "output_type": "stream",
     "text": [
      "/usr/local/Cellar/ipython/7.8.0/libexec/vendor/lib/python3.7/site-packages/ipykernel_launcher.py:18: DeprecationWarning: count is deprecated. Use Collection.count_documents instead.\n"
     ]
    }
   ],
   "source": [
    "def filterType(lat,lng, typeName, radius):\n",
    "    db, coll = connectCollection('companies', typeName)\n",
    "    results = coll.find({\n",
    "        \"location\":{\n",
    "            \"$near\":{\n",
    "                \"$geometry\":{\n",
    "                    \"type\":\"Point\",\n",
    "                    \"coordinates\":[lng,lat]\n",
    "                },\n",
    "                \"$maxDistance\": radius,\n",
    "            }\n",
    "        }\n",
    "    })\n",
    "    return results\n",
    "\n",
    "coords = [52.3573865,4.892337]\n",
    "data = filterType(*coords,'clubs',1000)\n",
    "print(data.count())\n",
    "print(data[0])\n"
   ]
  },
  {
   "cell_type": "code",
   "execution_count": 4,
   "metadata": {},
   "outputs": [],
   "source": [
    "db, localrent = connectCollection('companies', 'rentlocals')\n",
    "db, clubs = connectCollection('companies', 'clubs')"
   ]
  },
  {
   "cell_type": "code",
   "execution_count": 5,
   "metadata": {},
   "outputs": [
    {
     "data": {
      "text/plain": [
       "{'_id': ObjectId('5dd6ca627e4ead4e4526151a'),\n",
       " 'address': 'Corsicaweg 10',\n",
       " 'location': {'type': 'Point', 'coordinates': [4.8115896, 52.4021632]}}"
      ]
     },
     "execution_count": 5,
     "metadata": {},
     "output_type": "execute_result"
    }
   ],
   "source": [
    "lr = list(localrent.find())\n",
    "lr[0]"
   ]
  },
  {
   "cell_type": "markdown",
   "metadata": {},
   "source": [
    "## Función que cuenta la cantidad de elementos que hay en el radio que le pongo"
   ]
  },
  {
   "cell_type": "code",
   "execution_count": 6,
   "metadata": {},
   "outputs": [],
   "source": [
    "def counting(collection, radius):\n",
    "    lst=[]\n",
    "    for l in lr:\n",
    "        lst.append(l['location']['coordinates'][::-1])\n",
    "    data=[]\n",
    "    for l in lst:\n",
    "        data.append(filterType(*l,collection,radius))\n",
    "    contando=[]\n",
    "    for i in range(len(data)):\n",
    "        contando.append(data[i].count())\n",
    "    return contando"
   ]
  },
  {
   "cell_type": "code",
   "execution_count": 7,
   "metadata": {},
   "outputs": [
    {
     "name": "stdout",
     "output_type": "stream",
     "text": [
      "[0, 0, 12, 6, 0, 0, 2, 6, 0, 0, 0, 0, 0, 0, 0, 0, 23, 19, 2, 38, 0, 6, 4, 11, 6, 0, 0]\n"
     ]
    },
    {
     "name": "stderr",
     "output_type": "stream",
     "text": [
      "/usr/local/Cellar/ipython/7.8.0/libexec/vendor/lib/python3.7/site-packages/ipykernel_launcher.py:10: DeprecationWarning: count is deprecated. Use Collection.count_documents instead.\n",
      "  # Remove the CWD from sys.path while we load stuff.\n"
     ]
    }
   ],
   "source": [
    "clubs = counting('clubs',1000)\n",
    "print(clubs)"
   ]
  },
  {
   "cell_type": "code",
   "execution_count": 8,
   "metadata": {},
   "outputs": [
    {
     "name": "stdout",
     "output_type": "stream",
     "text": [
      "[0, 2, 2, 7, 0, 0, 2, 7, 0, 0, 0, 0, 0, 0, 0, 0, 9, 5, 2, 3, 0, 6, 0, 11, 0, 2, 0]\n"
     ]
    },
    {
     "name": "stderr",
     "output_type": "stream",
     "text": [
      "/usr/local/Cellar/ipython/7.8.0/libexec/vendor/lib/python3.7/site-packages/ipykernel_launcher.py:10: DeprecationWarning: count is deprecated. Use Collection.count_documents instead.\n",
      "  # Remove the CWD from sys.path while we load stuff.\n"
     ]
    }
   ],
   "source": [
    "schools = counting('schools', 750)\n",
    "print(schools)"
   ]
  },
  {
   "cell_type": "code",
   "execution_count": 9,
   "metadata": {},
   "outputs": [
    {
     "name": "stdout",
     "output_type": "stream",
     "text": [
      "[0, 0, 0, 0, 0, 0, 0, 0, 0, 0, 0, 0, 0, 0, 0, 0, 1, 0, 0, 0, 0, 0, 0, 0, 0, 0, 0]\n"
     ]
    },
    {
     "name": "stderr",
     "output_type": "stream",
     "text": [
      "/usr/local/Cellar/ipython/7.8.0/libexec/vendor/lib/python3.7/site-packages/ipykernel_launcher.py:10: DeprecationWarning: count is deprecated. Use Collection.count_documents instead.\n",
      "  # Remove the CWD from sys.path while we load stuff.\n"
     ]
    }
   ],
   "source": [
    "starbucks = counting('starbucks',200)\n",
    "print(starbucks)"
   ]
  },
  {
   "cell_type": "code",
   "execution_count": 10,
   "metadata": {},
   "outputs": [
    {
     "name": "stdout",
     "output_type": "stream",
     "text": [
      "[0, 0, 0, 0, 0, 0, 0, 0, 0, 0, 0, 0, 0, 0, 0, 0, 2, 0, 0, 0, 0, 0, 0, 0, 0, 0, 0]\n"
     ]
    },
    {
     "name": "stderr",
     "output_type": "stream",
     "text": [
      "/usr/local/Cellar/ipython/7.8.0/libexec/vendor/lib/python3.7/site-packages/ipykernel_launcher.py:10: DeprecationWarning: count is deprecated. Use Collection.count_documents instead.\n",
      "  # Remove the CWD from sys.path while we load stuff.\n"
     ]
    }
   ],
   "source": [
    "veganrest = counting('veganrest', 150)\n",
    "print(veganrest)"
   ]
  },
  {
   "cell_type": "code",
   "execution_count": 11,
   "metadata": {},
   "outputs": [
    {
     "name": "stdout",
     "output_type": "stream",
     "text": [
      "[0, 2, 4, 2, 0, 0, 2, 2, 0, 0, 0, 0, 0, 0, 0, 0, 4, 2, 0, 0, 0, 6, 0, 2, 0, 0, 0]\n"
     ]
    },
    {
     "name": "stderr",
     "output_type": "stream",
     "text": [
      "/usr/local/Cellar/ipython/7.8.0/libexec/vendor/lib/python3.7/site-packages/ipykernel_launcher.py:10: DeprecationWarning: count is deprecated. Use Collection.count_documents instead.\n",
      "  # Remove the CWD from sys.path while we load stuff.\n"
     ]
    }
   ],
   "source": [
    "kindergarten = counting('kindergarten', 600)\n",
    "print(kindergarten)"
   ]
  },
  {
   "cell_type": "code",
   "execution_count": 12,
   "metadata": {},
   "outputs": [
    {
     "name": "stdout",
     "output_type": "stream",
     "text": [
      "[0, 0, 14, 0, 0, 0, 0, 0, 0, 0, 0, 0, 0, 0, 0, 0, 7, 7, 0, 13, 0, 6, 1, 1, 0, 4, 0]\n"
     ]
    },
    {
     "name": "stderr",
     "output_type": "stream",
     "text": [
      "/usr/local/Cellar/ipython/7.8.0/libexec/vendor/lib/python3.7/site-packages/ipykernel_launcher.py:10: DeprecationWarning: count is deprecated. Use Collection.count_documents instead.\n",
      "  # Remove the CWD from sys.path while we load stuff.\n"
     ]
    }
   ],
   "source": [
    "amsterdam = counting('amsterdam', 750)\n",
    "print(amsterdam)"
   ]
  },
  {
   "cell_type": "code",
   "execution_count": 14,
   "metadata": {},
   "outputs": [
    {
     "name": "stdout",
     "output_type": "stream",
     "text": [
      "[0, 0, 0, 0, 0, 0, 0, 0, 0, 0, 0, 0, 0, 0, 0, 0, 1, 0, 1, 0, 0, 0, 0, 0, 0, 0, 0]\n"
     ]
    },
    {
     "name": "stderr",
     "output_type": "stream",
     "text": [
      "/usr/local/Cellar/ipython/7.8.0/libexec/vendor/lib/python3.7/site-packages/ipykernel_launcher.py:10: DeprecationWarning: count is deprecated. Use Collection.count_documents instead.\n",
      "  # Remove the CWD from sys.path while we load stuff.\n"
     ]
    }
   ],
   "source": [
    "coffeeshop = counting('coffeeshop', 200)\n",
    "print(coffeeshop)"
   ]
  },
  {
   "cell_type": "code",
   "execution_count": 15,
   "metadata": {},
   "outputs": [
    {
     "name": "stdout",
     "output_type": "stream",
     "text": [
      "[2, 2, 2, 2, 2, 2, 2, 2, 2, 2, 2, 2, 2, 0, 0, 2, 2, 2, 2, 2, 2, 2, 2, 2, 2, 2, 2]\n"
     ]
    },
    {
     "name": "stderr",
     "output_type": "stream",
     "text": [
      "/usr/local/Cellar/ipython/7.8.0/libexec/vendor/lib/python3.7/site-packages/ipykernel_launcher.py:10: DeprecationWarning: count is deprecated. Use Collection.count_documents instead.\n",
      "  # Remove the CWD from sys.path while we load stuff.\n"
     ]
    }
   ],
   "source": [
    "airport = counting('airport', 15000)\n",
    "print(airport)"
   ]
  },
  {
   "cell_type": "markdown",
   "metadata": {},
   "source": [
    "## Creo un dataframe con mi lista de locales en alquiler"
   ]
  },
  {
   "cell_type": "code",
   "execution_count": 16,
   "metadata": {},
   "outputs": [
    {
     "data": {
      "text/html": [
       "<div>\n",
       "<style scoped>\n",
       "    .dataframe tbody tr th:only-of-type {\n",
       "        vertical-align: middle;\n",
       "    }\n",
       "\n",
       "    .dataframe tbody tr th {\n",
       "        vertical-align: top;\n",
       "    }\n",
       "\n",
       "    .dataframe thead th {\n",
       "        text-align: right;\n",
       "    }\n",
       "</style>\n",
       "<table border=\"1\" class=\"dataframe\">\n",
       "  <thead>\n",
       "    <tr style=\"text-align: right;\">\n",
       "      <th></th>\n",
       "      <th>_id</th>\n",
       "      <th>address</th>\n",
       "      <th>location</th>\n",
       "    </tr>\n",
       "  </thead>\n",
       "  <tbody>\n",
       "    <tr>\n",
       "      <th>0</th>\n",
       "      <td>5dd6ca627e4ead4e4526151a</td>\n",
       "      <td>Corsicaweg 10</td>\n",
       "      <td>{'type': 'Point', 'coordinates': [4.8115896, 5...</td>\n",
       "    </tr>\n",
       "    <tr>\n",
       "      <th>1</th>\n",
       "      <td>5dd6ca627e4ead4e4526151b</td>\n",
       "      <td>Robert Kochplantsoen 19</td>\n",
       "      <td>{'type': 'Point', 'coordinates': [4.9369403, 5...</td>\n",
       "    </tr>\n",
       "    <tr>\n",
       "      <th>2</th>\n",
       "      <td>5dd6ca627e4ead4e4526151c</td>\n",
       "      <td>Eerste Leliedwarsstraat 6</td>\n",
       "      <td>{'type': 'Point', 'coordinates': [4.8824977999...</td>\n",
       "    </tr>\n",
       "    <tr>\n",
       "      <th>3</th>\n",
       "      <td>5dd6ca627e4ead4e4526151d</td>\n",
       "      <td>Geuzenstraat 98</td>\n",
       "      <td>{'type': 'Point', 'coordinates': [4.8648476, 5...</td>\n",
       "    </tr>\n",
       "    <tr>\n",
       "      <th>4</th>\n",
       "      <td>5dd6ca627e4ead4e4526151e</td>\n",
       "      <td>Jan Rebelstraat 18C</td>\n",
       "      <td>{'type': 'Point', 'coordinates': [4.7859449, 5...</td>\n",
       "    </tr>\n",
       "  </tbody>\n",
       "</table>\n",
       "</div>"
      ],
      "text/plain": [
       "                        _id                    address  \\\n",
       "0  5dd6ca627e4ead4e4526151a              Corsicaweg 10   \n",
       "1  5dd6ca627e4ead4e4526151b    Robert Kochplantsoen 19   \n",
       "2  5dd6ca627e4ead4e4526151c  Eerste Leliedwarsstraat 6   \n",
       "3  5dd6ca627e4ead4e4526151d            Geuzenstraat 98   \n",
       "4  5dd6ca627e4ead4e4526151e        Jan Rebelstraat 18C   \n",
       "\n",
       "                                            location  \n",
       "0  {'type': 'Point', 'coordinates': [4.8115896, 5...  \n",
       "1  {'type': 'Point', 'coordinates': [4.9369403, 5...  \n",
       "2  {'type': 'Point', 'coordinates': [4.8824977999...  \n",
       "3  {'type': 'Point', 'coordinates': [4.8648476, 5...  \n",
       "4  {'type': 'Point', 'coordinates': [4.7859449, 5...  "
      ]
     },
     "execution_count": 16,
     "metadata": {},
     "output_type": "execute_result"
    }
   ],
   "source": [
    "df=pd.DataFrame(lr)\n",
    "df.head()"
   ]
  },
  {
   "cell_type": "markdown",
   "metadata": {},
   "source": [
    "## Le inserto al Dataframe las columnas de la función counting"
   ]
  },
  {
   "cell_type": "code",
   "execution_count": null,
   "metadata": {},
   "outputs": [],
   "source": [
    "def insertColumn(name, listname):\n",
    "    df.insert(2, name, listname) \n",
    "    return df\n",
    "\n",
    "insertColumn('airport_15km', airport)\n",
    "insertColumn('coffee_shop_200m', coffeeshop)\n",
    "insertColumn('amsterdam_750m', amsterdam)\n",
    "insertColumn('clubs_1000m', clubs)\n",
    "insertColumn('veganrest_150m', veganrest)\n",
    "insertColumn('starbucks_200m', starbucks)\n",
    "insertColumn('schools_750m', schools)\n",
    "insertColumn('kindergarten_600m', kindergarten)\n",
    "insertColumn('coordinates', lst)\n",
    "\n",
    "\n",
    "df.head()"
   ]
  },
  {
   "cell_type": "code",
   "execution_count": 18,
   "metadata": {},
   "outputs": [
    {
     "data": {
      "text/plain": [
       "Index(['_id', 'address', 'kindergarten_600m', 'schools_750m', 'starbucks_200m',\n",
       "       'veganrest_150m', 'clubs_1000m', 'amsterdam_750m', 'coffee_shop_200m',\n",
       "       'airport_15km', 'location'],\n",
       "      dtype='object')"
      ]
     },
     "execution_count": 18,
     "metadata": {},
     "output_type": "execute_result"
    }
   ],
   "source": [
    "df.columns"
   ]
  },
  {
   "cell_type": "code",
   "execution_count": 19,
   "metadata": {},
   "outputs": [
    {
     "data": {
      "text/html": [
       "<div>\n",
       "<style scoped>\n",
       "    .dataframe tbody tr th:only-of-type {\n",
       "        vertical-align: middle;\n",
       "    }\n",
       "\n",
       "    .dataframe tbody tr th {\n",
       "        vertical-align: top;\n",
       "    }\n",
       "\n",
       "    .dataframe thead th {\n",
       "        text-align: right;\n",
       "    }\n",
       "</style>\n",
       "<table border=\"1\" class=\"dataframe\">\n",
       "  <thead>\n",
       "    <tr style=\"text-align: right;\">\n",
       "      <th></th>\n",
       "      <th>_id</th>\n",
       "      <th>address</th>\n",
       "      <th>kindergarten_600m</th>\n",
       "      <th>schools_750m</th>\n",
       "      <th>starbucks_200m</th>\n",
       "      <th>veganrest_150m</th>\n",
       "      <th>clubs_1000m</th>\n",
       "      <th>amsterdam_750m</th>\n",
       "      <th>coffee_shop_200m</th>\n",
       "      <th>airport_15km</th>\n",
       "    </tr>\n",
       "  </thead>\n",
       "  <tbody>\n",
       "    <tr>\n",
       "      <th>0</th>\n",
       "      <td>5dd6ca627e4ead4e4526151a</td>\n",
       "      <td>Corsicaweg 10</td>\n",
       "      <td>0</td>\n",
       "      <td>0</td>\n",
       "      <td>0</td>\n",
       "      <td>0</td>\n",
       "      <td>0</td>\n",
       "      <td>0</td>\n",
       "      <td>0</td>\n",
       "      <td>2</td>\n",
       "    </tr>\n",
       "    <tr>\n",
       "      <th>1</th>\n",
       "      <td>5dd6ca627e4ead4e4526151b</td>\n",
       "      <td>Robert Kochplantsoen 19</td>\n",
       "      <td>2</td>\n",
       "      <td>2</td>\n",
       "      <td>0</td>\n",
       "      <td>0</td>\n",
       "      <td>0</td>\n",
       "      <td>0</td>\n",
       "      <td>0</td>\n",
       "      <td>2</td>\n",
       "    </tr>\n",
       "    <tr>\n",
       "      <th>2</th>\n",
       "      <td>5dd6ca627e4ead4e4526151c</td>\n",
       "      <td>Eerste Leliedwarsstraat 6</td>\n",
       "      <td>4</td>\n",
       "      <td>2</td>\n",
       "      <td>0</td>\n",
       "      <td>0</td>\n",
       "      <td>12</td>\n",
       "      <td>14</td>\n",
       "      <td>0</td>\n",
       "      <td>2</td>\n",
       "    </tr>\n",
       "    <tr>\n",
       "      <th>3</th>\n",
       "      <td>5dd6ca627e4ead4e4526151d</td>\n",
       "      <td>Geuzenstraat 98</td>\n",
       "      <td>2</td>\n",
       "      <td>7</td>\n",
       "      <td>0</td>\n",
       "      <td>0</td>\n",
       "      <td>6</td>\n",
       "      <td>0</td>\n",
       "      <td>0</td>\n",
       "      <td>2</td>\n",
       "    </tr>\n",
       "    <tr>\n",
       "      <th>4</th>\n",
       "      <td>5dd6ca627e4ead4e4526151e</td>\n",
       "      <td>Jan Rebelstraat 18C</td>\n",
       "      <td>0</td>\n",
       "      <td>0</td>\n",
       "      <td>0</td>\n",
       "      <td>0</td>\n",
       "      <td>0</td>\n",
       "      <td>0</td>\n",
       "      <td>0</td>\n",
       "      <td>2</td>\n",
       "    </tr>\n",
       "  </tbody>\n",
       "</table>\n",
       "</div>"
      ],
      "text/plain": [
       "                        _id                    address  kindergarten_600m  \\\n",
       "0  5dd6ca627e4ead4e4526151a              Corsicaweg 10                  0   \n",
       "1  5dd6ca627e4ead4e4526151b    Robert Kochplantsoen 19                  2   \n",
       "2  5dd6ca627e4ead4e4526151c  Eerste Leliedwarsstraat 6                  4   \n",
       "3  5dd6ca627e4ead4e4526151d            Geuzenstraat 98                  2   \n",
       "4  5dd6ca627e4ead4e4526151e        Jan Rebelstraat 18C                  0   \n",
       "\n",
       "   schools_750m  starbucks_200m  veganrest_150m  clubs_1000m  amsterdam_750m  \\\n",
       "0             0               0               0            0               0   \n",
       "1             2               0               0            0               0   \n",
       "2             2               0               0           12              14   \n",
       "3             7               0               0            6               0   \n",
       "4             0               0               0            0               0   \n",
       "\n",
       "   coffee_shop_200m  airport_15km  \n",
       "0                 0             2  \n",
       "1                 0             2  \n",
       "2                 0             2  \n",
       "3                 0             2  \n",
       "4                 0             2  "
      ]
     },
     "execution_count": 19,
     "metadata": {},
     "output_type": "execute_result"
    }
   ],
   "source": [
    "df=df.drop(columns=['location'])\n",
    "df.head()"
   ]
  },
  {
   "cell_type": "code",
   "execution_count": 20,
   "metadata": {},
   "outputs": [],
   "source": [
    "df['address'] = df['address'].str.replace(' Parking Heinekenplein- Amsterdam -APCOA', ' ')\n",
    "df['address'] = df['address'].str.replace('Parking Museum', '')\n"
   ]
  },
  {
   "cell_type": "code",
   "execution_count": 22,
   "metadata": {},
   "outputs": [
    {
     "data": {
      "text/html": [
       "<div>\n",
       "<style scoped>\n",
       "    .dataframe tbody tr th:only-of-type {\n",
       "        vertical-align: middle;\n",
       "    }\n",
       "\n",
       "    .dataframe tbody tr th {\n",
       "        vertical-align: top;\n",
       "    }\n",
       "\n",
       "    .dataframe thead th {\n",
       "        text-align: right;\n",
       "    }\n",
       "</style>\n",
       "<table border=\"1\" class=\"dataframe\">\n",
       "  <thead>\n",
       "    <tr style=\"text-align: right;\">\n",
       "      <th></th>\n",
       "      <th>_id</th>\n",
       "      <th>address</th>\n",
       "      <th>kindergarten_600m</th>\n",
       "      <th>schools_750m</th>\n",
       "      <th>starbucks_200m</th>\n",
       "      <th>veganrest_150m</th>\n",
       "      <th>clubs_1000m</th>\n",
       "      <th>amsterdam_750m</th>\n",
       "      <th>coffee_shop_200m</th>\n",
       "      <th>airport_15km</th>\n",
       "    </tr>\n",
       "  </thead>\n",
       "  <tbody>\n",
       "    <tr>\n",
       "      <th>0</th>\n",
       "      <td>5dd6ca627e4ead4e4526151a</td>\n",
       "      <td>Corsicaweg 10</td>\n",
       "      <td>0</td>\n",
       "      <td>0</td>\n",
       "      <td>0</td>\n",
       "      <td>0</td>\n",
       "      <td>0</td>\n",
       "      <td>0</td>\n",
       "      <td>0</td>\n",
       "      <td>2</td>\n",
       "    </tr>\n",
       "    <tr>\n",
       "      <th>1</th>\n",
       "      <td>5dd6ca627e4ead4e4526151b</td>\n",
       "      <td>Robert Kochplantsoen 19</td>\n",
       "      <td>2</td>\n",
       "      <td>2</td>\n",
       "      <td>0</td>\n",
       "      <td>0</td>\n",
       "      <td>0</td>\n",
       "      <td>0</td>\n",
       "      <td>0</td>\n",
       "      <td>2</td>\n",
       "    </tr>\n",
       "    <tr>\n",
       "      <th>2</th>\n",
       "      <td>5dd6ca627e4ead4e4526151c</td>\n",
       "      <td>Eerste Leliedwarsstraat 6</td>\n",
       "      <td>4</td>\n",
       "      <td>2</td>\n",
       "      <td>0</td>\n",
       "      <td>0</td>\n",
       "      <td>12</td>\n",
       "      <td>14</td>\n",
       "      <td>0</td>\n",
       "      <td>2</td>\n",
       "    </tr>\n",
       "    <tr>\n",
       "      <th>3</th>\n",
       "      <td>5dd6ca627e4ead4e4526151d</td>\n",
       "      <td>Geuzenstraat 98</td>\n",
       "      <td>2</td>\n",
       "      <td>7</td>\n",
       "      <td>0</td>\n",
       "      <td>0</td>\n",
       "      <td>6</td>\n",
       "      <td>0</td>\n",
       "      <td>0</td>\n",
       "      <td>2</td>\n",
       "    </tr>\n",
       "    <tr>\n",
       "      <th>4</th>\n",
       "      <td>5dd6ca627e4ead4e4526151e</td>\n",
       "      <td>Jan Rebelstraat 18C</td>\n",
       "      <td>0</td>\n",
       "      <td>0</td>\n",
       "      <td>0</td>\n",
       "      <td>0</td>\n",
       "      <td>0</td>\n",
       "      <td>0</td>\n",
       "      <td>0</td>\n",
       "      <td>2</td>\n",
       "    </tr>\n",
       "  </tbody>\n",
       "</table>\n",
       "</div>"
      ],
      "text/plain": [
       "                        _id                    address  kindergarten_600m  \\\n",
       "0  5dd6ca627e4ead4e4526151a              Corsicaweg 10                  0   \n",
       "1  5dd6ca627e4ead4e4526151b    Robert Kochplantsoen 19                  2   \n",
       "2  5dd6ca627e4ead4e4526151c  Eerste Leliedwarsstraat 6                  4   \n",
       "3  5dd6ca627e4ead4e4526151d            Geuzenstraat 98                  2   \n",
       "4  5dd6ca627e4ead4e4526151e        Jan Rebelstraat 18C                  0   \n",
       "\n",
       "   schools_750m  starbucks_200m  veganrest_150m  clubs_1000m  amsterdam_750m  \\\n",
       "0             0               0               0            0               0   \n",
       "1             2               0               0            0               0   \n",
       "2             2               0               0           12              14   \n",
       "3             7               0               0            6               0   \n",
       "4             0               0               0            0               0   \n",
       "\n",
       "   coffee_shop_200m  airport_15km  \n",
       "0                 0             2  \n",
       "1                 0             2  \n",
       "2                 0             2  \n",
       "3                 0             2  \n",
       "4                 0             2  "
      ]
     },
     "execution_count": 22,
     "metadata": {},
     "output_type": "execute_result"
    }
   ],
   "source": [
    "df.drop([13 , 14])\n",
    "df.head()"
   ]
  },
  {
   "cell_type": "markdown",
   "metadata": {},
   "source": [
    "## Pongo las condiciones que debe de tener mi sede"
   ]
  },
  {
   "cell_type": "code",
   "execution_count": 23,
   "metadata": {},
   "outputs": [],
   "source": [
    "headquarter = df[(df['starbucks_200m']>0) & (df['veganrest_150m']>0)]"
   ]
  },
  {
   "cell_type": "code",
   "execution_count": 24,
   "metadata": {},
   "outputs": [
    {
     "data": {
      "text/html": [
       "<div>\n",
       "<style scoped>\n",
       "    .dataframe tbody tr th:only-of-type {\n",
       "        vertical-align: middle;\n",
       "    }\n",
       "\n",
       "    .dataframe tbody tr th {\n",
       "        vertical-align: top;\n",
       "    }\n",
       "\n",
       "    .dataframe thead th {\n",
       "        text-align: right;\n",
       "    }\n",
       "</style>\n",
       "<table border=\"1\" class=\"dataframe\">\n",
       "  <thead>\n",
       "    <tr style=\"text-align: right;\">\n",
       "      <th></th>\n",
       "      <th>_id</th>\n",
       "      <th>address</th>\n",
       "      <th>kindergarten_600m</th>\n",
       "      <th>schools_750m</th>\n",
       "      <th>starbucks_200m</th>\n",
       "      <th>veganrest_150m</th>\n",
       "      <th>clubs_1000m</th>\n",
       "      <th>amsterdam_750m</th>\n",
       "      <th>coffee_shop_200m</th>\n",
       "      <th>airport_15km</th>\n",
       "    </tr>\n",
       "  </thead>\n",
       "  <tbody>\n",
       "    <tr>\n",
       "      <th>16</th>\n",
       "      <td>5dd6ca627e4ead4e4526152a</td>\n",
       "      <td>APCOA</td>\n",
       "      <td>4</td>\n",
       "      <td>9</td>\n",
       "      <td>1</td>\n",
       "      <td>2</td>\n",
       "      <td>23</td>\n",
       "      <td>7</td>\n",
       "      <td>1</td>\n",
       "      <td>2</td>\n",
       "    </tr>\n",
       "  </tbody>\n",
       "</table>\n",
       "</div>"
      ],
      "text/plain": [
       "                         _id address  kindergarten_600m  schools_750m  \\\n",
       "16  5dd6ca627e4ead4e4526152a  APCOA                   4             9   \n",
       "\n",
       "    starbucks_200m  veganrest_150m  clubs_1000m  amsterdam_750m  \\\n",
       "16               1               2           23               7   \n",
       "\n",
       "    coffee_shop_200m  airport_15km  \n",
       "16                 1             2  "
      ]
     },
     "execution_count": 24,
     "metadata": {},
     "output_type": "execute_result"
    }
   ],
   "source": [
    "headquarter"
   ]
  },
  {
   "cell_type": "code",
   "execution_count": null,
   "metadata": {},
   "outputs": [],
   "source": []
  }
 ],
 "metadata": {
  "kernelspec": {
   "display_name": "Python 3",
   "language": "python",
   "name": "python3"
  },
  "language_info": {
   "codemirror_mode": {
    "name": "ipython",
    "version": 3
   },
   "file_extension": ".py",
   "mimetype": "text/x-python",
   "name": "python",
   "nbconvert_exporter": "python",
   "pygments_lexer": "ipython3",
   "version": "3.7.4"
  }
 },
 "nbformat": 4,
 "nbformat_minor": 2
}
