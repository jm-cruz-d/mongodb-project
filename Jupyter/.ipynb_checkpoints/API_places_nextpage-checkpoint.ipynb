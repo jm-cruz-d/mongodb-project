{
 "cells": [
  {
   "cell_type": "code",
   "execution_count": null,
   "metadata": {},
   "outputs": [],
   "source": [
    "!pip3 install python-google-places"
   ]
  },
  {
   "cell_type": "code",
   "execution_count": null,
   "metadata": {},
   "outputs": [],
   "source": [
    "!pip3 install Unidecode"
   ]
  },
  {
   "cell_type": "code",
   "execution_count": 1,
   "metadata": {},
   "outputs": [
    {
     "data": {
      "text/plain": [
       "True"
      ]
     },
     "execution_count": 1,
     "metadata": {},
     "output_type": "execute_result"
    }
   ],
   "source": [
    "from pymongo import MongoClient\n",
    "from googleplaces import GooglePlaces, types, lang\n",
    "from unidecode import unidecode \n",
    "import googlemaps\n",
    "from datetime import datetime\n",
    "import json\n",
    "import time\n",
    "import requests\n",
    "import os\n",
    "from dotenv import load_dotenv\n",
    "load_dotenv()"
   ]
  },
  {
   "cell_type": "code",
   "execution_count": 2,
   "metadata": {},
   "outputs": [],
   "source": [
    "def searchPlaces(query):\n",
    "    API_key = os.getenv('key')\n",
    "    endpoint_url = \"https://maps.googleapis.com/maps/api/place/textsearch/json\"\n",
    "    places = []\n",
    "    params = {\n",
    "        'query': query,\n",
    "        'location': '52.37021, 4.895168',\n",
    "        'radius': 5000,\n",
    "        'key': API_key\n",
    "    }\n",
    "    res = requests.get(endpoint_url, params = params)\n",
    "    results =  json.loads(res.content)\n",
    "    places.extend(results['results'])\n",
    "    time.sleep(2)\n",
    "    while \"next_page_token\" in results:\n",
    "        params['pagetoken'] = results['next_page_token'],\n",
    "        res = requests.get(endpoint_url, params = params)\n",
    "        results = json.loads(res.content)\n",
    "        places.extend(results['results'])\n",
    "        time.sleep(2)\n",
    "    return places"
   ]
  },
  {
   "cell_type": "code",
   "execution_count": 3,
   "metadata": {},
   "outputs": [],
   "source": [
    "starbucks = searchPlaces('Starbucks')"
   ]
  },
  {
   "cell_type": "code",
   "execution_count": 4,
   "metadata": {},
   "outputs": [
    {
     "data": {
      "text/plain": [
       "{'formatted_address': 'Leidsestraat 101, 1017 NZ Amsterdam, Netherlands',\n",
       " 'geometry': {'location': {'lat': 52.36448240000001, 'lng': 4.8836336},\n",
       "  'viewport': {'northeast': {'lat': 52.36607492989272,\n",
       "    'lng': 4.885273579892721},\n",
       "   'southwest': {'lat': 52.36337527010728, 'lng': 4.882573920107277}}},\n",
       " 'icon': 'https://maps.gstatic.com/mapfiles/place_api/icons/cafe-71.png',\n",
       " 'id': 'dbdc22ef98c9361e5823edf56b4b397516ce501a',\n",
       " 'name': 'STARBUCKS COFFEE Leidsestraat Shop',\n",
       " 'opening_hours': {'open_now': True},\n",
       " 'photos': [{'height': 4032,\n",
       "   'html_attributions': ['<a href=\"https://maps.google.com/maps/contrib/118149578868575755031/photos\">Taylan Özgür ÇELİK</a>'],\n",
       "   'photo_reference': 'CmRaAAAAI56wIJiF2hDGkGjZwBcBsQqZrXHCE9ubXV8tG_dZXNaBaCxzxhC0NLoe-CnxRJOk4LY-EVJN6pO1Bc5gtHodXeBNMIypRsH2rdSqzavXD_z6JXvTcZ8Dj6iI500IMgjUEhBBuRCebIeQsBwTLrIkBhisGhSfWdN1vZClJFKONqt7tPI38wHyuQ',\n",
       "   'width': 3024}],\n",
       " 'place_id': 'ChIJlVbUV-gJxkcRHHmmM_0RSNI',\n",
       " 'plus_code': {'compound_code': '9V7M+QF Amsterdam, Netherlands',\n",
       "  'global_code': '9F469V7M+QF'},\n",
       " 'price_level': 2,\n",
       " 'rating': 4,\n",
       " 'reference': 'ChIJlVbUV-gJxkcRHHmmM_0RSNI',\n",
       " 'types': ['cafe', 'food', 'point_of_interest', 'store', 'establishment'],\n",
       " 'user_ratings_total': 1069}"
      ]
     },
     "execution_count": 4,
     "metadata": {},
     "output_type": "execute_result"
    }
   ],
   "source": [
    "starbucks[0]"
   ]
  },
  {
   "cell_type": "code",
   "execution_count": 5,
   "metadata": {},
   "outputs": [
    {
     "data": {
      "text/plain": [
       "32"
      ]
     },
     "execution_count": 5,
     "metadata": {},
     "output_type": "execute_result"
    }
   ],
   "source": [
    "len(starbucks)"
   ]
  },
  {
   "cell_type": "code",
   "execution_count": 6,
   "metadata": {},
   "outputs": [],
   "source": [
    "def getLocation(companies):\n",
    "    location =[]\n",
    "    for x in range(len(companies)):\n",
    "        longitude = companies[x]['geometry']['location']['lng']\n",
    "        latitude = companies[x]['geometry']['location']['lat']\n",
    "        name=companies[x]['name']\n",
    "        address=companies[x]['formatted_address']\n",
    "        loc = {\n",
    "            'name': name,\n",
    "            'address': address,\n",
    "            'location':{\n",
    "                'type':'Point',\n",
    "                'coordinates':[longitude, latitude]\n",
    "                       }\n",
    "        }\n",
    "        location.append(loc)\n",
    "    return location"
   ]
  },
  {
   "cell_type": "markdown",
   "metadata": {},
   "source": [
    "## Realizando las busquedas"
   ]
  },
  {
   "cell_type": "code",
   "execution_count": 9,
   "metadata": {},
   "outputs": [
    {
     "data": {
      "text/plain": [
       "{'location': {'lat': 52.36448240000001, 'lng': 4.8836336},\n",
       " 'viewport': {'northeast': {'lat': 52.36607492989272,\n",
       "   'lng': 4.885273579892721},\n",
       "  'southwest': {'lat': 52.36337527010728, 'lng': 4.882573920107277}}}"
      ]
     },
     "execution_count": 9,
     "metadata": {},
     "output_type": "execute_result"
    }
   ],
   "source": [
    "starbucks[0]['geometry']"
   ]
  },
  {
   "cell_type": "code",
   "execution_count": 10,
   "metadata": {},
   "outputs": [
    {
     "name": "stdout",
     "output_type": "stream",
     "text": [
      "32\n"
     ]
    }
   ],
   "source": [
    "sbloc = getLocation(starbucks)\n",
    "print(len(sbloc))"
   ]
  },
  {
   "cell_type": "code",
   "execution_count": 11,
   "metadata": {},
   "outputs": [
    {
     "name": "stdout",
     "output_type": "stream",
     "text": [
      "60\n"
     ]
    },
    {
     "data": {
      "text/plain": [
       "{'name': 'Public Elementary School De Roos',\n",
       " 'address': 'Reinier Claeszenplein 12, 1056 WB Amsterdam, Netherlands',\n",
       " 'location': {'type': 'Point', 'coordinates': [4.8606725, 52.3743888]}}"
      ]
     },
     "execution_count": 11,
     "metadata": {},
     "output_type": "execute_result"
    }
   ],
   "source": [
    "schools = searchPlaces('Primary school')\n",
    "scloc = getLocation(schools)\n",
    "print(len(scloc))\n",
    "scloc[1]"
   ]
  },
  {
   "cell_type": "code",
   "execution_count": 12,
   "metadata": {},
   "outputs": [
    {
     "name": "stdout",
     "output_type": "stream",
     "text": [
      "60\n"
     ]
    },
    {
     "data": {
      "text/plain": [
       "{'name': \"'t Kinderhonk (locatie Middenhonk)\",\n",
       " 'address': 'Middenweg 88, 1097 BC Amsterdam, Netherlands',\n",
       " 'location': {'type': 'Point', 'coordinates': [4.9360609, 52.3500585]}}"
      ]
     },
     "execution_count": 12,
     "metadata": {},
     "output_type": "execute_result"
    }
   ],
   "source": [
    "kindergarten = searchPlaces('kindergarten')\n",
    "kdloc = getLocation(kindergarten)\n",
    "print(len(kdloc))\n",
    "kdloc[2]"
   ]
  },
  {
   "cell_type": "code",
   "execution_count": 13,
   "metadata": {},
   "outputs": [
    {
     "name": "stdout",
     "output_type": "stream",
     "text": [
      "60\n"
     ]
    },
    {
     "data": {
      "text/plain": [
       "{'name': 'Blue Ivy Nightclub',\n",
       " 'address': 'Amstelstraat 30, 1017 DA Amsterdam, Netherlands',\n",
       " 'location': {'type': 'Point', 'coordinates': [4.8996878, 52.3660594]}}"
      ]
     },
     "execution_count": 13,
     "metadata": {},
     "output_type": "execute_result"
    }
   ],
   "source": [
    "night_club = searchPlaces('night club')\n",
    "ncloc = getLocation(night_club)\n",
    "print(len(ncloc))\n",
    "ncloc[3]"
   ]
  },
  {
   "cell_type": "code",
   "execution_count": 14,
   "metadata": {},
   "outputs": [
    {
     "name": "stdout",
     "output_type": "stream",
     "text": [
      "60\n"
     ]
    },
    {
     "data": {
      "text/plain": [
       "{'name': 'Loving Hut - Vegan House',\n",
       " 'address': 'Admiraal de Ruijterweg 334, 1055 MZ Amsterdam, Netherlands',\n",
       " 'location': {'type': 'Point', 'coordinates': [4.8544336, 52.3810426]}}"
      ]
     },
     "execution_count": 14,
     "metadata": {},
     "output_type": "execute_result"
    }
   ],
   "source": [
    "vegan_restaurant = searchPlaces('vegan restaurant')\n",
    "vrloc = getLocation(vegan_restaurant)\n",
    "print(len(vrloc))\n",
    "vrloc[4]"
   ]
  },
  {
   "cell_type": "code",
   "execution_count": 15,
   "metadata": {},
   "outputs": [
    {
     "name": "stdout",
     "output_type": "stream",
     "text": [
      "1\n"
     ]
    },
    {
     "data": {
      "text/plain": [
       "{'name': 'Schiphol',\n",
       " 'address': 'Schiphol, Netherlands',\n",
       " 'location': {'type': 'Point', 'coordinates': [4.767424099999999, 52.3076865]}}"
      ]
     },
     "execution_count": 15,
     "metadata": {},
     "output_type": "execute_result"
    }
   ],
   "source": [
    "airport = searchPlaces('airport amsterdam')\n",
    "aloc = getLocation(airport)\n",
    "print(len(aloc))\n",
    "aloc[0]"
   ]
  },
  {
   "cell_type": "code",
   "execution_count": 16,
   "metadata": {},
   "outputs": [
    {
     "name": "stdout",
     "output_type": "stream",
     "text": [
      "60\n"
     ]
    },
    {
     "data": {
      "text/plain": [
       "{'name': 'Popeye CoffeeShop',\n",
       " 'address': 'Haarlemmerstraat 63, 1013 EK Amsterdam, Netherlands',\n",
       " 'location': {'type': 'Point', 'coordinates': [4.8927885, 52.3799574]}}"
      ]
     },
     "execution_count": 16,
     "metadata": {},
     "output_type": "execute_result"
    }
   ],
   "source": [
    "shops = searchPlaces('coffee shop')\n",
    "shoploc = getLocation(shops)\n",
    "print(len(shoploc))\n",
    "shoploc[5]"
   ]
  },
  {
   "cell_type": "markdown",
   "metadata": {},
   "source": [
    "## Almaceno las listas para usarlas en folium"
   ]
  },
  {
   "cell_type": "code",
   "execution_count": 17,
   "metadata": {},
   "outputs": [
    {
     "name": "stdout",
     "output_type": "stream",
     "text": [
      "Stored 'sbloc' (list)\n",
      "Stored 'scloc' (list)\n",
      "Stored 'kdloc' (list)\n",
      "Stored 'ncloc' (list)\n",
      "Stored 'vrloc' (list)\n",
      "Stored 'aloc' (list)\n",
      "Stored 'shoploc' (list)\n"
     ]
    }
   ],
   "source": [
    "%store sbloc #starbucks\n",
    "%store scloc #schools\n",
    "%store kdloc #kindergarten\n",
    "%store ncloc #night club\n",
    "%store vrloc #vegan restaurant\n",
    "%store aloc #airport\n",
    "%store shoploc #coffee shops"
   ]
  },
  {
   "cell_type": "code",
   "execution_count": 18,
   "metadata": {},
   "outputs": [],
   "source": [
    "def connectCollection(database, collection):\n",
    "    client = MongoClient()\n",
    "    db = client[database]\n",
    "    coll = db[collection]\n",
    "    return db, coll"
   ]
  },
  {
   "cell_type": "code",
   "execution_count": 19,
   "metadata": {},
   "outputs": [],
   "source": [
    "db, coll = connectCollection('companies', 'companies')"
   ]
  },
  {
   "cell_type": "code",
   "execution_count": 20,
   "metadata": {},
   "outputs": [
    {
     "data": {
      "text/plain": [
       "<pymongo.results.InsertManyResult at 0x104a1f410>"
      ]
     },
     "execution_count": 20,
     "metadata": {},
     "output_type": "execute_result"
    }
   ],
   "source": [
    "col = db[\"airport\"]\n",
    "col.insert_many(aloc)"
   ]
  },
  {
   "cell_type": "code",
   "execution_count": null,
   "metadata": {},
   "outputs": [],
   "source": [
    "diccsearch = {'coffeeshop': shoploc,\n",
    "              'starbucks': sbloc,\n",
    "              'schools': scloc,\n",
    "              'kindergarten': kdloc,\n",
    "              'clubs': ncloc,\n",
    "              'veganrest': vrloc,\n",
    "              'airport': aloc\n",
    "              }"
   ]
  },
  {
   "cell_type": "code",
   "execution_count": 21,
   "metadata": {},
   "outputs": [],
   "source": [
    "def insertColl(dictionary, database):\n",
    "    for k, v in dictionary.items():\n",
    "        col = database[k]\n",
    "        col.insert_many(v)\n",
    "        print(\"collects inserted\")"
   ]
  },
  {
   "cell_type": "code",
   "execution_count": null,
   "metadata": {},
   "outputs": [],
   "source": [
    "insertColl(diccsearch, db)"
   ]
  },
  {
   "cell_type": "code",
   "execution_count": null,
   "metadata": {},
   "outputs": [],
   "source": []
  }
 ],
 "metadata": {
  "kernelspec": {
   "display_name": "Python 3",
   "language": "python",
   "name": "python3"
  },
  "language_info": {
   "codemirror_mode": {
    "name": "ipython",
    "version": 3
   },
   "file_extension": ".py",
   "mimetype": "text/x-python",
   "name": "python",
   "nbconvert_exporter": "python",
   "pygments_lexer": "ipython3",
   "version": "3.7.4"
  }
 },
 "nbformat": 4,
 "nbformat_minor": 2
}
