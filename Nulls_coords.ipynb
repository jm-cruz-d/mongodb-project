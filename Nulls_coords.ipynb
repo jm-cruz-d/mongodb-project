{
 "cells": [
  {
   "cell_type": "code",
   "execution_count": 2,
   "metadata": {},
   "outputs": [
    {
     "data": {
      "text/plain": [
       "True"
      ]
     },
     "execution_count": 2,
     "metadata": {},
     "output_type": "execute_result"
    }
   ],
   "source": [
    "from pymongo import MongoClient\n",
    "import folium\n",
    "import googlemaps\n",
    "from datetime import datetime\n",
    "import os\n",
    "from dotenv import load_dotenv\n",
    "load_dotenv()"
   ]
  },
  {
   "cell_type": "code",
   "execution_count": 3,
   "metadata": {},
   "outputs": [],
   "source": [
    "def connectCollection(database, collection):\n",
    "    client = MongoClient()\n",
    "    db = client[database]\n",
    "    coll = db[collection]\n",
    "    return db, coll"
   ]
  },
  {
   "cell_type": "code",
   "execution_count": 4,
   "metadata": {},
   "outputs": [],
   "source": [
    "db, coll = connectCollection('companies', 'companies')"
   ]
  },
  {
   "cell_type": "code",
   "execution_count": 5,
   "metadata": {},
   "outputs": [],
   "source": [
    "comp = list(coll.find({'$and': [{\"offices.city\": \"Amsterdam\"}, {'deadpooled_year': None}, {\"funding_rounds.raised_amount\": {\"$gte\": 1000000}}]}))"
   ]
  },
  {
   "cell_type": "code",
   "execution_count": 6,
   "metadata": {},
   "outputs": [
    {
     "data": {
      "text/plain": [
       "'Wakoopa'"
      ]
     },
     "execution_count": 6,
     "metadata": {},
     "output_type": "execute_result"
    }
   ],
   "source": [
    "comp[0]['name']"
   ]
  },
  {
   "cell_type": "code",
   "execution_count": 9,
   "metadata": {},
   "outputs": [
    {
     "name": "stdout",
     "output_type": "stream",
     "text": [
      "[{'description': 'Blyk NL', 'address1': 'Gustav Mahlerlaan 42', 'address2': '', 'zip_code': '1082 MC', 'city': 'Amsterdam', 'state_code': None, 'country_code': 'NLD', 'latitude': None, 'longitude': None}, {'description': '', 'address1': 'Herengracht 124-128', 'address2': '1015BT', 'zip_code': '', 'city': 'Amsterdam', 'state_code': None, 'country_code': 'NLD', 'latitude': None, 'longitude': None}, {'description': '', 'address1': 'Hillegomstraat 12-14', 'address2': '', 'zip_code': '1058LS', 'city': 'Amsterdam', 'state_code': None, 'country_code': 'NLD', 'latitude': None, 'longitude': None}, {'description': 'Benelux Office', 'address1': 'Herengracht 282', 'address2': '1016 BX', 'zip_code': '', 'city': 'Amsterdam', 'state_code': None, 'country_code': 'NLD', 'latitude': None, 'longitude': None}, {'description': '', 'address1': 'Playlogic International N.V. World Trade Centre', 'address2': 'C-Tower 10th Floor Strawinskylaan 1041', 'zip_code': '1077', 'city': 'Amsterdam', 'state_code': None, 'country_code': 'NLD', 'latitude': None, 'longitude': None}, {'description': '', 'address1': 'Willem Fenengastraat 17', 'address2': '1096 BL', 'zip_code': '', 'city': 'Amsterdam', 'state_code': None, 'country_code': 'NLD', 'latitude': None, 'longitude': None}]\n"
     ]
    }
   ],
   "source": [
    "def outNulls(company):\n",
    "    ll_null = []\n",
    "    for x in range(len(company)): \n",
    "        for i in range(len(company[x]['offices'])):\n",
    "            if company[x]['offices'][i]['longitude']==None or company[x]['offices'][i]['latitude']==None:\n",
    "                if company[x]['offices'][i]['city'] == \"Amsterdam\":\n",
    "                    if company[x]['offices'][i]['address1'] != \"\":         \n",
    "                        ll_null.append(company[x]['offices'][i])\n",
    "    return ll_null\n",
    "\n",
    "new_coord = outNulls(comp)\n",
    "len(new_coord)\n",
    "print(new_coord)"
   ]
  },
  {
   "cell_type": "code",
   "execution_count": 10,
   "metadata": {},
   "outputs": [
    {
     "name": "stdout",
     "output_type": "stream",
     "text": [
      "65\n",
      "[{'description': 'Google Kirkland', 'address1': 'Central Way Plaza', 'address2': '720 4th Avenue, Ste 400', 'zip_code': '98033', 'city': 'Kirkland', 'state_code': 'WA', 'country_code': 'USA', 'latitude': None, 'longitude': None}, {'description': 'Google Beijing', 'address1': 'Tsinghua Science Park Bldg 6', 'address2': 'No. 1 Zhongguancun East Road', 'zip_code': '100084', 'city': 'Beijing', 'state_code': None, 'country_code': 'CHN', 'latitude': None, 'longitude': None}, {'description': 'Google Guangzhou', 'address1': 'Tower A, 23/F, Center Plaza', 'address2': '161 Lin he Xi Lu, Tian He District', 'zip_code': '510620', 'city': 'Guangzhou', 'state_code': None, 'country_code': 'CHN', 'latitude': None, 'longitude': None}, {'description': 'Google Shanghai', 'address1': '16F, Raffles City', 'address2': 'No.268 Xizang Zhong Road, Huangpu District', 'zip_code': '200001', 'city': 'Shanghai', 'state_code': None, 'country_code': 'CHN', 'latitude': None, 'longitude': None}, {'description': 'Google Hong Kong', 'address1': 'One IFC - 18/F', 'address2': '1 Harbour View Street', 'zip_code': '', 'city': 'Central', 'state_code': None, 'country_code': 'HKG', 'latitude': None, 'longitude': None}, {'description': 'Google Bangalore', 'address1': 'Prestige Sigma, No. 3, 1st Floor', 'address2': 'Vittal Mallya Road (Grant Road)', 'zip_code': '560 001', 'city': 'Bangalore', 'state_code': None, 'country_code': 'IND', 'latitude': None, 'longitude': None}, {'description': 'Google Delhi', 'address1': 'Tower C, Level 9', 'address2': 'Building No. 8', 'zip_code': '122002', 'city': 'Gurgaon', 'state_code': None, 'country_code': 'USA', 'latitude': None, 'longitude': None}, {'description': 'Google Hyderabad', 'address1': 'BLOCK A, Fourth Floor', 'address2': 'Plot No. 14, Road NO 2', 'zip_code': '500 081', 'city': 'Hyderabad', 'state_code': None, 'country_code': 'IND', 'latitude': None, 'longitude': None}, {'description': 'Google Mumbai', 'address1': '264-265 Vasvani Chambers', 'address2': 'Dr Annie Besant Road', 'zip_code': '400 025', 'city': 'Mumbai', 'state_code': None, 'country_code': 'IND', 'latitude': None, 'longitude': None}, {'description': 'Google Japan Headquarters', 'address1': '6F Cerulean Tower', 'address2': '26-1 Sakuragaoka-cho', 'zip_code': '150-8512', 'city': 'Tokyo', 'state_code': None, 'country_code': 'JPN', 'latitude': None, 'longitude': None}, {'description': 'Google Osaka', 'address1': '9F, Edobori Center Building', 'address2': '2-1-1 Edobori', 'zip_code': '550-0002', 'city': 'Osaka', 'state_code': None, 'country_code': 'USA', 'latitude': None, 'longitude': None}, {'description': 'Google Seoul', 'address1': '22nd Floor, Gangnam Finance Center', 'address2': '737 Yeoksam-dong', 'zip_code': '135 984', 'city': 'Seoul', 'state_code': None, 'country_code': 'PRK', 'latitude': None, 'longitude': None}, {'description': 'Google Singapore', 'address1': 'Level 25 North Tower', 'address2': 'One Raffles Quay', 'zip_code': '048583', 'city': 'Singapore', 'state_code': None, 'country_code': 'SGP', 'latitude': None, 'longitude': None}, {'description': 'Google Taipei', 'address1': 'Level 73, Taipei 101 Tower', 'address2': '7 Xinyi Road, Sec. 5,', 'zip_code': '110', 'city': 'Taipei', 'state_code': None, 'country_code': 'TWN', 'latitude': None, 'longitude': None}, {'description': 'Google Copenhagen', 'address1': 'Larsbjornsstraede 3', 'address2': '1454 Copenhagen K.', 'zip_code': '', 'city': '', 'state_code': None, 'country_code': 'DNK', 'latitude': None, 'longitude': None}, {'description': 'Google Helsinki', 'address1': 'Luna House', 'address2': 'Mannerheimintie 12 B', 'zip_code': '', 'city': 'Helsinki', 'state_code': None, 'country_code': 'FIN', 'latitude': None, 'longitude': None}, {'description': 'Google Moscow', 'address1': '7 Balchug st.', 'address2': '', 'zip_code': '115035', 'city': 'Moscow', 'state_code': None, 'country_code': 'RUS', 'latitude': None, 'longitude': None}, {'description': 'Google St. Petersburg', 'address1': 'Nevsky 25', 'address2': 'Nevsky Prospect 25', 'zip_code': '191186', 'city': 'St. Petersburg', 'state_code': None, 'country_code': 'RUS', 'latitude': None, 'longitude': None}, {'description': 'Google Madrid', 'address1': 'Torre Picasso', 'address2': 'Plaza Pablo Ruiz Picasso 1', 'zip_code': '28020', 'city': 'Madrid', 'state_code': None, 'country_code': 'ESP', 'latitude': None, 'longitude': None}, {'description': 'Google London', 'address1': 'Belgrave House', 'address2': '76 Buckingham Palace Road', 'zip_code': 'SW1W 9TQ', 'city': 'London', 'state_code': None, 'country_code': 'GBR', 'latitude': None, 'longitude': None}, {'description': 'Google Toronto', 'address1': 'BCE Place, TD Canada Trust Tower', 'address2': '161 Bay Street, 27th Floor', 'zip_code': 'M5J 2S1', 'city': 'Toronto', 'state_code': None, 'country_code': 'CAN', 'latitude': None, 'longitude': None}, {'description': 'Google Buenos Aires', 'address1': 'Alicia M. De Justo 350, 2Âº', 'address2': 'Puerto Madero', 'zip_code': 'C1107AAH', 'city': 'Buenos Aires', 'state_code': None, 'country_code': 'ARG', 'latitude': None, 'longitude': None}, {'description': 'Google Haifa', 'address1': 'Building 30, MATAM, Advanced Technology Center', 'address2': 'PO Box 15096', 'zip_code': '31905', 'city': 'Haifa', 'state_code': None, 'country_code': 'ISR', 'latitude': None, 'longitude': None}, {'description': 'Google Tel Aviv', 'address1': 'Levinstein Tower', 'address2': '23 Menachem Begin Road', 'zip_code': '66183', 'city': 'Tel-Aviv', 'state_code': None, 'country_code': 'ISR', 'latitude': None, 'longitude': None}, {'description': 'Google Istanbul', 'address1': 'Kanyon Ofis Binasi Kat. 6', 'address2': 'Buyukdere Cad. No. 185', 'zip_code': '34394', 'city': 'Istanbul', 'state_code': None, 'country_code': 'TUR', 'latitude': None, 'longitude': None}, {'description': 'Google Dubai', 'address1': 'First Floor, Building No 17', 'address2': 'Dubai Internet City', 'zip_code': '1', 'city': 'Dubai', 'state_code': None, 'country_code': 'ARE', 'latitude': None, 'longitude': None}, {'description': 'Headquarters', 'address1': '205 Brazos Street', 'address2': '', 'zip_code': '78701', 'city': 'Austin', 'state_code': 'TX', 'country_code': 'USA', 'latitude': None, 'longitude': None}, {'description': 'Blyk UK', 'address1': '51-53 Gt. Marlborough St', 'address2': '', 'zip_code': 'W1', 'city': 'London', 'state_code': None, 'country_code': 'GBR', 'latitude': None, 'longitude': None}, {'description': 'Blyk NL', 'address1': 'Gustav Mahlerlaan 42', 'address2': '', 'zip_code': '1082 MC', 'city': 'Amsterdam', 'state_code': None, 'country_code': 'NLD', 'latitude': None, 'longitude': None}, {'description': 'Blyk India', 'address1': 'DLF Cyber City Building No 8 C', 'address2': '12th floor', 'zip_code': '122001', 'city': 'Gurgaon', 'state_code': None, 'country_code': 'IND', 'latitude': None, 'longitude': None}, {'description': '', 'address1': 'Level 6, 341 George St Sydney, NSW, 2000, Australia', 'address2': '', 'zip_code': '2000', 'city': 'Sydney', 'state_code': None, 'country_code': 'AUS', 'latitude': None, 'longitude': None}, {'description': '', 'address1': '375 Alabama Street', 'address2': '#325', 'zip_code': '94110', 'city': 'San Francisco', 'state_code': 'CA', 'country_code': 'USA', 'latitude': None, 'longitude': None}, {'description': '', 'address1': 'Herengracht 124-128', 'address2': '1015BT', 'zip_code': '', 'city': 'Amsterdam', 'state_code': None, 'country_code': 'NLD', 'latitude': None, 'longitude': None}, {'description': '', 'address1': 'Le Premier Akihabara 11F', 'address2': '73 Kanda Neribei-cho', 'zip_code': '101-0022', 'city': 'Chiyoda-ku', 'state_code': None, 'country_code': 'JPN', 'latitude': None, 'longitude': None}, {'description': '', 'address1': '20, rue Cambon', 'address2': '', 'zip_code': '75001', 'city': 'Paris', 'state_code': None, 'country_code': 'FRA', 'latitude': None, 'longitude': None}, {'description': '', 'address1': 'St. Olavs plass 2', 'address2': '', 'zip_code': '0165', 'city': 'Oslo', 'state_code': None, 'country_code': 'NOR', 'latitude': None, 'longitude': None}, {'description': '', 'address1': 'Birger Jarlsgatan 61', 'address2': '', 'zip_code': '114 34', 'city': 'Stockholm', 'state_code': None, 'country_code': 'SWE', 'latitude': None, 'longitude': None}, {'description': '', 'address1': 'Eloy Gonzalo, 27, 6Âº', 'address2': '', 'zip_code': '28010', 'city': 'Madrid', 'state_code': None, 'country_code': 'ESP', 'latitude': None, 'longitude': None}, {'description': '', 'address1': '76 9th Avenue', 'address2': 'Suite 1110, 11th Floor', 'zip_code': '10011', 'city': 'New York', 'state_code': 'NY', 'country_code': 'USA', 'latitude': None, 'longitude': None}, {'description': '', 'address1': 'Hillegomstraat 12-14', 'address2': '', 'zip_code': '1058LS', 'city': 'Amsterdam', 'state_code': None, 'country_code': 'NLD', 'latitude': None, 'longitude': None}, {'description': 'Denver, CO', 'address1': '1512 Larimer St', 'address2': 'Suite 250', 'zip_code': '80202', 'city': 'Denver', 'state_code': 'CO', 'country_code': 'USA', 'latitude': None, 'longitude': None}, {'description': 'Raleigh, NC', 'address1': 'Halifax St & Cedar St.', 'address2': 'Door C, Suite 105', 'zip_code': '27604', 'city': 'Raleigh', 'state_code': 'NC', 'country_code': 'USA', 'latitude': None, 'longitude': None}, {'description': 'Kirkland, WA', 'address1': '135 Lake Street South', 'address2': 'Suite 100', 'zip_code': '98033', 'city': 'Kirkland', 'state_code': 'WA', 'country_code': 'USA', 'latitude': None, 'longitude': None}, {'description': 'Melbourne, Australia', 'address1': 'Level 2, 710 Collins Street', 'address2': 'Docklands, VIC', 'zip_code': '3008', 'city': 'Melbourne', 'state_code': None, 'country_code': 'AUS', 'latitude': None, 'longitude': None}, {'description': 'Singapore', 'address1': 'One Raffles Quay', 'address2': 'Level 25 North Tower', 'zip_code': '048583', 'city': 'Singapore', 'state_code': None, 'country_code': 'SGP', 'latitude': None, 'longitude': None}, {'description': 'Helsinki', 'address1': 'Unioninkatu 18', 'address2': '00130 Helsinki', 'zip_code': '', 'city': 'Helsinki', 'state_code': None, 'country_code': 'FIN', 'latitude': None, 'longitude': None}, {'description': 'Nexaweb Japan', 'address1': 'Nihon Nexaweb KK', 'address2': '3F Hakutsuru Bldg', 'zip_code': 'Tokyo 104-0061', 'city': '5-12-5 Ginza, Chuo-ku', 'state_code': None, 'country_code': 'JPN', 'latitude': None, 'longitude': None}, {'description': '', 'address1': 'Nymphenburger Str. 86', 'address2': '', 'zip_code': '80636', 'city': 'Muenchen', 'state_code': None, 'country_code': 'DEU', 'latitude': None, 'longitude': None}, {'description': 'Canada Office', 'address1': '999 de Maisonneuve Blvd. West, 3rd Floor', 'address2': 'Montréal, Québec, Canada H3A 3L4', 'zip_code': '', 'city': 'Montreal', 'state_code': None, 'country_code': 'CAN', 'latitude': None, 'longitude': None}, {'description': 'Australia Office', 'address1': 'Level 20, Tower 2 Darling Park', 'address2': '201 Sussex Street', 'zip_code': '', 'city': 'Sydney', 'state_code': None, 'country_code': 'AUS', 'latitude': None, 'longitude': None}, {'description': 'Austria Office', 'address1': 'Kirchengasse 48', 'address2': '', 'zip_code': '', 'city': 'Vienna', 'state_code': None, 'country_code': 'AUT', 'latitude': None, 'longitude': None}, {'description': 'Benelux Office', 'address1': 'Herengracht 282', 'address2': '1016 BX', 'zip_code': '', 'city': 'Amsterdam', 'state_code': None, 'country_code': 'NLD', 'latitude': None, 'longitude': None}, {'description': 'Brazil Office', 'address1': 'Av. Nacoes Unidas, 14171 - Andar 15', 'address2': 'Morumbi CEP 04.794-000 Sao Paulo SP', 'zip_code': '', 'city': 'Sao Paulo', 'state_code': None, 'country_code': 'BRA', 'latitude': None, 'longitude': None}, {'description': 'France Office', 'address1': '1 Rue Deves', 'address2': '92200 Neuilly-Sur-Seine', 'zip_code': '', 'city': '', 'state_code': None, 'country_code': 'FRA', 'latitude': None, 'longitude': None}, {'description': 'UK Office', 'address1': '5th Floor, 2 Copthall Avenue', 'address2': 'London, EC2R 7DA', 'zip_code': '', 'city': 'London', 'state_code': None, 'country_code': 'GBR', 'latitude': None, 'longitude': None}, {'description': 'Hong Kong Office', 'address1': '66/F, The Center', 'address2': '99 Queens Road, Central', 'zip_code': '', 'city': 'Hong Kong', 'state_code': None, 'country_code': 'HKG', 'latitude': None, 'longitude': None}, {'description': 'Italy Office', 'address1': 'Piazzale Biancamano, 8', 'address2': '20121 Milano Brera, Italia', 'zip_code': '', 'city': 'Milan', 'state_code': None, 'country_code': 'ITA', 'latitude': None, 'longitude': None}, {'description': 'Japan Office', 'address1': 'Holland Hills Mori Tower RoP 502', 'address2': '5-11-1 Toranomon, Minato-ku', 'zip_code': '', 'city': 'Tokyo', 'state_code': None, 'country_code': 'JPN', 'latitude': None, 'longitude': None}, {'description': 'Nordics Office', 'address1': 'Fallhammargatan 8', 'address2': '72133 Västerås', 'zip_code': '', 'city': '', 'state_code': None, 'country_code': 'SWE', 'latitude': None, 'longitude': None}, {'description': 'Poland Office', 'address1': 'ul. Zygmunta Starego 11a', 'address2': '44-100', 'zip_code': '', 'city': 'Gliwice', 'state_code': None, 'country_code': 'POL', 'latitude': None, 'longitude': None}, {'description': 'Swiss Office', 'address1': 'Bahnhofplatz 6300 Zug', 'address2': '', 'zip_code': '', 'city': 'Zug', 'state_code': None, 'country_code': 'CHE', 'latitude': None, 'longitude': None}, {'description': 'United States- Boston', 'address1': 'USA East Coast, hybris (U.S.) Corp.', 'address2': '470 Atlantic Ave, 4th Floor', 'zip_code': '02210', 'city': 'Boston', 'state_code': 'MA', 'country_code': 'USA', 'latitude': None, 'longitude': None}, {'description': 'United States- Chicago', 'address1': 'USA Central, hybris (U.S.) Corp.', 'address2': '20 North Wacker Drive Suite 2035', 'zip_code': '60606', 'city': 'Chicago', 'state_code': 'IL', 'country_code': 'USA', 'latitude': None, 'longitude': None}, {'description': '', 'address1': 'Playlogic International N.V. World Trade Centre', 'address2': 'C-Tower 10th Floor Strawinskylaan 1041', 'zip_code': '1077', 'city': 'Amsterdam', 'state_code': None, 'country_code': 'NLD', 'latitude': None, 'longitude': None}, {'description': '', 'address1': 'Willem Fenengastraat 17', 'address2': '1096 BL', 'zip_code': '', 'city': 'Amsterdam', 'state_code': None, 'country_code': 'NLD', 'latitude': None, 'longitude': None}]\n"
     ]
    }
   ],
   "source": [
    "def outNulls(company):\n",
    "    ll_null = []\n",
    "    for x in range(len(company)): \n",
    "        for i in range(len(company[x]['offices'])):\n",
    "            if company[x]['offices'][i]['longitude']==None or company[x]['offices'][i]['latitude']==None:\n",
    "                #if company[x]['offices'][i]['city'] == \"Amsterdam\":\n",
    "                if company[x]['offices'][i]['address1'] != \"\":         \n",
    "                    ll_null.append(company[x]['offices'][i])\n",
    "    return ll_null\n",
    "\n",
    "new_coord = outNulls(comp)\n",
    "print(len(new_coord))\n",
    "print(new_coord)"
   ]
  },
  {
   "cell_type": "code",
   "execution_count": 97,
   "metadata": {},
   "outputs": [
    {
     "data": {
      "text/plain": [
       "''"
      ]
     },
     "execution_count": 97,
     "metadata": {},
     "output_type": "execute_result"
    }
   ],
   "source": [
    "new_coord[0]['address2']"
   ]
  },
  {
   "cell_type": "code",
   "execution_count": 94,
   "metadata": {},
   "outputs": [
    {
     "data": {
      "text/plain": [
       "6"
      ]
     },
     "execution_count": 94,
     "metadata": {},
     "output_type": "execute_result"
    }
   ],
   "source": [
    "gmaps = googlemaps.Client(key=os.getenv(\"key\"))\n",
    "\n",
    "# Geocoding an address\n",
    "lst = []\n",
    "for n in new_coord:\n",
    "    lst.append(gmaps.places(n['address1']))\n",
    "len(lst)"
   ]
  },
  {
   "cell_type": "code",
   "execution_count": 98,
   "metadata": {},
   "outputs": [
    {
     "data": {
      "text/plain": [
       "4"
      ]
     },
     "execution_count": 98,
     "metadata": {},
     "output_type": "execute_result"
    }
   ],
   "source": [
    "lst2 = []\n",
    "for nw in new_coord:\n",
    "    if nw['address2']!='':\n",
    "        lst2.append(gmaps.places(nw['address2']))\n",
    "len(lst2)"
   ]
  },
  {
   "cell_type": "code",
   "execution_count": 99,
   "metadata": {},
   "outputs": [
    {
     "data": {
      "text/plain": [
       "[{'html_attributions': [],\n",
       "  'results': [{'formatted_address': '1015 BT Amsterdam, Netherlands',\n",
       "    'geometry': {'location': {'lat': 52.37566109999999, 'lng': 4.8884191},\n",
       "     'viewport': {'northeast': {'lat': 52.3918123, 'lng': 4.9602093},\n",
       "      'southwest': {'lat': 52.3239639, 'lng': 4.8865141}}},\n",
       "    'icon': 'https://maps.gstatic.com/mapfiles/place_api/icons/geocode-71.png',\n",
       "    'id': 'bb96fe37f6eaccac9a168b998bd00d495d3aea66',\n",
       "    'name': '1015 BT Amsterdam',\n",
       "    'place_id': 'ChIJJ5gO3cUJxkcR21ADcglLXkE',\n",
       "    'reference': 'ChIJJ5gO3cUJxkcR21ADcglLXkE',\n",
       "    'types': ['postal_code']}],\n",
       "  'status': 'OK'},\n",
       " {'html_attributions': [],\n",
       "  'results': [{'formatted_address': '1016 BX Amsterdam, Netherlands',\n",
       "    'geometry': {'location': {'lat': 52.3704946, 'lng': 4.886627},\n",
       "     'viewport': {'northeast': {'lat': 52.372403, 'lng': 4.8888837},\n",
       "      'southwest': {'lat': 52.3549511, 'lng': 4.854313100000001}}},\n",
       "    'icon': 'https://maps.gstatic.com/mapfiles/place_api/icons/geocode-71.png',\n",
       "    'id': '2b2e2a2bb132696612dfb06d8266ca6ac58058b9',\n",
       "    'name': '1016 BX Amsterdam',\n",
       "    'place_id': 'ChIJ59otucMJxkcRB91aOkBoNP0',\n",
       "    'reference': 'ChIJ59otucMJxkcRB91aOkBoNP0',\n",
       "    'types': ['postal_code']}],\n",
       "  'status': 'OK'},\n",
       " {'html_attributions': [],\n",
       "  'results': [{'formatted_address': 'Strawinskylaan 1041, C-Tower 10th Floor, 1077 XX Amsterdam, Netherlands',\n",
       "    'geometry': {'location': {'lat': 52.3400749, 'lng': 4.874923},\n",
       "     'viewport': {'northeast': {'lat': 52.34178172989273,\n",
       "       'lng': 4.876251279892722},\n",
       "      'southwest': {'lat': 52.33908207010729, 'lng': 4.873551620107278}}},\n",
       "    'icon': 'https://maps.gstatic.com/mapfiles/place_api/icons/geocode-71.png',\n",
       "    'id': '7609ef4b10530cf0fb42baeaf8b8a1ba8854ea6c',\n",
       "    'name': 'Strawinskylaan 1041, C-Tower 10th Floor',\n",
       "    'place_id': 'EkVTdHJhd2luc2t5bGFhbiAxMDQxLCBDLVRvd2VyIDEwdGggRmxvb3IsIDEwNzcgWFggQW1zdGVyZGFtLCBOZWRlcmxhbmQiLhosChYKFAoSCQsnYb0ECsZHEb0W8KgVmIjGEhJDLVRvd2VyIDEwdGggRmxvb3I',\n",
       "    'reference': 'EkVTdHJhd2luc2t5bGFhbiAxMDQxLCBDLVRvd2VyIDEwdGggRmxvb3IsIDEwNzcgWFggQW1zdGVyZGFtLCBOZWRlcmxhbmQiLhosChYKFAoSCQsnYb0ECsZHEb0W8KgVmIjGEhJDLVRvd2VyIDEwdGggRmxvb3I',\n",
       "    'types': ['subpremise']}],\n",
       "  'status': 'OK'},\n",
       " {'html_attributions': [],\n",
       "  'results': [{'formatted_address': '1096 BL Amsterdam, Netherlands',\n",
       "    'geometry': {'location': {'lat': 52.3334537, 'lng': 4.916725},\n",
       "     'viewport': {'northeast': {'lat': 52.3351549, 'lng': 4.9187945},\n",
       "      'southwest': {'lat': 52.3323709, 'lng': 4.9150297}}},\n",
       "    'icon': 'https://maps.gstatic.com/mapfiles/place_api/icons/geocode-71.png',\n",
       "    'id': '4dc343cd5f7f6b311ec9475a1dadadf18416ea08',\n",
       "    'name': '1096 BL Amsterdam',\n",
       "    'place_id': 'ChIJv_-FZ80LxkcRTP1RHRs4mME',\n",
       "    'reference': 'ChIJv_-FZ80LxkcRTP1RHRs4mME',\n",
       "    'types': ['postal_code']}],\n",
       "  'status': 'OK'}]"
      ]
     },
     "execution_count": 99,
     "metadata": {},
     "output_type": "execute_result"
    }
   ],
   "source": [
    "lst2"
   ]
  },
  {
   "cell_type": "code",
   "execution_count": 86,
   "metadata": {},
   "outputs": [
    {
     "data": {
      "text/plain": [
       "52.336993"
      ]
     },
     "execution_count": 86,
     "metadata": {},
     "output_type": "execute_result"
    }
   ],
   "source": [
    "lst[0]['results'][0]['geometry']['location']['lat']"
   ]
  },
  {
   "cell_type": "code",
   "execution_count": 87,
   "metadata": {},
   "outputs": [
    {
     "name": "stdout",
     "output_type": "stream",
     "text": [
      "{'lat': 52.336993, 'lng': 4.872646}\n",
      "{'lat': 52.3757779, 'lng': 4.8881539}\n",
      "{'lat': 52.3522794, 'lng': 4.8486568}\n",
      "{'lat': 52.3707639, 'lng': 4.8864128}\n",
      "{'lat': 52.3335533, 'lng': 4.9169147}\n"
     ]
    }
   ],
   "source": [
    "for x in range(len(lst)):\n",
    "        for i in range(len(lst[x]['results'])):\n",
    "            print(lst[x]['results'][i]['geometry']['location'])\n",
    "            "
   ]
  },
  {
   "cell_type": "code",
   "execution_count": 88,
   "metadata": {},
   "outputs": [
    {
     "data": {
      "text/plain": [
       "[{'html_attributions': [],\n",
       "  'results': [{'formatted_address': 'Gustav Mahlerlaan 42, 1082 LS Amsterdam, Netherlands',\n",
       "    'geometry': {'location': {'lat': 52.336993, 'lng': 4.872646},\n",
       "     'viewport': {'northeast': {'lat': 52.33818597989272,\n",
       "       'lng': 4.873996879892721},\n",
       "      'southwest': {'lat': 52.33548632010728, 'lng': 4.871297220107278}}},\n",
       "    'icon': 'https://maps.gstatic.com/mapfiles/place_api/icons/geocode-71.png',\n",
       "    'id': '809fc2d4b44d8bfb4b255f10199003ef6d25a47a',\n",
       "    'name': 'Gustav Mahlerlaan 42',\n",
       "    'place_id': 'ChIJxQMSoAUKxkcR3tISsiACK4U',\n",
       "    'plus_code': {'compound_code': '8VPF+Q3 Amsterdam, Netherlands',\n",
       "     'global_code': '9F468VPF+Q3'},\n",
       "    'reference': 'ChIJxQMSoAUKxkcR3tISsiACK4U',\n",
       "    'types': ['street_address']}],\n",
       "  'status': 'OK'},\n",
       " {'html_attributions': [],\n",
       "  'results': [{'formatted_address': 'Herengracht 124, 1015 BT Amsterdam, Netherlands',\n",
       "    'geometry': {'location': {'lat': 52.3757779, 'lng': 4.8881539},\n",
       "     'viewport': {'northeast': {'lat': 52.37707427989272,\n",
       "       'lng': 4.889656779892722},\n",
       "      'southwest': {'lat': 52.37437462010728, 'lng': 4.886957120107278}}},\n",
       "    'icon': 'https://maps.gstatic.com/mapfiles/place_api/icons/geocode-71.png',\n",
       "    'id': '0ba62ebdee59f9edd984b7c521c5faa243db46a3',\n",
       "    'name': 'Herengracht 124',\n",
       "    'place_id': 'ChIJlWS-xcUJxkcRfNUPv3wWHLo',\n",
       "    'plus_code': {'compound_code': '9VGQ+87 Amsterdam, Netherlands',\n",
       "     'global_code': '9F469VGQ+87'},\n",
       "    'reference': 'ChIJlWS-xcUJxkcRfNUPv3wWHLo',\n",
       "    'types': ['street_address']}],\n",
       "  'status': 'OK'},\n",
       " {'html_attributions': [],\n",
       "  'results': [{'formatted_address': 'Hillegomstraat 12, 1058 LS Amsterdam, Netherlands',\n",
       "    'geometry': {'location': {'lat': 52.3522794, 'lng': 4.8486568},\n",
       "     'viewport': {'northeast': {'lat': 52.35356247989272,\n",
       "       'lng': 4.850008379892723},\n",
       "      'southwest': {'lat': 52.35086282010727, 'lng': 4.84730872010728}}},\n",
       "    'icon': 'https://maps.gstatic.com/mapfiles/place_api/icons/geocode-71.png',\n",
       "    'id': 'f85ed84ced51998d29a6c1215f9dddfba46c5724',\n",
       "    'name': 'Hillegomstraat 12',\n",
       "    'place_id': 'ChIJPUWmgBzixUcRsGQj7P2_fy8',\n",
       "    'plus_code': {'compound_code': '9R2X+WF Amsterdam, Netherlands',\n",
       "     'global_code': '9F469R2X+WF'},\n",
       "    'reference': 'ChIJPUWmgBzixUcRsGQj7P2_fy8',\n",
       "    'types': ['street_address']}],\n",
       "  'status': 'OK'},\n",
       " {'html_attributions': [],\n",
       "  'results': [{'formatted_address': 'Herengracht 282, 1016 BX Amsterdam, Netherlands',\n",
       "    'geometry': {'location': {'lat': 52.3707639, 'lng': 4.8864128},\n",
       "     'viewport': {'northeast': {'lat': 52.37210947989273,\n",
       "       'lng': 4.887900779892722},\n",
       "      'southwest': {'lat': 52.36940982010728, 'lng': 4.885201120107278}}},\n",
       "    'icon': 'https://maps.gstatic.com/mapfiles/place_api/icons/geocode-71.png',\n",
       "    'id': '315fb315e9264c68c3b4bb1197682e6e8c624f2a',\n",
       "    'name': 'Herengracht 282',\n",
       "    'place_id': 'ChIJr9JlvMMJxkcRB3SjKxyj848',\n",
       "    'reference': 'ChIJr9JlvMMJxkcRB3SjKxyj848',\n",
       "    'types': ['premise']}],\n",
       "  'status': 'OK'},\n",
       " {'html_attributions': [], 'results': [], 'status': 'ZERO_RESULTS'},\n",
       " {'html_attributions': [],\n",
       "  'results': [{'formatted_address': 'Willem Fenengastraat 17, 1096 BL Amsterdam, Netherlands',\n",
       "    'geometry': {'location': {'lat': 52.3335533, 'lng': 4.9169147},\n",
       "     'viewport': {'northeast': {'lat': 52.33487092989273,\n",
       "       'lng': 4.918137579892722},\n",
       "      'southwest': {'lat': 52.33217127010729, 'lng': 4.915437920107278}}},\n",
       "    'icon': 'https://maps.gstatic.com/mapfiles/place_api/icons/geocode-71.png',\n",
       "    'id': '71f9b007621b612053b9dd1d650908322725cfe2',\n",
       "    'name': 'Willem Fenengastraat 17',\n",
       "    'place_id': 'ChIJP9SaYM0LxkcRXkqfa4ZuZnE',\n",
       "    'plus_code': {'compound_code': '8WM8+CQ Amsterdam, Netherlands',\n",
       "     'global_code': '9F468WM8+CQ'},\n",
       "    'reference': 'ChIJP9SaYM0LxkcRXkqfa4ZuZnE',\n",
       "    'types': ['street_address']}],\n",
       "  'status': 'OK'}]"
      ]
     },
     "execution_count": 88,
     "metadata": {},
     "output_type": "execute_result"
    }
   ],
   "source": [
    "lst"
   ]
  },
  {
   "cell_type": "code",
   "execution_count": 106,
   "metadata": {},
   "outputs": [
    {
     "data": {
      "text/plain": [
       "[{'address': 'Gustav Mahlerlaan 42, 1082 LS Amsterdam, Netherlands',\n",
       "  'type': 'Point',\n",
       "  'coordinates': [4.872646, 52.336993]},\n",
       " {'address': 'Herengracht 124, 1015 BT Amsterdam, Netherlands',\n",
       "  'type': 'Point',\n",
       "  'coordinates': [4.8881539, 52.3757779]},\n",
       " {'address': 'Hillegomstraat 12, 1058 LS Amsterdam, Netherlands',\n",
       "  'type': 'Point',\n",
       "  'coordinates': [4.8486568, 52.3522794]},\n",
       " {'address': 'Herengracht 282, 1016 BX Amsterdam, Netherlands',\n",
       "  'type': 'Point',\n",
       "  'coordinates': [4.8864128, 52.3707639]}]"
      ]
     },
     "execution_count": 106,
     "metadata": {},
     "output_type": "execute_result"
    }
   ],
   "source": [
    "def getLocation(companies):\n",
    "    location =[]\n",
    "    for x in range(len(companies)):\n",
    "        for i in range(len(companies[x]['results'])):\n",
    "            longitude = companies[x]['results'][i]['geometry']['location']['lng']\n",
    "            latitude = companies[x]['results'][i]['geometry']['location']['lat']\n",
    "            address = companies[x]['results'][i]['formatted_address']\n",
    "            loc = {\n",
    "                'address': address,\n",
    "                'type':'Point',\n",
    "                'coordinates':[longitude, latitude]\n",
    "            }\n",
    "            location.append(loc)\n",
    "    return location\n",
    "\n",
    "x = getLocation(lst)\n",
    "x[0:4]"
   ]
  },
  {
   "cell_type": "code",
   "execution_count": 108,
   "metadata": {},
   "outputs": [
    {
     "data": {
      "text/plain": [
       "[{'address': 'Strawinskylaan 1041, C-Tower 10th Floor, 1077 XX Amsterdam, Netherlands',\n",
       "  'type': 'Point',\n",
       "  'coordinates': [4.874923, 52.3400749]},\n",
       " {'address': '1096 BL Amsterdam, Netherlands',\n",
       "  'type': 'Point',\n",
       "  'coordinates': [4.916725, 52.3334537]}]"
      ]
     },
     "execution_count": 108,
     "metadata": {},
     "output_type": "execute_result"
    }
   ],
   "source": [
    "y = getLocation(lst2)\n",
    "y[2:5]"
   ]
  },
  {
   "cell_type": "code",
   "execution_count": 109,
   "metadata": {},
   "outputs": [],
   "source": [
    "lst_final = x[0:4] + y[2:5]"
   ]
  },
  {
   "cell_type": "code",
   "execution_count": 110,
   "metadata": {},
   "outputs": [
    {
     "data": {
      "text/plain": [
       "[{'address': 'Gustav Mahlerlaan 42, 1082 LS Amsterdam, Netherlands',\n",
       "  'type': 'Point',\n",
       "  'coordinates': [4.872646, 52.336993]},\n",
       " {'address': 'Herengracht 124, 1015 BT Amsterdam, Netherlands',\n",
       "  'type': 'Point',\n",
       "  'coordinates': [4.8881539, 52.3757779]},\n",
       " {'address': 'Hillegomstraat 12, 1058 LS Amsterdam, Netherlands',\n",
       "  'type': 'Point',\n",
       "  'coordinates': [4.8486568, 52.3522794]},\n",
       " {'address': 'Herengracht 282, 1016 BX Amsterdam, Netherlands',\n",
       "  'type': 'Point',\n",
       "  'coordinates': [4.8864128, 52.3707639]},\n",
       " {'address': 'Strawinskylaan 1041, C-Tower 10th Floor, 1077 XX Amsterdam, Netherlands',\n",
       "  'type': 'Point',\n",
       "  'coordinates': [4.874923, 52.3400749]},\n",
       " {'address': '1096 BL Amsterdam, Netherlands',\n",
       "  'type': 'Point',\n",
       "  'coordinates': [4.916725, 52.3334537]}]"
      ]
     },
     "execution_count": 110,
     "metadata": {},
     "output_type": "execute_result"
    }
   ],
   "source": [
    "lst_final"
   ]
  },
  {
   "cell_type": "code",
   "execution_count": null,
   "metadata": {},
   "outputs": [],
   "source": []
  },
  {
   "cell_type": "code",
   "execution_count": null,
   "metadata": {},
   "outputs": [],
   "source": []
  }
 ],
 "metadata": {
  "kernelspec": {
   "display_name": "Python 3",
   "language": "python",
   "name": "python3"
  },
  "language_info": {
   "codemirror_mode": {
    "name": "ipython",
    "version": 3
   },
   "file_extension": ".py",
   "mimetype": "text/x-python",
   "name": "python",
   "nbconvert_exporter": "python",
   "pygments_lexer": "ipython3",
   "version": "3.7.4"
  }
 },
 "nbformat": 4,
 "nbformat_minor": 2
}
