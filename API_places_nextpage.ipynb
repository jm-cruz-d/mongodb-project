{
 "cells": [
  {
   "cell_type": "code",
   "execution_count": null,
   "metadata": {},
   "outputs": [],
   "source": [
    "!pip3 install python-google-places"
   ]
  },
  {
   "cell_type": "code",
   "execution_count": null,
   "metadata": {},
   "outputs": [],
   "source": [
    "!pip3 install Unidecode"
   ]
  },
  {
   "cell_type": "code",
   "execution_count": 1,
   "metadata": {},
   "outputs": [
    {
     "data": {
      "text/plain": [
       "True"
      ]
     },
     "execution_count": 1,
     "metadata": {},
     "output_type": "execute_result"
    }
   ],
   "source": [
    "from pymongo import MongoClient\n",
    "from googleplaces import GooglePlaces, types, lang\n",
    "from unidecode import unidecode \n",
    "import googlemaps\n",
    "from datetime import datetime\n",
    "import json\n",
    "import time\n",
    "import requests\n",
    "import os\n",
    "from dotenv import load_dotenv\n",
    "load_dotenv()"
   ]
  },
  {
   "cell_type": "code",
   "execution_count": 2,
   "metadata": {},
   "outputs": [],
   "source": [
    "def searchPlaces(query):\n",
    "    API_key = os.getenv('key')\n",
    "    endpoint_url = \"https://maps.googleapis.com/maps/api/place/textsearch/json\"\n",
    "    places = []\n",
    "    params = {\n",
    "        'query': query,\n",
    "        'location': '52.37021, 4.895168',\n",
    "        'radius': 5000,\n",
    "        'key': API_key\n",
    "    }\n",
    "    res = requests.get(endpoint_url, params = params)\n",
    "    results =  json.loads(res.content)\n",
    "    places.extend(results['results'])\n",
    "    time.sleep(2)\n",
    "    while \"next_page_token\" in results:\n",
    "        params['pagetoken'] = results['next_page_token'],\n",
    "        res = requests.get(endpoint_url, params = params)\n",
    "        results = json.loads(res.content)\n",
    "        places.extend(results['results'])\n",
    "        time.sleep(2)\n",
    "    return places"
   ]
  },
  {
   "cell_type": "code",
   "execution_count": 3,
   "metadata": {},
   "outputs": [],
   "source": [
    "starbucks = searchPlaces('Starbucks')"
   ]
  },
  {
   "cell_type": "code",
   "execution_count": 4,
   "metadata": {},
   "outputs": [
    {
     "data": {
      "text/plain": [
       "34"
      ]
     },
     "execution_count": 4,
     "metadata": {},
     "output_type": "execute_result"
    }
   ],
   "source": [
    "len(starbucks)"
   ]
  },
  {
   "cell_type": "code",
   "execution_count": 5,
   "metadata": {},
   "outputs": [],
   "source": [
    "def getLocation(companies):\n",
    "    location =[]\n",
    "    for x in range(len(companies)):\n",
    "        longitude = companies[x]['geometry']['location']['lng']\n",
    "        latitude = companies[x]['geometry']['location']['lat']\n",
    "        name=companies[x]['name']\n",
    "        loc = {\n",
    "            'name': name,\n",
    "            'type':'Point',\n",
    "            'coordinates':[latitude, longitude]\n",
    "        }\n",
    "        location.append(loc)\n",
    "    return location"
   ]
  },
  {
   "cell_type": "code",
   "execution_count": 6,
   "metadata": {},
   "outputs": [
    {
     "data": {
      "text/plain": [
       "{'location': {'lat': 52.36448240000001, 'lng': 4.8836336},\n",
       " 'viewport': {'northeast': {'lat': 52.36607492989272,\n",
       "   'lng': 4.885273579892721},\n",
       "  'southwest': {'lat': 52.36337527010728, 'lng': 4.882573920107277}}}"
      ]
     },
     "execution_count": 6,
     "metadata": {},
     "output_type": "execute_result"
    }
   ],
   "source": [
    "starbucks[0]['geometry']"
   ]
  },
  {
   "cell_type": "code",
   "execution_count": 7,
   "metadata": {},
   "outputs": [],
   "source": [
    "sbloc = getLocation(starbucks)"
   ]
  },
  {
   "cell_type": "code",
   "execution_count": 8,
   "metadata": {},
   "outputs": [
    {
     "name": "stdout",
     "output_type": "stream",
     "text": [
      "34\n"
     ]
    },
    {
     "data": {
      "text/plain": [
       "{'name': 'STARBUCKS COFFEE Leidsestraat Shop',\n",
       " 'type': 'Point',\n",
       " 'coordinates': [52.36448240000001, 4.8836336]}"
      ]
     },
     "execution_count": 8,
     "metadata": {},
     "output_type": "execute_result"
    }
   ],
   "source": [
    "print(len(sbloc))\n",
    "sbloc[0]"
   ]
  },
  {
   "cell_type": "code",
   "execution_count": 9,
   "metadata": {},
   "outputs": [
    {
     "name": "stdout",
     "output_type": "stream",
     "text": [
      "60\n"
     ]
    },
    {
     "data": {
      "text/plain": [
       "{'name': '15ᵗʰ Montessori Public Elementary School Maas and Waal',\n",
       " 'type': 'Point',\n",
       " 'coordinates': [52.3433973, 4.899729]}"
      ]
     },
     "execution_count": 9,
     "metadata": {},
     "output_type": "execute_result"
    }
   ],
   "source": [
    "schools = searchPlaces('Primary school')\n",
    "len(schools)\n",
    "scloc = getLocation(schools)\n",
    "print(len(scloc))\n",
    "scloc[1]"
   ]
  },
  {
   "cell_type": "code",
   "execution_count": 10,
   "metadata": {},
   "outputs": [
    {
     "name": "stdout",
     "output_type": "stream",
     "text": [
      "60\n"
     ]
    },
    {
     "data": {
      "text/plain": [
       "{'name': 'Kindergarden Kinderdagverblijf Amsterdam Villa Vondel',\n",
       " 'type': 'Point',\n",
       " 'coordinates': [52.35313420000001, 4.8576681]}"
      ]
     },
     "execution_count": 10,
     "metadata": {},
     "output_type": "execute_result"
    }
   ],
   "source": [
    "kindergarten = searchPlaces('kindergarten')\n",
    "len(kindergarten)\n",
    "kdloc = getLocation(kindergarten)\n",
    "print(len(kdloc))\n",
    "kdloc[2]"
   ]
  },
  {
   "cell_type": "code",
   "execution_count": 11,
   "metadata": {},
   "outputs": [
    {
     "name": "stdout",
     "output_type": "stream",
     "text": [
      "60\n"
     ]
    },
    {
     "data": {
      "text/plain": [
       "{'name': 'Blue Ivy Nightclub',\n",
       " 'type': 'Point',\n",
       " 'coordinates': [52.3660594, 4.8996878]}"
      ]
     },
     "execution_count": 11,
     "metadata": {},
     "output_type": "execute_result"
    }
   ],
   "source": [
    "night_club = searchPlaces('night club')\n",
    "len(night_club)\n",
    "ncloc = getLocation(night_club)\n",
    "print(len(ncloc))\n",
    "ncloc[3]"
   ]
  },
  {
   "cell_type": "code",
   "execution_count": 12,
   "metadata": {},
   "outputs": [
    {
     "name": "stdout",
     "output_type": "stream",
     "text": [
      "60\n"
     ]
    },
    {
     "data": {
      "text/plain": [
       "{'name': 'Loving Hut - Vegan House',\n",
       " 'type': 'Point',\n",
       " 'coordinates': [52.3810426, 4.8544336]}"
      ]
     },
     "execution_count": 12,
     "metadata": {},
     "output_type": "execute_result"
    }
   ],
   "source": [
    "vegan_restaurant = searchPlaces('vegan restaurant')\n",
    "len(vegan_restaurant)\n",
    "vrloc = getLocation(vegan_restaurant)\n",
    "print(len(vrloc))\n",
    "vrloc[4]"
   ]
  },
  {
   "cell_type": "code",
   "execution_count": 13,
   "metadata": {},
   "outputs": [
    {
     "name": "stdout",
     "output_type": "stream",
     "text": [
      "1\n"
     ]
    },
    {
     "data": {
      "text/plain": [
       "{'name': 'Schiphol',\n",
       " 'type': 'Point',\n",
       " 'coordinates': [52.3076865, 4.767424099999999]}"
      ]
     },
     "execution_count": 13,
     "metadata": {},
     "output_type": "execute_result"
    }
   ],
   "source": [
    "airport = searchPlaces('airport amsterdam')\n",
    "len(airport)\n",
    "aloc = getLocation(airport)\n",
    "print(len(aloc))\n",
    "aloc[0]"
   ]
  },
  {
   "cell_type": "code",
   "execution_count": 14,
   "metadata": {},
   "outputs": [],
   "source": [
    "gmaps = googlemaps.Client(key=os.getenv(\"key\"))\n",
    "places_result = gmaps.places('airport, Amsterdam')\n"
   ]
  },
  {
   "cell_type": "code",
   "execution_count": 15,
   "metadata": {},
   "outputs": [
    {
     "data": {
      "text/plain": [
       "{'lat': 52.3076865, 'lng': 4.767424099999999}"
      ]
     },
     "execution_count": 15,
     "metadata": {},
     "output_type": "execute_result"
    }
   ],
   "source": [
    "places_result['results'][0]['geometry']['location']"
   ]
  },
  {
   "cell_type": "code",
   "execution_count": 16,
   "metadata": {},
   "outputs": [
    {
     "name": "stdout",
     "output_type": "stream",
     "text": [
      "Stored 'sbloc' (list)\n",
      "Stored 'scloc' (list)\n",
      "Stored 'kdloc' (list)\n",
      "Stored 'ncloc' (list)\n",
      "Stored 'vrloc' (list)\n",
      "Stored 'aloc' (list)\n"
     ]
    }
   ],
   "source": [
    "%store sbloc #starbucks\n",
    "%store scloc #schools\n",
    "%store kdloc #kindergarten\n",
    "%store ncloc #night club\n",
    "%store vrloc #vegan restaurant\n",
    "%store aloc #airport"
   ]
  },
  {
   "cell_type": "code",
   "execution_count": 17,
   "metadata": {},
   "outputs": [],
   "source": [
    "def connectCollection(database, collection):\n",
    "    client = MongoClient()\n",
    "    db = client[database]\n",
    "    coll = db[collection]\n",
    "    return db, coll"
   ]
  },
  {
   "cell_type": "code",
   "execution_count": 18,
   "metadata": {},
   "outputs": [],
   "source": [
    "db, coll = connectCollection('companies', 'companies')"
   ]
  },
  {
   "cell_type": "code",
   "execution_count": 19,
   "metadata": {},
   "outputs": [],
   "source": [
    "diccsearch = {'starbucks': sbloc,\n",
    "              'schools': scloc,\n",
    "              'kindergarten': kdloc,\n",
    "              'clubs': ncloc,\n",
    "              'veganrest': vrloc,\n",
    "              'airport': aloc}"
   ]
  },
  {
   "cell_type": "code",
   "execution_count": 20,
   "metadata": {},
   "outputs": [],
   "source": [
    "def insertColl(dictionary, database):\n",
    "    for k, v in dictionary.items():\n",
    "        col = database[k]\n",
    "        col.insert_many(v)\n",
    "        print(\"collects inserted\")"
   ]
  },
  {
   "cell_type": "code",
   "execution_count": 21,
   "metadata": {},
   "outputs": [
    {
     "name": "stdout",
     "output_type": "stream",
     "text": [
      "collects inserted\n",
      "collects inserted\n",
      "collects inserted\n",
      "collects inserted\n",
      "collects inserted\n",
      "collects inserted\n"
     ]
    }
   ],
   "source": [
    "insertColl(diccsearch, db)"
   ]
  },
  {
   "cell_type": "code",
   "execution_count": 22,
   "metadata": {},
   "outputs": [
    {
     "data": {
      "text/plain": [
       "52.3076865"
      ]
     },
     "execution_count": 22,
     "metadata": {},
     "output_type": "execute_result"
    }
   ],
   "source": [
    "aloc[0]['coordinates'][0]\n"
   ]
  },
  {
   "cell_type": "code",
   "execution_count": 25,
   "metadata": {},
   "outputs": [],
   "source": [
    "def getLocation(companies):\n",
    "    location =[]\n",
    "    longitude = companies['coordinates'][1]\n",
    "    latitude = companies['coordinates'][0]\n",
    "    loc = {\n",
    "        'type':'Point',\n",
    "        'coordinates':[latitude, longitude]\n",
    "    }\n",
    "    location.append(loc)\n",
    "    print(location)\n",
    "    return location"
   ]
  },
  {
   "cell_type": "code",
   "execution_count": 26,
   "metadata": {},
   "outputs": [
    {
     "name": "stdout",
     "output_type": "stream",
     "text": [
      "[{'type': 'Point', 'coordinates': [52.36448240000001, 4.8836336]}]\n",
      "[{'type': 'Point', 'coordinates': [52.37429770000001, 4.8942746]}]\n",
      "[{'type': 'Point', 'coordinates': [52.36699789999999, 4.8896652]}]\n",
      "[{'type': 'Point', 'coordinates': [52.3659541, 4.8977405]}]\n",
      "[{'type': 'Point', 'coordinates': [52.37904899999999, 4.900354099999999]}]\n",
      "[{'type': 'Point', 'coordinates': [52.37687829999999, 4.9043465]}]\n",
      "[{'type': 'Point', 'coordinates': [52.3553881, 4.8905951]}]\n",
      "[{'type': 'Point', 'coordinates': [52.3892232, 4.8375534]}]\n",
      "[{'type': 'Point', 'coordinates': [52.3493467, 4.8771144]}]\n",
      "[{'type': 'Point', 'coordinates': [52.33961009999999, 4.8731287]}]\n",
      "[{'type': 'Point', 'coordinates': [52.36311569999999, 4.8758273]}]\n",
      "[{'type': 'Point', 'coordinates': [52.3464775, 4.917986099999999]}]\n",
      "[{'type': 'Point', 'coordinates': [52.3703102, 4.892257499999999]}]\n",
      "[{'type': 'Point', 'coordinates': [52.32816709999999, 4.8896519]}]\n",
      "[{'type': 'Point', 'coordinates': [52.3798957, 4.9005785]}]\n",
      "[{'type': 'Point', 'coordinates': [52.3364927, 4.870430199999999]}]\n",
      "[{'type': 'Point', 'coordinates': [52.3121749, 4.947705]}]\n",
      "[{'type': 'Point', 'coordinates': [52.30287, 4.8617459]}]\n",
      "[{'type': 'Point', 'coordinates': [52.3841098, 4.864634]}]\n",
      "[{'type': 'Point', 'coordinates': [52.308968, 4.769328]}]\n",
      "[{'type': 'Point', 'coordinates': [52.3098683, 4.7654295]}]\n",
      "[{'type': 'Point', 'coordinates': [52.3799621, 4.900392099999999]}]\n",
      "[{'type': 'Point', 'coordinates': [52.310937, 4.759779]}]\n",
      "[{'type': 'Point', 'coordinates': [52.30482139999999, 4.751034499999999]}]\n",
      "[{'type': 'Point', 'coordinates': [52.3089581, 4.7693463]}]\n",
      "[{'type': 'Point', 'coordinates': [52.40299479999999, 4.9236606]}]\n",
      "[{'type': 'Point', 'coordinates': [52.37760369999999, 4.9158558]}]\n",
      "[{'type': 'Point', 'coordinates': [52.3101156, 4.7596772]}]\n",
      "[{'type': 'Point', 'coordinates': [52.306903, 4.7643564]}]\n",
      "[{'type': 'Point', 'coordinates': [52.3088518, 4.769095699999999]}]\n",
      "[{'type': 'Point', 'coordinates': [52.3098684, 4.765429399999999]}]\n",
      "[{'type': 'Point', 'coordinates': [52.3716334, 4.8967462]}]\n",
      "[{'type': 'Point', 'coordinates': [52.3646634, 4.882987099999999]}]\n",
      "[{'type': 'Point', 'coordinates': [52.2588764, 4.6848793]}]\n",
      "[{'type': 'Point', 'coordinates': [52.3503303, 4.8586598]}]\n",
      "[{'type': 'Point', 'coordinates': [52.3433973, 4.899729]}]\n",
      "[{'type': 'Point', 'coordinates': [52.3827808, 4.847756599999999]}]\n",
      "[{'type': 'Point', 'coordinates': [52.3561097, 4.902455799999999]}]\n",
      "[{'type': 'Point', 'coordinates': [52.3411267, 4.9586406]}]\n",
      "[{'type': 'Point', 'coordinates': [52.3816242, 4.9135409]}]\n",
      "[{'type': 'Point', 'coordinates': [52.3743888, 4.8606725]}]\n",
      "[{'type': 'Point', 'coordinates': [52.3868069, 4.9172664]}]\n",
      "[{'type': 'Point', 'coordinates': [52.3705986, 4.8580612]}]\n",
      "[{'type': 'Point', 'coordinates': [52.3515548, 4.8633356]}]\n",
      "[{'type': 'Point', 'coordinates': [52.3901473, 4.916198]}]\n",
      "[{'type': 'Point', 'coordinates': [52.3597797, 4.9134971]}]\n",
      "[{'type': 'Point', 'coordinates': [52.3631307, 4.8392894]}]\n",
      "[{'type': 'Point', 'coordinates': [52.3898986, 4.8869026]}]\n",
      "[{'type': 'Point', 'coordinates': [52.35937029999999, 4.8802108]}]\n",
      "[{'type': 'Point', 'coordinates': [52.3731982, 4.8553329]}]\n",
      "[{'type': 'Point', 'coordinates': [52.3668132, 4.8550719]}]\n",
      "[{'type': 'Point', 'coordinates': [52.3609187, 4.901051]}]\n",
      "[{'type': 'Point', 'coordinates': [52.3603167, 4.8432921]}]\n",
      "[{'type': 'Point', 'coordinates': [52.38062189999999, 4.8367685]}]\n",
      "[{'type': 'Point', 'coordinates': [52.3953582, 4.9161905]}]\n",
      "[{'type': 'Point', 'coordinates': [52.3964371, 4.9360011]}]\n",
      "[{'type': 'Point', 'coordinates': [52.3837024, 4.8217222]}]\n",
      "[{'type': 'Point', 'coordinates': [52.3327207, 4.8780524]}]\n",
      "[{'type': 'Point', 'coordinates': [52.35889400000001, 4.9112293]}]\n",
      "[{'type': 'Point', 'coordinates': [52.3528488, 4.8988473]}]\n",
      "[{'type': 'Point', 'coordinates': [52.35317740000001, 4.8979043]}]\n",
      "[{'type': 'Point', 'coordinates': [52.38852559999999, 4.92045]}]\n",
      "[{'type': 'Point', 'coordinates': [52.3731742, 4.9021308]}]\n",
      "[{'type': 'Point', 'coordinates': [52.3799834, 4.922552]}]\n",
      "[{'type': 'Point', 'coordinates': [52.3620417, 4.8526346]}]\n",
      "[{'type': 'Point', 'coordinates': [52.3492679, 4.8385066]}]\n",
      "[{'type': 'Point', 'coordinates': [52.35142219999999, 4.869816399999999]}]\n",
      "[{'type': 'Point', 'coordinates': [52.3947388, 4.9322796]}]\n",
      "[{'type': 'Point', 'coordinates': [52.37886700000001, 4.83986]}]\n",
      "[{'type': 'Point', 'coordinates': [52.3758962, 4.8726617]}]\n",
      "[{'type': 'Point', 'coordinates': [52.35409809999999, 4.8756638]}]\n",
      "[{'type': 'Point', 'coordinates': [52.35424219999999, 4.9189412]}]\n",
      "[{'type': 'Point', 'coordinates': [52.3457787, 4.8931429]}]\n",
      "[{'type': 'Point', 'coordinates': [52.3266375, 4.8747846]}]\n",
      "[{'type': 'Point', 'coordinates': [52.363485, 4.858047]}]\n",
      "[{'type': 'Point', 'coordinates': [52.3352734, 4.959084]}]\n",
      "[{'type': 'Point', 'coordinates': [52.355133, 4.846344]}]\n",
      "[{'type': 'Point', 'coordinates': [52.3733605, 4.9426313]}]\n",
      "[{'type': 'Point', 'coordinates': [52.38226599999999, 4.874398999999999]}]\n",
      "[{'type': 'Point', 'coordinates': [52.4006137, 4.9457523]}]\n",
      "[{'type': 'Point', 'coordinates': [52.3472692, 4.9339121]}]\n",
      "[{'type': 'Point', 'coordinates': [52.3615445, 4.926231]}]\n",
      "[{'type': 'Point', 'coordinates': [52.410899, 4.918085]}]\n",
      "[{'type': 'Point', 'coordinates': [52.3950138, 4.9505107]}]\n",
      "[{'type': 'Point', 'coordinates': [52.3748312, 4.930983599999999]}]\n",
      "[{'type': 'Point', 'coordinates': [52.3684409, 4.9284724]}]\n",
      "[{'type': 'Point', 'coordinates': [52.3921003, 4.906130699999999]}]\n",
      "[{'type': 'Point', 'coordinates': [52.3538642, 4.8933028]}]\n",
      "[{'type': 'Point', 'coordinates': [52.3784313, 4.8905195]}]\n",
      "[{'type': 'Point', 'coordinates': [52.3902434, 4.9608542]}]\n",
      "[{'type': 'Point', 'coordinates': [52.34411009999999, 4.9042338]}]\n",
      "[{'type': 'Point', 'coordinates': [52.3837201, 4.8282875]}]\n",
      "[{'type': 'Point', 'coordinates': [52.36078639999999, 4.9428695]}]\n",
      "[{'type': 'Point', 'coordinates': [52.3819077, 4.8508533]}]\n",
      "[{'type': 'Point', 'coordinates': [52.34199760000001, 4.874885]}]\n",
      "[{'type': 'Point', 'coordinates': [52.3686051, 4.875636]}]\n",
      "[{'type': 'Point', 'coordinates': [52.35313420000001, 4.8576681]}]\n",
      "[{'type': 'Point', 'coordinates': [52.3500585, 4.9360609]}]\n",
      "[{'type': 'Point', 'coordinates': [52.3618414, 4.8765176]}]\n",
      "[{'type': 'Point', 'coordinates': [52.3485089, 4.8757209]}]\n",
      "[{'type': 'Point', 'coordinates': [52.3793871, 4.874306]}]\n",
      "[{'type': 'Point', 'coordinates': [52.35629059999999, 4.8711835]}]\n",
      "[{'type': 'Point', 'coordinates': [52.334288, 4.9564324]}]\n",
      "[{'type': 'Point', 'coordinates': [52.3529014, 4.893504399999999]}]\n",
      "[{'type': 'Point', 'coordinates': [52.3285647, 4.9376226]}]\n",
      "[{'type': 'Point', 'coordinates': [52.3879829, 4.9223143]}]\n",
      "[{'type': 'Point', 'coordinates': [52.3963334, 4.9356278]}]\n",
      "[{'type': 'Point', 'coordinates': [52.3731754, 4.9023387]}]\n",
      "[{'type': 'Point', 'coordinates': [52.3971202, 4.9298603]}]\n",
      "[{'type': 'Point', 'coordinates': [52.3498015, 4.837267199999999]}]\n",
      "[{'type': 'Point', 'coordinates': [52.3640541, 4.8976732]}]\n",
      "[{'type': 'Point', 'coordinates': [52.3816242, 4.9135409]}]\n",
      "[{'type': 'Point', 'coordinates': [52.3454817, 4.9083499]}]\n",
      "[{'type': 'Point', 'coordinates': [52.3493377, 4.8800318]}]\n",
      "[{'type': 'Point', 'coordinates': [52.3625181, 4.9393958]}]\n",
      "[{'type': 'Point', 'coordinates': [52.3535542, 4.8785397]}]\n",
      "[{'type': 'Point', 'coordinates': [52.3660747, 4.8646812]}]\n",
      "[{'type': 'Point', 'coordinates': [52.3592015, 4.864850199999999]}]\n",
      "[{'type': 'Point', 'coordinates': [52.3596706, 4.9271855]}]\n",
      "[{'type': 'Point', 'coordinates': [52.339943, 4.847279299999999]}]\n",
      "[{'type': 'Point', 'coordinates': [52.3821677, 4.8473234]}]\n",
      "[{'type': 'Point', 'coordinates': [52.3542208, 4.8402331]}]\n",
      "[{'type': 'Point', 'coordinates': [52.3251643, 4.8749483]}]\n",
      "[{'type': 'Point', 'coordinates': [52.36977839999999, 4.8612433]}]\n",
      "[{'type': 'Point', 'coordinates': [52.3529348, 4.8934825]}]\n",
      "[{'type': 'Point', 'coordinates': [52.3683761, 4.8711299]}]\n",
      "[{'type': 'Point', 'coordinates': [52.3891206, 4.9232247]}]\n",
      "[{'type': 'Point', 'coordinates': [52.3650686, 4.9225562]}]\n",
      "[{'type': 'Point', 'coordinates': [52.3544974, 4.9006871]}]\n",
      "[{'type': 'Point', 'coordinates': [52.3773075, 4.881207499999999]}]\n",
      "[{'type': 'Point', 'coordinates': [52.3645185, 4.9081215]}]\n",
      "[{'type': 'Point', 'coordinates': [52.37483760000001, 4.8744774]}]\n",
      "[{'type': 'Point', 'coordinates': [52.33947329999999, 4.9685612]}]\n",
      "[{'type': 'Point', 'coordinates': [52.36060699999999, 4.843592699999999]}]\n",
      "[{'type': 'Point', 'coordinates': [52.3251643, 4.8749484]}]\n",
      "[{'type': 'Point', 'coordinates': [52.3679186, 4.9101102]}]\n",
      "[{'type': 'Point', 'coordinates': [52.3862258, 4.8811114]}]\n",
      "[{'type': 'Point', 'coordinates': [52.354496, 4.900808]}]\n",
      "[{'type': 'Point', 'coordinates': [52.3535066, 4.856033399999999]}]\n",
      "[{'type': 'Point', 'coordinates': [52.3415902, 4.8638265]}]\n",
      "[{'type': 'Point', 'coordinates': [52.3795324, 4.9232124]}]\n",
      "[{'type': 'Point', 'coordinates': [52.3223065, 4.858685299999999]}]\n",
      "[{'type': 'Point', 'coordinates': [52.336268, 4.8725815]}]\n",
      "[{'type': 'Point', 'coordinates': [52.3199492, 4.9589433]}]\n",
      "[{'type': 'Point', 'coordinates': [52.3115969, 4.9723578]}]\n",
      "[{'type': 'Point', 'coordinates': [52.3490027, 4.7932617]}]\n",
      "[{'type': 'Point', 'coordinates': [52.362443, 4.980779]}]\n",
      "[{'type': 'Point', 'coordinates': [52.3163654, 4.9867403]}]\n",
      "[{'type': 'Point', 'coordinates': [52.3565859, 4.9966515]}]\n",
      "[{'type': 'Point', 'coordinates': [52.2933412, 4.8592495]}]\n",
      "[{'type': 'Point', 'coordinates': [52.3514953, 4.853890499999999]}]\n",
      "[{'type': 'Point', 'coordinates': [52.30570849999999, 4.8592492]}]\n",
      "[{'type': 'Point', 'coordinates': [52.4370451, 4.849022]}]\n",
      "[{'type': 'Point', 'coordinates': [52.3624427, 4.9807792]}]\n",
      "[{'type': 'Point', 'coordinates': [52.3745369, 4.8968611]}]\n",
      "[{'type': 'Point', 'coordinates': [52.36566639999999, 4.8962443]}]\n",
      "[{'type': 'Point', 'coordinates': [52.3664279, 4.8963486]}]\n",
      "[{'type': 'Point', 'coordinates': [52.3660594, 4.8996878]}]\n",
      "[{'type': 'Point', 'coordinates': [52.3721164, 4.890917]}]\n",
      "[{'type': 'Point', 'coordinates': [52.3661098, 4.899462100000001]}]\n",
      "[{'type': 'Point', 'coordinates': [52.363972, 4.883681999999999]}]\n",
      "[{'type': 'Point', 'coordinates': [52.3667165, 4.899332500000001]}]\n",
      "[{'type': 'Point', 'coordinates': [52.3680748, 4.890185400000001]}]\n",
      "[{'type': 'Point', 'coordinates': [52.36539140000001, 4.8958653]}]\n",
      "[{'type': 'Point', 'coordinates': [52.366464, 4.897587]}]\n",
      "[{'type': 'Point', 'coordinates': [52.39381789999999, 4.8518123]}]\n",
      "[{'type': 'Point', 'coordinates': [52.3838075, 4.902919199999999]}]\n",
      "[{'type': 'Point', 'coordinates': [52.365138, 4.882696]}]\n"
     ]
    },
    {
     "name": "stdout",
     "output_type": "stream",
     "text": [
      "[{'type': 'Point', 'coordinates': [52.3666451, 4.8923966]}]\n",
      "[{'type': 'Point', 'coordinates': [52.363632, 4.856074]}]\n",
      "[{'type': 'Point', 'coordinates': [52.3630419, 4.8849222]}]\n",
      "[{'type': 'Point', 'coordinates': [52.364062, 4.8846631]}]\n",
      "[{'type': 'Point', 'coordinates': [52.364748, 4.882211]}]\n",
      "[{'type': 'Point', 'coordinates': [52.3746525, 4.8970018]}]\n",
      "[{'type': 'Point', 'coordinates': [52.3649221, 4.8822071]}]\n",
      "[{'type': 'Point', 'coordinates': [52.3501183, 4.867600599999999]}]\n",
      "[{'type': 'Point', 'coordinates': [52.3644007, 4.8848357]}]\n",
      "[{'type': 'Point', 'coordinates': [52.3603552, 4.8806563]}]\n",
      "[{'type': 'Point', 'coordinates': [52.378287, 4.894546]}]\n",
      "[{'type': 'Point', 'coordinates': [52.3648119, 4.8818315]}]\n",
      "[{'type': 'Point', 'coordinates': [52.3718604, 4.895861000000001]}]\n",
      "[{'type': 'Point', 'coordinates': [52.38713019999999, 4.8700145]}]\n",
      "[{'type': 'Point', 'coordinates': [52.3648955, 4.882159199999999]}]\n",
      "[{'type': 'Point', 'coordinates': [52.3856761, 4.8519958]}]\n",
      "[{'type': 'Point', 'coordinates': [52.3394685, 4.855634300000001]}]\n",
      "[{'type': 'Point', 'coordinates': [52.3767028, 4.8797575]}]\n",
      "[{'type': 'Point', 'coordinates': [52.36477199999999, 4.882203]}]\n",
      "[{'type': 'Point', 'coordinates': [52.353777, 4.9116007]}]\n",
      "[{'type': 'Point', 'coordinates': [52.3707815, 4.9606746]}]\n",
      "[{'type': 'Point', 'coordinates': [52.364194, 4.8844745]}]\n",
      "[{'type': 'Point', 'coordinates': [52.3988039, 4.912372899999999]}]\n",
      "[{'type': 'Point', 'coordinates': [52.3555603, 4.8927191]}]\n",
      "[{'type': 'Point', 'coordinates': [52.3758121, 4.8650821]}]\n",
      "[{'type': 'Point', 'coordinates': [52.3736671, 4.8994073]}]\n",
      "[{'type': 'Point', 'coordinates': [52.3518803, 4.9130867]}]\n",
      "[{'type': 'Point', 'coordinates': [52.3767745, 4.8370516]}]\n",
      "[{'type': 'Point', 'coordinates': [52.3890746, 4.8376131]}]\n",
      "[{'type': 'Point', 'coordinates': [52.36116149999999, 4.8915865]}]\n",
      "[{'type': 'Point', 'coordinates': [52.3633628, 4.885714]}]\n",
      "[{'type': 'Point', 'coordinates': [52.3648, 4.883255699999999]}]\n",
      "[{'type': 'Point', 'coordinates': [52.3582927, 4.8893582]}]\n",
      "[{'type': 'Point', 'coordinates': [52.39933670000001, 4.8716339]}]\n",
      "[{'type': 'Point', 'coordinates': [52.3831177, 4.903027199999999]}]\n",
      "[{'type': 'Point', 'coordinates': [52.3605259, 4.8415971]}]\n",
      "[{'type': 'Point', 'coordinates': [52.3843497, 4.868415300000001]}]\n",
      "[{'type': 'Point', 'coordinates': [52.3712098, 4.8692199]}]\n",
      "[{'type': 'Point', 'coordinates': [52.3668029, 4.8691739]}]\n",
      "[{'type': 'Point', 'coordinates': [52.3715047, 4.9610049]}]\n",
      "[{'type': 'Point', 'coordinates': [52.3565728, 4.8517584]}]\n",
      "[{'type': 'Point', 'coordinates': [52.34744209999999, 4.907506]}]\n",
      "[{'type': 'Point', 'coordinates': [52.354741, 4.885496]}]\n",
      "[{'type': 'Point', 'coordinates': [52.4000012, 4.8468168]}]\n",
      "[{'type': 'Point', 'coordinates': [52.3747659, 4.8873741]}]\n",
      "[{'type': 'Point', 'coordinates': [52.384538, 4.928392]}]\n",
      "[{'type': 'Point', 'coordinates': [52.36028220000001, 4.8632043]}]\n",
      "[{'type': 'Point', 'coordinates': [52.3560554, 4.8961991]}]\n",
      "[{'type': 'Point', 'coordinates': [52.35404339999999, 4.9016187]}]\n",
      "[{'type': 'Point', 'coordinates': [52.3552526, 4.9290881]}]\n",
      "[{'type': 'Point', 'coordinates': [52.3810426, 4.8544336]}]\n",
      "[{'type': 'Point', 'coordinates': [52.370026, 4.87071]}]\n",
      "[{'type': 'Point', 'coordinates': [52.359323, 4.9137]}]\n",
      "[{'type': 'Point', 'coordinates': [52.3572385, 4.891575]}]\n",
      "[{'type': 'Point', 'coordinates': [52.3630192, 4.9282408]}]\n",
      "[{'type': 'Point', 'coordinates': [52.3663781, 4.8914415]}]\n",
      "[{'type': 'Point', 'coordinates': [52.34554079999999, 4.905777899999999]}]\n",
      "[{'type': 'Point', 'coordinates': [52.35394729999999, 4.854267999999999]}]\n",
      "[{'type': 'Point', 'coordinates': [52.3513756, 4.9035758]}]\n",
      "[{'type': 'Point', 'coordinates': [52.366985, 4.8937772]}]\n",
      "[{'type': 'Point', 'coordinates': [52.3765036, 4.89476]}]\n",
      "[{'type': 'Point', 'coordinates': [52.3647787, 4.8841725]}]\n",
      "[{'type': 'Point', 'coordinates': [52.361598, 4.886051]}]\n",
      "[{'type': 'Point', 'coordinates': [52.38526, 4.8716395]}]\n",
      "[{'type': 'Point', 'coordinates': [52.34518199999999, 4.8590293]}]\n",
      "[{'type': 'Point', 'coordinates': [52.3742187, 4.872707699999999]}]\n",
      "[{'type': 'Point', 'coordinates': [52.35277989999999, 4.889897599999999]}]\n",
      "[{'type': 'Point', 'coordinates': [52.376521, 4.913155]}]\n",
      "[{'type': 'Point', 'coordinates': [52.3591886, 4.8615061]}]\n",
      "[{'type': 'Point', 'coordinates': [52.3613721, 4.8991181]}]\n",
      "[{'type': 'Point', 'coordinates': [52.35494509999999, 4.8895311]}]\n",
      "[{'type': 'Point', 'coordinates': [52.3765294, 4.941644999999999]}]\n",
      "[{'type': 'Point', 'coordinates': [52.3601328, 4.8656822]}]\n",
      "[{'type': 'Point', 'coordinates': [52.379717, 4.871333]}]\n",
      "[{'type': 'Point', 'coordinates': [52.378904, 4.8852734]}]\n",
      "[{'type': 'Point', 'coordinates': [52.3557557, 4.890146]}]\n",
      "[{'type': 'Point', 'coordinates': [52.3840093, 4.819876199999999]}]\n",
      "[{'type': 'Point', 'coordinates': [52.35406210000001, 4.9303628]}]\n",
      "[{'type': 'Point', 'coordinates': [52.3655197, 4.8975471]}]\n",
      "[{'type': 'Point', 'coordinates': [52.3533437, 4.8557762]}]\n",
      "[{'type': 'Point', 'coordinates': [52.3373741, 4.8712597]}]\n",
      "[{'type': 'Point', 'coordinates': [52.3532263, 4.8936062]}]\n",
      "[{'type': 'Point', 'coordinates': [52.36654170000001, 4.8723563]}]\n",
      "[{'type': 'Point', 'coordinates': [52.3552872, 4.8933883]}]\n",
      "[{'type': 'Point', 'coordinates': [52.3751341, 4.8871954]}]\n",
      "[{'type': 'Point', 'coordinates': [52.36658389999999, 4.8722417]}]\n",
      "[{'type': 'Point', 'coordinates': [52.3704268, 4.8513926]}]\n",
      "[{'type': 'Point', 'coordinates': [52.3707065, 4.879998899999999]}]\n",
      "[{'type': 'Point', 'coordinates': [52.36880619999999, 4.8773186]}]\n",
      "[{'type': 'Point', 'coordinates': [52.382357, 4.888087]}]\n",
      "[{'type': 'Point', 'coordinates': [52.3668591, 4.893581]}]\n",
      "[{'type': 'Point', 'coordinates': [52.3544862, 4.8908708]}]\n",
      "[{'type': 'Point', 'coordinates': [52.3548027, 4.855305599999999]}]\n",
      "[{'type': 'Point', 'coordinates': [52.35145559999999, 4.9030013]}]\n",
      "[{'type': 'Point', 'coordinates': [52.3571514, 4.8889195]}]\n",
      "[{'type': 'Point', 'coordinates': [52.35692330000001, 4.8991526]}]\n",
      "[{'type': 'Point', 'coordinates': [52.36767159999999, 4.9260043]}]\n",
      "[{'type': 'Point', 'coordinates': [52.3532844, 4.8937336]}]\n",
      "[{'type': 'Point', 'coordinates': [52.3761435, 4.8941557]}]\n",
      "[{'type': 'Point', 'coordinates': [52.3530965, 4.8912201]}]\n",
      "[{'type': 'Point', 'coordinates': [52.3640416, 4.9352465]}]\n",
      "[{'type': 'Point', 'coordinates': [52.3758297, 4.896185099999999]}]\n",
      "[{'type': 'Point', 'coordinates': [52.3524615, 4.8873149]}]\n",
      "[{'type': 'Point', 'coordinates': [52.36816719999999, 4.871182300000001]}]\n",
      "[{'type': 'Point', 'coordinates': [52.356286, 4.909893299999999]}]\n",
      "[{'type': 'Point', 'coordinates': [52.3782394, 4.8484681]}]\n",
      "[{'type': 'Point', 'coordinates': [52.3076865, 4.767424099999999]}]\n"
     ]
    }
   ],
   "source": [
    "for k, v in diccsearch.items():\n",
    "    for v1 in v:\n",
    "        db, coll = connectCollection('companies', k)\n",
    "        value = {\"$set\": {'location':getLocation(v1)}}\n",
    "        query = {\"_id\": v1['_id']}\n",
    "        coll.update_many(query, value)"
   ]
  },
  {
   "cell_type": "code",
   "execution_count": null,
   "metadata": {},
   "outputs": [],
   "source": []
  }
 ],
 "metadata": {
  "kernelspec": {
   "display_name": "Python 3",
   "language": "python",
   "name": "python3"
  },
  "language_info": {
   "codemirror_mode": {
    "name": "ipython",
    "version": 3
   },
   "file_extension": ".py",
   "mimetype": "text/x-python",
   "name": "python",
   "nbconvert_exporter": "python",
   "pygments_lexer": "ipython3",
   "version": "3.7.4"
  }
 },
 "nbformat": 4,
 "nbformat_minor": 2
}
